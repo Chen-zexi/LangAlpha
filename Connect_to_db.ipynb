{
  "nbformat": 4,
  "nbformat_minor": 0,
  "metadata": {
    "colab": {
      "provenance": []
    },
    "kernelspec": {
      "name": "python3",
      "display_name": "Python 3"
    },
    "language_info": {
      "name": "python"
    }
  },
  "cells": [
    {
      "cell_type": "code",
      "source": [
        "import pandas as pd\n",
        "# Install the MySQL SQLAlchemy library if it is not installed\n",
        "!pip install -q mysqlclient\n",
        "!pip install -q -U sql_magic\n",
        "from sqlalchemy import create_engine"
      ],
      "metadata": {
        "id": "8fHHuLGIo16F",
        "colab": {
          "base_uri": "https://localhost:8080/"
        },
        "outputId": "8f35966f-f68c-4375-daf8-2a7888e7f752"
      },
      "execution_count": 1,
      "outputs": [
        {
          "output_type": "stream",
          "name": "stdout",
          "text": [
            "\u001b[?25l     \u001b[90m━━━━━━━━━━━━━━━━━━━━━━━━━━━━━━━━━━━━━━━━\u001b[0m \u001b[32m0.0/91.4 kB\u001b[0m \u001b[31m?\u001b[0m eta \u001b[36m-:--:--\u001b[0m\r\u001b[2K     \u001b[90m━━━━━━━━━━━━━━━━━━━━━━━━━━━━━━━━━━━━━━━━\u001b[0m \u001b[32m91.4/91.4 kB\u001b[0m \u001b[31m3.7 MB/s\u001b[0m eta \u001b[36m0:00:00\u001b[0m\n",
            "\u001b[?25h  Installing build dependencies ... \u001b[?25l\u001b[?25hdone\n",
            "  Getting requirements to build wheel ... \u001b[?25l\u001b[?25hdone\n",
            "  Preparing metadata (pyproject.toml) ... \u001b[?25l\u001b[?25hdone\n",
            "  Building wheel for mysqlclient (pyproject.toml) ... \u001b[?25l\u001b[?25hdone\n",
            "\u001b[2K   \u001b[90m━━━━━━━━━━━━━━━━━━━━━━━━━━━━━━━━━━━━━━━━\u001b[0m \u001b[32m1.6/1.6 MB\u001b[0m \u001b[31m22.5 MB/s\u001b[0m eta \u001b[36m0:00:00\u001b[0m\n",
            "\u001b[2K   \u001b[90m━━━━━━━━━━━━━━━━━━━━━━━━━━━━━━━━━━━━━━━━\u001b[0m \u001b[32m11.7/11.7 MB\u001b[0m \u001b[31m63.4 MB/s\u001b[0m eta \u001b[36m0:00:00\u001b[0m\n",
            "\u001b[2K   \u001b[90m━━━━━━━━━━━━━━━━━━━━━━━━━━━━━━━━━━━━━━━━\u001b[0m \u001b[32m69.1/69.1 kB\u001b[0m \u001b[31m4.3 MB/s\u001b[0m eta \u001b[36m0:00:00\u001b[0m\n",
            "\u001b[2K   \u001b[90m━━━━━━━━━━━━━━━━━━━━━━━━━━━━━━━━━━━━━━━━\u001b[0m \u001b[32m385.8/385.8 kB\u001b[0m \u001b[31m23.5 MB/s\u001b[0m eta \u001b[36m0:00:00\u001b[0m\n",
            "\u001b[2K   \u001b[90m━━━━━━━━━━━━━━━━━━━━━━━━━━━━━━━━━━━━━━━━\u001b[0m \u001b[32m133.5/133.5 kB\u001b[0m \u001b[31m9.1 MB/s\u001b[0m eta \u001b[36m0:00:00\u001b[0m\n",
            "\u001b[2K   \u001b[90m━━━━━━━━━━━━━━━━━━━━━━━━━━━━━━━━━━━━━━━━\u001b[0m \u001b[32m59.7/59.7 kB\u001b[0m \u001b[31m3.8 MB/s\u001b[0m eta \u001b[36m0:00:00\u001b[0m\n",
            "\u001b[2K   \u001b[90m━━━━━━━━━━━━━━━━━━━━━━━━━━━━━━━━━━━━━━━━\u001b[0m \u001b[32m66.4/66.4 kB\u001b[0m \u001b[31m4.0 MB/s\u001b[0m eta \u001b[36m0:00:00\u001b[0m\n",
            "\u001b[?25h"
          ]
        }
      ]
    },
    {
      "cell_type": "code",
      "source": [
        "!curl ' '#csv"
      ],
      "metadata": {
        "id": "NmCfvd44te5q"
      },
      "execution_count": null,
      "outputs": []
    },
    {
      "cell_type": "code",
      "source": [
        "# Connect to the MySQL, but without selecting a database\n",
        "conn_string = 'mysql://{user}:{password}@{host}:{port}/{db}?charset={encoding}'.format(\n",
        "    user='Elite_Traders',\n",
        "    password='kgWj2Bl4jZQ=',\n",
        "    host = 'jsedocc7.scrc.nyu.edu',\n",
        "    port     = 3306,\n",
        "    encoding = 'utf8',\n",
        "    db = 'Elite_Traders'\n",
        ")\n",
        "engine = create_engine(conn_string)"
      ],
      "metadata": {
        "id": "E4bDCzotoSlz"
      },
      "execution_count": 2,
      "outputs": []
    },
    {
      "cell_type": "code",
      "source": [],
      "metadata": {
        "id": "4gBm_Eh5rnIf"
      },
      "execution_count": null,
      "outputs": []
    },
    {
      "cell_type": "code",
      "execution_count": 3,
      "metadata": {
        "id": "unRey5LNHycR"
      },
      "outputs": [],
      "source": [
        "from sqlalchemy import event\n",
        "\n",
        "# This is for speeding up the insertion into the database schema\n",
        "@event.listens_for(engine, 'before_cursor_execute')\n",
        "def receive_before_cursor_execute(conn, cursor, statement, params, context, executemany):\n",
        "    if executemany:\n",
        "        cursor.fast_executemany = True"
      ]
    },
    {
      "cell_type": "code",
      "source": [],
      "metadata": {
        "id": "0P-LjK8q0FnA"
      },
      "execution_count": null,
      "outputs": []
    },
    {
      "cell_type": "code",
      "execution_count": 4,
      "metadata": {
        "id": "5eYAjsCRQHK_"
      },
      "outputs": [],
      "source": [
        "# Create the database where we want to store the data\n",
        "# Do not worry about the Warning if the database already exists\n",
        "from sqlalchemy import text\n",
        "with engine.connect() as connection:\n",
        "  connection.execute(text(\"CREATE DATABASE IF NOT EXISTS Elite_Traders\"))\n",
        "  connection.execute(text('USE Elite_Traders'))"
      ]
    },
    {
      "cell_type": "code",
      "source": [
        "%reload_ext sql_magic\n",
        "%config SQL.conn_name = 'engine'"
      ],
      "metadata": {
        "colab": {
          "base_uri": "https://localhost:8080/",
          "height": 17
        },
        "id": "rLT2BSbn1Fbi",
        "outputId": "ed3a5888-bc25-4170-f488-632070f97251"
      },
      "execution_count": 5,
      "outputs": [
        {
          "output_type": "display_data",
          "data": {
            "application/javascript": [
              "\n",
              "    require(['notebook/js/codecell'], function(codecell) {\n",
              "      // https://github.com/jupyter/notebook/issues/2453\n",
              "      codecell.CodeCell.options_default.highlight_modes['magic_text/x-sql'] = {'reg':[/^%read_sql/, /.*=\\s*%read_sql/,\n",
              "                                                                                      /^%%read_sql/]};\n",
              "      Jupyter.notebook.events.one('kernel_ready.Kernel', function(){\n",
              "          console.log('BBBBB');\n",
              "          Jupyter.notebook.get_cells().map(function(cell){\n",
              "              if (cell.cell_type == 'code'){ cell.auto_highlight(); } }) ;\n",
              "      });\n",
              "    });\n",
              "    "
            ]
          },
          "metadata": {}
        }
      ]
    }
  ]
}