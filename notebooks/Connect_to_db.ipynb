{
  "cells": [
    {
      "cell_type": "code",
      "execution_count": 5,
      "metadata": {
        "colab": {
          "base_uri": "https://localhost:8080/"
        },
        "id": "8fHHuLGIo16F",
        "outputId": "8f35966f-f68c-4375-daf8-2a7888e7f752"
      },
      "outputs": [
        {
          "data": {
            "text/plain": [
              "True"
            ]
          },
          "execution_count": 5,
          "metadata": {},
          "output_type": "execute_result"
        }
      ],
      "source": [
        "import pandas as pd\n",
        "from sqlalchemy import create_engine\n",
        "from sqlalchemy import event\n",
        "from sqlalchemy import text\n",
        "import os\n",
        "from dotenv import load_dotenv\n",
        "\n",
        "load_dotenv()\n"
      ]
    },
    {
      "cell_type": "code",
      "execution_count": 6,
      "metadata": {},
      "outputs": [
        {
          "name": "stdout",
          "output_type": "stream",
          "text": [
            "DB_USER and DB_PASSWORD are set\n"
          ]
        }
      ],
      "source": [
        "db_user = os.getenv('DB_USER')\n",
        "db_password = os.getenv('DB_PASSWORD')\n",
        "if db_user is None or db_password is None:\n",
        "    raise ValueError(\"DB_USER or DB_PASSWORD is not set\")\n",
        "else:\n",
        "    print(\"DB_USER and DB_PASSWORD are set\")\n"
      ]
    },
    {
      "cell_type": "code",
      "execution_count": 7,
      "metadata": {
        "id": "NmCfvd44te5q"
      },
      "outputs": [
        {
          "name": "stdout",
          "output_type": "stream",
          "text": [
            "curl: (3) URL rejected: Malformed input to a URL function\n"
          ]
        }
      ],
      "source": [
        "!curl ' '#csv"
      ]
    },
    {
      "cell_type": "code",
      "execution_count": 8,
      "metadata": {
        "id": "E4bDCzotoSlz"
      },
      "outputs": [],
      "source": [
        "# Connect to the MySQL, but without selecting a database\n",
        "conn_string = 'mysql://{user}:{password}@{host}:{port}/{db}?charset={encoding}'.format(\n",
        "    user=db_user,\n",
        "    password=db_password,\n",
        "    host = 'jsedocc7.scrc.nyu.edu',\n",
        "    port     = 3306,\n",
        "    encoding = 'utf8',\n",
        "    db = 'Elite_Traders'\n",
        ")\n",
        "engine = create_engine(conn_string)"
      ]
    },
    {
      "cell_type": "code",
      "execution_count": 9,
      "metadata": {
        "id": "unRey5LNHycR"
      },
      "outputs": [],
      "source": [
        "# This is for speeding up the insertion into the database schema\n",
        "@event.listens_for(engine, 'before_cursor_execute')\n",
        "def receive_before_cursor_execute(conn, cursor, statement, params, context, executemany):\n",
        "    if executemany:\n",
        "        cursor.fast_executemany = True"
      ]
    },
    {
      "cell_type": "code",
      "execution_count": 10,
      "metadata": {
        "id": "5eYAjsCRQHK_"
      },
      "outputs": [],
      "source": [
        "# Create the database where we want to store the data\n",
        "# Do not worry about the Warning if the database already exists\n",
        "with engine.connect() as connection:\n",
        "  connection.execute(text(\"CREATE DATABASE IF NOT EXISTS Elite_Traders\"))\n",
        "  connection.execute(text('USE Elite_Traders'))"
      ]
    },
    {
      "cell_type": "code",
      "execution_count": 11,
      "metadata": {
        "colab": {
          "base_uri": "https://localhost:8080/",
          "height": 17
        },
        "id": "rLT2BSbn1Fbi",
        "outputId": "ed3a5888-bc25-4170-f488-632070f97251"
      },
      "outputs": [
        {
          "data": {
            "application/javascript": "\n    require(['notebook/js/codecell'], function(codecell) {\n      // https://github.com/jupyter/notebook/issues/2453\n      codecell.CodeCell.options_default.highlight_modes['magic_text/x-sql'] = {'reg':[/^%read_sql/, /.*=\\s*%read_sql/,\n                                                                                      /^%%read_sql/]};\n      Jupyter.notebook.events.one('kernel_ready.Kernel', function(){\n          console.log('BBBBB');\n          Jupyter.notebook.get_cells().map(function(cell){\n              if (cell.cell_type == 'code'){ cell.auto_highlight(); } }) ;\n      });\n    });\n    "
          },
          "metadata": {},
          "output_type": "display_data"
        }
      ],
      "source": [
        "%reload_ext sql_magic\n",
        "%config SQL.conn_name = 'engine'"
      ]
    }
  ],
  "metadata": {
    "colab": {
      "provenance": []
    },
    "kernelspec": {
      "display_name": "stocksflags",
      "language": "python",
      "name": "python3"
    },
    "language_info": {
      "codemirror_mode": {
        "name": "ipython",
        "version": 3
      },
      "file_extension": ".py",
      "mimetype": "text/x-python",
      "name": "python",
      "nbconvert_exporter": "python",
      "pygments_lexer": "ipython3",
      "version": "3.11.11"
    }
  },
  "nbformat": 4,
  "nbformat_minor": 0
}
