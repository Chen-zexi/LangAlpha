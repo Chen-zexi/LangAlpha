{
 "cells": [
  {
   "cell_type": "code",
   "execution_count": 1,
   "metadata": {},
   "outputs": [
    {
     "name": "stdout",
     "output_type": "stream",
     "text": [
      "FINANCIAL_DATASETS_API_KEY is set\n",
      "DB_USER and DB_PASSWORD are set\n"
     ]
    }
   ],
   "source": [
    "import sys\n",
    "import os\n",
    "import pandas as pd\n",
    "import warnings\n",
    "import json\n",
    "from pydantic import BaseModel\n",
    "\n",
    "# Add the src folder to the path\n",
    "sys.path.append(os.path.abspath('..'))\n",
    "warnings.filterwarnings(\"ignore\", category=FutureWarning)\n",
    "\n",
    "# Import the classes\n",
    "from src.data_tool.yahoo_finance import yahoo_finance\n",
    "from src.data_tool.get_data_fd import get_prices, get_financial_metrics, search_line_items, get_insider_trades, get_company_news\n",
    "from src.data_tool.ploygon import polygon\n",
    "from src.data_tool.financial_datasets import FinancialDatasets\n",
    "from src.database_tool.connect_db import ConnectDB\n",
    "\n",
    "from src.llm.api_call import call_llm\n",
    "from langchain_core.prompts import ChatPromptTemplate\n",
    "\n",
    "db =ConnectDB()\n",
    "engine = db.get_engine()"
   ]
  },
  {
   "cell_type": "code",
   "execution_count": 2,
   "metadata": {},
   "outputs": [
    {
     "name": "stdout",
     "output_type": "stream",
     "text": [
      "DB_USER and DB_PASSWORD are set\n",
      "POLYGON_API_KEY is set\n"
     ]
    }
   ],
   "source": [
    "fd = FinancialDatasets()\n",
    "pl = polygon()"
   ]
  },
  {
   "cell_type": "code",
   "execution_count": 3,
   "metadata": {},
   "outputs": [],
   "source": [
    "ticker = 'NVDA'\n",
    "start_date = '2025-03-01'\n",
    "end_date = '2025-03-31'"
   ]
  },
  {
   "cell_type": "code",
   "execution_count": null,
   "metadata": {},
   "outputs": [],
   "source": []
  }
 ],
 "metadata": {
  "kernelspec": {
   "display_name": "stocksflags",
   "language": "python",
   "name": "python3"
  },
  "language_info": {
   "codemirror_mode": {
    "name": "ipython",
    "version": 3
   },
   "file_extension": ".py",
   "mimetype": "text/x-python",
   "name": "python",
   "nbconvert_exporter": "python",
   "pygments_lexer": "ipython3",
   "version": "3.11.11"
  }
 },
 "nbformat": 4,
 "nbformat_minor": 2
}
