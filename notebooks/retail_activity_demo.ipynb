{
 "cells": [
  {
   "cell_type": "code",
   "execution_count": 1,
   "metadata": {},
   "outputs": [],
   "source": [
    "import sys\n",
    "import os\n",
    "import warnings\n",
    "# Add the src folder to the path\n",
    "sys.path.append(os.path.abspath('..'))\n",
    "warnings.filterwarnings(\"ignore\", category=FutureWarning)\n",
    "from src.data_tool.get_data import get_retail_activity"
   ]
  },
  {
   "cell_type": "code",
   "execution_count": 2,
   "metadata": {},
   "outputs": [],
   "source": [
    "ticker = 'NVDA'\n",
    "date = '2025-04-02'\n",
    "\n",
    "retail_activity = get_retail_activity(ticker, date)"
   ]
  },
  {
   "cell_type": "code",
   "execution_count": 3,
   "metadata": {},
   "outputs": [
    {
     "name": "stdout",
     "output_type": "stream",
     "text": [
      "[RetailActivity(ticker='2025-04-02', date='NVDA', activity=0.0587, sentiment=6), RetailActivity(ticker='2025-04-01', date='NVDA', activity=0.058, sentiment=12), RetailActivity(ticker='2025-03-31', date='NVDA', activity=0.0639, sentiment=15), RetailActivity(ticker='2025-03-28', date='NVDA', activity=0.0618, sentiment=14), RetailActivity(ticker='2025-03-27', date='NVDA', activity=0.0622, sentiment=12), RetailActivity(ticker='2025-03-26', date='NVDA', activity=0.0761, sentiment=8), RetailActivity(ticker='2025-03-25', date='NVDA', activity=0.0505, sentiment=9)]\n"
     ]
    }
   ],
   "source": [
    "print(retail_activity.results)"
   ]
  }
 ],
 "metadata": {
  "kernelspec": {
   "display_name": "stocksflags",
   "language": "python",
   "name": "python3"
  },
  "language_info": {
   "codemirror_mode": {
    "name": "ipython",
    "version": 3
   },
   "file_extension": ".py",
   "mimetype": "text/x-python",
   "name": "python",
   "nbconvert_exporter": "python",
   "pygments_lexer": "ipython3",
   "version": "3.11.11"
  }
 },
 "nbformat": 4,
 "nbformat_minor": 2
}
