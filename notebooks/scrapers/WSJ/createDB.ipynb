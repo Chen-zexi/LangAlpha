{
 "cells": [
  {
   "cell_type": "code",
   "execution_count": 1,
   "metadata": {},
   "outputs": [],
   "source": [
    "import sqlite3"
   ]
  },
  {
   "cell_type": "code",
   "execution_count": 2,
   "metadata": {},
   "outputs": [],
   "source": [
    "name = 'articlesWSJ.db'\n",
    "conn = sqlite3.connect(name)"
   ]
  },
  {
   "cell_type": "code",
   "execution_count": 4,
   "metadata": {},
   "outputs": [],
   "source": [
    "c = conn.cursor()"
   ]
  },
  {
   "cell_type": "code",
   "execution_count": 5,
   "metadata": {},
   "outputs": [
    {
     "data": {
      "text/plain": [
       "<sqlite3.Cursor at 0x7f7998fce840>"
      ]
     },
     "execution_count": 5,
     "metadata": {},
     "output_type": "execute_result"
    }
   ],
   "source": [
    "c.execute('''CREATE TABLE IF NOT EXISTS articles_index (\n",
    "          id INTEGER PRIMARY KEY AUTOINCREMENT, \n",
    "          \n",
    "          year TEXT, \n",
    "          month TEXT, \n",
    "          day TEXT, \n",
    "          \n",
    "          headline TEXT, \n",
    "          article_time TEXT,\n",
    "          \n",
    "          keyword TEXT,\n",
    "          link TEXT, \n",
    "          \n",
    "          scraped_at TEXT,\n",
    "          scanned_status INTEGER)''')"
   ]
  },
  {
   "cell_type": "code",
   "execution_count": 6,
   "metadata": {},
   "outputs": [
    {
     "data": {
      "text/plain": [
       "<sqlite3.Cursor at 0x7f7998fce840>"
      ]
     },
     "execution_count": 6,
     "metadata": {},
     "output_type": "execute_result"
    }
   ],
   "source": [
    "c.execute('''CREATE TABLE IF NOT EXISTS article (\n",
    "                article_id INTEGER PRIMARY KEY AUTOINCREMENT,\n",
    "                image_src TEXT,\n",
    "\n",
    "                scanned_time TEXT,\n",
    "                title TEXT,\n",
    "                sub_title TEXT,\n",
    "\n",
    "\n",
    "                corpus TEXT,\n",
    "                index_id INTEGER,\n",
    "\n",
    "                FOREIGN KEY(index_id) REFERENCES articles_index(id))''')"
   ]
  },
  {
   "cell_type": "code",
   "execution_count": 7,
   "metadata": {},
   "outputs": [
    {
     "data": {
      "text/plain": [
       "<sqlite3.Cursor at 0x7f7998fce840>"
      ]
     },
     "execution_count": 7,
     "metadata": {},
     "output_type": "execute_result"
    }
   ],
   "source": [
    "c.execute('''CREATE TABLE IF NOT EXISTS exploration (\n",
    "          id INTEGER PRIMARY KEY AUTOINCREMENT,\n",
    "          link TEXT,\n",
    "          \n",
    "          year TEXT, \n",
    "          month TEXT, \n",
    "          day TEXT, \n",
    "          page_num TEXT,\n",
    "          \n",
    "          checked_at TEXT,\n",
    "          values_or_not INTEGER,\n",
    "          count_articles INTEGER\n",
    "          );\n",
    "''')"
   ]
  },
  {
   "cell_type": "code",
   "execution_count": 8,
   "metadata": {},
   "outputs": [],
   "source": [
    "conn.commit()\n",
    "conn.close()"
   ]
  },
  {
   "cell_type": "code",
   "execution_count": null,
   "metadata": {},
   "outputs": [],
   "source": []
  }
 ],
 "metadata": {
  "kernelspec": {
   "display_name": "base",
   "language": "python",
   "name": "python3"
  },
  "language_info": {
   "codemirror_mode": {
    "name": "ipython",
    "version": 3
   },
   "file_extension": ".py",
   "mimetype": "text/x-python",
   "name": "python",
   "nbconvert_exporter": "python",
   "pygments_lexer": "ipython3",
   "version": "3.10.9"
  }
 },
 "nbformat": 4,
 "nbformat_minor": 2
}
