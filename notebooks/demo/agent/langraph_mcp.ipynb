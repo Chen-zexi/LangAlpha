{
 "cells": [
  {
   "cell_type": "code",
   "execution_count": null,
   "metadata": {},
   "outputs": [],
   "source": [
    "# graph.py\n",
    "from contextlib import asynccontextmanager\n",
    "from langchain_mcp_adapters.client import MultiServerMCPClient\n",
    "from langgraph.prebuilt import create_react_agent\n",
    "from langchain_anthropic import ChatAnthropic\n",
    "\n",
    "model = ChatAnthropic(model=\"claude-3-5-sonnet-latest\")\n",
    "\n",
    "@asynccontextmanager\n",
    "async def make_graph():\n",
    "    async with MultiServerMCPClient(\n",
    "        {\n",
    "            \"math\": {\n",
    "                \"command\": \"python\",\n",
    "                # Make sure to update to the full absolute path to your math_server.py file\n",
    "                \"args\": [\"/path/to/math_server.py\"],\n",
    "                \"transport\": \"stdio\",\n",
    "            },\n",
    "            \"weather\": {\n",
    "                # make sure you start your weather server on port 8000\n",
    "                \"url\": \"http://localhost:8000/sse\",\n",
    "                \"transport\": \"sse\",\n",
    "            }\n",
    "        }\n",
    "    ) as client:\n",
    "        agent = create_react_agent(model, client.get_tools())"
   ]
  },
  {
   "cell_type": "code",
   "execution_count": null,
   "metadata": {},
   "outputs": [],
   "source": []
  }
 ],
 "metadata": {
  "kernelspec": {
   "display_name": "stocksflags",
   "language": "python",
   "name": "python3"
  },
  "language_info": {
   "name": "python",
   "version": "3.11.11"
  }
 },
 "nbformat": 4,
 "nbformat_minor": 2
}
