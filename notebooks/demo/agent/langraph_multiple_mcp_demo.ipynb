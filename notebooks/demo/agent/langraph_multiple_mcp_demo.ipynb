{
 "cells": [
  {
   "cell_type": "code",
   "execution_count": 2,
   "metadata": {},
   "outputs": [],
   "source": [
    "# Import necessary libraries\n",
    "import asyncio\n",
    "import sys\n",
    "import os\n",
    "import warnings\n",
    "from devtools import pprint\n",
    "# Add the src directory to the Python path and suppress warnings\n",
    "sys.path.append(os.path.abspath('../..'))\n",
    "warnings.filterwarnings(\"ignore\", category=FutureWarning)\n",
    "\n",
    "\n",
    "# Import MCP components\n",
    "from mcp import ClientSession, StdioServerParameters\n",
    "from mcp.client.stdio import stdio_client\n",
    "from langchain_mcp_adapters.tools import load_mcp_tools\n",
    "from langgraph.prebuilt import create_react_agent\n",
    "from langchain_openai import ChatOpenAI\n",
    "from langchain_google_genai import ChatGoogleGenerativeAI\n",
    "\n",
    "# Set up the model\n",
    "\n",
    "#model = ChatOpenAI(model=\"gpt-4o\")\n",
    "from dotenv import load_dotenv\n",
    "load_dotenv()\n",
    "model = ChatGoogleGenerativeAI(model=\"gemini-2.0-flash\", google_api_key=os.getenv(\"GEMINI_API_KEY\"))\n"
   ]
  },
  {
   "cell_type": "code",
   "execution_count": 3,
   "metadata": {},
   "outputs": [],
   "source": [
    "from src.agent.market_intelligence_agent.tools.mcp_server import mcp_connection_manager"
   ]
  },
  {
   "cell_type": "code",
   "execution_count": 18,
   "metadata": {},
   "outputs": [],
   "source": [
    "async def main(query):  # Define an async function to use await\n",
    "    connection_manager = await mcp_connection_manager()  # Get the manager\n",
    "    tools = await connection_manager.get_tools()   # Await the coroutine\n",
    "    agent = create_react_agent(model, tools)\n",
    "    response = await agent.ainvoke({\"messages\": query})\n",
    "    return response\n"
   ]
  },
  {
   "cell_type": "code",
   "execution_count": 34,
   "metadata": {},
   "outputs": [
    {
     "name": "stderr",
     "output_type": "stream",
     "text": [
      "I0000 00:00:1744805778.232044 3788111 fork_posix.cc:75] Other threads are currently calling into gRPC, skipping fork() handlers\n",
      "I0000 00:00:1744805778.551220 3788111 fork_posix.cc:75] Other threads are currently calling into gRPC, skipping fork() handlers\n"
     ]
    },
    {
     "name": "stdout",
     "output_type": "stream",
     "text": [
      "{'messages': [HumanMessage(content='tell me about trump tariff policy, what is the impact on the market?', additional_kwargs={}, response_metadata={}, id='cb785ff5-b77e-4c58-a829-fef8f8124f28'), AIMessage(content='', additional_kwargs={'function_call': {'name': 'search', 'arguments': '{\"query\": \"trump tariff policy impact on market\", \"max_results\": 5.0}'}}, response_metadata={'prompt_feedback': {'block_reason': 0, 'safety_ratings': []}, 'finish_reason': 'STOP', 'model_name': 'gemini-2.0-flash', 'safety_ratings': []}, id='run-50990f51-cca4-425a-a174-19bd9cd83bd3-0', tool_calls=[{'name': 'search', 'args': {'query': 'trump tariff policy impact on market', 'max_results': 5.0}, 'id': 'a816d432-2bf8-4d98-9f35-f405c2b59d76', 'type': 'tool_call'}], usage_metadata={'input_tokens': 793, 'output_tokens': 11, 'total_tokens': 804, 'input_token_details': {'cache_read': 0}}), ToolMessage(content='{\"query\": \"trump tariff policy impact on market\", \"follow_up_questions\": null, \"answer\": \"Trump\\'s tariff policy increased import costs, reduced U.S. economic growth, and led to retaliatory tariffs from trading partners. The tariffs affected global trade and markets significantly.\", \"images\": [], \"results\": [{\"title\": \"Understanding the Global Macroeconomic Impacts of Trump\\'s Tariffs\", \"url\": \"https://hbr.org/2025/04/understanding-the-global-macroeconomic-impacts-of-trumps-tariffs\", \"content\": \"Explore HBR Popular Topics For Subscribers My Account Understanding the Global Macroeconomic Impacts of Trump\\\\u2019s Tariffs by Philipp Carlsson-Szlezak, Paul Swartz and Martin Reeves On April 2, President Trump followed through on campaign promises to steeply hike tariffs on U.S. trading partners, taking the average effective tariff rate to around 23%, a near 10-fold increase of the rate last year. As sharp and severe selloffs in financial markets underline the global scope and radical uncertainty of this move, executives are racing to build an understanding of the global economic impact. Partner Center Explore HBR HBR Store About HBR Manage My Account Follow HBR Harvard Business Publishing: Copyright \\\\u00a92025 Harvard Business School Publishing. Harvard Business Publishing is an affiliate of Harvard Business School.\", \"score\": 0.72184175, \"raw_content\": null}, {\"title\": \"What to know about the Trump tariffs upending global trade and markets\", \"url\": \"https://apnews.com/article/trump-tariffs-economic-impact-trade-markets-3e38352ab5693852bfd9bc8dd2ac2d56\", \"content\": \"President Donald Trump speaks during an event to announce new tariffs in the Rose Garden at the White House, Wednesday, April 2, 2025, in Washington, as Commerce Secretary Howard Lutnick listens. These tariffs \\\\u2013 which can run as high as 50% -- are meant to punish countries for trade barriers that Trump says unfairly limit U.S. exports and cause it to run huge trade deficits. President Donald Trump speaks during an event to announce new tariffs in the Rose Garden at the White House, Wednesday, April 2, 2025, in Washington, as Commerce Secretary Howard Lutnick listens. The lab says that Trump\\\\u2019s tariffs will reduce U.S. economic growth \\\\u2013 which was 2.8% in 2024 -- by 0.9 percentage points this year.\", \"score\": 0.70871735, \"raw_content\": null}, {\"title\": \"Trump Tariffs: The Economic Impact of the Trump Trade War - Tax Foundation\", \"url\": \"https://taxfoundation.org/research/all/federal/trump-tariffs-trade-war/\", \"content\": \"The Trump administration imposed several rounds of tariffs on steel, aluminum, washing machines, solar panels, and goods from China, affecting more than $380 billion worth of trade at the time of implementation and amounting to a tax increase of nearly $80 billion. In September 2019, the Trump administration imposed \\\\u201cList 4a,\\\\u201d a 15 percent tariff on $112 billion of imports, an $11 billion tax increase. Update reflects President Trump\\\\u2019s new April 2 tariffs related to a national economic emergency on 60 trading partners at specific rates, other trading partners at 10 percent, and non-USMCA Canada and Mexico imports at a 12 percent rate after IEEPA fentanyl tariffs end, and updated auto, steel, and aluminum tariffs.\", \"score\": 0.70263255, \"raw_content\": null}, {\"title\": \"How Trump\\'s tariffs and trade war are impacting U.S. and global ...\", \"url\": \"https://www.pbs.org/newshour/show/how-trumps-tariffs-and-trade-war-are-impacting-u-s-and-global-economies\", \"content\": \"How Trump\\\\u2019s tariffs and trade war are impacting U.S. and global economies | PBS News How Trump\\\\u2019s tariffs and trade war are impacting U.S. and global economies https://www.pbs.org/newshour/show/how-trumps-tariffs-and-trade-war-are-impacting-u-s-and-global-economies For a closer look at how President Trump\\'s tariffs are already impacting the U.S. and global economies, Amna Nawaz spoke with Mary Lovely, a senior fellow who studies tariffs at the nonpartisan Peterson Institute for International Economics. For a closer look now at how these tariffs are already impacting the U.S. and global economies, we\\'re joined tonight by Mary Lovely, a senior fellow who studies tariffs at the nonpartisan Peterson Institute for International Economics. China responds to new Trump tariffs, will raise rate on American goods to 125 percentBy Associated Press\", \"score\": 0.59344494, \"raw_content\": null}, {\"title\": \"US Tariffs: What\\'s the Impact? | J.P. Morgan Research\", \"url\": \"https://www.jpmorgan.com/insights/global-research/current-events/us-tariffs\", \"content\": \"March 14: J.P. Morgan Research revises down U.S. GDP growth based on tariffs March 14: J.P. Morgan Research revises down U.S. GDP growth based on tariffs But with Chinese tariffs going to punitive rates, even conservative estimates would suggest that China\\\\u2019s share of imports should shrink dramatically, reducing the increase in total average effective tariffs,\\\\u201d said Michael Feroli, chief U.S. economist at J.P. Morgan. \\\\u201cGiven the import bill from China, this tariff alone amounts to an enormous $400bn tax hike on U.S. households and businesses before substitution,\\\\u201d said Nora Szentivanyi, senior global economist at J.P. Morgan. J.P. Morgan Research has lowered its estimate for 2025 real GDP growth due to heightened trade policy uncertainty, the effect of existing tariffs and retaliatory measures by foreign trading partners.\", \"score\": 0.22942336, \"raw_content\": null}], \"response_time\": 2.06}', name='search', id='0b4e560f-7e58-441a-9c31-ce5351d47e06', tool_call_id='a816d432-2bf8-4d98-9f35-f405c2b59d76'), AIMessage(content=\"Trump's tariff policy generally increased import costs, which had several effects on the market:\\n\\n*   **Reduced U.S. Economic Growth:** The tariffs are believed to have slowed down the U.S. economic growth.\\n*   **Retaliatory Tariffs:** Other countries responded with their own tariffs on U.S. goods, impacting international trade.\\n*   **Increased Costs:** Tariffs on goods from countries like China effectively increased taxes on U.S. households and businesses.\", additional_kwargs={}, response_metadata={'prompt_feedback': {'block_reason': 0, 'safety_ratings': []}, 'finish_reason': 'STOP', 'model_name': 'gemini-2.0-flash', 'safety_ratings': []}, id='run-f72e160a-42d2-43c8-90a9-445340795b3f-0', usage_metadata={'input_tokens': 2015, 'output_tokens': 102, 'total_tokens': 2117, 'input_token_details': {'cache_read': 0}})]}\n"
     ]
    }
   ],
   "source": [
    "query = 'tell me about trump tariff policy, what is the impact on the market?'\n",
    "response = asyncio.create_task(main(query))"
   ]
  },
  {
   "cell_type": "code",
   "execution_count": 36,
   "metadata": {},
   "outputs": [
    {
     "name": "stdout",
     "output_type": "stream",
     "text": [
      "Trump's tariff policy generally increased import costs, which had several effects on the market:\n",
      "\n",
      "*   **Reduced U.S. Economic Growth:** The tariffs are believed to have slowed down the U.S. economic growth.\n",
      "*   **Retaliatory Tariffs:** Other countries responded with their own tariffs on U.S. goods, impacting international trade.\n",
      "*   **Increased Costs:** Tariffs on goods from countries like China effectively increased taxes on U.S. households and businesses.\n"
     ]
    }
   ],
   "source": [
    "print(response.result()['messages'][-1].content)"
   ]
  }
 ],
 "metadata": {
  "kernelspec": {
   "display_name": "stocksflags",
   "language": "python",
   "name": "python3"
  },
  "language_info": {
   "codemirror_mode": {
    "name": "ipython",
    "version": 3
   },
   "file_extension": ".py",
   "mimetype": "text/x-python",
   "name": "python",
   "nbconvert_exporter": "python",
   "pygments_lexer": "ipython3",
   "version": "3.11.11"
  }
 },
 "nbformat": 4,
 "nbformat_minor": 2
}
