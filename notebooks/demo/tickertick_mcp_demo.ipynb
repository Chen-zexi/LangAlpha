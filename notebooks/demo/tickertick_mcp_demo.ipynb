{
 "cells": [
  {
   "cell_type": "code",
   "execution_count": 1,
   "metadata": {},
   "outputs": [],
   "source": [
    "# Import necessary libraries\n",
    "import asyncio\n",
    "import sys\n",
    "import os\n",
    "import warnings\n",
    "\n",
    "# Add the src directory to the Python path and suppress warnings\n",
    "sys.path.append(os.path.abspath('../..'))\n",
    "warnings.filterwarnings(\"ignore\", category=FutureWarning)\n",
    "\n",
    "\n",
    "# Import MCP components\n",
    "from mcp import ClientSession, StdioServerParameters\n",
    "from mcp.client.stdio import stdio_client\n",
    "from langchain_mcp_adapters.tools import load_mcp_tools\n",
    "from langgraph.prebuilt import create_react_agent\n",
    "from langchain_openai import ChatOpenAI\n",
    "from langchain_google_genai import ChatGoogleGenerativeAI\n",
    "\n",
    "# Set up the model\n",
    "\n",
    "#model = ChatOpenAI(model=\"gpt-4o\")\n",
    "from dotenv import load_dotenv\n",
    "load_dotenv()\n",
    "model = ChatGoogleGenerativeAI(model=\"gemini-2.0-flash\", google_api_key=os.getenv(\"GEMINI_API_KEY\"))\n"
   ]
  },
  {
   "cell_type": "code",
   "execution_count": 2,
   "metadata": {},
   "outputs": [],
   "source": [
    "server_params = StdioServerParameters(\n",
    "    command=\"python\",\n",
    "    args=[\"/Users/chen/Library/Mobile Documents/com~apple~CloudDocs/NYU/SPRING 25/TECH-UB 24/StocksFlags/src/mcp_server/tickertick_mcp/server.py\"],\n",
    ")\n",
    "\n",
    "# Test connection to the server\n",
    "async def test_server(query):\n",
    "    print(\"Testing connection to Tickertick MCP server...\")\n",
    "    async with stdio_client(server_params) as (read, write):\n",
    "        async with ClientSession(read, write) as session:\n",
    "            # Initialize the connection\n",
    "            await session.initialize()\n",
    "            print(\"Connected to Tickertick MCP server successfully!\")\n",
    "            \n",
    "            # List available tools\n",
    "            tools = await load_mcp_tools(session)\n",
    "            print(f\"Found {len(tools)} tools:\")\n",
    "            for tool in tools:\n",
    "                print(f\"- {tool.name}: {tool.description}\")\n",
    "            \n",
    "            # Test a tool with LangChain\n",
    "            agent = create_react_agent(model, tools)\n",
    "            print(f\"\\nTesting agent with query: '{query}'\")\n",
    "            agent_response = await agent.ainvoke({\"messages\": query})\n",
    "            return agent_response\n",
    "\n"
   ]
  },
  {
   "cell_type": "code",
   "execution_count": 3,
   "metadata": {},
   "outputs": [],
   "source": [
    "query = \"what's the trending news on bloomberg?\""
   ]
  },
  {
   "cell_type": "code",
   "execution_count": 4,
   "metadata": {},
   "outputs": [
    {
     "name": "stdout",
     "output_type": "stream",
     "text": [
      "Testing connection to Tickertick MCP server...\n",
      "Connected to Tickertick MCP server successfully!\n",
      "Found 7 tools:\n",
      "- get_ticker_news_tool: \n",
      "    Get news for a specific ticker symbol.\n",
      "    \n",
      "    Args:\n",
      "        ticker: The ticker symbol (e.g., AAPL, MSFT, TSLA)\n",
      "        limit: Maximum number of news items to return (default: 30, max: 100)\n",
      "        \n",
      "    Returns:\n",
      "        A dictionary containing news items related to the ticker\n",
      "    \n",
      "- get_broad_ticker_news_tool: \n",
      "    Get broader news for a specific ticker symbol.\n",
      "    \n",
      "    Args:\n",
      "        ticker: The ticker symbol (e.g., AAPL, MSFT, TSLA)\n",
      "        limit: Maximum number of news items to return (default: 30, max: 100)\n",
      "        \n",
      "    Returns:\n",
      "        A dictionary containing broader news items related to the ticker\n",
      "    \n",
      "- get_news_from_source_tool: \n",
      "    Get news from a specific source.\n",
      "    \n",
      "    Args:\n",
      "        source: The news source (e.g., bloomberg, wsj, cnbc)\n",
      "        limit: Maximum number of news items to return (default: 30, max: 100)\n",
      "        \n",
      "    Returns:\n",
      "        A dictionary containing news items from the specified source\n",
      "    \n",
      "- get_news_for_multiple_tickers_tool: \n",
      "    Get news for multiple ticker symbols.\n",
      "    \n",
      "    Args:\n",
      "        tickers: List of ticker symbols (e.g., [\"AAPL\", \"MSFT\", \"TSLA\"])\n",
      "        limit: Maximum number of news items to return (default: 30, max: 100)\n",
      "        \n",
      "    Returns:\n",
      "        A dictionary containing news items related to any of the specified tickers\n",
      "    \n",
      "- get_curated_news_tool: \n",
      "    Get curated news from top financial/technology sources.\n",
      "    \n",
      "    Args:\n",
      "        limit: Maximum number of news items to return (default: 30, max: 100)\n",
      "        \n",
      "    Returns:\n",
      "        A dictionary containing curated news items\n",
      "    \n",
      "- get_entity_news_tool: \n",
      "    Get news about a specific entity (company, person, etc.).\n",
      "    \n",
      "    Args:\n",
      "        entity: The entity name (e.g., \"Apple Inc\", \"Elon Musk\")\n",
      "        limit: Maximum number of news items to return (default: 30, max: 100)\n",
      "        \n",
      "    Returns:\n",
      "        A dictionary containing news items related to the entity\n",
      "    \n",
      "- search_tickers_tool: \n",
      "    Search for tickers matching the query.\n",
      "    \n",
      "    Args:\n",
      "        query: The search query (e.g., \"Apple\", \"TSLA\")\n",
      "        limit: Maximum number of results to return (default: 5, max: 20)\n",
      "        \n",
      "    Returns:\n",
      "        A dictionary containing matching ticker symbols\n",
      "    \n",
      "\n",
      "Testing agent with query: 'what's the trending news on bloomberg?'\n"
     ]
    }
   ],
   "source": [
    "response = await test_server(query)"
   ]
  },
  {
   "cell_type": "code",
   "execution_count": 5,
   "metadata": {},
   "outputs": [
    {
     "name": "stdout",
     "output_type": "stream",
     "text": [
      "<class 'langgraph.pregel.io.AddableValuesDict'>\n",
      "Here's a summary of the trending news from Bloomberg:\n",
      "\n",
      "*   **Trump Tariff Pause:** A major theme is President Trump's 90-day pause on reciprocal tariffs for most nations, which has led to a surge in global markets. This decision follows a period of market turmoil and warnings about potential economic chaos.\n",
      "*   **Market Reactions:** The stock market is experiencing a significant rebound, with some reports indicating the best day since the 2008 financial crisis. The bond market is also reacting strongly to the tariff news.\n",
      "*   **Economic Analysis:** Experts are analyzing the potential impact of the tariff pause on the economy, including its effect on inflation and corporate earnings.\n",
      "*   **US DOT Buyouts:** The US Department of Transportation is seeing a large number of employees seeking a second buyout offer as part of an effort to reduce the size of the federal workforce.\n",
      "*   **UN Leadership:** Latin American and Caribbean nations are seeking to unite behind a single candidate for the next UN Secretary General, potentially leading to the first female leader of the organization.\n",
      "*   **OpenAI vs. Musk:** OpenAI has accused Elon Musk of a \"relentless\" campaign to damage the company and is seeking court intervention.\n",
      "*   **Airports:** Singapore's Changi Airport has regained the title of world's best airport in 2025, surpassing Doha's Hamad International.\n"
     ]
    }
   ],
   "source": [
    "print(type(response))\n",
    "print(response['messages'][-1].content)"
   ]
  }
 ],
 "metadata": {
  "kernelspec": {
   "display_name": "stocksflags",
   "language": "python",
   "name": "python3"
  },
  "language_info": {
   "codemirror_mode": {
    "name": "ipython",
    "version": 3
   },
   "file_extension": ".py",
   "mimetype": "text/x-python",
   "name": "python",
   "nbconvert_exporter": "python",
   "pygments_lexer": "ipython3",
   "version": "3.11.11"
  }
 },
 "nbformat": 4,
 "nbformat_minor": 2
}
