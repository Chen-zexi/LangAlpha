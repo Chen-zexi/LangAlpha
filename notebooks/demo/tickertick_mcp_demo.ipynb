{
 "cells": [
  {
   "cell_type": "code",
   "execution_count": 1,
   "metadata": {},
   "outputs": [],
   "source": [
    "# Import necessary libraries\n",
    "import asyncio\n",
    "import sys\n",
    "import os\n",
    "import warnings\n",
    "\n",
    "# Add the src directory to the Python path and suppress warnings\n",
    "sys.path.append(os.path.abspath('../..'))\n",
    "warnings.filterwarnings(\"ignore\", category=FutureWarning)\n",
    "\n",
    "\n",
    "# Import MCP components\n",
    "from mcp import ClientSession, StdioServerParameters\n",
    "from mcp.client.stdio import stdio_client\n",
    "from langchain_mcp_adapters.tools import load_mcp_tools\n",
    "from langgraph.prebuilt import create_react_agent\n",
    "from langchain_openai import ChatOpenAI\n",
    "from langchain_google_genai import ChatGoogleGenerativeAI\n",
    "\n",
    "# Set up the model\n",
    "\n",
    "#model = ChatOpenAI(model=\"gpt-4o\")\n",
    "from dotenv import load_dotenv\n",
    "load_dotenv()\n",
    "model = ChatGoogleGenerativeAI(model=\"gemini-2.0-flash\", google_api_key=os.getenv(\"GEMINI_API_KEY\"))\n"
   ]
  },
  {
   "cell_type": "code",
   "execution_count": 2,
   "metadata": {},
   "outputs": [],
   "source": [
    "server_params = StdioServerParameters(\n",
    "    command=\"python\",\n",
    "    #Replace with the full path to the tickertick.py file\n",
    "    args=[\"/Users/chen/Library/Mobile Documents/com~apple~CloudDocs/NYU/SPRING 25/TECH-UB 24/StocksFlags/src/mcp_server/tickertick.py\"],\n",
    ")\n",
    "\n",
    "# Test connection to the server\n",
    "async def test_server(query):\n",
    "    print(\"Testing connection to Tickertick MCP server...\")\n",
    "    async with stdio_client(server_params) as (read, write):\n",
    "        async with ClientSession(read, write) as session:\n",
    "            # Initialize the connection\n",
    "            await session.initialize()\n",
    "            print(\"Connected to Tickertick MCP server successfully!\")\n",
    "            \n",
    "            # List available tools\n",
    "            tools = await load_mcp_tools(session)\n",
    "            print(f\"Found {len(tools)} tools:\")\n",
    "            for tool in tools:\n",
    "                print(f\"- {tool.name}: {tool.description}\")\n",
    "            \n",
    "            # Test a tool with LangChain\n",
    "            agent = create_react_agent(model, tools)\n",
    "            print(f\"\\nTesting agent with query: '{query}'\")\n",
    "            agent_response = await agent.ainvoke({\"messages\": query})\n",
    "            return agent_response\n",
    "\n"
   ]
  },
  {
   "cell_type": "code",
   "execution_count": 3,
   "metadata": {},
   "outputs": [],
   "source": [
    "query = \"what's the trending news on bloomberg?\""
   ]
  },
  {
   "cell_type": "code",
   "execution_count": 4,
   "metadata": {},
   "outputs": [
    {
     "name": "stdout",
     "output_type": "stream",
     "text": [
      "Testing connection to Tickertick MCP server...\n",
      "Connected to Tickertick MCP server successfully!\n",
      "Found 7 tools:\n",
      "- get_ticker_news_tool: \n",
      "    Get news for a specific ticker symbol.\n",
      "    \n",
      "    Args:\n",
      "        ticker: The ticker symbol (e.g., AAPL, MSFT, TSLA)\n",
      "        limit: Maximum number of news items to return (default: 30, max: 100)\n",
      "        \n",
      "    Returns:\n",
      "        A dictionary containing news items related to the ticker\n",
      "    \n",
      "- get_broad_ticker_news_tool: \n",
      "    Get broader news for a specific ticker symbol.\n",
      "    \n",
      "    Args:\n",
      "        ticker: The ticker symbol (e.g., AAPL, MSFT, TSLA)\n",
      "        limit: Maximum number of news items to return (default: 30, max: 100)\n",
      "        \n",
      "    Returns:\n",
      "        A dictionary containing broader news items related to the ticker\n",
      "    \n",
      "- get_news_from_source_tool: \n",
      "    Get news from a specific source.\n",
      "    \n",
      "    Args:\n",
      "        source: The news source (e.g., bloomberg, wsj, cnbc)\n",
      "        limit: Maximum number of news items to return (default: 30, max: 100)\n",
      "        \n",
      "    Returns:\n",
      "        A dictionary containing news items from the specified source\n",
      "    \n",
      "- get_news_for_multiple_tickers_tool: \n",
      "    Get news for multiple ticker symbols.\n",
      "    \n",
      "    Args:\n",
      "        tickers: List of ticker symbols (e.g., [\"AAPL\", \"MSFT\", \"TSLA\"])\n",
      "        limit: Maximum number of news items to return (default: 30, max: 100)\n",
      "        \n",
      "    Returns:\n",
      "        A dictionary containing news items related to any of the specified tickers\n",
      "    \n",
      "- get_curated_news_tool: \n",
      "    Get curated news from top financial/technology sources.\n",
      "    \n",
      "    Args:\n",
      "        limit: Maximum number of news items to return (default: 30, max: 100)\n",
      "        \n",
      "    Returns:\n",
      "        A dictionary containing curated news items\n",
      "    \n",
      "- get_entity_news_tool: \n",
      "    Get news about a specific entity (company, person, etc.).\n",
      "    \n",
      "    Args:\n",
      "        entity: The entity name (e.g., \"Apple Inc\", \"Elon Musk\")\n",
      "        limit: Maximum number of news items to return (default: 30, max: 100)\n",
      "        \n",
      "    Returns:\n",
      "        A dictionary containing news items related to the entity\n",
      "    \n",
      "- search_tickers_tool: \n",
      "    Search for tickers matching the query.\n",
      "    \n",
      "    Args:\n",
      "        query: The search query (e.g., \"Apple\", \"TSLA\")\n",
      "        limit: Maximum number of results to return (default: 5, max: 20)\n",
      "        \n",
      "    Returns:\n",
      "        A dictionary containing matching ticker symbols\n",
      "    \n",
      "\n",
      "Testing agent with query: 'what's the trending news on bloomberg?'\n"
     ]
    }
   ],
   "source": [
    "response = await test_server(query)"
   ]
  },
  {
   "cell_type": "code",
   "execution_count": 5,
   "metadata": {},
   "outputs": [
    {
     "name": "stdout",
     "output_type": "stream",
     "text": [
      "<class 'langgraph.pregel.io.AddableValuesDict'>\n",
      "Here's a summary of the trending news from Bloomberg:\n",
      "\n",
      "*   **Trade and Tariffs:** Several articles discuss the impact of trade tensions and tariffs, including their effects on Canada's energy security, US businesses, and African nations. There's also news about \"progress\" in US-Japan trade talks.\n",
      "*   **Central Banks and Interest Rates:** News includes Turkey's surprise rate hike, Ukraine holding its key interest rate, and discussions between the IMF and Bangladesh.\n",
      "*   **Company News:** Several companies are in the news, including BP, Ally Financial, Charles Schwab, Eli Lilly, Infosys, American Express, Global Payments, and Blackstone. Eli Lilly is soaring after weight-loss pill works as well as Ozempic shot\n",
      "*   **Economic Concerns:** Articles discuss the possibility of a recession and the impact of pre-tariff shopping on the US GDP.\n",
      "*   **Technology and AI:** There are stories about AWS's view on the future of contact centers with AI, and Zus Health using AI for healthcare data.\n"
     ]
    }
   ],
   "source": [
    "print(type(response))\n",
    "print(response['messages'][-1].content)"
   ]
  }
 ],
 "metadata": {
  "kernelspec": {
   "display_name": "stocksflags",
   "language": "python",
   "name": "python3"
  },
  "language_info": {
   "codemirror_mode": {
    "name": "ipython",
    "version": 3
   },
   "file_extension": ".py",
   "mimetype": "text/x-python",
   "name": "python",
   "nbconvert_exporter": "python",
   "pygments_lexer": "ipython3",
   "version": "3.11.11"
  }
 },
 "nbformat": 4,
 "nbformat_minor": 2
}
