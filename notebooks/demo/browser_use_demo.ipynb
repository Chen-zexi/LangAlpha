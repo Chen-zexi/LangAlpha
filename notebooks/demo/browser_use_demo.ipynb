{
 "cells": [
  {
   "cell_type": "code",
   "execution_count": 2,
   "metadata": {},
   "outputs": [],
   "source": [
    "# For notebook\n",
    "import nest_asyncio\n",
    "\n",
    "nest_asyncio.apply()"
   ]
  },
  {
   "cell_type": "code",
   "execution_count": 3,
   "metadata": {},
   "outputs": [
    {
     "name": "stdout",
     "output_type": "stream",
     "text": [
      "INFO     [browser_use] BrowserUse logging setup complete with level info\n",
      "INFO     [root] Anonymized telemetry enabled. See https://docs.browser-use.com/development/telemetry for more information.\n"
     ]
    }
   ],
   "source": [
    "from langchain_openai import ChatOpenAI\n",
    "from langchain_google_genai import ChatGoogleGenerativeAI\n",
    "from browser_use import Agent, Browser, BrowserConfig\n",
    "import asyncio\n",
    "from dotenv import load_dotenv\n",
    "import os\n",
    "load_dotenv()\n",
    "\n",
    "openai_api_key = os.getenv(\"OPENAI_API_KEY\")\n"
   ]
  },
  {
   "cell_type": "code",
   "execution_count": 4,
   "metadata": {},
   "outputs": [],
   "source": [
    "# Basic configuration for the browser\n",
    "config = BrowserConfig(\n",
    "\theadless=False,  # Run in headless mode\n",
    "\t# disable_security=True  # Uncomment if you want to disable security\n",
    ")\n",
    "\n",
    "# Initialize the browser with the specified configuration\n",
    "browser = Browser(config=config)"
   ]
  },
  {
   "cell_type": "code",
   "execution_count": 5,
   "metadata": {},
   "outputs": [],
   "source": [
    "plannerllm = ChatOpenAI(model=\"o3-mini\", api_key=openai_api_key)\n",
    "llm = ChatOpenAI(model=\"gpt-4o\", api_key=openai_api_key)"
   ]
  },
  {
   "cell_type": "code",
   "execution_count": 6,
   "metadata": {},
   "outputs": [],
   "source": [
    "async def browser_use(task):\n",
    "    agent = Agent(\n",
    "        task=task,\n",
    "        llm=llm,\n",
    "        browser=browser,\n",
    "        planner_llm=plannerllm,\n",
    "        use_vision_for_planner=False,      # Disable vision for planner\n",
    "        planner_interval=4 \n",
    "    )\n",
    "    return await agent.run()"
   ]
  },
  {
   "cell_type": "code",
   "execution_count": 7,
   "metadata": {},
   "outputs": [
    {
     "name": "stdout",
     "output_type": "stream",
     "text": [
      "INFO     [agent] 🚀 Starting task: tell me about nyu\n",
      "INFO     [agent] 📍 Step 1\n"
     ]
    },
    {
     "name": "stderr",
     "output_type": "stream",
     "text": [
      "/Users/chen/anaconda3/envs/stocksflags/lib/python3.11/site-packages/browser_use/agent/message_manager/views.py:59: LangChainBetaWarning: The function `load` is in beta. It is actively being worked on, so the API may change.\n",
      "  value['message'] = load(value['message'])\n"
     ]
    },
    {
     "name": "stdout",
     "output_type": "stream",
     "text": [
      "INFO     [agent] 🤷 Eval: Unknown - Starting from an about:blank page.\n",
      "INFO     [agent] 🧠 Memory: Task to find information about NYU, starting point is about:blank. 0/1 searches done.\n",
      "INFO     [agent] 🎯 Next goal: Search for information about NYU on Google.\n",
      "INFO     [agent] 🛠️  Action 1/1: {\"search_google\":{\"query\":\"NYU information\"}}\n",
      "INFO     [controller] 🔍  Searched for \"NYU information\" in Google\n",
      "INFO     [agent] 📍 Step 2\n",
      "INFO     [agent] 👍 Eval: Success - Google search was performed, results about NYU are visible.\n",
      "INFO     [agent] 🧠 Memory: Found search results about NYU. Extract content for detailed information. 1/1 searches done.\n",
      "INFO     [agent] 🎯 Next goal: Extract content from the Google search results for NYU.\n",
      "INFO     [agent] 🛠️  Action 1/1: {\"extract_content\":{\"goal\":\"information about NYU from the search results\"}}\n",
      "INFO     [controller] 📄  Extracted from page\n",
      ": ```json\n",
      "{\n",
      "  \"NYU_information\": {\n",
      "    \"Overview\": \"New York University (NYU) is the largest private research university in the United States, with an enrollment of over 65,000 students. It offers a rigorous education and is involved in a wide array of research activities.\",\n",
      "    \"History\": \"Founded in 1831, NYU has grown to become one of the largest private universities in the United States.\",\n",
      "    \"Campuses\": \"NYU has degree-granting campuses in New York, Abu Dhabi, and Shanghai, in addition to 11 global academic centers.\",\n",
      "    \"Student Statistics\": {\n",
      "      \"Undergraduate Retention Rate\": \"95.5% of first-year students return for their sophomore year.\",\n",
      "      \"Graduation Rate\": \"87% of first-years graduate within six years.\"\n",
      "    },\n",
      "    \"Ranking\": \"NYU is ranked #30 among National Universities in the 2025 edition of Best Colleges by U.S. News & World Report.\",\n",
      "    \"Tuition\": \"Annual tuition and fees are approximately $62,796.\",\n",
      "    \"Notable Achievements\": \"NYU supports a thriving population of international students and is a leader in sending students abroad. The university boasts associations with 5 Nobel Laureates.\",\n",
      "    \"Programs and Degrees\": \"NYU offers over 230 undergraduate degrees, in addition to master's and doctoral programs.\",\n",
      "    \"Technology Resources\": \"NYU IT provides various tech resources, including tools and guides for students to assist with midterms and final projects.\",\n",
      "    \"Visitor Information\": \"NYU is located in New York City and serves as a hub with over 50,000 students and 19,000 employees.\"\n",
      "  }\n",
      "}\n",
      "```\n",
      "\n",
      "INFO     [agent] 📍 Step 3\n",
      "INFO     [agent] 👍 Eval: Success - Extracted detailed information about NYU.\n",
      "INFO     [agent] 🧠 Memory: Detailed information about NYU extracted: overview, history, campuses, student statistics, ranking, tuition, achievements, programs, technology resources, visitor information.\n",
      "INFO     [agent] 🎯 Next goal: Complete the task based on extracted information about NYU.\n",
      "INFO     [agent] 🛠️  Action 1/1: {\"done\":{\"text\":\"New York University (NYU) is the largest private research university in the United States with over 65,000 students. It was founded in 1831 and has campuses in New York, Abu Dhabi, and Shanghai, as well as 11 global academic centers. The undergraduate retention rate is 95.5%, with a graduation rate of 87%. NYU is ranked #30 among National Universities in the 2025 edition of Best Colleges by U.S. News & World Report, with tuition around $62,796. NYU is known for its involvement with international students and associations with 5 Nobel Laureates. It offers over 230 undergraduate degrees and numerous master's and doctoral programs. NYU's Technology Resources provide tools for student projects, and it serves as a hub in NYC with over 50,000 students.\",\"success\":true}}\n",
      "INFO     [agent] 📄 Result: New York University (NYU) is the largest private research university in the United States with over 65,000 students. It was founded in 1831 and has campuses in New York, Abu Dhabi, and Shanghai, as well as 11 global academic centers. The undergraduate retention rate is 95.5%, with a graduation rate of 87%. NYU is ranked #30 among National Universities in the 2025 edition of Best Colleges by U.S. News & World Report, with tuition around $62,796. NYU is known for its involvement with international students and associations with 5 Nobel Laureates. It offers over 230 undergraduate degrees and numerous master's and doctoral programs. NYU's Technology Resources provide tools for student projects, and it serves as a hub in NYC with over 50,000 students.\n",
      "INFO     [agent] ✅ Task completed\n",
      "INFO     [agent] ✅ Successfully\n"
     ]
    }
   ],
   "source": [
    "task = \"tell me about nyu\"\n",
    "result = asyncio.run(browser_use(task)).final_result()"
   ]
  },
  {
   "cell_type": "code",
   "execution_count": 10,
   "metadata": {},
   "outputs": [
    {
     "data": {
      "text/plain": [
       "\"New York University (NYU) is the largest private research university in the United States with over 65,000 students. It was founded in 1831 and has campuses in New York, Abu Dhabi, and Shanghai, as well as 11 global academic centers. The undergraduate retention rate is 95.5%, with a graduation rate of 87%. NYU is ranked #30 among National Universities in the 2025 edition of Best Colleges by U.S. News & World Report, with tuition around $62,796. NYU is known for its involvement with international students and associations with 5 Nobel Laureates. It offers over 230 undergraduate degrees and numerous master's and doctoral programs. NYU's Technology Resources provide tools for student projects, and it serves as a hub in NYC with over 50,000 students.\""
      ]
     },
     "execution_count": 10,
     "metadata": {},
     "output_type": "execute_result"
    }
   ],
   "source": [
    "result"
   ]
  },
  {
   "cell_type": "code",
   "execution_count": 8,
   "metadata": {},
   "outputs": [
    {
     "name": "stdout",
     "output_type": "stream",
     "text": [
      "New York University (NYU) is the largest private research university in the United States with over 65,000 students. It was founded in 1831 and has campuses in New York, Abu Dhabi, and Shanghai, as well as 11 global academic centers. The undergraduate retention rate is 95.5%, with a graduation rate of 87%. NYU is ranked #30 among National Universities in the 2025 edition of Best Colleges by U.S. News & World Report, with tuition around $62,796. NYU is known for its involvement with international students and associations with 5 Nobel Laureates. It offers over 230 undergraduate degrees and numerous master's and doctoral programs. NYU's Technology Resources provide tools for student projects, and it serves as a hub in NYC with over 50,000 students.\n"
     ]
    }
   ],
   "source": [
    "print(result)"
   ]
  }
 ],
 "metadata": {
  "kernelspec": {
   "display_name": "stocksflags",
   "language": "python",
   "name": "python3"
  },
  "language_info": {
   "codemirror_mode": {
    "name": "ipython",
    "version": 3
   },
   "file_extension": ".py",
   "mimetype": "text/x-python",
   "name": "python",
   "nbconvert_exporter": "python",
   "pygments_lexer": "ipython3",
   "version": "3.11.11"
  }
 },
 "nbformat": 4,
 "nbformat_minor": 2
}
