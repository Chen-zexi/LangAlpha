{
 "cells": [
  {
   "cell_type": "code",
   "execution_count": 1,
   "metadata": {},
   "outputs": [
    {
     "name": "stdout",
     "output_type": "stream",
     "text": [
      "DB_USER and DB_PASSWORD are set\n"
     ]
    }
   ],
   "source": [
    "import sys\n",
    "import os\n",
    "import pandas as pd\n",
    "import warnings\n",
    "import json\n",
    "from pydantic import BaseModel\n",
    "\n",
    "# Add the src folder to the path\n",
    "sys.path.append(os.path.abspath('../..'))\n",
    "warnings.filterwarnings(\"ignore\", category=FutureWarning)\n",
    "\n",
    "# Import the classes\n",
    "from src.data_tool.data_providers.ploygon import polygon\n",
    "from src.database_tool.connect_db import ConnectDB\n",
    "from src.data_tool.data_models import CompanyNews, CompanyNewsResponse\n",
    "\n",
    "from src.llm.api_call import call_llm\n",
    "from langchain_core.prompts import ChatPromptTemplate\n",
    "\n",
    "db =ConnectDB()\n",
    "engine = db.get_engine()"
   ]
  },
  {
   "cell_type": "code",
   "execution_count": 2,
   "metadata": {},
   "outputs": [
    {
     "name": "stdout",
     "output_type": "stream",
     "text": [
      "POLYGON_API_KEY is set\n",
      "DB_USER and DB_PASSWORD are set\n"
     ]
    }
   ],
   "source": [
    "#fd = FinancialDatasets()\n",
    "pl = polygon()"
   ]
  },
  {
   "cell_type": "code",
   "execution_count": 3,
   "metadata": {},
   "outputs": [],
   "source": [
    "ticker = 'NVDA'\n",
    "start_date = '2025-03-15'\n",
    "end_date = '2025-04-02'"
   ]
  },
  {
   "cell_type": "code",
   "execution_count": 4,
   "metadata": {},
   "outputs": [],
   "source": [
    "def prepare_news_for_llm(news_list):\n",
    "    \"\"\"\n",
    "    Prepare company news data for an LLM by removing URLs and converting to a structured format.\n",
    "    \n",
    "    Args:\n",
    "        news_list: List of CompanyNews objects\n",
    "        \n",
    "    Returns:\n",
    "        List of dictionaries containing cleaned news data\n",
    "    \"\"\"\n",
    "    processed_news = []\n",
    "    \n",
    "    for news_item in news_list:\n",
    "        # Create a dictionary with all fields except URL\n",
    "        news_dict = {\n",
    "            \"tickers\": news_item.tickers,\n",
    "            \"title\": news_item.title,\n",
    "            \"description\": news_item.description,\n",
    "            \"published_utc\": news_item.published_utc,\n",
    "        }\n",
    "        \n",
    "        processed_news.append(news_dict)\n",
    "    \n",
    "    return processed_news"
   ]
  },
  {
   "cell_type": "code",
   "execution_count": 5,
   "metadata": {},
   "outputs": [
    {
     "name": "stdout",
     "output_type": "stream",
     "text": [
      "Skipped 146 duplicate news records for NVDA.\n",
      "All 146 news records for NVDA already exist in the database.\n"
     ]
    }
   ],
   "source": [
    "nvdia_news, nvdia_news_df = pl.get_news(ticker, start_date, end_date, limit=1000, strict=False)"
   ]
  },
  {
   "cell_type": "code",
   "execution_count": 6,
   "metadata": {},
   "outputs": [
    {
     "data": {
      "text/html": [
       "<div>\n",
       "<style scoped>\n",
       "    .dataframe tbody tr th:only-of-type {\n",
       "        vertical-align: middle;\n",
       "    }\n",
       "\n",
       "    .dataframe tbody tr th {\n",
       "        vertical-align: top;\n",
       "    }\n",
       "\n",
       "    .dataframe thead th {\n",
       "        text-align: right;\n",
       "    }\n",
       "</style>\n",
       "<table border=\"1\" class=\"dataframe\">\n",
       "  <thead>\n",
       "    <tr style=\"text-align: right;\">\n",
       "      <th></th>\n",
       "      <th>article_url</th>\n",
       "      <th>author</th>\n",
       "      <th>description</th>\n",
       "      <th>polygon_id</th>\n",
       "      <th>insights</th>\n",
       "      <th>keywords</th>\n",
       "      <th>published_utc</th>\n",
       "      <th>tickers</th>\n",
       "      <th>title</th>\n",
       "      <th>publisher</th>\n",
       "      <th>ticker</th>\n",
       "    </tr>\n",
       "  </thead>\n",
       "  <tbody>\n",
       "    <tr>\n",
       "      <th>145</th>\n",
       "      <td>https://www.benzinga.com/government/regulation...</td>\n",
       "      <td>Piero Cingari</td>\n",
       "      <td>President Trump's new tariffs triggered a shar...</td>\n",
       "      <td>9f9c58226349b93485c4f8a796b03d103d74f74336db64...</td>\n",
       "      <td>[{\"ticker\": \"AAPL\", \"sentiment\": \"negative\", \"...</td>\n",
       "      <td>[\"tariffs\", \"trade war\", \"tech stocks\", \"marke...</td>\n",
       "      <td>2025-04-02 21:35:44</td>\n",
       "      <td>[\"AAPL\", \"AMZN\", \"NVDA\", \"XLK\", \"XLY\"]</td>\n",
       "      <td>Markets Reel As Trump's Tariffs Hit — Magnific...</td>\n",
       "      <td>Benzinga</td>\n",
       "      <td>NVDA</td>\n",
       "    </tr>\n",
       "    <tr>\n",
       "      <th>144</th>\n",
       "      <td>https://www.investing.com/analysis/liberation-...</td>\n",
       "      <td>Zain Vawda</td>\n",
       "      <td>The article discusses the potential impact of ...</td>\n",
       "      <td>44aa6413805e29973e0509ad35a8538a0bcd545f9221d6...</td>\n",
       "      <td>[{\"ticker\": \"AAPL\", \"sentiment\": \"neutral\", \"s...</td>\n",
       "      <td>[\"tariffs\", \"trade war\", \"stock market\", \"S&amp;P ...</td>\n",
       "      <td>2025-04-02 19:24:00</td>\n",
       "      <td>[\"AAPL\", \"MSFT\", \"NVDA\"]</td>\n",
       "      <td>Liberation Day Tariffs: Potential Impact on th...</td>\n",
       "      <td>Investing.com</td>\n",
       "      <td>NVDA</td>\n",
       "    </tr>\n",
       "    <tr>\n",
       "      <th>143</th>\n",
       "      <td>https://www.fool.com/investing/2025/04/02/why-...</td>\n",
       "      <td>Jeremy Bowman</td>\n",
       "      <td>Nvidia's stock fell 13% in March due to macroe...</td>\n",
       "      <td>cfa5d6f1390722d6889932741d57a0ad27f5b512003cd8...</td>\n",
       "      <td>[{\"ticker\": \"NVDA\", \"sentiment\": \"neutral\", \"s...</td>\n",
       "      <td>[\"Nvidia\", \"AI\", \"semiconductor\", \"macroeconom...</td>\n",
       "      <td>2025-04-02 18:34:50</td>\n",
       "      <td>[\"NVDA\"]</td>\n",
       "      <td>Why Nvidia Stock Lost 13% in March</td>\n",
       "      <td>The Motley Fool</td>\n",
       "      <td>NVDA</td>\n",
       "    </tr>\n",
       "    <tr>\n",
       "      <th>142</th>\n",
       "      <td>https://www.fool.com/investing/2025/04/02/some...</td>\n",
       "      <td>Anders Bylund</td>\n",
       "      <td>Quantum computing stocks had a volatile month ...</td>\n",
       "      <td>5144eaef31e6469a48882a4c387c51e3d0b49f6ff107ce...</td>\n",
       "      <td>[{\"ticker\": \"QBTS\", \"sentiment\": \"positive\", \"...</td>\n",
       "      <td>[\"quantum computing\", \"stock performance\", \"D-...</td>\n",
       "      <td>2025-04-02 16:52:36</td>\n",
       "      <td>[\"QBTS\", \"QBTS.WS\", \"QUBT\", \"RGTI\", \"RGTIW\", \"...</td>\n",
       "      <td>Why Some Quantum Computing Stocks Soared Last ...</td>\n",
       "      <td>The Motley Fool</td>\n",
       "      <td>NVDA</td>\n",
       "    </tr>\n",
       "    <tr>\n",
       "      <th>141</th>\n",
       "      <td>https://www.fool.com/investing/2025/04/02/core...</td>\n",
       "      <td>Jeremy Bowman</td>\n",
       "      <td>CoreWeave, a cloud infrastructure platform pur...</td>\n",
       "      <td>2a992adbd8a6dd72e83aa9bf28b5176da249a716fa2303...</td>\n",
       "      <td>[{\"ticker\": \"CRWV\", \"sentiment\": \"neutral\", \"s...</td>\n",
       "      <td>[\"CoreWeave\", \"AI\", \"IPO\", \"Nvidia\", \"Microsof...</td>\n",
       "      <td>2025-04-02 15:48:46</td>\n",
       "      <td>[\"CRWV\", \"NVDA\", \"MSFT\"]</td>\n",
       "      <td>CoreWeave IPO: Is this Fast-Growing AI Stock a...</td>\n",
       "      <td>The Motley Fool</td>\n",
       "      <td>NVDA</td>\n",
       "    </tr>\n",
       "    <tr>\n",
       "      <th>...</th>\n",
       "      <td>...</td>\n",
       "      <td>...</td>\n",
       "      <td>...</td>\n",
       "      <td>...</td>\n",
       "      <td>...</td>\n",
       "      <td>...</td>\n",
       "      <td>...</td>\n",
       "      <td>...</td>\n",
       "      <td>...</td>\n",
       "      <td>...</td>\n",
       "      <td>...</td>\n",
       "    </tr>\n",
       "    <tr>\n",
       "      <th>4</th>\n",
       "      <td>https://www.globenewswire.com/news-release/202...</td>\n",
       "      <td>Faruqi &amp; Faruqi, Llp</td>\n",
       "      <td>Monolithic Power Systems is facing a class act...</td>\n",
       "      <td>047160c92a8411a7fff790bc60c24fb945df070254fac1...</td>\n",
       "      <td>[{\"ticker\": \"MPWR\", \"sentiment\": \"negative\", \"...</td>\n",
       "      <td>[\"Monolithic Power Systems\", \"Nvidia\", \"class ...</td>\n",
       "      <td>2025-03-15 11:30:00</td>\n",
       "      <td>[\"MPWR\", \"NVDA\"]</td>\n",
       "      <td>INVESTOR DEADLINE APPROACHING: Faruqi &amp; Faruqi...</td>\n",
       "      <td>GlobeNewswire Inc.</td>\n",
       "      <td>NVDA</td>\n",
       "    </tr>\n",
       "    <tr>\n",
       "      <th>3</th>\n",
       "      <td>https://www.fool.com/investing/2025/03/15/as-a...</td>\n",
       "      <td>The Motley Fool</td>\n",
       "      <td>The article discusses two AI stocks, Nvidia an...</td>\n",
       "      <td>7c30fbe666bd02d32c89088d0c1ac97c0de9c9e176b934...</td>\n",
       "      <td>[{\"ticker\": \"NVDA\", \"sentiment\": \"positive\", \"...</td>\n",
       "      <td>[\"Artificial Intelligence\", \"Nvidia\", \"Meta Pl...</td>\n",
       "      <td>2025-03-15 10:45:00</td>\n",
       "      <td>[\"NVDA\", \"META\"]</td>\n",
       "      <td>As Artificial Intelligence (AI) Stocks Fall, I...</td>\n",
       "      <td>The Motley Fool</td>\n",
       "      <td>NVDA</td>\n",
       "    </tr>\n",
       "    <tr>\n",
       "      <th>2</th>\n",
       "      <td>https://www.fool.com/investing/2025/03/15/why-...</td>\n",
       "      <td>Jose Najarro</td>\n",
       "      <td>The article discusses recent updates impacting...</td>\n",
       "      <td>59ca0d312db7266886710a26b2a491e639bf8dc9e74070...</td>\n",
       "      <td>[{\"ticker\": \"NVDA\", \"sentiment\": \"positive\", \"...</td>\n",
       "      <td>[\"Nvidia\", \"AI market\"]</td>\n",
       "      <td>2025-03-15 09:15:00</td>\n",
       "      <td>[\"NVDA\"]</td>\n",
       "      <td>Why Nvidia Stock Investors Should Hope AI Gets...</td>\n",
       "      <td>The Motley Fool</td>\n",
       "      <td>NVDA</td>\n",
       "    </tr>\n",
       "    <tr>\n",
       "      <th>1</th>\n",
       "      <td>https://www.fool.com/investing/2025/03/15/arti...</td>\n",
       "      <td>The Motley Fool</td>\n",
       "      <td>Nvidia is a leading provider of GPUs for AI ap...</td>\n",
       "      <td>5214c6c7b01139fdb26cff13dae7b1c6c8c219e0fd26c1...</td>\n",
       "      <td>[{\"ticker\": \"NVDA\", \"sentiment\": \"positive\", \"...</td>\n",
       "      <td>[\"Artificial Intelligence\", \"Nvidia\", \"GPU\", \"...</td>\n",
       "      <td>2025-03-15 09:15:00</td>\n",
       "      <td>[\"NVDA\", \"AMD\"]</td>\n",
       "      <td>1 Artificial Intelligence (AI) Stock Millennia...</td>\n",
       "      <td>The Motley Fool</td>\n",
       "      <td>NVDA</td>\n",
       "    </tr>\n",
       "    <tr>\n",
       "      <th>0</th>\n",
       "      <td>https://www.fool.com/investing/2025/03/15/pred...</td>\n",
       "      <td>Adria Cimino</td>\n",
       "      <td>Nvidia's long-term growth prospects remain str...</td>\n",
       "      <td>7d0b12f05f647a34c6079119d3c13b21d1ba83b4ad2fda...</td>\n",
       "      <td>[{\"ticker\": \"NVDA\", \"sentiment\": \"positive\", \"...</td>\n",
       "      <td>[\"Nvidia\", \"AI\", \"innovation\", \"chip updates\"]</td>\n",
       "      <td>2025-03-15 08:10:00</td>\n",
       "      <td>[\"NVDA\", \"AMZN\", \"MSFT\"]</td>\n",
       "      <td>Prediction: This Will Be Nvidia's Next Big Mov...</td>\n",
       "      <td>The Motley Fool</td>\n",
       "      <td>NVDA</td>\n",
       "    </tr>\n",
       "  </tbody>\n",
       "</table>\n",
       "<p>146 rows × 11 columns</p>\n",
       "</div>"
      ],
      "text/plain": [
       "                                           article_url                author  \\\n",
       "145  https://www.benzinga.com/government/regulation...         Piero Cingari   \n",
       "144  https://www.investing.com/analysis/liberation-...            Zain Vawda   \n",
       "143  https://www.fool.com/investing/2025/04/02/why-...         Jeremy Bowman   \n",
       "142  https://www.fool.com/investing/2025/04/02/some...         Anders Bylund   \n",
       "141  https://www.fool.com/investing/2025/04/02/core...         Jeremy Bowman   \n",
       "..                                                 ...                   ...   \n",
       "4    https://www.globenewswire.com/news-release/202...  Faruqi & Faruqi, Llp   \n",
       "3    https://www.fool.com/investing/2025/03/15/as-a...       The Motley Fool   \n",
       "2    https://www.fool.com/investing/2025/03/15/why-...          Jose Najarro   \n",
       "1    https://www.fool.com/investing/2025/03/15/arti...       The Motley Fool   \n",
       "0    https://www.fool.com/investing/2025/03/15/pred...          Adria Cimino   \n",
       "\n",
       "                                           description  \\\n",
       "145  President Trump's new tariffs triggered a shar...   \n",
       "144  The article discusses the potential impact of ...   \n",
       "143  Nvidia's stock fell 13% in March due to macroe...   \n",
       "142  Quantum computing stocks had a volatile month ...   \n",
       "141  CoreWeave, a cloud infrastructure platform pur...   \n",
       "..                                                 ...   \n",
       "4    Monolithic Power Systems is facing a class act...   \n",
       "3    The article discusses two AI stocks, Nvidia an...   \n",
       "2    The article discusses recent updates impacting...   \n",
       "1    Nvidia is a leading provider of GPUs for AI ap...   \n",
       "0    Nvidia's long-term growth prospects remain str...   \n",
       "\n",
       "                                            polygon_id  \\\n",
       "145  9f9c58226349b93485c4f8a796b03d103d74f74336db64...   \n",
       "144  44aa6413805e29973e0509ad35a8538a0bcd545f9221d6...   \n",
       "143  cfa5d6f1390722d6889932741d57a0ad27f5b512003cd8...   \n",
       "142  5144eaef31e6469a48882a4c387c51e3d0b49f6ff107ce...   \n",
       "141  2a992adbd8a6dd72e83aa9bf28b5176da249a716fa2303...   \n",
       "..                                                 ...   \n",
       "4    047160c92a8411a7fff790bc60c24fb945df070254fac1...   \n",
       "3    7c30fbe666bd02d32c89088d0c1ac97c0de9c9e176b934...   \n",
       "2    59ca0d312db7266886710a26b2a491e639bf8dc9e74070...   \n",
       "1    5214c6c7b01139fdb26cff13dae7b1c6c8c219e0fd26c1...   \n",
       "0    7d0b12f05f647a34c6079119d3c13b21d1ba83b4ad2fda...   \n",
       "\n",
       "                                              insights  \\\n",
       "145  [{\"ticker\": \"AAPL\", \"sentiment\": \"negative\", \"...   \n",
       "144  [{\"ticker\": \"AAPL\", \"sentiment\": \"neutral\", \"s...   \n",
       "143  [{\"ticker\": \"NVDA\", \"sentiment\": \"neutral\", \"s...   \n",
       "142  [{\"ticker\": \"QBTS\", \"sentiment\": \"positive\", \"...   \n",
       "141  [{\"ticker\": \"CRWV\", \"sentiment\": \"neutral\", \"s...   \n",
       "..                                                 ...   \n",
       "4    [{\"ticker\": \"MPWR\", \"sentiment\": \"negative\", \"...   \n",
       "3    [{\"ticker\": \"NVDA\", \"sentiment\": \"positive\", \"...   \n",
       "2    [{\"ticker\": \"NVDA\", \"sentiment\": \"positive\", \"...   \n",
       "1    [{\"ticker\": \"NVDA\", \"sentiment\": \"positive\", \"...   \n",
       "0    [{\"ticker\": \"NVDA\", \"sentiment\": \"positive\", \"...   \n",
       "\n",
       "                                              keywords        published_utc  \\\n",
       "145  [\"tariffs\", \"trade war\", \"tech stocks\", \"marke...  2025-04-02 21:35:44   \n",
       "144  [\"tariffs\", \"trade war\", \"stock market\", \"S&P ...  2025-04-02 19:24:00   \n",
       "143  [\"Nvidia\", \"AI\", \"semiconductor\", \"macroeconom...  2025-04-02 18:34:50   \n",
       "142  [\"quantum computing\", \"stock performance\", \"D-...  2025-04-02 16:52:36   \n",
       "141  [\"CoreWeave\", \"AI\", \"IPO\", \"Nvidia\", \"Microsof...  2025-04-02 15:48:46   \n",
       "..                                                 ...                  ...   \n",
       "4    [\"Monolithic Power Systems\", \"Nvidia\", \"class ...  2025-03-15 11:30:00   \n",
       "3    [\"Artificial Intelligence\", \"Nvidia\", \"Meta Pl...  2025-03-15 10:45:00   \n",
       "2                              [\"Nvidia\", \"AI market\"]  2025-03-15 09:15:00   \n",
       "1    [\"Artificial Intelligence\", \"Nvidia\", \"GPU\", \"...  2025-03-15 09:15:00   \n",
       "0       [\"Nvidia\", \"AI\", \"innovation\", \"chip updates\"]  2025-03-15 08:10:00   \n",
       "\n",
       "                                               tickers  \\\n",
       "145             [\"AAPL\", \"AMZN\", \"NVDA\", \"XLK\", \"XLY\"]   \n",
       "144                           [\"AAPL\", \"MSFT\", \"NVDA\"]   \n",
       "143                                           [\"NVDA\"]   \n",
       "142  [\"QBTS\", \"QBTS.WS\", \"QUBT\", \"RGTI\", \"RGTIW\", \"...   \n",
       "141                           [\"CRWV\", \"NVDA\", \"MSFT\"]   \n",
       "..                                                 ...   \n",
       "4                                     [\"MPWR\", \"NVDA\"]   \n",
       "3                                     [\"NVDA\", \"META\"]   \n",
       "2                                             [\"NVDA\"]   \n",
       "1                                      [\"NVDA\", \"AMD\"]   \n",
       "0                             [\"NVDA\", \"AMZN\", \"MSFT\"]   \n",
       "\n",
       "                                                 title           publisher  \\\n",
       "145  Markets Reel As Trump's Tariffs Hit — Magnific...            Benzinga   \n",
       "144  Liberation Day Tariffs: Potential Impact on th...       Investing.com   \n",
       "143                 Why Nvidia Stock Lost 13% in March     The Motley Fool   \n",
       "142  Why Some Quantum Computing Stocks Soared Last ...     The Motley Fool   \n",
       "141  CoreWeave IPO: Is this Fast-Growing AI Stock a...     The Motley Fool   \n",
       "..                                                 ...                 ...   \n",
       "4    INVESTOR DEADLINE APPROACHING: Faruqi & Faruqi...  GlobeNewswire Inc.   \n",
       "3    As Artificial Intelligence (AI) Stocks Fall, I...     The Motley Fool   \n",
       "2    Why Nvidia Stock Investors Should Hope AI Gets...     The Motley Fool   \n",
       "1    1 Artificial Intelligence (AI) Stock Millennia...     The Motley Fool   \n",
       "0    Prediction: This Will Be Nvidia's Next Big Mov...     The Motley Fool   \n",
       "\n",
       "    ticker  \n",
       "145   NVDA  \n",
       "144   NVDA  \n",
       "143   NVDA  \n",
       "142   NVDA  \n",
       "141   NVDA  \n",
       "..     ...  \n",
       "4     NVDA  \n",
       "3     NVDA  \n",
       "2     NVDA  \n",
       "1     NVDA  \n",
       "0     NVDA  \n",
       "\n",
       "[146 rows x 11 columns]"
      ]
     },
     "execution_count": 6,
     "metadata": {},
     "output_type": "execute_result"
    }
   ],
   "source": [
    "nvdia_news_df.sort_index(ascending=False)"
   ]
  },
  {
   "cell_type": "code",
   "execution_count": 7,
   "metadata": {},
   "outputs": [],
   "source": [
    "LLM_news = prepare_news_for_llm(nvdia_news.results)"
   ]
  },
  {
   "cell_type": "code",
   "execution_count": 8,
   "metadata": {},
   "outputs": [],
   "source": [
    "template = ChatPromptTemplate.from_messages(\n",
    "        [\n",
    "            (\n",
    "                \"system\",\n",
    "                \"\"\"You are a financial analyst. You are given a list of news articles and a ticker. You need to analyze the news and provide a summary of the news and the sentiment of the news.\n",
    "                    You should also identify if the news mentioned any upcoming key events that could impact the stock price.\n",
    "                \"\"\",\n",
    "            ),\n",
    "            (\n",
    "                \"human\",\n",
    "                \"\"\"Based on the following news, create the investment signal:\n",
    "\n",
    "                News Data for {ticker}:\n",
    "                {llm_news}\n",
    "                \"\"\",\n",
    "            ),\n",
    "        ]\n",
    "    )\n",
    "\n",
    "prompt = template.invoke({\"llm_news\": json.dumps(LLM_news, indent=2), \"ticker\": ticker})"
   ]
  },
  {
   "cell_type": "code",
   "execution_count": 9,
   "metadata": {},
   "outputs": [
    {
     "name": "stdout",
     "output_type": "stream",
     "text": [
      "messages=[SystemMessage(content='You are a financial analyst. You are given a list of news articles and a ticker. You need to analyze the news and provide a summary of the news and the sentiment of the news.\\n                    You should also identify if the news mentioned any upcoming key events that could impact the stock price.\\n                ', additional_kwargs={}, response_metadata={}), HumanMessage(content='Based on the following news, create the investment signal:\\n\\n                News Data for NVDA:\\n                [\\n  {\\n    \"tickers\": [\\n      \"NVDA\",\\n      \"AMZN\",\\n      \"MSFT\"\\n    ],\\n    \"title\": \"Prediction: This Will Be Nvidia\\'s Next Big Move (and It Will Start on March 18)\",\\n    \"description\": \"Nvidia\\'s long-term growth prospects remain strong despite recent market slump. The company is expected to focus more on innovation, with potential for faster chip updates and a focus on reasoning inference, which could drive high-level growth over time.\",\\n    \"published_utc\": \"2025-03-15T08:10:00Z\"\\n  },\\n  {\\n    \"tickers\": [\\n      \"NVDA\",\\n      \"AMD\"\\n    ],\\n    \"title\": \"1 Artificial Intelligence (AI) Stock Millennials Should Buy Today and Hold for Decades\",\\n    \"description\": \"Nvidia is a leading provider of GPUs for AI applications, with a strong competitive advantage through its CUDA software platform. The article suggests Nvidia as a long-term investment for millennials, despite its current high valuation, due to the expected growth in AI adoption by businesses.\",\\n    \"published_utc\": \"2025-03-15T09:15:00Z\"\\n  },\\n  {\\n    \"tickers\": [\\n      \"NVDA\"\\n    ],\\n    \"title\": \"Why Nvidia Stock Investors Should Hope AI Gets Extremely Cheap\",\\n    \"description\": \"The article discusses recent updates impacting the AI market, with a focus on Nvidia. It highlights Nvidia\\'s position in the AI industry and the company\\'s potential impact on the market.\",\\n    \"published_utc\": \"2025-03-15T09:15:00Z\"\\n  },\\n  {\\n    \"tickers\": [\\n      \"NVDA\",\\n      \"META\"\\n    ],\\n    \"title\": \"As Artificial Intelligence (AI) Stocks Fall, Investors Should Consider Buying More of These 2 Powerhouses\",\\n    \"description\": \"The article discusses two AI stocks, Nvidia and Meta Platforms, that have seen recent declines but have strong long-term growth potential due to the increasing adoption of AI technology.\",\\n    \"published_utc\": \"2025-03-15T10:45:00Z\"\\n  },\\n  {\\n    \"tickers\": [\\n      \"MPWR\",\\n      \"NVDA\"\\n    ],\\n    \"title\": \"INVESTOR DEADLINE APPROACHING: Faruqi & Faruqi, LLP Investigates Claims on Behalf of Investors of Monolithic Power Systems\",\\n    \"description\": \"Monolithic Power Systems is facing a class action lawsuit alleging that the company\\'s products had significant performance and quality control issues, negatively impacting its relationship with Nvidia and leading to a slowdown in its Enterprise Data segment.\",\\n    \"published_utc\": \"2025-03-15T11:30:00Z\"\\n  },\\n  {\\n    \"tickers\": [\\n      \"NVDA\"\\n    ],\\n    \"title\": \"1 Tech Stock With More Potential Than Any Cryptocurrency\",\\n    \"description\": \"Strategy (formerly MicroStrategy) has significantly outperformed Bitcoin and Nvidia over the past 5 years, thanks to its all-in approach to Bitcoin. However, the company\\'s valuation is now heavily dependent on the price of Bitcoin, and some analysts are questioning its current valuation.\",\\n    \"published_utc\": \"2025-03-15T12:30:00Z\"\\n  },\\n  {\\n    \"tickers\": [\\n      \"TSM\",\\n      \"NVDA\",\\n      \"AVGO\",\\n      \"AMD\",\\n      \"AAPL\",\\n      \"INTC\",\\n      \"AMZN\",\\n      \"MSFT\",\\n      \"GOOG\",\\n      \"GOOGL\",\\n      \"META\"\\n    ],\\n    \"title\": \"3 Reasons Taiwan Semiconductor Is a Must-Buy for Long-Term Investors\",\\n    \"description\": \"Taiwan Semiconductor Manufacturing (TSM) is the world\\'s largest contract manufacturer of semiconductors, benefiting from the growing demand for advanced chips in AI infrastructure and high-performance computing. Despite the recent market sell-off, TSM\\'s strong growth, attractive valuation, and technological leadership make it a solid long-term investment.\",\\n    \"published_utc\": \"2025-03-15T14:10:00Z\"\\n  },\\n  {\\n    \"tickers\": [\\n      \"MSFT\",\\n      \"NVDA\",\\n      \"UBER\",\\n      \"TSLA\"\\n    ],\\n    \"title\": \"Stock Market Sell-Off: 2 Moves I Made With My Money\",\\n    \"description\": \"The article discusses the recent decline in AI stocks and recommends that investors consider buying more of two powerhouse companies, Microsoft and Nvidia, which are well-positioned to benefit from the growth of AI technology.\",\\n    \"published_utc\": \"2025-03-15T14:15:00Z\"\\n  },\\n  {\\n    \"tickers\": [\\n      \"IONQ\",\\n      \"IONQ.WS\",\\n      \"RGTI\",\\n      \"RGTIW\",\\n      \"GOOG\",\\n      \"GOOGL\",\\n      \"NVDA\",\\n      \"MSFT\"\\n    ],\\n    \"title\": \"Want to Invest in Quantum Computing? 3 Stocks That Are Great Buys Right Now.\",\\n    \"description\": \"The article discusses the risks of investing in pure-play quantum computing stocks like IonQ and Rigetti, which have minimal revenue and rapid cash burn. Instead, it recommends investing in tech giants with diverse revenue streams, such as Alphabet, Nvidia, and Microsoft, as they offer more reasonable exposure to quantum computing without the extreme volatility of specialized players.\",\\n    \"published_utc\": \"2025-03-15T15:31:00Z\"\\n  },\\n  {\\n    \"tickers\": [\\n      \"NVDA\",\\n      \"TSLA\"\\n    ],\\n    \"title\": \"2 Tumbling Mega-Cap Stocks That Could Keep Crashing\",\\n    \"description\": \"The article discusses the recent slump in Nvidia and Tesla stocks, and why investors should be cautious about investing in these companies. It suggests that the potential of AI technology may be overhyped, and that Tesla\\'s reputation is closely tied to CEO Elon Musk\\'s actions, which could negatively impact the company.\",\\n    \"published_utc\": \"2025-03-15T18:15:00Z\"\\n  },\\n  {\\n    \"tickers\": [\\n      \"NVDA\",\\n      \"TSM\",\\n      \"AVGO\"\\n    ],\\n    \"title\": \"3 Artificial Intelligence (AI) Stocks That Can Weather President Trump\\'s Tariff Storm\",\\n    \"description\": \"The article discusses three AI hardware suppliers - Nvidia, Taiwan Semiconductor Manufacturing, and Broadcom - that can weather the tariff storm caused by President Trump\\'s policies. The author believes these companies are well-positioned to succeed in the long-term despite the short-term market volatility.\",\\n    \"published_utc\": \"2025-03-15T18:30:00Z\"\\n  },\\n  {\\n    \"tickers\": [\\n      \"NVDA\",\\n      \"MSFT\"\\n    ],\\n    \"title\": \"Nasdaq Sell-Off: 2 AI Stocks That Are on Sale in 2025\",\\n    \"description\": \"The Nasdaq Composite has declined 10% in 2025 due to concerns about a potential U.S. recession and new trade policies. However, this pullback presents an opportunity to buy stakes in fundamentally strong Nasdaq stocks like Nvidia and Microsoft, which have seen significant corrections.\",\\n    \"published_utc\": \"2025-03-15T22:12:00Z\"\\n  },\\n  {\\n    \"tickers\": [\\n      \"NVDA\",\\n      \"AAPL\",\\n      \"MSFT\",\\n      \"GOOG\",\\n      \"GOOGL\",\\n      \"AMZN\",\\n      \"META\",\\n      \"ORCL\"\\n    ],\\n    \"title\": \"1 Super Stock That Could Join Nvidia, Apple, Microsoft, Alphabet, Amazon, and Meta in the $1 Trillion Club\",\\n    \"description\": \"Oracle could be the next company to join the $1 trillion club, thanks to its strong artificial intelligence infrastructure and growing demand for its cloud services.\",\\n    \"published_utc\": \"2025-03-15T22:28:00Z\"\\n  },\\n  {\\n    \"tickers\": [\\n      \"PLTR\",\\n      \"NVDA\"\\n    ],\\n    \"title\": \"Palantir Stock Is Down 37% From Its Peak: Here\\'s What Could Happen Next\",\\n    \"description\": \"Palantir\\'s stock price has dropped 37% from its all-time high, raising concerns about the company\\'s growth prospects and ability to capitalize on the hype around generative AI and the Trump administration. The article suggests that Palantir\\'s valuation may not be justified by its fundamental performance.\",\\n    \"published_utc\": \"2025-03-16T08:05:00Z\"\\n  },\\n  {\\n    \"tickers\": [\\n      \"NVDA\",\\n      \"AAPL\",\\n      \"AMD\"\\n    ],\\n    \"title\": \"This Artificial Intelligence (AI) Stock Is a \\\\\"Magnificent Seven\\\\\" Leader. But Is It a Buy?\",\\n    \"description\": \"Nvidia has been a dominant player in the AI hardware market, but changes are emerging that could disrupt its dominance. While Nvidia is still a strong contender, Apple\\'s AI efforts may present a more compelling growth opportunity for investors.\",\\n    \"published_utc\": \"2025-03-16T10:10:00Z\"\\n  },\\n  {\\n    \"tickers\": [\\n      \"NVDA\",\\n      \"GOOG\",\\n      \"GOOGL\"\\n    ],\\n    \"title\": \"Think It\\'s Too Late to Buy Nvidia? Here\\'s the Biggest Reason Why There\\'s Still Time.\",\\n    \"description\": \"Nvidia is a leader in the growing generative AI market, with its products becoming increasingly important as the technology takes hold across industries. Despite the stock\\'s recent surge, the article argues there is still time to invest in Nvidia due to the vast potential of the AI opportunity.\",\\n    \"published_utc\": \"2025-03-16T12:15:00Z\"\\n  },\\n  {\\n    \"tickers\": [\\n      \"NVDA\",\\n      \"NKE\"\\n    ],\\n    \"title\": \"1 Stock to Buy, 1 Stock to Sell This Week: Nvidia, Nike\",\\n    \"description\": \"Nvidia is set to host its GPU Technology Conference, which could be a positive catalyst for the stock. On the other hand, Nike is expected to disappoint with its upcoming earnings report due to ongoing challenges.\",\\n    \"published_utc\": \"2025-03-16T13:45:00Z\"\\n  },\\n  {\\n    \"tickers\": [\\n      \"MPWR\",\\n      \"NVDA\"\\n    ],\\n    \"title\": \"MPWR ANNOUNCEMENT: Kessler Topaz Meltzer & Check, LLP Notifies Investors of a Class Action Lawsuit Against Monolithic Power Systems, Inc. (MPWR)\",\\n    \"description\": \"Kessler Topaz Meltzer & Check, LLP has filed a class action lawsuit against Monolithic Power Systems, Inc. (MPWR) on behalf of investors who purchased the company\\'s stock between February 8, 2024, and November 8, 2024. The lawsuit alleges that Monolithic made false and/or misleading statements about the performance and quality control issues affecting its voltage regulator modules and power management integrated circuits, which negatively impacted the performance of certain products offered by Nvidia.\",\\n    \"published_utc\": \"2025-03-16T14:18:00Z\"\\n  },\\n  {\\n    \"tickers\": [\\n      \"NVDA\",\\n      \"MSFT\",\\n      \"GOOG\",\\n      \"GOOGL\"\\n    ],\\n    \"title\": \"This Nvidia-Backed AI Start-Up Just Filed for an IPO. Should You Buy The Stock?\",\\n    \"description\": \"CoreWeave, an AI cloud start-up, has filed for an IPO, marking the first generative AI stock to hit the public markets. The company has positioned itself as an AI-focused cloud hyperscaler, competing with tech giants like Amazon, Microsoft, and Google. However, the article cautions that CoreWeave\\'s high debt, capital-intensive business model, and concentration on a single customer (Microsoft) pose significant risks for investors.\",\\n    \"published_utc\": \"2025-03-16T14:30:00Z\"\\n  },\\n  {\\n    \"tickers\": [\\n      \"NVDA\",\\n      \"META\",\\n      \"MSFT\",\\n      \"AMZN\",\\n      \"GOOG\",\\n      \"GOOGL\"\\n    ],\\n    \"title\": \"Here\\'s How Nvidia\\'s Incredible AI Success Could Lead to Its Undoing\",\\n    \"description\": \"Nvidia\\'s proprietary CUDA software platform has been a key driver of its AI accelerator dominance. However, as the market for AI chips explodes, large customers are now designing their own AI chips to break free from CUDA, posing a threat to Nvidia\\'s market share and pricing power.\",\\n    \"published_utc\": \"2025-03-16T14:45:00Z\"\\n  },\\n  {\\n    \"tickers\": [\\n      \"SMCI\",\\n      \"GOOG\",\\n      \"GOOGL\",\\n      \"NVDA\",\\n      \"IBM\"\\n    ],\\n    \"title\": \"Should You Forget Super Micro Computer and Buy 3 Artificial Intelligence (AI) Stocks Right Now?\",\\n    \"description\": \"The article suggests that investors should consider Alphabet, Nvidia, and IBM as more reliable alternatives to Super Micro Computer in the AI market, given the financial reporting issues faced by Super Micro Computer.\",\\n    \"published_utc\": \"2025-03-16T15:23:00Z\"\\n  },\\n  {\\n    \"tickers\": [\\n      \"AAPL\",\\n      \"AMZN\",\\n      \"BABA\",\\n      \"BLNK\",\\n      \"GOOG\",\\n      \"GOOGL\",\\n      \"META\",\\n      \"MSFT\",\\n      \"NTDOY\",\\n      \"NVDA\",\\n      \"RBRK\",\\n      \"S\",\\n      \"TSLA\",\\n      \"PATH\"\\n    ],\\n    \"title\": \"Consumer Tech News (Mar 10-Mar 14): Manus AI Creating Hype, Tesla Eyes Affordable Version Model Y In China & More\",\\n    \"description\": \"The article discusses various developments in the consumer tech industry, including concerns about the impact of tariffs on U.S. automakers, Tesla\\'s plans for an affordable Model Y in China, and the hype surrounding the Manus AI platform.\",\\n    \"published_utc\": \"2025-03-16T15:38:04Z\"\\n  },\\n  {\\n    \"tickers\": [\\n      \"AAPL\",\\n      \"MSFT\",\\n      \"NVDA\",\\n      \"AMZN\",\\n      \"GOOG\",\\n      \"GOOGL\",\\n      \"META\",\\n      \"NFLX\"\\n    ],\\n    \"title\": \"Can This Unstoppable Stock Join Apple, Microsoft, Nvidia, Amazon, Alphabet, and Meta Platforms in the $1 Trillion Club by 2035?\",\\n    \"description\": \"The article discusses the potential for Netflix to join the elite group of trillion-dollar companies by 2035, given its impressive growth trajectory and market dominance in the streaming industry.\",\\n    \"published_utc\": \"2025-03-16T22:30:00Z\"\\n  },\\n  {\\n    \"tickers\": [\\n      \"NVDA\"\\n    ],\\n    \"title\": \"Nvidia Stock Is Down 20%. Is It Time to Buy the Dip on the AI Leader?\",\\n    \"description\": \"Nvidia\\'s stock has dropped 12% year-to-date and 20% from its January highs, despite the company reporting strong Q4 and full-year earnings. The decline is attributed to concerns over trade tariffs and export restrictions, which could impact semiconductor chip sales. However, Nvidia\\'s valuation is now attractive compared to its historical average, and the company has many growth opportunities in AI, autonomous vehicles, and other segments.\",\\n    \"published_utc\": \"2025-03-16T22:44:00Z\"\\n  },\\n  {\\n    \"tickers\": [\\n      \"CTM\",\\n      \"EBMT\",\\n      \"GETY\",\\n      \"GOGO\",\\n      \"NVDA\",\\n      \"QQQ\",\\n      \"SAIC\",\\n      \"SPY\",\\n      \"TSLA\"\\n    ],\\n    \"title\": \"US Stocks Likely To Open Lower As Futures Decline: \\'Stay Calm And Stick With Your Long-Term Plan,\\' Says Expert Amid Correction Woes\",\\n    \"description\": \"U.S. stock futures declined as benchmark indices hovered around the correction zone. Experts advised investors to stay calm and stick to their long-term plans, as market pullbacks are common and a complete recovery is inevitable over time.\",\\n    \"published_utc\": \"2025-03-17T09:47:25Z\"\\n  },\\n  {\\n    \"tickers\": [\\n      \"TSM\",\\n      \"ASML\",\\n      \"NVDA\",\\n      \"AVGO\"\\n    ],\\n    \"title\": \"4 Phenomenal Chip Companies to Ride the Artificial Intelligence (AI) Investing Wave\",\\n    \"description\": \"The article highlights four chip companies - Taiwan Semiconductor, ASML, Nvidia, and Broadcom - that are well-positioned to benefit from the growth of artificial intelligence. The author believes these companies have strong tailwinds and are currently trading at attractive prices, making them good long-term investments.\",\\n    \"published_utc\": \"2025-03-17T11:15:00Z\"\\n  },\\n  {\\n    \"tickers\": [\\n      \"NVDA\",\\n      \"GOOG\",\\n      \"GOOGL\",\\n      \"RIVN\"\\n    ],\\n    \"title\": \"Nvidia\\'s Top AI Event Is Here: Will Nvidia Stock Rise During March 18 Through March 21?\",\\n    \"description\": \"Nvidia\\'s annual GPU Technology Conference (GTC) is set to take place from March 18 to March 21, where the company is expected to unveil its next-generation AI-enabling GPUs, Blackwell Ultra and Rubin. Investors are hoping for a stock price boost similar to last year\\'s event.\",\\n    \"published_utc\": \"2025-03-17T12:15:00Z\"\\n  },\\n  {\\n    \"tickers\": [\\n      \"AMD\",\\n      \"NVDA\"\\n    ],\\n    \"title\": \"Why AMD Stock Is Jumping Today\",\\n    \"description\": \"AMD stock is climbing higher thanks to news that the company\\'s gaming GPUs have been selling well in Japan, with AMD aiming for a 70% market share. Despite the gains, AMD stock is still down significantly over the past year, and the company\\'s momentum in the AI space has been softer than expected.\",\\n    \"published_utc\": \"2025-03-17T15:43:04Z\"\\n  },\\n  {\\n    \"tickers\": [\\n      \"NVDA\",\\n      \"AVGO\"\\n    ],\\n    \"title\": \"Market Correction: 2 No-Brainer AI Chip Stocks to Buy Right Now\",\\n    \"description\": \"The article discusses why Nvidia and Broadcom, two leading companies in the AI chip space, look like attractive investment opportunities amid the recent Nasdaq correction. It highlights the strong market positions and growth prospects of these companies in the AI infrastructure market.\",\\n    \"published_utc\": \"2025-03-17T22:30:00Z\"\\n  },\\n  {\\n    \"tickers\": [\\n      \"NVDA\"\\n    ],\\n    \"title\": \"The Ultimate Guide to Nvidia: Strategies to Buy, Hold, and Profit\",\\n    \"description\": \"Nvidia is the leading chip designer in the high-growth AI market, with a portfolio of products and services that make it the go-to partner for customers at any stage of the AI journey. Despite recent market declines, Nvidia\\'s long-term growth potential remains strong, and investors can consider strategies like dollar-cost averaging or waiting for a bargain entry point to capitalize on the company\\'s leadership in the AI space.\",\\n    \"published_utc\": \"2025-03-18T08:10:00Z\"\\n  },\\n  {\\n    \"tickers\": [\\n      \"NVDA\",\\n      \"AMZN\"\\n    ],\\n    \"title\": \"Stocks Sell Off: 2 Top Tech Stocks to Buy in March\",\\n    \"description\": \"The article discusses the potential of Nvidia and Amazon in the AI boom. Nvidia is the market leader in GPUs, which are crucial for training AI models, and is well-positioned to benefit from the growing demand for AI infrastructure. Amazon\\'s cloud computing unit, AWS, is also a major player in the AI space, offering platforms like Bedrock and SageMaker to help customers build and deploy their own AI models.\",\\n    \"published_utc\": \"2025-03-18T08:55:00Z\"\\n  },\\n  {\\n    \"tickers\": [\\n      \"NVDA\",\\n      \"AMD\"\\n    ],\\n    \"title\": \"Has AMD\\'s \\\\\"Nvidia Moment\\\\\" Finally Arrived?\",\\n    \"description\": \"The article discusses the rise of large language models (LLMs) and the importance of graphics processing units (GPUs) in powering these models. It highlights how Nvidia has dominated the GPU market, but Advanced Micro Devices (AMD) is emerging as a serious competitor, winning deals with Nvidia\\'s customers. The article argues that AMD\\'s stock is undervalued and could see a similar growth trajectory as Nvidia\\'s.\",\\n    \"published_utc\": \"2025-03-18T10:05:00Z\"\\n  },\\n  {\\n    \"tickers\": [\\n      \"QBTS\",\\n      \"QBTS.WS\",\\n      \"NVDA\"\\n    ],\\n    \"title\": \"Is D-Wave Quantum Stock Still a Buy?\",\\n    \"description\": \"D-Wave Quantum, a quantum computing pioneer, has seen its stock surge tenfold in the past six months despite modest current revenue. Recent technological breakthroughs and growing customer bookings suggest strong momentum, but the stock\\'s rich valuation requires nearly perfect execution, making it suitable only for high-risk investors.\",\\n    \"published_utc\": \"2025-03-18T10:30:00Z\"\\n  },\\n  {\\n    \"tickers\": [\\n      \"NVDA\",\\n      \"GOOG\",\\n      \"GOOGL\",\\n      \"META\",\\n      \"ORCL\",\\n      \"SFTBY\"\\n    ],\\n    \"title\": \"Where Will Nvidia Be in 1 Year?\",\\n    \"description\": \"Despite concerns about tariffs, chip sales, and a pessimistic view of tech stocks, Nvidia\\'s AI processors are well-positioned to benefit from the massive growth in data center investments and the long-term potential of artificial intelligence.\",\\n    \"published_utc\": \"2025-03-18T11:30:00Z\"\\n  },\\n  {\\n    \"tickers\": [\\n      \"NVDA\"\\n    ],\\n    \"title\": \"Billionaires Ray Dalio and Paul Tudor Jones Are Piling Into a Hard Asset That Has Trounced Nvidia This Year\",\\n    \"description\": \"Billionaires Ray Dalio and Paul Tudor Jones are concerned about the U.S. government\\'s growing debt and potential inflationary impact, leading them to invest in gold as a hedge against these risks.\",\\n    \"published_utc\": \"2025-03-18T12:00:00Z\"\\n  },\\n  {\\n    \"tickers\": [\\n      \"NVDA\"\\n    ],\\n    \"title\": \"What Nvidia Stock Investors Should Know Before Its Upcoming Keynote\",\\n    \"description\": \"The article discusses expectations for Nvidia\\'s GTC 2025 Keynote, highlighting the company\\'s premium investing solutions, free guidance, and market analysis on Fool.com, as well as its top-rated podcasts and non-profit foundation.\",\\n    \"published_utc\": \"2025-03-18T15:34:56Z\"\\n  },\\n  {\\n    \"tickers\": [\\n      \"AMD\",\\n      \"NVDA\"\\n    ],\\n    \"title\": \"Advanced Micro Devices Eyes AI Market Growth\\\\u2014Is AMD a Buy?\",\\n    \"description\": \"Advanced Micro Devices (AMD) is poised to regain GPU market share lost to NVIDIA during the initial AI boom, as it has worked to build out its AI ecosystem. AMD is also gaining ground in the data center CPU and PC markets, with its EPYC CPUs and Ryzen line. The stock is currently undervalued and presents a growth opportunity.\",\\n    \"published_utc\": \"2025-03-18T16:18:00Z\"\\n  },\\n  {\\n    \"tickers\": [\\n      \"GM\",\\n      \"NVDA\"\\n    ],\\n    \"title\": \"General Motors and NVIDIA Collaborate on AI for Next-Generation Vehicle Experience and Manufacturing\",\\n    \"description\": \"General Motors and NVIDIA are expanding their partnership to develop AI-powered manufacturing and vehicle technologies, including digital twins for factory optimization and NVIDIA\\'s DRIVE AGX platform for advanced driver assistance systems.\",\\n    \"published_utc\": \"2025-03-18T17:48:00Z\"\\n  },\\n  {\\n    \"tickers\": [\\n      \"NVDA\",\\n      \"TSM\",\\n      \"COHR\",\\n      \"GLW\",\\n      \"LITE\"\\n    ],\\n    \"title\": \"NVIDIA Announces Spectrum-X Photonics, Co-Packaged Optics Networking Switches to Scale AI Factories to Millions of GPUs\",\\n    \"description\": \"NVIDIA has developed advanced networking switches that integrate silicon photonics to enable AI factories to connect millions of GPUs while reducing energy consumption and costs. The company has collaborated with various industry partners to create this integrated solution.\",\\n    \"published_utc\": \"2025-03-18T18:44:00Z\"\\n  },\\n  {\\n    \"tickers\": [\\n      \"NVDA\",\\n      \"DELL\",\\n      \"HPQ\",\\n      \"LNVGY\"\\n    ],\\n    \"title\": \"NVIDIA Announces DGX Spark and DGX Station Personal AI Computers\",\\n    \"description\": \"NVIDIA unveiled new desktop AI supercomputers, DGX Spark and DGX Station, powered by the NVIDIA Grace Blackwell platform. These systems bring data-center-level AI performance to desktops, enabling developers, researchers, and data scientists to prototype, fine-tune, and run large AI models.\",\\n    \"published_utc\": \"2025-03-18T18:59:00Z\"\\n  },\\n  {\\n    \"tickers\": [\\n      \"NVDA\"\\n    ],\\n    \"title\": \"Cirrascale Cloud Services Debuts Next-Generation Inference Platform Aimed at Deploying Customer Models on Ideal Accelerators\",\\n    \"description\": \"Cirrascale Cloud Services announced the launch of its Cirrascale Inference Platform, an enterprise inference-as-a-service solution designed to optimize AI model performance and cost for high token volume applications. The platform automatically selects the optimal AI accelerator and dynamically balances workloads across regions.\",\\n    \"published_utc\": \"2025-03-18T19:00:00Z\"\\n  },\\n  {\\n    \"tickers\": [\\n      \"MPWR\",\\n      \"NVDA\"\\n    ],\\n    \"title\": \"MPWR Lead Plaintiff Deadline Approaching \\\\u2013 Contact Robbins LLP for Information About How to Lead the Monolithic Power Systems Inc. (MPWR) Class Action\",\\n    \"description\": \"Monolithic Power Systems Inc. (MPWR) is facing a class action lawsuit alleging that the company misled investors about performance and quality control issues with its products, which negatively impacted its relationship with a major customer, Nvidia.\",\\n    \"published_utc\": \"2025-03-18T21:54:00Z\"\\n  },\\n  {\\n    \"tickers\": [\\n      \"AAPL\",\\n      \"MSFT\",\\n      \"AMD\",\\n      \"AMZN\",\\n      \"GOOG\",\\n      \"GOOGL\",\\n      \"META\",\\n      \"NVDA\",\\n      \"TSLA\",\\n      \"COST\",\\n      \"PLTR\",\\n      \"COIN\",\\n      \"NFLX\",\\n      \"AVGO\",\\n      \"BRK.A\",\\n      \"BRK.B\",\\n      \"UNH\"\\n    ],\\n    \"title\": \"Purpose Investments Inc. annonce les distributions de mars 2025\",\\n    \"description\": \"Purpose Investments announced the March 2025 distributions for its ETFs and closed-end funds. The distributions will be paid on April 2, 2025, to unitholders of record on March 27, 2025, for variable capital funds and March 31, 2025, for fixed capital funds.\",\\n    \"published_utc\": \"2025-03-18T23:15:00Z\"\\n  },\\n  {\\n    \"tickers\": [\\n      \"ANSS\",\\n      \"NVDA\"\\n    ],\\n    \"title\": \"General Atomics, UC San Diego Collaborate to Launch Historic Fusion Data Science and Digital Engineering Center in San Diego\",\\n    \"description\": \"General Atomics and UC San Diego have announced a collaboration to establish a Fusion Data Science and Digital Engineering Center in San Diego. The center will focus on advanced digital engineering, AI, ML, and HPC to accelerate fusion energy development.\",\\n    \"published_utc\": \"2025-03-19T00:10:00Z\"\\n  },\\n  {\\n    \"tickers\": [\\n      \"META\",\\n      \"AAPL\",\\n      \"MSFT\",\\n      \"NVDA\",\\n      \"AVGO\",\\n      \"IGM\"\\n    ],\\n    \"title\": \"1 Unstoppable Tech ETF That Could Turn $500 Per Month Into $1 Million Within 30 Years\",\\n    \"description\": \"The article discusses the iShares Expanded Tech Sector ETF (IGM) and its potential to turn a $500 monthly investment into $1 million over 30 years, even if its annual return reverts to its long-term average of 10.8%. The ETF holds many leading AI stocks, including Meta Platforms, Apple, Microsoft, Nvidia, and Broadcom.\",\\n    \"published_utc\": \"2025-03-19T08:21:00Z\"\\n  },\\n  {\\n    \"tickers\": [\\n      \"VONG\",\\n      \"AAPL\",\\n      \"MSFT\",\\n      \"NVDA\",\\n      \"AMZN\",\\n      \"META\",\\n      \"GOOG\",\\n      \"GOOGL\"\\n    ],\\n    \"title\": \"Prediction: Buying This Vanguard ETF Today Will Set You Up for Life\",\\n    \"description\": \"The article discusses the Vanguard Russell 1000 Growth ETF (VONG) as a potential long-term investment opportunity, highlighting its strong historical performance and the growth prospects of its top holdings, including tech giants like Apple, Microsoft, and Alphabet.\",\\n    \"published_utc\": \"2025-03-19T08:45:00Z\"\\n  },\\n  {\\n    \"tickers\": [\\n      \"NVDA\",\\n      \"GOOG\",\\n      \"GOOGL\",\\n      \"PINS\"\\n    ],\\n    \"title\": \"Market Sell-Off: 3 Top Bargain Stocks Ready for the Next Bull Run\",\\n    \"description\": \"The article discusses three tech stocks - Nvidia, Alphabet, and Pinterest - that have become more attractively valued due to the recent market downturn. It highlights the growth opportunities and undervalued nature of these companies, making them potential buying opportunities for long-term investors.\",\\n    \"published_utc\": \"2025-03-19T09:30:00Z\"\\n  },\\n  {\\n    \"tickers\": [\\n      \"PLTR\",\\n      \"NVDA\"\\n    ],\\n    \"title\": \"The Best Growth Stocks to Buy in 2025\",\\n    \"description\": \"The article discusses the growth opportunities for Palantir and Nvidia in the AI market. Palantir\\'s AI-powered solutions are in high demand from both government and commercial clients, while Nvidia\\'s GPUs are at the heart of the AI revolution. Despite recent market volatility, the article suggests that these companies are well-positioned to continue their growth and present compelling investment opportunities for long-term investors.\",\\n    \"published_utc\": \"2025-03-19T09:36:39Z\"\\n  },\\n  {\\n    \"tickers\": [\\n      \"NVDA\",\\n      \"GEHC\",\\n      \"GOOG\",\\n      \"GOOGL\",\\n      \"IBM\",\\n      \"CRWD\",\\n      \"YUM\",\\n      \"SHOC\"\\n    ],\\n    \"title\": \"NVIDIA Teams Up with GE, Google, IBM, And CrowdStrike To Redefine AI And Quantum Technology\",\\n    \"description\": \"NVIDIA is establishing the NVIDIA Accelerated Quantum Research Center in Boston to drive advancements in quantum computing. The company also announced collaborations with Google, IBM, GE Healthcare, CrowdStrike, and Yum! Brands to drive AI advancements across industries.\",\\n    \"published_utc\": \"2025-03-19T10:25:37Z\"\\n  },\\n  {\\n    \"tickers\": [\\n      \"SMCI\",\\n      \"NVDA\"\\n    ],\\n    \"title\": \"What\\'s Going On With Super Micro Computer Stock Wednesday?\",\\n    \"description\": \"Super Micro Computer announced support for Nvidia\\'s new RTX PRO 6000 Blackwell Server Edition GPUs and a new optimized storage server for high-performance software-defined storage workloads.\",\\n    \"published_utc\": \"2025-03-19T14:03:23Z\"\\n  },\\n  {\\n    \"tickers\": [\\n      \"NVDA\"\\n    ],\\n    \"title\": \"SoftServe Wins NVIDIA\\\\u2019s 2025 Americas NPN Service Delivery Partner of the Year\",\\n    \"description\": \"SoftServe, an IT consulting and digital services provider, has been named the NVIDIA Partner Network 2025 Service Delivery Partner of the Year for the Americas region. This recognition is a reflection of SoftServe\\'s work in developing and launching a series of Generative AI solutions built with NVIDIA Blueprints, which has accelerated enterprise AI adoption.\",\\n    \"published_utc\": \"2025-03-19T15:03:00Z\"\\n  },\\n  {\\n    \"tickers\": [\\n      \"NVDA\",\\n      \"MSFT\"\\n    ],\\n    \"title\": \"Meet This Under-the-Radar AI IPO Stock Growing Its Revenue 737%\",\\n    \"description\": \"The article discusses the potential resurgence of the IPO market, particularly in the AI sector, with the upcoming IPO of CoreWeave, an AI infrastructure startup backed by Nvidia. The article highlights CoreWeave\\'s rapid revenue growth and large backlog, but also notes risks such as customer concentration with Microsoft and heavy cash burn.\",\\n    \"published_utc\": \"2025-03-19T22:07:00Z\"\\n  },\\n  {\\n    \"tickers\": [\\n      \"NVDA\",\\n      \"TSLA\",\\n      \"GOOG\",\\n      \"GOOGL\"\\n    ],\\n    \"title\": \"Nvidia Stock Investors Just Got Great News From CEO Jensen Huang\",\\n    \"description\": \"Nvidia CEO Jensen Huang addressed concerns about a possible decrease in AI infrastructure spending, dismissing the idea and saying the opposite is true. Nvidia is well-positioned to be a leader in the next wave of the AI revolution, with its GPUs being the industry standard for accelerating AI applications in the data center.\",\\n    \"published_utc\": \"2025-03-20T07:40:00Z\"\\n  },\\n  {\\n    \"tickers\": [\\n      \"NVDA\",\\n      \"AMD\"\\n    ],\\n    \"title\": \"Nvidia Is 23% Below Its Record-Closing High: 6 Reasons I\\'m Still Not a Buyer\",\\n    \"description\": \"The article discusses why Nvidia stock may have further to fall, citing reasons such as increasing competition, declining gross margins, regulatory risks, and potential AI bubble bursting.\",\\n    \"published_utc\": \"2025-03-20T08:36:00Z\"\\n  },\\n  {\\n    \"tickers\": [\\n      \"NVDA\",\\n      \"GM\"\\n    ],\\n    \"title\": \"Jensen Huang Just Predicted This AI Category Would Reach $1 Trillion. Is Nvidia Stock a Buy?\",\\n    \"description\": \"Nvidia CEO Jensen Huang predicted that data center capital expenditures would reach $1 trillion by 2028, driven by accelerated computing and AI. This suggests strong growth potential for Nvidia, whose revenue is heavily tied to the data center market. Despite recent stock sell-off, the article argues that Nvidia\\'s valuation is attractive and the company is well-positioned to benefit from the projected data center spending.\",\\n    \"published_utc\": \"2025-03-20T09:45:00Z\"\\n  },\\n  {\\n    \"tickers\": [\\n      \"NVDA\",\\n      \"AMZN\",\\n      \"MELI\"\\n    ],\\n    \"title\": \"Billionaire Stanley Druckenmiller Sold Nvidia and Bought These 2 E-Commerce Stocks Instead\",\\n    \"description\": \"Billionaire investor Stanley Druckenmiller sold his Nvidia position and instead bought Amazon and MercadoLibre, two e-commerce giants that could be great long-term investments due to their strong growth and profitability.\",\\n    \"published_utc\": \"2025-03-20T10:15:00Z\"\\n  },\\n  {\\n    \"tickers\": [\\n      \"NVDA\",\\n      \"AMZN\",\\n      \"AMD\"\\n    ],\\n    \"title\": \"Should You Forget Nvidia and Buy These 2 Tech Stocks Instead?\",\\n    \"description\": \"The article discusses three tech companies - Nvidia, Amazon, and AMD - and their potential in the AI market. It suggests that while Nvidia remains a top AI company, Amazon and AMD may also be good investment options due to their growth prospects and relatively cheaper valuations.\",\\n    \"published_utc\": \"2025-03-20T10:15:00Z\"\\n  },\\n  {\\n    \"tickers\": [\\n      \"BBAI\",\\n      \"BBAI.WS\",\\n      \"NVDA\"\\n    ],\\n    \"title\": \"BigBear.ai Stock Drops 60% in Just 1 Month. Is This Massive Sell-Off a Huge Buying Opportunity for Investors?\",\\n    \"description\": \"BigBear.ai, an AI data analytics company, has seen its stock price drop over 60% in the past month. The article discusses whether this significant sell-off presents a buying opportunity for investors or if the stock is still too risky to invest in.\",\\n    \"published_utc\": \"2025-03-20T10:20:00Z\"\\n  },\\n  {\\n    \"tickers\": [\\n      \"TSLA\",\\n      \"NVDA\",\\n      \"NFLX\"\\n    ],\\n    \"title\": \"1 Super Growth Stock to Buy Hand Over Fist, Despite Lingering Fears About Tariffs\",\\n    \"description\": \"Despite the uncertainty around tariffs, the article argues that growth investors still have compelling opportunities, particularly in the streaming leader Netflix. The article highlights Netflix\\'s diversified global reach, subscription-based business model, and consistent revenue and earnings growth as reasons for its positive sentiment.\",\\n    \"published_utc\": \"2025-03-20T10:37:00Z\"\\n  },\\n  {\\n    \"tickers\": [\\n      \"NVDA\",\\n      \"AMD\",\\n      \"AVGO\",\\n      \"TSM\"\\n    ],\\n    \"title\": \"4 Top Artificial Intelligence (AI) Stocks Ready for a Bull Run\",\\n    \"description\": \"The article discusses four AI-related stocks - Nvidia, AMD, Broadcom, and Taiwan Semiconductor Manufacturing - that are poised for a strong bull run in 2025 as the AI market continues to grow. The author believes these stocks are undervalued and present attractive investment opportunities.\",\\n    \"published_utc\": \"2025-03-20T11:00:00Z\"\\n  },\\n  {\\n    \"tickers\": [\\n      \"NVDA\"\\n    ],\\n    \"title\": \"Nvidia Stock Has Taken a Beating. Buy the Dip?\",\\n    \"description\": \"Nvidia\\'s growth remains impressive, but its valuation is still too high given slowing revenue growth and declining gross margins. The company faces increasing competition in the AI chip market, which could further pressure its pricing power and profitability.\",\\n    \"published_utc\": \"2025-03-20T11:03:00Z\"\\n  },\\n  {\\n    \"tickers\": [\\n      \"AVGO\",\\n      \"NVDA\"\\n    ],\\n    \"title\": \"Is Broadcom Primed to Take Over Nvidia\\'s Market Share? 1 Jaw-Dropping Projection That Investors Must Be Aware Of.\",\\n    \"description\": \"Broadcom is looking to challenge Nvidia\\'s dominance in the AI computing hardware market with its custom AI accelerators called XPUs. While Nvidia\\'s GPUs are best-in-class, Broadcom\\'s XPUs are designed for specific AI workloads, potentially making them more powerful. Broadcom projects the market for its XPUs and other AI-related hardware to reach $60-$90 billion by 2027, which could eat into Nvidia\\'s market share.\",\\n    \"published_utc\": \"2025-03-20T12:00:00Z\"\\n  },\\n  {\\n    \"tickers\": [\\n      \"NVDA\",\\n      \"AVGO\",\\n      \"TSM\"\\n    ],\\n    \"title\": \"3 Millionaire-Maker Artificial Intelligence (AI) Stocks\",\\n    \"description\": \"The article discusses how the drop in AI stock prices has created a buying opportunity for investors. It highlights three companies - Nvidia, Broadcom, and Taiwan Semiconductor Manufacturing - that are well-positioned to benefit from the growth of the AI market.\",\\n    \"published_utc\": \"2025-03-20T13:05:00Z\"\\n  },\\n  {\\n    \"tickers\": [\\n      \"MDB\",\\n      \"NVDA\",\\n      \"MSFT\",\\n      \"AMZN\"\\n    ],\\n    \"title\": \"MongoDB Stock at a Buy the Dip Moment Despite Mixed Fundamentals\",\\n    \"description\": \"MongoDB (MDB) stock has dropped 36% in a month, trading at $188.81 per share. While the company has seen revenue growth and its first profitable quarter, concerns remain over its gross margin and free cash flow. However, the acquisition of Voyage AI could position MongoDB as a go-to database for AI applications, making it a compelling investment opportunity at the current price level.\",\\n    \"published_utc\": \"2025-03-20T13:34:00Z\"\\n  },\\n  {\\n    \"tickers\": [\\n      \"MPWR\",\\n      \"NVDA\"\\n    ],\\n    \"title\": \"ROSEN, SKILLED INVESTOR COUNSEL, Encourages Monolithic Power Systems, Inc. Investors to Secure Counsel Before Important Deadline in Securities Class Action \\\\u2013 MPWR\",\\n    \"description\": \"Monolithic Power Systems, Inc. is facing a securities class action lawsuit due to alleged issues with its voltage regulator modules and power management integrated circuits, which negatively impacted the performance of certain Nvidia products. Investors are encouraged to seek legal counsel before the April 7, 2025 lead plaintiff deadline.\",\\n    \"published_utc\": \"2025-03-20T21:43:00Z\"\\n  },\\n  {\\n    \"tickers\": [\\n      \"NVDA\",\\n      \"MSFT\"\\n    ],\\n    \"title\": \"2 Artificial Intelligence (AI) Stocks to Buy Before They Soar to $4 Trillion, According to Certain Wall Street Analysts\",\\n    \"description\": \"Nvidia and Microsoft are two AI stocks that certain Wall Street analysts believe could reach a market value of $4 trillion within the next 12 months. Nvidia\\'s GPUs power advanced AI systems, while Microsoft is integrating AI into its enterprise software and cloud offerings.\",\\n    \"published_utc\": \"2025-03-21T07:30:00Z\"\\n  },\\n  {\\n    \"tickers\": [\\n      \"AMD\",\\n      \"NVDA\",\\n      \"INTC\"\\n    ],\\n    \"title\": \"Is AMD the Most Undervalued Tech Stock Right Now?\",\\n    \"description\": \"The article discusses the various growth opportunities for Advanced Micro Devices (AMD), a leading semiconductor company. It highlights AMD\\'s position in the artificial intelligence (AI) chip market and its potential to capitalize on the growing demand for AI-powered technologies.\",\\n    \"published_utc\": \"2025-03-21T08:20:00Z\"\\n  },\\n  {\\n    \"tickers\": [\\n      \"NVDA\",\\n      \"AMD\"\\n    ],\\n    \"title\": \"Did Nvidia Just Say Checkmate to AMD?\",\\n    \"description\": \"The article discusses how Nvidia\\'s GTC event affects a company like AMD. It provides an overview of The Motley Fool\\'s services and offerings, including premium investing solutions, free guidance, market analysis, personal finance education, top-rated podcasts, and the non-profit Motley Fool Foundation.\",\\n    \"published_utc\": \"2025-03-21T09:15:00Z\"\\n  },\\n  {\\n    \"tickers\": [\\n      \"SERV\",\\n      \"GOOG\",\\n      \"GOOGL\",\\n      \"LYFT\",\\n      \"UBER\",\\n      \"TSLA\",\\n      \"NVDA\"\\n    ],\\n    \"title\": \"Is Serve Robotics Stock a Buy Today?\",\\n    \"description\": \"Serve Robotics, a financial services company, has had a volatile year with new partnerships and launches in the U.S. The article analyzes the company\\'s products and financials to determine if it has a durable business with a bright future or is a disappointment in the making.\",\\n    \"published_utc\": \"2025-03-21T09:30:00Z\"\\n  },\\n  {\\n    \"tickers\": [\\n      \"NVDA\"\\n    ],\\n    \"title\": \"Nvidia\\'s CEO Drops Fantastic News for Nvidia Stock Investors\",\\n    \"description\": \"The article discusses Nvidia\\'s growth opportunities in AI factories, highlighting the company\\'s potential to benefit from the increasing adoption of AI technology in manufacturing.\",\\n    \"published_utc\": \"2025-03-21T09:45:00Z\"\\n  },\\n  {\\n    \"tickers\": [\\n      \"GM\",\\n      \"NVDA\"\\n    ],\\n    \"title\": \"Nvidia Bombshell: GM Thinks Nvidia Is the Future of Autonomy\",\\n    \"description\": \"General Motors has chosen Nvidia as its chip and software partner for autonomous driving, raising questions about the commoditization of autonomy technology.\",\\n    \"published_utc\": \"2025-03-21T10:45:00Z\"\\n  },\\n  {\\n    \"tickers\": [\\n      \"AAPL\",\\n      \"AMZN\",\\n      \"GOOG\",\\n      \"GOOGL\",\\n      \"META\",\\n      \"MSFT\",\\n      \"NVDA\",\\n      \"SPY\",\\n      \"TSLA\"\\n    ],\\n    \"title\": \"S&P 500 Could Soar 12% By Year-End\\\\u2014But Only If Recession Is Avoided, Goldman Sachs Says\",\\n    \"description\": \"The S&P 500 could climb 12% to 6,200 by 2025 if the U.S. economy avoids a recession, according to Goldman Sachs. The \\'Magnificent 7\\' tech firms are planning a 32% increase in capital expenditures, signaling confidence in AI and cloud growth.\",\\n    \"published_utc\": \"2025-03-21T13:08:35Z\"\\n  },\\n  {\\n    \"tickers\": [\\n      \"MPWR\",\\n      \"NVDA\"\\n    ],\\n    \"title\": \"Deadline Alert: Monolithic Power Systems Inc. (MPWR) Investors Who Lost Money Urged To Contact Glancy Prongay & Murray LLP About Securities Fraud Lawsuit\",\\n    \"description\": \"Monolithic Power Systems Inc. (MPWR) is facing a securities fraud lawsuit due to issues with its power management products, which led to a decline in its stock price.\",\\n    \"published_utc\": \"2025-03-21T16:00:00Z\"\\n  },\\n  {\\n    \"tickers\": [\\n      \"NVDA\",\\n      \"TSM\"\\n    ],\\n    \"title\": \"Where Will Nvidia Stock Be in 1 Year?\",\\n    \"description\": \"Nvidia\\'s stock has underperformed in 2025, but strong demand for its Blackwell processors and improved supply could help it deliver better-than-expected results. Most analysts see Nvidia\\'s stock price jumping higher in the coming year with a median price target of $175 per share.\",\\n    \"published_utc\": \"2025-03-21T21:07:00Z\"\\n  },\\n  {\\n    \"tickers\": [\\n      \"NVDA\",\\n      \"AMZN\",\\n      \"MSFT\",\\n      \"GOOG\",\\n      \"GOOGL\",\\n      \"ORCL\",\\n      \"GM\"\\n    ],\\n    \"title\": \"Nvidia\\'s $4 Trillion Ambitions Could Drive the Stock to New Frontiers in 2025\",\\n    \"description\": \"Nvidia is poised to become the first $4 trillion stock as it continues to dominate the AI chip market. The company\\'s strong innovation pipeline, including expansion into self-driving vehicles, positions it for sustained growth despite emerging competition.\",\\n    \"published_utc\": \"2025-03-21T21:31:55Z\"\\n  },\\n  {\\n    \"tickers\": [\\n      \"ARM\",\\n      \"NVDA\",\\n      \"INTC\",\\n      \"AMD\"\\n    ],\\n    \"title\": \"Every Arm Holdings Investor Should Keep an Eye on This Number\",\\n    \"description\": \"Arm Holdings is a semiconductor company with a unique business model, licensing its chip designs and collecting royalties. Its latest CPU architecture, V9, commands higher royalties, and overall revenue growth is a positive sign for the company\\'s long-term prospects.\",\\n    \"published_utc\": \"2025-03-22T07:53:00Z\"\\n  },\\n  {\\n    \"tickers\": [\\n      \"NVDA\",\\n      \"AMD\",\\n      \"AMZN\",\\n      \"META\"\\n    ],\\n    \"title\": \"Who Is Nvidia\\'s Biggest Rival? Jensen Huang Offered a Clue, and You May be Surprised by the Answer.\",\\n    \"description\": \"Nvidia\\'s biggest rival may be the company itself, as it rapidly innovates and introduces new chip architectures that outperform its previous models. This aggressive pace of innovation could potentially hurt sales growth if customers stick with older products, but Nvidia\\'s large tech customers are likely to keep upgrading to the latest systems.\",\\n    \"published_utc\": \"2025-03-22T08:10:00Z\"\\n  },\\n  {\\n    \"tickers\": [\\n      \"NVDA\",\\n      \"AMZN\",\\n      \"AAPL\",\\n      \"MSFT\",\\n      \"MGK\"\\n    ],\\n    \"title\": \"Meet the Spectacular Vanguard ETF With 43.2% of Its Portfolio Invested in Nvidia, Amazon, Apple, and Microsoft\",\\n    \"description\": \"The Vanguard Mega Cap Growth ETF holds a significant portion of its portfolio in Nvidia, Amazon, Apple, and Microsoft, which have been the driving force behind the S&P 500\\'s impressive gains in recent years. The ETF has outperformed the S&P 500 over the long term, but it is highly concentrated in these tech giants, so it\\'s important to maintain diversification in one\\'s portfolio.\",\\n    \"published_utc\": \"2025-03-22T08:26:00Z\"\\n  },\\n  {\\n    \"tickers\": [\\n      \"NU\",\\n      \"AMZN\",\\n      \"NFLX\",\\n      \"NVDA\"\\n    ],\\n    \"title\": \"Is Nu Holdings Stock a Millionaire Maker?\",\\n    \"description\": \"Nu Holdings, a financial services company in Brazil, has rapidly expanded its customer base and diversified into new verticals like digital payments and travel booking. The company reported record revenue and income in 2024, but its reliance on credit growth poses risks. Whether Nu Holdings can make investors millionaires depends on its ability to sustain rapid growth in the coming years.\",\\n    \"published_utc\": \"2025-03-22T09:30:00Z\"\\n  },\\n  {\\n    \"tickers\": [\\n      \"NVDA\",\\n      \"PLTR\",\\n      \"SOUN\",\\n      \"SOUNW\",\\n      \"META\",\\n      \"GOOG\",\\n      \"GOOGL\"\\n    ],\\n    \"title\": \"AI Stocks: The Silver Lining in an Otherwise Stormy Tech Market\",\\n    \"description\": \"Despite recent declines, AI stocks remain a promising long-term investment opportunity. Companies like Nvidia, Palantir, and SoundHound AI have seen significant drops, but the overall AI market is expected to grow rapidly in the coming years, with major tech giants like Meta and Alphabet investing heavily in AI infrastructure.\",\\n    \"published_utc\": \"2025-03-22T22:30:00Z\"\\n  },\\n  {\\n    \"tickers\": [\\n      \"MPWR\",\\n      \"NVDA\"\\n    ],\\n    \"title\": \"ROSEN, LEADING INVESTOR COUNSEL, Encourages Monolithic Power Systems, Inc. Investors to Secure Counsel Before Important Deadline in Securities Class Action \\\\u2013 MPWR\",\\n    \"description\": \"Monolithic Power Systems, Inc. is facing a securities class action lawsuit due to alleged issues with its voltage regulator modules and power management integrated circuits, which negatively impacted the performance of certain Nvidia products. Investors are encouraged to seek legal counsel before the April 7, 2025 lead plaintiff deadline.\",\\n    \"published_utc\": \"2025-03-23T15:10:00Z\"\\n  },\\n  {\\n    \"tickers\": [\\n      \"NVDA\"\\n    ],\\n    \"title\": \"Here\\'s How Nvidia Stock Has Bounced Back From Previous Dips\",\\n    \"description\": \"Nvidia\\'s stock has experienced a 16% decline over the past month, mirroring the broader tech market\\'s correction. However, the company\\'s long-term growth prospects remain strong, driven by the AI boom and its focus on innovation. While recent declines may persist, Nvidia has historically rebounded quickly from previous downturns, suggesting the current slump may be short-lived.\",\\n    \"published_utc\": \"2025-03-23T16:15:00Z\"\\n  },\\n  {\\n    \"tickers\": [\\n      \"GOOG\",\\n      \"GOOGL\",\\n      \"BIDU\",\\n      \"IRBT\",\\n      \"META\",\\n      \"NVDA\",\\n      \"INTC\",\\n      \"IBTA\",\\n      \"AAPL\",\\n      \"QCOM\",\\n      \"SOUN\",\\n      \"SOUNW\"\\n    ],\\n    \"title\": \"Consumer Tech News (Mar 17-Mar 21): Google To Acquire Wiz, US Bans DeepSeek, Nvidia Does Big Revealation At GTC 2025 Event & More\",\\n    \"description\": \"Key highlights include Google\\'s acquisition of cloud security firm Wiz for $32 billion, the U.S. banning Chinese AI model DeepSeek, and Nvidia\\'s announcements at the GTC 2025 event.\",\\n    \"published_utc\": \"2025-03-23T17:15:18Z\"\\n  },\\n  {\\n    \"tickers\": [\\n      \"NVDA\",\\n      \"PLTR\",\\n      \"SPY\",\\n      \"VOO\",\\n      \"KO\",\\n      \"AXP\"\\n    ],\\n    \"title\": \"Should You Buy Stocks in the Nasdaq Correction? 6 Words From Warren Buffett Offer a Strikingly Clear Answer.\",\\n    \"description\": \"The article discusses whether investors should buy stocks during the Nasdaq correction, and suggests following Warren Buffett\\'s advice to be \\'greedy when others are fearful\\' as quality stocks may be available at bargain prices.\",\\n    \"published_utc\": \"2025-03-23T22:10:00Z\"\\n  },\\n  {\\n    \"tickers\": [\\n      \"NVDA\",\\n      \"TMH\",\\n      \"GM\",\\n      \"MGA\"\\n    ],\\n    \"title\": \"300 Billion Reasons to Buy Nvidia Before This Budding Business Becomes a Giant\",\\n    \"description\": \"Nvidia\\'s automotive revenue is expected to triple in 2023, driven by new partnerships with major automakers and component suppliers. The company sees a massive $300 billion addressable opportunity in the automotive market, which could become its next big growth driver.\",\\n    \"published_utc\": \"2025-03-23T22:18:00Z\"\\n  },\\n  {\\n    \"tickers\": [\\n      \"AMZN\",\\n      \"NVDA\"\\n    ],\\n    \"title\": \"If I Could Buy Only 1 \\\\\"Magnificent Seven\\\\\" Stock Over the Next 10 Years, This Would Be It (Hint: It\\'s Not Nvidia)\",\\n    \"description\": \"The article argues that Amazon is a better long-term AI investment compared to Nvidia, as Amazon\\'s AI-powered initiatives across its cloud, e-commerce, and robotics businesses are still in the early stages of growth and profitability.\",\\n    \"published_utc\": \"2025-03-23T22:20:00Z\"\\n  },\\n  {\\n    \"tickers\": [\\n      \"PLTR\",\\n      \"NVDA\",\\n      \"PM\",\\n      \"WBD\",\\n      \"TEVA\"\\n    ],\\n    \"title\": \"Billionaire Stanley Druckenmiller Jettisoned Shares of Palantir and Nvidia, and Is Piling Into 3 High-Profile Turnaround Stocks\",\\n    \"description\": \"Billionaire investor Stanley Druckenmiller has sold his stakes in AI giants Palantir and Nvidia, citing valuation concerns and the potential for an AI bubble burst. Instead, he has been accumulating shares in three turnaround stocks: Philip Morris International, Warner Bros. Discovery, and Teva Pharmaceutical Industries.\",\\n    \"published_utc\": \"2025-03-24T09:06:00Z\"\\n  },\\n  {\\n    \"tickers\": [\\n      \"NVDA\",\\n      \"ASML\",\\n      \"TSM\"\\n    ],\\n    \"title\": \"3 Top Tech Stocks to Buy Right Now\",\\n    \"description\": \"The article discusses three top tech stocks to consider buying during the recent market sell-off: Nvidia, ASML, and Taiwan Semiconductor Manufacturing (TSMC). It highlights the growth potential of these companies, particularly in the artificial intelligence (AI) and semiconductor industries.\",\\n    \"published_utc\": \"2025-03-24T10:15:00Z\"\\n  },\\n  {\\n    \"tickers\": [\\n      \"NVDA\",\\n      \"GM\",\\n      \"ORCL\",\\n      \"MSFT\",\\n      \"GOOG\",\\n      \"GOOGL\"\\n    ],\\n    \"title\": \"Nvidia Is Down 23% From Its Peak. Here\\'s How the Rest of 2025 Could Play Out for This Artificial Intelligence (AI) Powerhouse.\",\\n    \"description\": \"Nvidia\\'s stock has pulled back 23% from its peak due to broader market sell-off and doubts about AI capex spending. However, the company\\'s long-term outlook remains strong, with new product roadmaps, partnerships, and a focus on emerging technologies like quantum computing.\",\\n    \"published_utc\": \"2025-03-24T12:45:00Z\"\\n  },\\n  {\\n    \"tickers\": [\\n      \"VCIG\",\\n      \"INTC\",\\n      \"NVDA\"\\n    ],\\n    \"title\": \"VCI Global Lands Three AI Infrastructure Deals Worth $33M, Enhancing AI Model Distillation\",\\n    \"description\": \"VCI Global secured $33 million in AI contracts to enhance computing power and AI model distillation, using Intel and NVIDIA technology for high-performance AI infrastructure with security and 24/7 support.\",\\n    \"published_utc\": \"2025-03-24T14:31:05Z\"\\n  },\\n  {\\n    \"tickers\": [\\n      \"CAAP\",\\n      \"BLBD\",\\n      \"NVDA\",\\n      \"LLY\",\\n      \"PLTR\"\\n    ],\\n    \"title\": \"5 Stocks That Could Be The Next Nvidia\",\\n    \"description\": \"The article highlights 5 stocks that could be the next Nvidia: Corporacion America (CAAP), Blue Bird (BLBD), Nvidia (NVDA), Eli Lilly (LLY), and Palantir (PLTR). These companies are experiencing strong growth in their respective industries, with potential for continued success.\",\\n    \"published_utc\": \"2025-03-24T19:33:16Z\"\\n  },\\n  {\\n    \"tickers\": [\\n      \"META\",\\n      \"NVDA\",\\n      \"GOOG\",\\n      \"GOOGL\"\\n    ],\\n    \"title\": \"How Meta Is Monetizing AI\",\\n    \"description\": \"Meta Platforms (META) is making significant strides in the artificial intelligence sector, entering revenue-sharing agreements with major cloud service providers. The company plans to increase capital expenditures to upgrade data centers and expand AI development teams, aiming to enhance its technological edge and introduce a subscription service for its AI assistant.\",\\n    \"published_utc\": \"2025-03-24T19:39:00Z\"\\n  },\\n  {\\n    \"tickers\": [\\n      \"NVDA\",\\n      \"GOOG\",\\n      \"GOOGL\",\\n      \"AMZN\"\\n    ],\\n    \"title\": \"Supreme Court Decision May Help Unleash $150 Trillion \\\\u201cAmerican Birthright\\\\u201d Hidden for Over a Century\",\\n    \"description\": \"A Supreme Court decision overturning the Chevron Doctrine has cleared the way for the government to unlock a $150 trillion national wealth fund, which could lead to a historic transfer of wealth in the U.S.\",\\n    \"published_utc\": \"2025-03-24T21:42:00Z\"\\n  },\\n  {\\n    \"tickers\": [\\n      \"PLTR\",\\n      \"NVDA\",\\n      \"MSFT\",\\n      \"SNOW\",\\n      \"TSLA\",\\n      \"DIS\",\\n      \"BUD\"\\n    ],\\n    \"title\": \"Where Will Palantir Stock Be in 5 Years?\",\\n    \"description\": \"Palantir Technologies (PLTR) has seen impressive stock performance, but its growth and valuation raise concerns. The company faces challenges like government downsizing and competition, and its founder\\'s political affiliations could introduce risk. Investors should approach Palantir cautiously as its stock is unlikely to replicate its past returns.\",\\n    \"published_utc\": \"2025-03-24T22:39:00Z\"\\n  },\\n  {\\n    \"tickers\": [\\n      \"AMD\",\\n      \"NVDA\"\\n    ],\\n    \"title\": \"Is Advanced Micro Devices Stock a Buy?\",\\n    \"description\": \"Advanced Micro Devices (AMD) is a distant second to Nvidia in the GPU market, but is performing well in the CPU market, particularly in data centers. While AMD\\'s GPU software has struggled to compete with Nvidia\\'s CUDA platform, the company is seeing strong growth in its data center and PC CPU businesses.\",\\n    \"published_utc\": \"2025-03-25T01:15:00Z\"\\n  },\\n  {\\n    \"tickers\": [\\n      \"RGTI\",\\n      \"RGTIW\",\\n      \"NVDA\",\\n      \"GOOG\",\\n      \"GOOGL\",\\n      \"AMZN\",\\n      \"MSFT\",\\n      \"IBM\"\\n    ],\\n    \"title\": \"Is Rigetti Computing a Buy?\",\\n    \"description\": \"The article discusses the potential of quantum computing, but also the challenges and long timeline before it becomes practical for real-world applications. It cautions investors against buying into early-stage quantum computing companies like Rigetti Computing, which may not deliver the expected returns.\",\\n    \"published_utc\": \"2025-03-26T01:30:00Z\"\\n  },\\n  {\\n    \"tickers\": [\\n      \"SOUN\",\\n      \"SOUNW\",\\n      \"NVDA\",\\n      \"NFLX\",\\n      \"COST\",\\n      \"PG\",\\n      \"CRM\",\\n      \"ADBE\"\\n    ],\\n    \"title\": \"Could Investing $10,000 in SoundHound AI Stock Make You a Millionaire?\",\\n    \"description\": \"SoundHound AI, an AI company focused on audio inputs, has seen its stock price drop 60% from its all-time high. While it may not turn a $10,000 investment into $1 million, the company\\'s impressive revenue growth and large backlog suggest it could still be a successful investment if it continues its growth trajectory.\",\\n    \"published_utc\": \"2025-03-26T11:45:00Z\"\\n  },\\n  {\\n    \"tickers\": [\\n      \"AMZN\",\\n      \"GOOG\",\\n      \"GOOGL\",\\n      \"MSFT\",\\n      \"NVDA\"\\n    ],\\n    \"title\": \"Every Nvidia Investor Should Keep an Eye on This Number\",\\n    \"description\": \"The article discusses the capital spending plans of major cloud service providers like Amazon, Alphabet, and Microsoft, which are expected to significantly increase their investments in AI-enabled data centers in 2025. This is seen as positive news for Nvidia, as the company is likely to benefit from the growing demand for AI-related infrastructure.\",\\n    \"published_utc\": \"2025-03-26T12:15:00Z\"\\n  },\\n  {\\n    \"tickers\": [\\n      \"NVDA\",\\n      \"GM\",\\n      \"DIS\",\\n      \"GOOG\",\\n      \"GOOGL\"\\n    ],\\n    \"title\": \"3 Must-See Updates From Nvidia\\'s AI Event\",\\n    \"description\": \"Nvidia\\'s latest GPU technology and its potential in agentic AI and physical AI are discussed. The article suggests that Nvidia remains a strong investment despite market uncertainty, but cautions against overexposure in one\\'s portfolio.\",\\n    \"published_utc\": \"2025-03-26T12:53:00Z\"\\n  },\\n  {\\n    \"tickers\": [\\n      \"IONQ\",\\n      \"IONQ.WS\",\\n      \"NVDA\"\\n    ],\\n    \"title\": \"Is Quantum Computing Pioneer IonQ the Next Nvidia?\",\\n    \"description\": \"IonQ, a quantum computing company, has demonstrated real-world quantum advantage ahead of competitors and secured substantial financial resources to fund its ambitious growth plans. While it\\'s impossible to predict if IonQ will deliver Nvidia-like returns, the company has positioned itself at the forefront of a potentially transformative technology wave.\",\\n    \"published_utc\": \"2025-03-26T13:00:00Z\"\\n  },\\n  {\\n    \"tickers\": [\\n      \"NVDA\",\\n      \"META\",\\n      \"ORCL\"\\n    ],\\n    \"title\": \"My Top 3 Bargain AI Stocks to Buy after the Stock Market Drop\",\\n    \"description\": \"The article discusses how the stock market downturn has created opportunities to buy high-quality stocks at discounted prices, particularly in the AI sector. It highlights Nvidia, Meta Platforms, and Oracle as potential buying opportunities despite the market volatility.\",\\n    \"published_utc\": \"2025-03-26T14:15:00Z\"\\n  },\\n  {\\n    \"tickers\": [\\n      \"NVDA\",\\n      \"AMD\"\\n    ],\\n    \"title\": \"US Adds 50 Chinese Entities To Export Restriction List Curtailing Access To Nvidia, AMD Chips\",\\n    \"description\": \"The U.S. government has added over 50 Chinese entities to an export restriction list, limiting their access to advanced U.S. semiconductor technology from companies like Nvidia and AMD. This move aims to curb China\\'s military modernization and technological development.\",\\n    \"published_utc\": \"2025-03-26T14:17:41Z\"\\n  },\\n  {\\n    \"tickers\": [\\n      \"NVDA\"\\n    ],\\n    \"title\": \"Massive News for Nvidia Stock Investors\",\\n    \"description\": \"Nvidia stock has stagnated for several months, and investors are growing impatient. The article discusses whether Nvidia, an AI-focused company, is still a buy despite the market uncertainty.\",\\n    \"published_utc\": \"2025-03-26T15:07:37Z\"\\n  },\\n  {\\n    \"tickers\": [\\n      \"NVDA\"\\n    ],\\n    \"title\": \"Why Nvidia Stock Is Sinking Today\",\\n    \"description\": \"Nvidia is facing regulatory challenges in China, with regulators discouraging tech companies from purchasing its H20 chip due to energy efficiency concerns. This, combined with the U.S. adding more Chinese companies to a trade blacklist, creates a difficult operating environment for Nvidia in a significant market.\",\\n    \"published_utc\": \"2025-03-26T16:13:40Z\"\\n  },\\n  {\\n    \"tickers\": [\\n      \"NVDA\",\\n      \"GME\",\\n      \"CHWY\",\\n      \"CTAS\",\\n      \"PAYX\",\\n      \"DLTR\",\\n      \"SOXX\"\\n    ],\\n    \"title\": \"Stocks Slip As Tariff Fears Resurface: What\\'s Driving Markets Wednesday?\",\\n    \"description\": \"U.S. stocks declined on Wednesday as renewed concerns over tariffs rattled investors. Technology shares, particularly semiconductor stocks, led the selloff, with Nvidia tumbling 5.9%. However, GameStop skyrocketed 15% on stronger-than-expected quarterly earnings.\",\\n    \"published_utc\": \"2025-03-26T17:29:39Z\"\\n  },\\n  {\\n    \"tickers\": [\\n      \"VRT\",\\n      \"NVDA\"\\n    ],\\n    \"title\": \"Why Shares in Vertiv Crashed Today\",\\n    \"description\": \"Vertiv Holdings shares fell over 11% due to a general sell-off in the AI/data center sector following a U.S. ban on 80 companies, including Nvidia customers, from buying U.S. technology. Analysts also have a more negative near-term outlook on Vertiv, citing potential pressure on revenue and margin, as well as a slowdown in orders due to hyperscalers redesigning data centers. However, the long-term outlook remains robust as end-market demand is strong.\",\\n    \"published_utc\": \"2025-03-26T20:24:00Z\"\\n  },\\n  {\\n    \"tickers\": [\\n      \"INTC\",\\n      \"NVDA\"\\n    ],\\n    \"title\": \"Why Intel Stock Sank Today\",\\n    \"description\": \"Intel stock fell 3.2% amid concerns about relations between the U.S. and China, which have been a recurring source of volatility for chip stocks. New tariffs on foreign imports also contributed to the broader market pullback.\",\\n    \"published_utc\": \"2025-03-26T21:47:01Z\"\\n  },\\n  {\\n    \"tickers\": [\\n      \"NVDA\",\\n      \"KO\",\\n      \"AXP\"\\n    ],\\n    \"title\": \"Famed Investors Like Warren Buffett Warn That Investing Takes Mental Toughness. 3 Tips for Investing Logically, Not Emotionally.\",\\n    \"description\": \"Famed investor Warren Buffett emphasizes the importance of mental toughness and discipline in successful investing. The article provides three tips to invest logically, not emotionally, including avoiding knee-jerk reactions to stock performance, focusing on long-term prospects, and thinking independently.\",\\n    \"published_utc\": \"2025-03-26T22:10:00Z\"\\n  },\\n  {\\n    \"tickers\": [\\n      \"NVDA\",\\n      \"MU\"\\n    ],\\n    \"title\": \"AMD and Nvidia Stock Investors Got Fantastic News From Micron Technology\",\\n    \"description\": \"The article discusses Nvidia and Micron Technology\\'s performance in the AI chip market. It highlights lessons AI investors can learn from Micron Technology\\'s earnings report and provides recommendations for a potential AI chip stock to buy.\",\\n    \"published_utc\": \"2025-03-27T09:15:00Z\"\\n  },\\n  {\\n    \"tickers\": [\\n      \"NVDA\",\\n      \"AAPL\"\\n    ],\\n    \"title\": \"Is Apple About to Make a Massive Bet on Nvidia\\'s AI Chips?\",\\n    \"description\": \"Nvidia stock price declined recently, and there are reports that Apple will acquire AI chips. The Motley Fool provides investment solutions, market analysis, and personal finance education.\",\\n    \"published_utc\": \"2025-03-27T09:45:00Z\"\\n  },\\n  {\\n    \"tickers\": [\\n      \"NVDA\",\\n      \"TSM\",\\n      \"GOOG\",\\n      \"GOOGL\"\\n    ],\\n    \"title\": \"3 Cheap Tech Stocks to Buy Right Now\",\\n    \"description\": \"The article discusses three cheap tech stocks that investors should consider buying: Nvidia, Taiwan Semiconductor Manufacturing (TSMC), and Alphabet. The stocks are trading at attractive valuations and have strong growth prospects, particularly in the areas of artificial intelligence and cloud computing.\",\\n    \"published_utc\": \"2025-03-27T09:50:00Z\"\\n  },\\n  {\\n    \"tickers\": [\\n      \"NVDA\",\\n      \"AAPL\",\\n      \"MSFT\",\\n      \"AMZN\",\\n      \"GOOG\",\\n      \"GOOGL\"\\n    ],\\n    \"title\": \"Is Nvidia the Next $5 Trillion Stock? Or Will Apple, Microsoft, Amazon, or Google Get There First?\",\\n    \"description\": \"The article discusses the race to reach a $5 trillion market capitalization, with Nvidia and Apple currently in the lead, but other tech giants like Microsoft, Amazon, and Google not far behind.\",\\n    \"published_utc\": \"2025-03-27T10:30:00Z\"\\n  },\\n  {\\n    \"tickers\": [\\n      \"SOUN\",\\n      \"SOUNW\",\\n      \"NVDA\"\\n    ],\\n    \"title\": \"Where Will SoundHound AI Stock Be in 3 Years?\",\\n    \"description\": \"SoundHound AI, an audio-focused AI startup, saw its stock surge after Nvidia revealed a small position in the company. However, the stock has since fallen 61% from its all-time high. The article suggests that investors should stay away from the stock due to the company\\'s massive operational losses and risky acquisition-reliant growth strategy.\",\\n    \"published_utc\": \"2025-03-27T10:55:00Z\"\\n  },\\n  {\\n    \"tickers\": [\\n      \"NVDA\",\\n      \"MSFT\",\\n      \"AAPL\"\\n    ],\\n    \"title\": \"Tech\\'s Next Golden Age: 3 Reasons The Vanguard S&P 500 ETF Is a Must-Buy Right Now\",\\n    \"description\": \"Despite market concerns, three technological forces - AI, advanced robotics, and quantum computing - could usher in a new era of American prosperity. The Vanguard S&P 500 ETF offers broad exposure to these transformative trends.\",\\n    \"published_utc\": \"2025-03-27T13:11:00Z\"\\n  },\\n  {\\n    \"tickers\": [\\n      \"NVDA\",\\n      \"DPRO\",\\n      \"EH\"\\n    ],\\n    \"title\": \"Growing Popularity of Drones as a Service Stemming from Increasing Usage & Applications and Latest Advancements\",\\n    \"description\": \"The drone services market in the United States is witnessing significant growth due to technological advancements, regulatory support, and cost-effectiveness. Drones are being widely used in various industries, including agriculture, infrastructure, and defense.\",\\n    \"published_utc\": \"2025-03-27T13:30:00Z\"\\n  },\\n  {\\n    \"tickers\": [\\n      \"AMD\",\\n      \"INTC\",\\n      \"NVDA\"\\n    ],\\n    \"title\": \"Down 50%, Should You Buy AMD Stock on the Dip?\",\\n    \"description\": \"AMD\\'s core CPU business is booming, but its AI chip growth is slowing, and other areas like gaming GPUs and the embedded segment are struggling. While the company\\'s valuation doesn\\'t look overpriced, its mixed growth story makes it a less attractive opportunity compared to its peers.\",\\n    \"published_utc\": \"2025-03-29T11:50:00Z\"\\n  },\\n  {\\n    \"tickers\": [\\n      \"MPWR\",\\n      \"NVDA\"\\n    ],\\n    \"title\": \"MPWR IMPORTANT DEADLINE: ROSEN, RECOGNIZED INVESTOR COUNSEL, Encourages Monolithic Power Systems, Inc. Investors to Secure Counsel Before Important April 7 Deadline in Securities Class Action \\\\u2013 MPWR\",\\n    \"description\": \"Monolithic Power Systems, Inc. is facing a securities class action lawsuit due to alleged issues with its voltage regulator modules and power management integrated circuits, which negatively impacted the performance of certain Nvidia products. Investors are encouraged to secure counsel before the April 7, 2025 deadline.\",\\n    \"published_utc\": \"2025-03-29T18:45:00Z\"\\n  },\\n  {\\n    \"tickers\": [\\n      \"AMD\",\\n      \"INTC\",\\n      \"NVDA\",\\n      \"PLTR\"\\n    ],\\n    \"title\": \"Here\\'s the Next AI Stock I\\'m Buying\",\\n    \"description\": \"The article discusses why the author is planning to open a significant position in Advanced Micro Devices (AMD) in their portfolio, citing the company\\'s strong performance, diverse product offerings, and growth opportunities in the data center and AI markets.\",\\n    \"published_utc\": \"2025-03-30T08:51:00Z\"\\n  },\\n  {\\n    \"tickers\": [\\n      \"MPWR\",\\n      \"NVDA\"\\n    ],\\n    \"title\": \"DEADLINE ALERT: Faruqi & Faruqi, LLP Investigates Claims on Behalf of Investors of Monolithic Power Systems\",\\n    \"description\": \"Faruqi & Faruqi, LLP is investigating potential claims against Monolithic Power Systems, Inc. (NASDAQ: MPWR) for making false and/or misleading statements about the performance and quality control issues of its products, which negatively impacted Nvidia\\'s products and damaged the relationship between the two companies.\",\\n    \"published_utc\": \"2025-03-30T13:18:00Z\"\\n  },\\n  {\\n    \"tickers\": [\\n      \"ORCL\",\\n      \"NVDA\",\\n      \"META\",\\n      \"AAPL\",\\n      \"MSFT\",\\n      \"AMZN\",\\n      \"GOOG\",\\n      \"GOOGL\"\\n    ],\\n    \"title\": \"Is Oracle Stock a Buy Now?\",\\n    \"description\": \"Oracle, a leading provider of data center servers, has benefited from the surging demand for AI infrastructure. Its cloud services revenue jumped 23% in the latest quarter, and it has secured major contracts with tech giants like Meta, Nvidia, and OpenAI. While Oracle\\'s spending on data center expansion has impacted its free cash flow, its valuation appears reasonable, making it an under-the-radar AI stock pick.\",\\n    \"published_utc\": \"2025-03-30T14:15:00Z\"\\n  },\\n  {\\n    \"tickers\": [\\n      \"AAPL\",\\n      \"NVDA\"\\n    ],\\n    \"title\": \"Did Apple Just Give Nvidia Investors 1 Billion Reasons to Celebrate?\",\\n    \"description\": \"Apple is reportedly in talks with Nvidia for a major server deal, signaling continued investments in AI infrastructure by tech giants. This is seen as a positive tailwind for Nvidia\\'s long-term growth, despite the chip stock trading at historically cheap levels.\",\\n    \"published_utc\": \"2025-03-31T01:00:00Z\"\\n  },\\n  {\\n    \"tickers\": [\\n      \"PLTR\",\\n      \"TSM\",\\n      \"NVDA\"\\n    ],\\n    \"title\": \"Prediction: Buying This Artificial Intelligence (AI) Stock Will Set You Up for Life (And It\\'s Not Palantir)\",\\n    \"description\": \"The article recommends investing in Taiwan Semiconductor Manufacturing (TSMC) as a way to capitalize on the growth of the AI chip market, which is expected to reach $400 billion in annual sales by 2030. TSMC is the leading manufacturer of AI chips and is well-positioned to benefit from this trend.\",\\n    \"published_utc\": \"2025-03-31T12:45:00Z\"\\n  },\\n  {\\n    \"tickers\": [\\n      \"NVDA\",\\n      \"AAPL\",\\n      \"TSM\",\\n      \"AMZN\",\\n      \"MSFT\",\\n      \"GOOG\",\\n      \"GOOGL\"\\n    ],\\n    \"title\": \"Nasdaq Sell-Off: After Losing Nearly $800 Billion in Market Cap, Is Nvidia Stock a Buy Anymore? History Offers a Clear Indicator of What Could Happen Next.\",\\n    \"description\": \"Nvidia\\'s stock has seen a significant sell-off, losing nearly $800 billion in market cap. However, the article suggests that Nvidia\\'s stock is still a buy, citing the company\\'s strong performance in its computing and networking segments, the growing AI infrastructure spending, and the stock\\'s historical resilience to rebounds.\",\\n    \"published_utc\": \"2025-03-31T13:30:00Z\"\\n  },\\n  {\\n    \"tickers\": [\\n      \"NVDA\"\\n    ],\\n    \"title\": \"Why Nvidia Stock Is Sinking Today\",\\n    \"description\": \"Nvidia stock is down amid a broader market sell-off driven by concerns over new tariffs. The Trump administration\\'s stance on tariffs has raised fears of a potential recession, leading to valuation pullbacks for Nvidia and other growth stocks. However, upcoming AI policy announcements could provide a boost for the tech industry, including Nvidia.\",\\n    \"published_utc\": \"2025-03-31T16:06:54Z\"\\n  },\\n  {\\n    \"tickers\": [\\n      \"NVDA\"\\n    ],\\n    \"title\": \"CoreWeave IPO Performance Likely Due To Company, Not AI Sector: Analyst Says \\'Investor Sentiment Remains Mixed\\'\",\\n    \"description\": \"CoreWeave\\'s IPO performance was disappointing, with the company pricing below its expected range. Analysts see some red flags for the company, and say the IPO performance is related to the company itself rather than the broader AI sector.\",\\n    \"published_utc\": \"2025-03-31T16:12:32Z\"\\n  },\\n  {\\n    \"tickers\": [\\n      \"NVDA\",\\n      \"AMD\",\\n      \"GOOG\",\\n      \"GOOGL\",\\n      \"META\",\\n      \"MSFT\",\\n      \"ORCL\",\\n      \"SMH\"\\n    ],\\n    \"title\": \"9 Amazing Tech Stocks Smart Investors Should Not Ignore\",\\n    \"description\": \"The article discusses the recent sell-off in tech stocks, particularly Nvidia, and whether Nvidia stock is still a buy. It provides historical context and analysis to help investors make informed decisions.\",\\n    \"published_utc\": \"2025-03-31T17:34:54Z\"\\n  },\\n  {\\n    \"tickers\": [\\n      \"NVDA\"\\n    ],\\n    \"title\": \"Nvidia Stock Keeps Heading Lower. Is It Time to Buy?\",\\n    \"description\": \"Nvidia stock fell as semiconductor stocks are known to be cyclical and sensitive to the broader market concerns, including weakening consumer sentiment, stubborn inflation, and tariffs. Despite Nvidia\\'s strong growth and attractive valuation, the stock is likely to remain volatile due to economic uncertainty.\",\\n    \"published_utc\": \"2025-03-31T19:37:50Z\"\\n  },\\n  {\\n    \"tickers\": [\\n      \"AAPL\",\\n      \"NVDA\",\\n      \"MSFT\"\\n    ],\\n    \"title\": \"Meet the Hard Asset That\\'s Bigger Than Apple, Nvidia, and Microsoft Combined. One Wall Street Strategist Thinks It Could Hit a $40 Trillion Market Cap.\",\\n    \"description\": \"The article discusses how gold, a hard asset, has outperformed major tech stocks like Apple, Nvidia, and Microsoft, and could potentially reach a $40 trillion market cap according to a Wall Street strategist. The article cites concerns about the U.S. government\\'s growing debt and fiscal deficit as factors driving the rise in gold prices.\",\\n    \"published_utc\": \"2025-04-01T12:05:00Z\"\\n  },\\n  {\\n    \"tickers\": [\\n      \"NVDA\",\\n      \"AVGO\",\\n      \"GOOG\",\\n      \"GOOGL\"\\n    ],\\n    \"title\": \"Nvidia and Broadcom Got Fantastic News From OpenAI and Google DeepMind\",\\n    \"description\": \"The article discusses recent updates affecting Nvidia and Broadcom, including the Nasdaq sell-off and its impact on Nvidia\\'s stock. It also mentions Alphabet\\'s executive Suzanne Frey as a member of The Motley Fool\\'s board of directors.\",\\n    \"published_utc\": \"2025-04-01T12:30:00Z\"\\n  },\\n  {\\n    \"tickers\": [\\n      \"NVDA\",\\n      \"INTC\",\\n      \"AVGO\"\\n    ],\\n    \"title\": \"If Nearly Half of S&P 500 Stocks Are Up in 2025, Then Why Is the Index Down 5%?\",\\n    \"description\": \"The S&P 500 is down 5.1% year-to-date, with the top 10 companies accounting for most of the decline. However, many sectors and individual stocks are performing well, suggesting the sell-off is isolated to certain industries like technology. Investors can use this opportunity to reevaluate their portfolios and consider buying stocks at lower valuations.\",\\n    \"published_utc\": \"2025-04-01T12:44:00Z\"\\n  },\\n  {\\n    \"tickers\": [\\n      \"SMCI\",\\n      \"DELL\",\\n      \"HPE\",\\n      \"HPEpC\",\\n      \"NVDA\"\\n    ],\\n    \"title\": \"Where Will Super Micro Computer Stock Be in 1 Year?\",\\n    \"description\": \"Super Micro Computer, an AI server maker, saw its stock price surge 1,020% in the past year but then plummeted over 70% due to accounting issues, delayed filings, and regulatory probes. While the company has resolved most of these problems, its gross margin has declined, raising concerns about its pricing power. Analysts expect its revenue and earnings to grow strongly, but it may take time for investors to regain confidence.\",\\n    \"published_utc\": \"2025-04-01T12:55:00Z\"\\n  },\\n  {\\n    \"tickers\": [\\n      \"NET\",\\n      \"CSCO\",\\n      \"NVDA\",\\n      \"FFIV\"\\n    ],\\n    \"title\": \"Quantum Leap: What a 40% CAGR Means for the Future of Future-Proof Secure Computing\",\\n    \"description\": \"The article discusses the rapid growth of the quantum computing and post-quantum cryptography markets, with forecasts of 40% and 41.47% CAGR respectively. It highlights the efforts of companies like Scope Technologies, Cloudflare, Cisco, NVIDIA, and F5 to develop secure computing solutions in response to the impending \\'quantum apocalypse\\'.\",\\n    \"published_utc\": \"2025-04-01T16:08:00Z\"\\n  },\\n  {\\n    \"tickers\": [\\n      \"MPWR\",\\n      \"NVDA\"\\n    ],\\n    \"title\": \"MPWR DEADLINE: ROSEN, SKILLED INVESTOR COUNSEL, Encourages Monolithic Power Systems, Inc. Investors to Secure Counsel Before Important April 7 Deadline in Securities Class Action \\\\u2013 MPWR\",\\n    \"description\": \"Monolithic Power Systems, Inc. is facing a securities class action lawsuit due to alleged issues with its voltage regulator modules and power management integrated circuits, which negatively impacted the performance of certain Nvidia products. Investors who purchased Monolithic Power Systems\\' common stock during the class period are encouraged to seek legal counsel before the April 7, 2025 deadline.\",\\n    \"published_utc\": \"2025-04-01T17:54:00Z\"\\n  },\\n  {\\n    \"tickers\": [\\n      \"INTC\",\\n      \"NVDA\",\\n      \"AMD\",\\n      \"TSM\"\\n    ],\\n    \"title\": \"Why Intel Stock Sank Today\",\\n    \"description\": \"Intel stock fell 2.9% after the company\\'s Vision 2025 event, where new CEO Lip-Bu Tan outlined challenges in the business turnaround and plans to spin off non-core units. Investors were disappointed that Intel did not announce plans to sell its costly chip foundry unit.\",\\n    \"published_utc\": \"2025-04-01T22:20:30Z\"\\n  },\\n  {\\n    \"tickers\": [\\n      \"SOUN\",\\n      \"SOUNW\",\\n      \"GOOG\",\\n      \"GOOGL\",\\n      \"AAPL\",\\n      \"MSFT\",\\n      \"NVDA\"\\n    ],\\n    \"title\": \"Where Will SoundHound AI Be in 3 Years?\",\\n    \"description\": \"SoundHound AI, a specialist in audio and speech recognition software, has seen a rollercoaster ride in its stock price over the past three years. While the company has shown impressive revenue growth, it has also been gushing red ink and facing challenges in achieving profitability. The article analyzes the company\\'s prospects and whether its stock can revisit its all-time highs.\",\\n    \"published_utc\": \"2025-04-02T08:42:00Z\"\\n  },\\n  {\\n    \"tickers\": [\\n      \"GOOG\",\\n      \"GOOGL\",\\n      \"META\",\\n      \"NVDA\"\\n    ],\\n    \"title\": \"2 Unstoppable Artificial Intelligence (AI) Stocks to Buy in April and 1 to Avoid\",\\n    \"description\": \"The article discusses three artificial intelligence (AI) stocks - Alphabet, Meta Platforms, and Nvidia. Alphabet and Meta Platforms are recommended as strong buys due to their competitive advantages and potential to benefit from AI integration. Nvidia, on the other hand, is advised to be avoided due to increasing competition and the risk of an AI bubble bursting.\",\\n    \"published_utc\": \"2025-04-02T08:51:00Z\"\\n  },\\n  {\\n    \"tickers\": [\\n      \"CRWV\",\\n      \"NVDA\",\\n      \"TEM\"\\n    ],\\n    \"title\": \"Does Nvidia-Backed CoreWeave\\'s Lackluster IPO Signal the AI Stock Boom Is Officially Over?\",\\n    \"description\": \"CoreWeave, an AI hyperscaler backed by Nvidia, had a lackluster IPO, raising concerns about the future of the AI stock boom. However, the article suggests that the AI stock boom is not over, and the market volatility is likely the primary reason for the IPO\\'s performance.\",\\n    \"published_utc\": \"2025-04-02T09:47:00Z\"\\n  },\\n  {\\n    \"tickers\": [\\n      \"NVDA\",\\n      \"AVGO\",\\n      \"AMZN\"\\n    ],\\n    \"title\": \"Billionaire Stanley Druckenmiller Sold Nvidia and Broadcom and Is Buying This Spectacular Artificial Intelligence (AI) Stock Instead\",\\n    \"description\": \"Billionaire investor Stanley Druckenmiller has sold his stakes in Nvidia and Broadcom, citing concerns over their high valuations. He has now turned his attention to another AI stock that he believes offers a better investment opportunity.\",\\n    \"published_utc\": \"2025-04-02T10:00:00Z\"\\n  },\\n  {\\n    \"tickers\": [\\n      \"NVDA\",\\n      \"GOOG\",\\n      \"GOOGL\",\\n      \"META\",\\n      \"AMD\"\\n    ],\\n    \"title\": \"Down 28%, Should You Buy the Dip on Nvidia?\",\\n    \"description\": \"Nvidia\\'s dominance in the AI GPU market continues, driven by its CUDA platform and ability to outspend rivals. However, challenges lie ahead, including the need for AI to deliver returns and the risk of disruption from upstart chip firms or major clients developing their own chips.\",\\n    \"published_utc\": \"2025-04-02T10:45:00Z\"\\n  },\\n  {\\n    \"tickers\": [\\n      \"NVDA\",\\n      \"MSFT\",\\n      \"AVGO\",\\n      \"META\"\\n    ],\\n    \"title\": \"Billionaire Israel Englander Jettisoned Shares of Nvidia and Microsoft and Is Piling Into 2 High-Growth Tech Stocks\",\\n    \"description\": \"Billionaire investor Israel Englander\\'s Millennium Management hedge fund has trimmed its positions in Nvidia and Microsoft, while increasing stakes in Broadcom and Meta Platforms. The article analyzes the reasons behind these moves and why these two tech stocks could be smart buys for retail investors.\",\\n    \"published_utc\": \"2025-04-02T12:00:00Z\"\\n  },\\n  {\\n    \"tickers\": [\\n      \"NVDA\",\\n      \"GOOG\",\\n      \"GOOGL\"\\n    ],\\n    \"title\": \"2 Cheap Tech Stocks I\\'m Buying Right Now\",\\n    \"description\": \"The article discusses the current market turmoil and the rare opportunity to acquire premier tech companies like Nvidia and Alphabet at deep discounts. It highlights the long-term potential of these companies and the compelling valuations they offer.\",\\n    \"published_utc\": \"2025-04-02T13:30:00Z\"\\n  },\\n  {\\n    \"tickers\": [\\n      \"CRWV\",\\n      \"NVDA\",\\n      \"MSFT\"\\n    ],\\n    \"title\": \"CoreWeave IPO: Is this Fast-Growing AI Stock a Buy Right Now?\",\\n    \"description\": \"CoreWeave, a cloud infrastructure platform purpose-built for AI, had a disappointing IPO, with its stock closing flat on the first day and declining 7% on the second. This highlights the risks in the AI boom, as investor sentiment around the sector is volatile. Despite the concerns, CoreWeave\\'s fundamentals and exposure to the growing AI market make it a potential long-term opportunity for patient investors.\",\\n    \"published_utc\": \"2025-04-02T15:48:46Z\"\\n  },\\n  {\\n    \"tickers\": [\\n      \"QBTS\",\\n      \"QBTS.WS\",\\n      \"QUBT\",\\n      \"RGTI\",\\n      \"RGTIW\",\\n      \"IONQ\",\\n      \"IONQ.WS\",\\n      \"NVDA\"\\n    ],\\n    \"title\": \"Why Some Quantum Computing Stocks Soared Last Month (While Others Slumped)\",\\n    \"description\": \"Quantum computing stocks had a volatile month in March, with D-Wave Quantum and Quantum Computing seeing big gains, while Rigetti Computing and IonQ fell. The article discusses the reasons behind these stock movements and cautions investors to be cautious with pure-play quantum computing investments.\",\\n    \"published_utc\": \"2025-04-02T16:52:36Z\"\\n  },\\n  {\\n    \"tickers\": [\\n      \"NVDA\"\\n    ],\\n    \"title\": \"Why Nvidia Stock Lost 13% in March\",\\n    \"description\": \"Nvidia\\'s stock fell 13% in March due to macroeconomic factors, including weakening consumer sentiment, uncertainty around tariffs, and declining economic growth forecasts. The stock\\'s decline was not driven by any changes in the company\\'s fundamentals, and it now looks attractively priced for investors.\",\\n    \"published_utc\": \"2025-04-02T18:34:50Z\"\\n  },\\n  {\\n    \"tickers\": [\\n      \"AAPL\",\\n      \"MSFT\",\\n      \"NVDA\"\\n    ],\\n    \"title\": \"Liberation Day Tariffs: Potential Impact on the US Stock Market\",\\n    \"description\": \"The article discusses the potential impact of the Trump administration\\'s tariff plans, known as \\'Liberation Day Tariffs\\', on the US stock market. It highlights the uncertainty and volatility in the markets as investors try to gauge the effects of these tariffs on corporate profits, global growth, inflation, and Federal Reserve interest rate decisions.\",\\n    \"published_utc\": \"2025-04-02T19:24:00Z\"\\n  },\\n  {\\n    \"tickers\": [\\n      \"AAPL\",\\n      \"AMZN\",\\n      \"NVDA\",\\n      \"XLK\",\\n      \"XLY\"\\n    ],\\n    \"title\": \"Markets Reel As Trump\\'s Tariffs Hit \\\\u2014 Magnificent 7 Set To Shed Almost $700 Billion\",\\n    \"description\": \"President Trump\\'s new tariffs triggered a sharp selloff in after-hours trading, with the tech-heavy Nasdaq 100 falling 3.3% and the S&P 500 dropping 2.5%. The \\'Magnificent Seven\\' tech giants are projected to lose a combined $685 billion in market value.\",\\n    \"published_utc\": \"2025-04-02T21:35:44Z\"\\n  }\\n]\\n                ', additional_kwargs={}, response_metadata={})]\n"
     ]
    }
   ],
   "source": [
    "print(prompt)"
   ]
  },
  {
   "cell_type": "code",
   "execution_count": 10,
   "metadata": {},
   "outputs": [],
   "source": [
    "class short_term_sentiment(BaseModel):\n",
    "    short_term_sentiment: str\n",
    "    short_term_confidence: float\n",
    "    short_term_reasoning: str\n",
    "    \n",
    "class long_term_sentiment(BaseModel):\n",
    "    long_term_sentiment: str\n",
    "    long_term_confidence: float\n",
    "    long_term_reasoning: str\n",
    "    \n",
    "class key_event_outlook(BaseModel):\n",
    "    event: str\n",
    "    event_date: str\n",
    "    event_type: str\n",
    "    event_impact: str\n",
    "    event_reasoning: str\n",
    "    \n",
    "class sentiment(BaseModel):\n",
    "    short_term_sentiment: short_term_sentiment\n",
    "    long_term_sentiment: long_term_sentiment\n",
    "    key_events_outlook: list[key_event_outlook]\n",
    "    \n"
   ]
  },
  {
   "cell_type": "code",
   "execution_count": 11,
   "metadata": {},
   "outputs": [],
   "source": [
    "model_name = \"gemini-2.0-flash\"\n",
    "model_provider = \"Gemini\"\n",
    "pydantic_model = sentiment\n",
    "max_retries = 3"
   ]
  },
  {
   "cell_type": "code",
   "execution_count": 12,
   "metadata": {},
   "outputs": [
    {
     "name": "stdout",
     "output_type": "stream",
     "text": [
      "short_term_sentiment=short_term_sentiment(short_term_sentiment='Neutral', short_term_confidence=0.6, short_term_reasoning=\"Nvidia's stock has dropped 12% year-to-date and 20% from its January highs, despite the company reporting strong Q4 and full-year earnings. The decline is attributed to concerns over trade tariffs and export restrictions, which could impact semiconductor chip sales.\") long_term_sentiment=long_term_sentiment(long_term_sentiment='Positive', long_term_confidence=0.8, long_term_reasoning=\"Nvidia is a leader in the growing generative AI market, with its products becoming increasingly important as the technology takes hold across industries. Despite the stock's recent surge, the article argues there is still time to invest in Nvidia due to the vast potential of the AI opportunity.\") key_events_outlook=[key_event_outlook(event='GPU Technology Conference', event_date='2025-03-18', event_type='Conference', event_impact='Positive', event_reasoning='Expected to unveil next-generation AI-enabling GPUs.'), key_event_outlook(event='GTC 2025 Keynote', event_date='2025-03-18', event_type='Keynote', event_impact='Positive', event_reasoning=\"Investors are hoping for a stock price boost similar to last year's event.\")]\n"
     ]
    }
   ],
   "source": [
    "sentiment_result = call_llm(prompt, model_name, model_provider, pydantic_model, max_retries=max_retries)\n",
    "print(sentiment_result)"
   ]
  },
  {
   "cell_type": "code",
   "execution_count": 13,
   "metadata": {},
   "outputs": [
    {
     "data": {
      "text/plain": [
       "sentiment(short_term_sentiment=short_term_sentiment(short_term_sentiment='Neutral', short_term_confidence=0.6, short_term_reasoning=\"Nvidia's stock has dropped 12% year-to-date and 20% from its January highs, despite the company reporting strong Q4 and full-year earnings. The decline is attributed to concerns over trade tariffs and export restrictions, which could impact semiconductor chip sales.\"), long_term_sentiment=long_term_sentiment(long_term_sentiment='Positive', long_term_confidence=0.8, long_term_reasoning=\"Nvidia is a leader in the growing generative AI market, with its products becoming increasingly important as the technology takes hold across industries. Despite the stock's recent surge, the article argues there is still time to invest in Nvidia due to the vast potential of the AI opportunity.\"), key_events_outlook=[key_event_outlook(event='GPU Technology Conference', event_date='2025-03-18', event_type='Conference', event_impact='Positive', event_reasoning='Expected to unveil next-generation AI-enabling GPUs.'), key_event_outlook(event='GTC 2025 Keynote', event_date='2025-03-18', event_type='Keynote', event_impact='Positive', event_reasoning=\"Investors are hoping for a stock price boost similar to last year's event.\")])"
      ]
     },
     "execution_count": 13,
     "metadata": {},
     "output_type": "execute_result"
    }
   ],
   "source": [
    "sentiment_result"
   ]
  },
  {
   "cell_type": "code",
   "execution_count": 14,
   "metadata": {},
   "outputs": [
    {
     "name": "stdout",
     "output_type": "stream",
     "text": [
      "<class '__main__.sentiment'>\n"
     ]
    }
   ],
   "source": [
    "print(type(sentiment_result))"
   ]
  }
 ],
 "metadata": {
  "kernelspec": {
   "display_name": "stocksflags",
   "language": "python",
   "name": "python3"
  },
  "language_info": {
   "codemirror_mode": {
    "name": "ipython",
    "version": 3
   },
   "file_extension": ".py",
   "mimetype": "text/x-python",
   "name": "python",
   "nbconvert_exporter": "python",
   "pygments_lexer": "ipython3",
   "version": "3.11.11"
  }
 },
 "nbformat": 4,
 "nbformat_minor": 2
}
