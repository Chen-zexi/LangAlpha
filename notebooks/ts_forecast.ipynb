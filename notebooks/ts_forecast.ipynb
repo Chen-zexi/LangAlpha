{
 "cells": [
  {
   "cell_type": "code",
   "execution_count": 35,
   "metadata": {},
   "outputs": [],
   "source": [
    "import pandas as pd\n",
    "import numpy as np\n",
    "\n",
    "from prophet import Prophet\n",
    "import matplotlib.pyplot as plt\n",
    "\n",
    "from sqlalchemy import create_engine\n",
    "from sqlalchemy import event\n",
    "from sqlalchemy import text\n",
    "import os\n",
    "from dotenv import load_dotenv\n",
    "import sys\n",
    "import warnings"
   ]
  },
  {
   "cell_type": "code",
   "execution_count": 2,
   "metadata": {},
   "outputs": [],
   "source": [
    "sys.path.append(os.path.abspath('..'))\n",
    "warnings.filterwarnings(\"ignore\", category=FutureWarning)"
   ]
  },
  {
   "cell_type": "code",
   "execution_count": 3,
   "metadata": {},
   "outputs": [],
   "source": [
    "from src.data_tool.connect_db import ConnectDB"
   ]
  },
  {
   "cell_type": "code",
   "execution_count": 4,
   "metadata": {},
   "outputs": [
    {
     "name": "stdout",
     "output_type": "stream",
     "text": [
      "DB_USER and DB_PASSWORD are set\n"
     ]
    }
   ],
   "source": [
    "db = ConnectDB()\n",
    "engine = db.get_engine()"
   ]
  },
  {
   "cell_type": "code",
   "execution_count": 5,
   "metadata": {},
   "outputs": [],
   "source": [
    "tables = db.show_tables()"
   ]
  },
  {
   "cell_type": "code",
   "execution_count": 6,
   "metadata": {},
   "outputs": [
    {
     "data": {
      "text/html": [
       "<div>\n",
       "<style scoped>\n",
       "    .dataframe tbody tr th:only-of-type {\n",
       "        vertical-align: middle;\n",
       "    }\n",
       "\n",
       "    .dataframe tbody tr th {\n",
       "        vertical-align: top;\n",
       "    }\n",
       "\n",
       "    .dataframe thead th {\n",
       "        text-align: right;\n",
       "    }\n",
       "</style>\n",
       "<table border=\"1\" class=\"dataframe\">\n",
       "  <thead>\n",
       "    <tr style=\"text-align: right;\">\n",
       "      <th></th>\n",
       "      <th>Tables</th>\n",
       "    </tr>\n",
       "  </thead>\n",
       "  <tbody>\n",
       "    <tr>\n",
       "      <th>0</th>\n",
       "      <td>capital_structure_debt</td>\n",
       "    </tr>\n",
       "    <tr>\n",
       "      <th>1</th>\n",
       "      <td>capital_structure_equity</td>\n",
       "    </tr>\n",
       "    <tr>\n",
       "      <th>2</th>\n",
       "      <td>capital_structure_summary</td>\n",
       "    </tr>\n",
       "    <tr>\n",
       "      <th>3</th>\n",
       "      <td>company_news</td>\n",
       "    </tr>\n",
       "    <tr>\n",
       "      <th>4</th>\n",
       "      <td>financial_metrics</td>\n",
       "    </tr>\n",
       "    <tr>\n",
       "      <th>5</th>\n",
       "      <td>financial_ratios</td>\n",
       "    </tr>\n",
       "    <tr>\n",
       "      <th>6</th>\n",
       "      <td>fundamentals_annual</td>\n",
       "    </tr>\n",
       "    <tr>\n",
       "      <th>7</th>\n",
       "      <td>fundamentals_quarterly</td>\n",
       "    </tr>\n",
       "    <tr>\n",
       "      <th>8</th>\n",
       "      <td>identifiers</td>\n",
       "    </tr>\n",
       "    <tr>\n",
       "      <th>9</th>\n",
       "      <td>insider_trade</td>\n",
       "    </tr>\n",
       "    <tr>\n",
       "      <th>10</th>\n",
       "      <td>price</td>\n",
       "    </tr>\n",
       "    <tr>\n",
       "      <th>11</th>\n",
       "      <td>security_daily</td>\n",
       "    </tr>\n",
       "  </tbody>\n",
       "</table>\n",
       "</div>"
      ],
      "text/plain": [
       "                       Tables\n",
       "0      capital_structure_debt\n",
       "1    capital_structure_equity\n",
       "2   capital_structure_summary\n",
       "3                company_news\n",
       "4           financial_metrics\n",
       "5            financial_ratios\n",
       "6         fundamentals_annual\n",
       "7      fundamentals_quarterly\n",
       "8                 identifiers\n",
       "9               insider_trade\n",
       "10                      price\n",
       "11             security_daily"
      ]
     },
     "execution_count": 6,
     "metadata": {},
     "output_type": "execute_result"
    }
   ],
   "source": [
    "tables"
   ]
  },
  {
   "cell_type": "code",
   "execution_count": 7,
   "metadata": {},
   "outputs": [],
   "source": [
    "stocks_table = db.read_table('security_daily')"
   ]
  },
  {
   "cell_type": "code",
   "execution_count": 8,
   "metadata": {},
   "outputs": [
    {
     "data": {
      "text/html": [
       "<div>\n",
       "<style scoped>\n",
       "    .dataframe tbody tr th:only-of-type {\n",
       "        vertical-align: middle;\n",
       "    }\n",
       "\n",
       "    .dataframe tbody tr th {\n",
       "        vertical-align: top;\n",
       "    }\n",
       "\n",
       "    .dataframe thead th {\n",
       "        text-align: right;\n",
       "    }\n",
       "</style>\n",
       "<table border=\"1\" class=\"dataframe\">\n",
       "  <thead>\n",
       "    <tr style=\"text-align: right;\">\n",
       "      <th></th>\n",
       "      <th>ticker</th>\n",
       "      <th>datadate</th>\n",
       "      <th>prccd</th>\n",
       "      <th>prchd</th>\n",
       "      <th>prcld</th>\n",
       "      <th>prcod</th>\n",
       "      <th>trfd</th>\n",
       "    </tr>\n",
       "  </thead>\n",
       "  <tbody>\n",
       "    <tr>\n",
       "      <th>3134</th>\n",
       "      <td>AMD</td>\n",
       "      <td>2024-07-22</td>\n",
       "      <td>155.87</td>\n",
       "      <td>156.70</td>\n",
       "      <td>152.545</td>\n",
       "      <td>154.23</td>\n",
       "      <td>1.000274</td>\n",
       "    </tr>\n",
       "    <tr>\n",
       "      <th>5298</th>\n",
       "      <td>ADBE</td>\n",
       "      <td>2024-02-06</td>\n",
       "      <td>607.14</td>\n",
       "      <td>626.46</td>\n",
       "      <td>604.670</td>\n",
       "      <td>625.58</td>\n",
       "      <td>1.096237</td>\n",
       "    </tr>\n",
       "    <tr>\n",
       "      <th>3213</th>\n",
       "      <td>QCOM</td>\n",
       "      <td>2024-07-15</td>\n",
       "      <td>208.18</td>\n",
       "      <td>209.24</td>\n",
       "      <td>202.785</td>\n",
       "      <td>203.00</td>\n",
       "      <td>1.597373</td>\n",
       "    </tr>\n",
       "  </tbody>\n",
       "</table>\n",
       "</div>"
      ],
      "text/plain": [
       "     ticker   datadate   prccd   prchd    prcld   prcod      trfd\n",
       "3134    AMD 2024-07-22  155.87  156.70  152.545  154.23  1.000274\n",
       "5298   ADBE 2024-02-06  607.14  626.46  604.670  625.58  1.096237\n",
       "3213   QCOM 2024-07-15  208.18  209.24  202.785  203.00  1.597373"
      ]
     },
     "execution_count": 8,
     "metadata": {},
     "output_type": "execute_result"
    }
   ],
   "source": [
    "stocks_table.sample(3)"
   ]
  },
  {
   "cell_type": "code",
   "execution_count": 30,
   "metadata": {},
   "outputs": [
    {
     "data": {
      "text/html": [
       "<div>\n",
       "<style scoped>\n",
       "    .dataframe tbody tr th:only-of-type {\n",
       "        vertical-align: middle;\n",
       "    }\n",
       "\n",
       "    .dataframe tbody tr th {\n",
       "        vertical-align: top;\n",
       "    }\n",
       "\n",
       "    .dataframe thead th {\n",
       "        text-align: right;\n",
       "    }\n",
       "</style>\n",
       "<table border=\"1\" class=\"dataframe\">\n",
       "  <thead>\n",
       "    <tr style=\"text-align: right;\">\n",
       "      <th></th>\n",
       "      <th>datadate</th>\n",
       "      <th>prccd</th>\n",
       "    </tr>\n",
       "  </thead>\n",
       "  <tbody>\n",
       "    <tr>\n",
       "      <th>13</th>\n",
       "      <td>2025-03-18</td>\n",
       "      <td>212.69</td>\n",
       "    </tr>\n",
       "    <tr>\n",
       "      <th>21</th>\n",
       "      <td>2025-03-17</td>\n",
       "      <td>214.00</td>\n",
       "    </tr>\n",
       "    <tr>\n",
       "      <th>52</th>\n",
       "      <td>2025-03-14</td>\n",
       "      <td>213.49</td>\n",
       "    </tr>\n",
       "    <tr>\n",
       "      <th>75</th>\n",
       "      <td>2025-03-13</td>\n",
       "      <td>209.68</td>\n",
       "    </tr>\n",
       "    <tr>\n",
       "      <th>84</th>\n",
       "      <td>2025-03-12</td>\n",
       "      <td>216.98</td>\n",
       "    </tr>\n",
       "    <tr>\n",
       "      <th>...</th>\n",
       "      <td>...</td>\n",
       "      <td>...</td>\n",
       "    </tr>\n",
       "    <tr>\n",
       "      <th>5668</th>\n",
       "      <td>2024-01-08</td>\n",
       "      <td>185.56</td>\n",
       "    </tr>\n",
       "    <tr>\n",
       "      <th>5689</th>\n",
       "      <td>2024-01-05</td>\n",
       "      <td>181.18</td>\n",
       "    </tr>\n",
       "    <tr>\n",
       "      <th>5703</th>\n",
       "      <td>2024-01-04</td>\n",
       "      <td>181.91</td>\n",
       "    </tr>\n",
       "    <tr>\n",
       "      <th>5726</th>\n",
       "      <td>2024-01-03</td>\n",
       "      <td>184.25</td>\n",
       "    </tr>\n",
       "    <tr>\n",
       "      <th>5738</th>\n",
       "      <td>2024-01-02</td>\n",
       "      <td>185.64</td>\n",
       "    </tr>\n",
       "  </tbody>\n",
       "</table>\n",
       "<p>303 rows × 2 columns</p>\n",
       "</div>"
      ],
      "text/plain": [
       "       datadate   prccd\n",
       "13   2025-03-18  212.69\n",
       "21   2025-03-17  214.00\n",
       "52   2025-03-14  213.49\n",
       "75   2025-03-13  209.68\n",
       "84   2025-03-12  216.98\n",
       "...         ...     ...\n",
       "5668 2024-01-08  185.56\n",
       "5689 2024-01-05  181.18\n",
       "5703 2024-01-04  181.91\n",
       "5726 2024-01-03  184.25\n",
       "5738 2024-01-02  185.64\n",
       "\n",
       "[303 rows x 2 columns]"
      ]
     },
     "execution_count": 30,
     "metadata": {},
     "output_type": "execute_result"
    }
   ],
   "source": [
    "stocks_table[stocks_table['ticker'] == 'AAPL'][['datadate', 'prccd']]"
   ]
  },
  {
   "cell_type": "code",
   "execution_count": 23,
   "metadata": {},
   "outputs": [],
   "source": [
    "data = stocks_table[stocks_table['ticker'] == 'AAPL'][['datadate', 'prccd']]"
   ]
  },
  {
   "cell_type": "code",
   "execution_count": 24,
   "metadata": {},
   "outputs": [],
   "source": [
    "data.rename(columns={'datadate': 'ds', 'prccd': 'y'}, inplace=True)"
   ]
  },
  {
   "cell_type": "code",
   "execution_count": 43,
   "metadata": {},
   "outputs": [],
   "source": [
    "# add regressor instead of holiday\n",
    "earnings_dates = pd.DataFrame({\n",
    "    'holiday': 'earnings_release',\n",
    "    'ds': pd.to_datetime(['2024-01-31', '2024-04-30', '2024-07-30', '2024-10-31']), \n",
    "    'lower_window': 0,\n",
    "    'upper_window': 1\n",
    "})"
   ]
  },
  {
   "cell_type": "code",
   "execution_count": 33,
   "metadata": {},
   "outputs": [],
   "source": [
    "model = Prophet(\n",
    "    changepoint_prior_scale=0.15,\n",
    "    seasonality_prior_scale=15,\n",
    "    uncertainty_samples=2000,\n",
    "    holidays=earnings_dates\n",
    ")"
   ]
  },
  {
   "cell_type": "code",
   "execution_count": 34,
   "metadata": {},
   "outputs": [
    {
     "data": {
      "text/plain": [
       "<prophet.forecaster.Prophet at 0x7f7e9a6c2380>"
      ]
     },
     "execution_count": 34,
     "metadata": {},
     "output_type": "execute_result"
    }
   ],
   "source": [
    "model.add_seasonality(name='weekly', period=7, fourier_order=3)\n",
    "model.add_seasonality(name='monthly', period=30.5, fourier_order=5)"
   ]
  },
  {
   "cell_type": "code",
   "execution_count": 36,
   "metadata": {},
   "outputs": [],
   "source": [
    "data['y'] = np.log(data['y']) "
   ]
  },
  {
   "cell_type": "code",
   "execution_count": 37,
   "metadata": {},
   "outputs": [
    {
     "name": "stderr",
     "output_type": "stream",
     "text": [
      "09:42:19 - cmdstanpy - INFO - Chain [1] start processing\n",
      "09:42:20 - cmdstanpy - INFO - Chain [1] done processing\n"
     ]
    },
    {
     "data": {
      "text/plain": [
       "<prophet.forecaster.Prophet at 0x7f7e9a6c2380>"
      ]
     },
     "execution_count": 37,
     "metadata": {},
     "output_type": "execute_result"
    }
   ],
   "source": [
    "model.fit(data)"
   ]
  },
  {
   "cell_type": "code",
   "execution_count": 38,
   "metadata": {},
   "outputs": [],
   "source": [
    "future = model.make_future_dataframe(periods=30)"
   ]
  },
  {
   "cell_type": "code",
   "execution_count": 39,
   "metadata": {},
   "outputs": [],
   "source": [
    "forecast = model.predict(future)"
   ]
  },
  {
   "cell_type": "code",
   "execution_count": 40,
   "metadata": {},
   "outputs": [],
   "source": [
    "forecast['yhat'] = np.exp(forecast['yhat'])\n",
    "forecast['yhat_lower'] = np.exp(forecast['yhat_lower'])\n",
    "forecast['yhat_upper'] = np.exp(forecast['yhat_upper'])"
   ]
  },
  {
   "cell_type": "code",
   "execution_count": 41,
   "metadata": {},
   "outputs": [
    {
     "data": {
      "image/png": "[encoded data removed]",
      "text/plain": [
       "<Figure size 1000x600 with 1 Axes>"
      ]
     },
     "metadata": {},
     "output_type": "display_data"
    }
   ],
   "source": [
    "fig = model.plot(forecast)\n",
    "plt.title(\"Apple Stock Price Forecast\")\n",
    "plt.xlabel(\"Date\")\n",
    "plt.ylabel(\"Price\")\n",
    "plt.show()"
   ]
  },
  {
   "cell_type": "code",
   "execution_count": 42,
   "metadata": {},
   "outputs": [
    {
     "data": {
      "text/html": [
       "<div>\n",
       "<style scoped>\n",
       "    .dataframe tbody tr th:only-of-type {\n",
       "        vertical-align: middle;\n",
       "    }\n",
       "\n",
       "    .dataframe tbody tr th {\n",
       "        vertical-align: top;\n",
       "    }\n",
       "\n",
       "    .dataframe thead th {\n",
       "        text-align: right;\n",
       "    }\n",
       "</style>\n",
       "<table border=\"1\" class=\"dataframe\">\n",
       "  <thead>\n",
       "    <tr style=\"text-align: right;\">\n",
       "      <th></th>\n",
       "      <th>ds</th>\n",
       "      <th>yhat</th>\n",
       "      <th>yhat_lower</th>\n",
       "      <th>yhat_upper</th>\n",
       "    </tr>\n",
       "  </thead>\n",
       "  <tbody>\n",
       "    <tr>\n",
       "      <th>303</th>\n",
       "      <td>2025-03-19</td>\n",
       "      <td>223.938541</td>\n",
       "      <td>217.403862</td>\n",
       "      <td>229.842027</td>\n",
       "    </tr>\n",
       "    <tr>\n",
       "      <th>304</th>\n",
       "      <td>2025-03-20</td>\n",
       "      <td>225.401458</td>\n",
       "      <td>219.013603</td>\n",
       "      <td>231.779192</td>\n",
       "    </tr>\n",
       "    <tr>\n",
       "      <th>305</th>\n",
       "      <td>2025-03-21</td>\n",
       "      <td>227.253880</td>\n",
       "      <td>221.146088</td>\n",
       "      <td>234.019862</td>\n",
       "    </tr>\n",
       "    <tr>\n",
       "      <th>306</th>\n",
       "      <td>2025-03-22</td>\n",
       "      <td>224.703555</td>\n",
       "      <td>218.648508</td>\n",
       "      <td>231.332209</td>\n",
       "    </tr>\n",
       "    <tr>\n",
       "      <th>307</th>\n",
       "      <td>2025-03-23</td>\n",
       "      <td>223.173878</td>\n",
       "      <td>216.955540</td>\n",
       "      <td>229.599916</td>\n",
       "    </tr>\n",
       "    <tr>\n",
       "      <th>308</th>\n",
       "      <td>2025-03-24</td>\n",
       "      <td>223.476930</td>\n",
       "      <td>217.011139</td>\n",
       "      <td>229.917230</td>\n",
       "    </tr>\n",
       "    <tr>\n",
       "      <th>309</th>\n",
       "      <td>2025-03-25</td>\n",
       "      <td>222.474014</td>\n",
       "      <td>215.819855</td>\n",
       "      <td>228.957205</td>\n",
       "    </tr>\n",
       "    <tr>\n",
       "      <th>310</th>\n",
       "      <td>2025-03-26</td>\n",
       "      <td>222.901156</td>\n",
       "      <td>216.420903</td>\n",
       "      <td>229.377065</td>\n",
       "    </tr>\n",
       "    <tr>\n",
       "      <th>311</th>\n",
       "      <td>2025-03-27</td>\n",
       "      <td>224.361797</td>\n",
       "      <td>217.482016</td>\n",
       "      <td>231.807936</td>\n",
       "    </tr>\n",
       "    <tr>\n",
       "      <th>312</th>\n",
       "      <td>2025-03-28</td>\n",
       "      <td>225.644758</td>\n",
       "      <td>218.734534</td>\n",
       "      <td>232.873736</td>\n",
       "    </tr>\n",
       "    <tr>\n",
       "      <th>313</th>\n",
       "      <td>2025-03-29</td>\n",
       "      <td>222.660713</td>\n",
       "      <td>215.495550</td>\n",
       "      <td>229.561424</td>\n",
       "    </tr>\n",
       "    <tr>\n",
       "      <th>314</th>\n",
       "      <td>2025-03-30</td>\n",
       "      <td>221.524213</td>\n",
       "      <td>214.324605</td>\n",
       "      <td>229.103293</td>\n",
       "    </tr>\n",
       "    <tr>\n",
       "      <th>315</th>\n",
       "      <td>2025-03-31</td>\n",
       "      <td>222.979320</td>\n",
       "      <td>215.992678</td>\n",
       "      <td>230.556976</td>\n",
       "    </tr>\n",
       "    <tr>\n",
       "      <th>316</th>\n",
       "      <td>2025-04-01</td>\n",
       "      <td>222.917750</td>\n",
       "      <td>215.184789</td>\n",
       "      <td>230.434427</td>\n",
       "    </tr>\n",
       "    <tr>\n",
       "      <th>317</th>\n",
       "      <td>2025-04-02</td>\n",
       "      <td>222.950236</td>\n",
       "      <td>214.761391</td>\n",
       "      <td>230.562643</td>\n",
       "    </tr>\n",
       "    <tr>\n",
       "      <th>318</th>\n",
       "      <td>2025-04-03</td>\n",
       "      <td>222.460998</td>\n",
       "      <td>214.481149</td>\n",
       "      <td>230.712644</td>\n",
       "    </tr>\n",
       "    <tr>\n",
       "      <th>319</th>\n",
       "      <td>2025-04-04</td>\n",
       "      <td>221.220247</td>\n",
       "      <td>212.833423</td>\n",
       "      <td>229.582660</td>\n",
       "    </tr>\n",
       "    <tr>\n",
       "      <th>320</th>\n",
       "      <td>2025-04-05</td>\n",
       "      <td>216.650499</td>\n",
       "      <td>208.135772</td>\n",
       "      <td>225.475488</td>\n",
       "    </tr>\n",
       "    <tr>\n",
       "      <th>321</th>\n",
       "      <td>2025-04-06</td>\n",
       "      <td>215.391916</td>\n",
       "      <td>206.450578</td>\n",
       "      <td>223.868383</td>\n",
       "    </tr>\n",
       "    <tr>\n",
       "      <th>322</th>\n",
       "      <td>2025-04-07</td>\n",
       "      <td>217.670251</td>\n",
       "      <td>207.985850</td>\n",
       "      <td>227.282122</td>\n",
       "    </tr>\n",
       "    <tr>\n",
       "      <th>323</th>\n",
       "      <td>2025-04-08</td>\n",
       "      <td>218.465124</td>\n",
       "      <td>208.786225</td>\n",
       "      <td>228.436117</td>\n",
       "    </tr>\n",
       "    <tr>\n",
       "      <th>324</th>\n",
       "      <td>2025-04-09</td>\n",
       "      <td>218.793452</td>\n",
       "      <td>208.475113</td>\n",
       "      <td>228.871169</td>\n",
       "    </tr>\n",
       "    <tr>\n",
       "      <th>325</th>\n",
       "      <td>2025-04-10</td>\n",
       "      <td>218.472249</td>\n",
       "      <td>207.933676</td>\n",
       "      <td>229.003761</td>\n",
       "    </tr>\n",
       "    <tr>\n",
       "      <th>326</th>\n",
       "      <td>2025-04-11</td>\n",
       "      <td>218.132847</td>\n",
       "      <td>206.697574</td>\n",
       "      <td>228.821454</td>\n",
       "    </tr>\n",
       "    <tr>\n",
       "      <th>327</th>\n",
       "      <td>2025-04-12</td>\n",
       "      <td>215.483105</td>\n",
       "      <td>203.819259</td>\n",
       "      <td>226.731188</td>\n",
       "    </tr>\n",
       "    <tr>\n",
       "      <th>328</th>\n",
       "      <td>2025-04-13</td>\n",
       "      <td>216.329465</td>\n",
       "      <td>204.154248</td>\n",
       "      <td>228.247671</td>\n",
       "    </tr>\n",
       "    <tr>\n",
       "      <th>329</th>\n",
       "      <td>2025-04-14</td>\n",
       "      <td>219.731322</td>\n",
       "      <td>206.786890</td>\n",
       "      <td>232.735380</td>\n",
       "    </tr>\n",
       "    <tr>\n",
       "      <th>330</th>\n",
       "      <td>2025-04-15</td>\n",
       "      <td>219.975747</td>\n",
       "      <td>206.825181</td>\n",
       "      <td>233.665967</td>\n",
       "    </tr>\n",
       "    <tr>\n",
       "      <th>331</th>\n",
       "      <td>2025-04-16</td>\n",
       "      <td>218.660129</td>\n",
       "      <td>205.131346</td>\n",
       "      <td>233.002260</td>\n",
       "    </tr>\n",
       "    <tr>\n",
       "      <th>332</th>\n",
       "      <td>2025-04-17</td>\n",
       "      <td>216.950844</td>\n",
       "      <td>201.693111</td>\n",
       "      <td>232.033158</td>\n",
       "    </tr>\n",
       "  </tbody>\n",
       "</table>\n",
       "</div>"
      ],
      "text/plain": [
       "            ds        yhat  yhat_lower  yhat_upper\n",
       "303 2025-03-19  223.938541  217.403862  229.842027\n",
       "304 2025-03-20  225.401458  219.013603  231.779192\n",
       "305 2025-03-21  227.253880  221.146088  234.019862\n",
       "306 2025-03-22  224.703555  218.648508  231.332209\n",
       "307 2025-03-23  223.173878  216.955540  229.599916\n",
       "308 2025-03-24  223.476930  217.011139  229.917230\n",
       "309 2025-03-25  222.474014  215.819855  228.957205\n",
       "310 2025-03-26  222.901156  216.420903  229.377065\n",
       "311 2025-03-27  224.361797  217.482016  231.807936\n",
       "312 2025-03-28  225.644758  218.734534  232.873736\n",
       "313 2025-03-29  222.660713  215.495550  229.561424\n",
       "314 2025-03-30  221.524213  214.324605  229.103293\n",
       "315 2025-03-31  222.979320  215.992678  230.556976\n",
       "316 2025-04-01  222.917750  215.184789  230.434427\n",
       "317 2025-04-02  222.950236  214.761391  230.562643\n",
       "318 2025-04-03  222.460998  214.481149  230.712644\n",
       "319 2025-04-04  221.220247  212.833423  229.582660\n",
       "320 2025-04-05  216.650499  208.135772  225.475488\n",
       "321 2025-04-06  215.391916  206.450578  223.868383\n",
       "322 2025-04-07  217.670251  207.985850  227.282122\n",
       "323 2025-04-08  218.465124  208.786225  228.436117\n",
       "324 2025-04-09  218.793452  208.475113  228.871169\n",
       "325 2025-04-10  218.472249  207.933676  229.003761\n",
       "326 2025-04-11  218.132847  206.697574  228.821454\n",
       "327 2025-04-12  215.483105  203.819259  226.731188\n",
       "328 2025-04-13  216.329465  204.154248  228.247671\n",
       "329 2025-04-14  219.731322  206.786890  232.735380\n",
       "330 2025-04-15  219.975747  206.825181  233.665967\n",
       "331 2025-04-16  218.660129  205.131346  233.002260\n",
       "332 2025-04-17  216.950844  201.693111  232.033158"
      ]
     },
     "execution_count": 42,
     "metadata": {},
     "output_type": "execute_result"
    }
   ],
   "source": [
    "forecast[['ds', 'yhat', 'yhat_lower', 'yhat_upper']].tail(30)"
   ]
  },
  {
   "cell_type": "code",
   "execution_count": null,
   "metadata": {},
   "outputs": [],
   "source": []
  }
 ],
 "metadata": {
  "kernelspec": {
   "display_name": "base",
   "language": "python",
   "name": "python3"
  },
  "language_info": {
   "codemirror_mode": {
    "name": "ipython",
    "version": 3
   },
   "file_extension": ".py",
   "mimetype": "text/x-python",
   "name": "python",
   "nbconvert_exporter": "python",
   "pygments_lexer": "ipython3",
   "version": "3.10.9"
  }
 },
 "nbformat": 4,
 "nbformat_minor": 2
}
