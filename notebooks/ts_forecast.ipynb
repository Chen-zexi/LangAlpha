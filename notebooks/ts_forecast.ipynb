{
 "cells": [
  {
   "cell_type": "code",
   "execution_count": 1,
   "metadata": {},
   "outputs": [],
   "source": [
    "import pandas as pd\n",
    "import numpy as np\n",
    "\n",
    "from prophet import Prophet\n",
    "import matplotlib.pyplot as plt\n",
    "\n",
    "from sqlalchemy import create_engine\n",
    "from sqlalchemy import event\n",
    "from sqlalchemy import text\n",
    "import os\n",
    "from dotenv import load_dotenv\n",
    "import sys\n",
    "import warnings"
   ]
  },
  {
   "cell_type": "code",
   "execution_count": 2,
   "metadata": {},
   "outputs": [],
   "source": [
    "sys.path.append(os.path.abspath('..'))\n",
    "warnings.filterwarnings(\"ignore\", category=FutureWarning)"
   ]
  },
  {
   "cell_type": "code",
   "execution_count": 3,
   "metadata": {},
   "outputs": [],
   "source": [
    "from src.database_tool.connect_db import ConnectDB"
   ]
  },
  {
   "cell_type": "code",
   "execution_count": 4,
   "metadata": {},
   "outputs": [
    {
     "name": "stdout",
     "output_type": "stream",
     "text": [
      "DB_USER and DB_PASSWORD are set\n"
     ]
    }
   ],
   "source": [
    "db = ConnectDB()\n",
    "engine = db.get_engine()"
   ]
  },
  {
   "cell_type": "code",
   "execution_count": 5,
   "metadata": {},
   "outputs": [],
   "source": [
    "tables = db.show_tables()"
   ]
  },
  {
   "cell_type": "code",
   "execution_count": 6,
   "metadata": {},
   "outputs": [
    {
     "data": {
      "text/html": [
       "<div>\n",
       "<style scoped>\n",
       "    .dataframe tbody tr th:only-of-type {\n",
       "        vertical-align: middle;\n",
       "    }\n",
       "\n",
       "    .dataframe tbody tr th {\n",
       "        vertical-align: top;\n",
       "    }\n",
       "\n",
       "    .dataframe thead th {\n",
       "        text-align: right;\n",
       "    }\n",
       "</style>\n",
       "<table border=\"1\" class=\"dataframe\">\n",
       "  <thead>\n",
       "    <tr style=\"text-align: right;\">\n",
       "      <th></th>\n",
       "      <th>Tables</th>\n",
       "    </tr>\n",
       "  </thead>\n",
       "  <tbody>\n",
       "    <tr>\n",
       "      <th>0</th>\n",
       "      <td>capital_structure_debt</td>\n",
       "    </tr>\n",
       "    <tr>\n",
       "      <th>1</th>\n",
       "      <td>capital_structure_equity</td>\n",
       "    </tr>\n",
       "    <tr>\n",
       "      <th>2</th>\n",
       "      <td>capital_structure_summary</td>\n",
       "    </tr>\n",
       "    <tr>\n",
       "      <th>3</th>\n",
       "      <td>company_news</td>\n",
       "    </tr>\n",
       "    <tr>\n",
       "      <th>4</th>\n",
       "      <td>financial_metrics</td>\n",
       "    </tr>\n",
       "    <tr>\n",
       "      <th>5</th>\n",
       "      <td>financial_ratios</td>\n",
       "    </tr>\n",
       "    <tr>\n",
       "      <th>6</th>\n",
       "      <td>fundamentals_annual</td>\n",
       "    </tr>\n",
       "    <tr>\n",
       "      <th>7</th>\n",
       "      <td>fundamentals_quarterly</td>\n",
       "    </tr>\n",
       "    <tr>\n",
       "      <th>8</th>\n",
       "      <td>identifiers</td>\n",
       "    </tr>\n",
       "    <tr>\n",
       "      <th>9</th>\n",
       "      <td>insider_trade</td>\n",
       "    </tr>\n",
       "    <tr>\n",
       "      <th>10</th>\n",
       "      <td>price</td>\n",
       "    </tr>\n",
       "    <tr>\n",
       "      <th>11</th>\n",
       "      <td>security_daily</td>\n",
       "    </tr>\n",
       "  </tbody>\n",
       "</table>\n",
       "</div>"
      ],
      "text/plain": [
       "                       Tables\n",
       "0      capital_structure_debt\n",
       "1    capital_structure_equity\n",
       "2   capital_structure_summary\n",
       "3                company_news\n",
       "4           financial_metrics\n",
       "5            financial_ratios\n",
       "6         fundamentals_annual\n",
       "7      fundamentals_quarterly\n",
       "8                 identifiers\n",
       "9               insider_trade\n",
       "10                      price\n",
       "11             security_daily"
      ]
     },
     "execution_count": 6,
     "metadata": {},
     "output_type": "execute_result"
    }
   ],
   "source": [
    "tables"
   ]
  },
  {
   "cell_type": "code",
   "execution_count": 7,
   "metadata": {},
   "outputs": [],
   "source": [
    "stocks_table = db.read_table('security_daily')"
   ]
  },
  {
   "cell_type": "code",
   "execution_count": 8,
   "metadata": {},
   "outputs": [
    {
     "data": {
      "text/html": [
       "<div>\n",
       "<style scoped>\n",
       "    .dataframe tbody tr th:only-of-type {\n",
       "        vertical-align: middle;\n",
       "    }\n",
       "\n",
       "    .dataframe tbody tr th {\n",
       "        vertical-align: top;\n",
       "    }\n",
       "\n",
       "    .dataframe thead th {\n",
       "        text-align: right;\n",
       "    }\n",
       "</style>\n",
       "<table border=\"1\" class=\"dataframe\">\n",
       "  <thead>\n",
       "    <tr style=\"text-align: right;\">\n",
       "      <th></th>\n",
       "      <th>ticker</th>\n",
       "      <th>datadate</th>\n",
       "      <th>prccd</th>\n",
       "      <th>prchd</th>\n",
       "      <th>prcld</th>\n",
       "      <th>prcod</th>\n",
       "      <th>trfd</th>\n",
       "    </tr>\n",
       "  </thead>\n",
       "  <tbody>\n",
       "    <tr>\n",
       "      <th>4169</th>\n",
       "      <td>NVDA</td>\n",
       "      <td>2024-05-01</td>\n",
       "      <td>830.41</td>\n",
       "      <td>860.00</td>\n",
       "      <td>812.5456</td>\n",
       "      <td>850.77</td>\n",
       "      <td>1.090000</td>\n",
       "    </tr>\n",
       "    <tr>\n",
       "      <th>4715</th>\n",
       "      <td>INTC</td>\n",
       "      <td>2024-03-20</td>\n",
       "      <td>42.20</td>\n",
       "      <td>43.01</td>\n",
       "      <td>41.4100</td>\n",
       "      <td>42.99</td>\n",
       "      <td>1.774572</td>\n",
       "    </tr>\n",
       "    <tr>\n",
       "      <th>361</th>\n",
       "      <td>ADBE</td>\n",
       "      <td>2025-02-19</td>\n",
       "      <td>456.99</td>\n",
       "      <td>463.61</td>\n",
       "      <td>455.3200</td>\n",
       "      <td>463.61</td>\n",
       "      <td>1.096237</td>\n",
       "    </tr>\n",
       "  </tbody>\n",
       "</table>\n",
       "</div>"
      ],
      "text/plain": [
       "     ticker   datadate   prccd   prchd     prcld   prcod      trfd\n",
       "4169   NVDA 2024-05-01  830.41  860.00  812.5456  850.77  1.090000\n",
       "4715   INTC 2024-03-20   42.20   43.01   41.4100   42.99  1.774572\n",
       "361    ADBE 2025-02-19  456.99  463.61  455.3200  463.61  1.096237"
      ]
     },
     "execution_count": 8,
     "metadata": {},
     "output_type": "execute_result"
    }
   ],
   "source": [
    "stocks_table.sample(3)"
   ]
  },
  {
   "cell_type": "code",
   "execution_count": 9,
   "metadata": {},
   "outputs": [
    {
     "data": {
      "text/html": [
       "<div>\n",
       "<style scoped>\n",
       "    .dataframe tbody tr th:only-of-type {\n",
       "        vertical-align: middle;\n",
       "    }\n",
       "\n",
       "    .dataframe tbody tr th {\n",
       "        vertical-align: top;\n",
       "    }\n",
       "\n",
       "    .dataframe thead th {\n",
       "        text-align: right;\n",
       "    }\n",
       "</style>\n",
       "<table border=\"1\" class=\"dataframe\">\n",
       "  <thead>\n",
       "    <tr style=\"text-align: right;\">\n",
       "      <th></th>\n",
       "      <th>datadate</th>\n",
       "      <th>prccd</th>\n",
       "    </tr>\n",
       "  </thead>\n",
       "  <tbody>\n",
       "    <tr>\n",
       "      <th>13</th>\n",
       "      <td>2025-03-18</td>\n",
       "      <td>212.69</td>\n",
       "    </tr>\n",
       "    <tr>\n",
       "      <th>21</th>\n",
       "      <td>2025-03-17</td>\n",
       "      <td>214.00</td>\n",
       "    </tr>\n",
       "    <tr>\n",
       "      <th>52</th>\n",
       "      <td>2025-03-14</td>\n",
       "      <td>213.49</td>\n",
       "    </tr>\n",
       "    <tr>\n",
       "      <th>75</th>\n",
       "      <td>2025-03-13</td>\n",
       "      <td>209.68</td>\n",
       "    </tr>\n",
       "    <tr>\n",
       "      <th>84</th>\n",
       "      <td>2025-03-12</td>\n",
       "      <td>216.98</td>\n",
       "    </tr>\n",
       "    <tr>\n",
       "      <th>...</th>\n",
       "      <td>...</td>\n",
       "      <td>...</td>\n",
       "    </tr>\n",
       "    <tr>\n",
       "      <th>5668</th>\n",
       "      <td>2024-01-08</td>\n",
       "      <td>185.56</td>\n",
       "    </tr>\n",
       "    <tr>\n",
       "      <th>5689</th>\n",
       "      <td>2024-01-05</td>\n",
       "      <td>181.18</td>\n",
       "    </tr>\n",
       "    <tr>\n",
       "      <th>5703</th>\n",
       "      <td>2024-01-04</td>\n",
       "      <td>181.91</td>\n",
       "    </tr>\n",
       "    <tr>\n",
       "      <th>5726</th>\n",
       "      <td>2024-01-03</td>\n",
       "      <td>184.25</td>\n",
       "    </tr>\n",
       "    <tr>\n",
       "      <th>5738</th>\n",
       "      <td>2024-01-02</td>\n",
       "      <td>185.64</td>\n",
       "    </tr>\n",
       "  </tbody>\n",
       "</table>\n",
       "<p>303 rows × 2 columns</p>\n",
       "</div>"
      ],
      "text/plain": [
       "       datadate   prccd\n",
       "13   2025-03-18  212.69\n",
       "21   2025-03-17  214.00\n",
       "52   2025-03-14  213.49\n",
       "75   2025-03-13  209.68\n",
       "84   2025-03-12  216.98\n",
       "...         ...     ...\n",
       "5668 2024-01-08  185.56\n",
       "5689 2024-01-05  181.18\n",
       "5703 2024-01-04  181.91\n",
       "5726 2024-01-03  184.25\n",
       "5738 2024-01-02  185.64\n",
       "\n",
       "[303 rows x 2 columns]"
      ]
     },
     "execution_count": 9,
     "metadata": {},
     "output_type": "execute_result"
    }
   ],
   "source": [
    "stocks_table[stocks_table['ticker'] == 'AAPL'][['datadate', 'prccd']]"
   ]
  },
  {
   "cell_type": "code",
   "execution_count": 10,
   "metadata": {},
   "outputs": [],
   "source": [
    "data = stocks_table[stocks_table['ticker'] == 'AAPL'][['datadate', 'prccd']]"
   ]
  },
  {
   "cell_type": "code",
   "execution_count": 11,
   "metadata": {},
   "outputs": [],
   "source": [
    "data.rename(columns={'datadate': 'ds', 'prccd': 'y'}, inplace=True)"
   ]
  },
  {
   "cell_type": "code",
   "execution_count": 12,
   "metadata": {},
   "outputs": [],
   "source": [
    "earnings_dates = pd.DataFrame({\n",
    "    'holiday': 'earnings_release',\n",
    "    'ds': pd.to_datetime(['2024-01-31', '2024-04-30', '2024-07-30', '2024-10-31']), \n",
    "    'lower_window': 0,\n",
    "    'upper_window': 1\n",
    "})"
   ]
  },
  {
   "cell_type": "code",
   "execution_count": 13,
   "metadata": {},
   "outputs": [],
   "source": [
    "model = Prophet(\n",
    "    changepoint_prior_scale=0.15,\n",
    "    seasonality_prior_scale=15,\n",
    "    uncertainty_samples=2000,\n",
    "    holidays=earnings_dates\n",
    ")"
   ]
  },
  {
   "cell_type": "code",
   "execution_count": 14,
   "metadata": {},
   "outputs": [
    {
     "data": {
      "text/plain": [
       "<prophet.forecaster.Prophet at 0x30ede6e50>"
      ]
     },
     "execution_count": 14,
     "metadata": {},
     "output_type": "execute_result"
    }
   ],
   "source": [
    "model.add_seasonality(name='weekly', period=7, fourier_order=3)\n",
    "model.add_seasonality(name='monthly', period=30.5, fourier_order=5)"
   ]
  },
  {
   "cell_type": "code",
   "execution_count": 15,
   "metadata": {},
   "outputs": [],
   "source": [
    "data['y'] = np.log(data['y']) "
   ]
  },
  {
   "cell_type": "code",
   "execution_count": 16,
   "metadata": {},
   "outputs": [
    {
     "name": "stderr",
     "output_type": "stream",
     "text": [
      "14:24:36 - cmdstanpy - INFO - Chain [1] start processing\n"
     ]
    },
    {
     "name": "stderr",
     "output_type": "stream",
     "text": [
      "14:24:36 - cmdstanpy - INFO - Chain [1] done processing\n"
     ]
    },
    {
     "data": {
      "text/plain": [
       "<prophet.forecaster.Prophet at 0x30ede6e50>"
      ]
     },
     "execution_count": 16,
     "metadata": {},
     "output_type": "execute_result"
    }
   ],
   "source": [
    "model.fit(data)"
   ]
  },
  {
   "cell_type": "code",
   "execution_count": 17,
   "metadata": {},
   "outputs": [],
   "source": [
    "future = model.make_future_dataframe(periods=30)"
   ]
  },
  {
   "cell_type": "code",
   "execution_count": 18,
   "metadata": {},
   "outputs": [],
   "source": [
    "forecast = model.predict(future)"
   ]
  },
  {
   "cell_type": "code",
   "execution_count": 19,
   "metadata": {},
   "outputs": [],
   "source": [
    "forecast['yhat'] = np.exp(forecast['yhat'])\n",
    "forecast['yhat_lower'] = np.exp(forecast['yhat_lower'])\n",
    "forecast['yhat_upper'] = np.exp(forecast['yhat_upper'])"
   ]
  },
  {
   "cell_type": "code",
   "execution_count": 20,
   "metadata": {},
   "outputs": [
    {
     "data": {
      "image/png": "[encoded data removed]",
      "text/plain": [
       "<Figure size 1000x600 with 1 Axes>"
      ]
     },
     "metadata": {},
     "output_type": "display_data"
    }
   ],
   "source": [
    "fig = model.plot(forecast)\n",
    "plt.title(\"Apple Stock Price Forecast\")\n",
    "plt.xlabel(\"Date\")\n",
    "plt.ylabel(\"Price\")\n",
    "plt.show()"
   ]
  },
  {
   "cell_type": "code",
   "execution_count": 21,
   "metadata": {},
   "outputs": [
    {
     "data": {
      "text/html": [
       "<div>\n",
       "<style scoped>\n",
       "    .dataframe tbody tr th:only-of-type {\n",
       "        vertical-align: middle;\n",
       "    }\n",
       "\n",
       "    .dataframe tbody tr th {\n",
       "        vertical-align: top;\n",
       "    }\n",
       "\n",
       "    .dataframe thead th {\n",
       "        text-align: right;\n",
       "    }\n",
       "</style>\n",
       "<table border=\"1\" class=\"dataframe\">\n",
       "  <thead>\n",
       "    <tr style=\"text-align: right;\">\n",
       "      <th></th>\n",
       "      <th>ds</th>\n",
       "      <th>yhat</th>\n",
       "      <th>yhat_lower</th>\n",
       "      <th>yhat_upper</th>\n",
       "    </tr>\n",
       "  </thead>\n",
       "  <tbody>\n",
       "    <tr>\n",
       "      <th>303</th>\n",
       "      <td>2025-03-19</td>\n",
       "      <td>223.960343</td>\n",
       "      <td>217.801989</td>\n",
       "      <td>230.230945</td>\n",
       "    </tr>\n",
       "    <tr>\n",
       "      <th>304</th>\n",
       "      <td>2025-03-20</td>\n",
       "      <td>225.411138</td>\n",
       "      <td>219.075542</td>\n",
       "      <td>231.835649</td>\n",
       "    </tr>\n",
       "    <tr>\n",
       "      <th>305</th>\n",
       "      <td>2025-03-21</td>\n",
       "      <td>227.258458</td>\n",
       "      <td>220.874447</td>\n",
       "      <td>233.616870</td>\n",
       "    </tr>\n",
       "    <tr>\n",
       "      <th>306</th>\n",
       "      <td>2025-03-22</td>\n",
       "      <td>225.204043</td>\n",
       "      <td>218.721569</td>\n",
       "      <td>231.763563</td>\n",
       "    </tr>\n",
       "    <tr>\n",
       "      <th>307</th>\n",
       "      <td>2025-03-23</td>\n",
       "      <td>223.670409</td>\n",
       "      <td>217.414279</td>\n",
       "      <td>230.595707</td>\n",
       "    </tr>\n",
       "    <tr>\n",
       "      <th>308</th>\n",
       "      <td>2025-03-24</td>\n",
       "      <td>223.475750</td>\n",
       "      <td>217.035159</td>\n",
       "      <td>230.011265</td>\n",
       "    </tr>\n",
       "    <tr>\n",
       "      <th>309</th>\n",
       "      <td>2025-03-25</td>\n",
       "      <td>222.460909</td>\n",
       "      <td>216.178027</td>\n",
       "      <td>229.149347</td>\n",
       "    </tr>\n",
       "    <tr>\n",
       "      <th>310</th>\n",
       "      <td>2025-03-26</td>\n",
       "      <td>222.883170</td>\n",
       "      <td>216.307963</td>\n",
       "      <td>229.317993</td>\n",
       "    </tr>\n",
       "    <tr>\n",
       "      <th>311</th>\n",
       "      <td>2025-03-27</td>\n",
       "      <td>224.351310</td>\n",
       "      <td>217.613385</td>\n",
       "      <td>231.140752</td>\n",
       "    </tr>\n",
       "    <tr>\n",
       "      <th>312</th>\n",
       "      <td>2025-03-28</td>\n",
       "      <td>225.639687</td>\n",
       "      <td>218.778552</td>\n",
       "      <td>232.397656</td>\n",
       "    </tr>\n",
       "    <tr>\n",
       "      <th>313</th>\n",
       "      <td>2025-03-29</td>\n",
       "      <td>223.141831</td>\n",
       "      <td>216.615933</td>\n",
       "      <td>230.149215</td>\n",
       "    </tr>\n",
       "    <tr>\n",
       "      <th>314</th>\n",
       "      <td>2025-03-30</td>\n",
       "      <td>221.988052</td>\n",
       "      <td>214.994803</td>\n",
       "      <td>229.407738</td>\n",
       "    </tr>\n",
       "    <tr>\n",
       "      <th>315</th>\n",
       "      <td>2025-03-31</td>\n",
       "      <td>222.938872</td>\n",
       "      <td>215.466160</td>\n",
       "      <td>230.517934</td>\n",
       "    </tr>\n",
       "    <tr>\n",
       "      <th>316</th>\n",
       "      <td>2025-04-01</td>\n",
       "      <td>222.867293</td>\n",
       "      <td>215.169288</td>\n",
       "      <td>230.508792</td>\n",
       "    </tr>\n",
       "    <tr>\n",
       "      <th>317</th>\n",
       "      <td>2025-04-02</td>\n",
       "      <td>222.905513</td>\n",
       "      <td>215.083939</td>\n",
       "      <td>231.026401</td>\n",
       "    </tr>\n",
       "    <tr>\n",
       "      <th>318</th>\n",
       "      <td>2025-04-03</td>\n",
       "      <td>222.433662</td>\n",
       "      <td>214.137474</td>\n",
       "      <td>231.128096</td>\n",
       "    </tr>\n",
       "    <tr>\n",
       "      <th>319</th>\n",
       "      <td>2025-04-04</td>\n",
       "      <td>221.202080</td>\n",
       "      <td>212.952748</td>\n",
       "      <td>229.760245</td>\n",
       "    </tr>\n",
       "    <tr>\n",
       "      <th>320</th>\n",
       "      <td>2025-04-05</td>\n",
       "      <td>217.107368</td>\n",
       "      <td>208.939349</td>\n",
       "      <td>226.070060</td>\n",
       "    </tr>\n",
       "    <tr>\n",
       "      <th>321</th>\n",
       "      <td>2025-04-06</td>\n",
       "      <td>215.839651</td>\n",
       "      <td>207.626143</td>\n",
       "      <td>225.370645</td>\n",
       "    </tr>\n",
       "    <tr>\n",
       "      <th>322</th>\n",
       "      <td>2025-04-07</td>\n",
       "      <td>217.644351</td>\n",
       "      <td>208.585781</td>\n",
       "      <td>226.826059</td>\n",
       "    </tr>\n",
       "    <tr>\n",
       "      <th>323</th>\n",
       "      <td>2025-04-08</td>\n",
       "      <td>218.447599</td>\n",
       "      <td>208.939394</td>\n",
       "      <td>228.521415</td>\n",
       "    </tr>\n",
       "    <tr>\n",
       "      <th>324</th>\n",
       "      <td>2025-04-09</td>\n",
       "      <td>218.789325</td>\n",
       "      <td>208.872818</td>\n",
       "      <td>229.361933</td>\n",
       "    </tr>\n",
       "    <tr>\n",
       "      <th>325</th>\n",
       "      <td>2025-04-10</td>\n",
       "      <td>218.477183</td>\n",
       "      <td>208.197131</td>\n",
       "      <td>230.081517</td>\n",
       "    </tr>\n",
       "    <tr>\n",
       "      <th>326</th>\n",
       "      <td>2025-04-11</td>\n",
       "      <td>218.130175</td>\n",
       "      <td>207.744578</td>\n",
       "      <td>229.132180</td>\n",
       "    </tr>\n",
       "    <tr>\n",
       "      <th>327</th>\n",
       "      <td>2025-04-12</td>\n",
       "      <td>215.941625</td>\n",
       "      <td>204.892506</td>\n",
       "      <td>228.193162</td>\n",
       "    </tr>\n",
       "    <tr>\n",
       "      <th>328</th>\n",
       "      <td>2025-04-13</td>\n",
       "      <td>216.786704</td>\n",
       "      <td>205.558074</td>\n",
       "      <td>229.350397</td>\n",
       "    </tr>\n",
       "    <tr>\n",
       "      <th>329</th>\n",
       "      <td>2025-04-14</td>\n",
       "      <td>219.727834</td>\n",
       "      <td>207.430882</td>\n",
       "      <td>233.970551</td>\n",
       "    </tr>\n",
       "    <tr>\n",
       "      <th>330</th>\n",
       "      <td>2025-04-15</td>\n",
       "      <td>219.995436</td>\n",
       "      <td>207.563127</td>\n",
       "      <td>234.863701</td>\n",
       "    </tr>\n",
       "    <tr>\n",
       "      <th>331</th>\n",
       "      <td>2025-04-16</td>\n",
       "      <td>218.697475</td>\n",
       "      <td>205.341881</td>\n",
       "      <td>233.551939</td>\n",
       "    </tr>\n",
       "    <tr>\n",
       "      <th>332</th>\n",
       "      <td>2025-04-17</td>\n",
       "      <td>216.990916</td>\n",
       "      <td>203.460646</td>\n",
       "      <td>231.707696</td>\n",
       "    </tr>\n",
       "  </tbody>\n",
       "</table>\n",
       "</div>"
      ],
      "text/plain": [
       "            ds        yhat  yhat_lower  yhat_upper\n",
       "303 2025-03-19  223.960343  217.801989  230.230945\n",
       "304 2025-03-20  225.411138  219.075542  231.835649\n",
       "305 2025-03-21  227.258458  220.874447  233.616870\n",
       "306 2025-03-22  225.204043  218.721569  231.763563\n",
       "307 2025-03-23  223.670409  217.414279  230.595707\n",
       "308 2025-03-24  223.475750  217.035159  230.011265\n",
       "309 2025-03-25  222.460909  216.178027  229.149347\n",
       "310 2025-03-26  222.883170  216.307963  229.317993\n",
       "311 2025-03-27  224.351310  217.613385  231.140752\n",
       "312 2025-03-28  225.639687  218.778552  232.397656\n",
       "313 2025-03-29  223.141831  216.615933  230.149215\n",
       "314 2025-03-30  221.988052  214.994803  229.407738\n",
       "315 2025-03-31  222.938872  215.466160  230.517934\n",
       "316 2025-04-01  222.867293  215.169288  230.508792\n",
       "317 2025-04-02  222.905513  215.083939  231.026401\n",
       "318 2025-04-03  222.433662  214.137474  231.128096\n",
       "319 2025-04-04  221.202080  212.952748  229.760245\n",
       "320 2025-04-05  217.107368  208.939349  226.070060\n",
       "321 2025-04-06  215.839651  207.626143  225.370645\n",
       "322 2025-04-07  217.644351  208.585781  226.826059\n",
       "323 2025-04-08  218.447599  208.939394  228.521415\n",
       "324 2025-04-09  218.789325  208.872818  229.361933\n",
       "325 2025-04-10  218.477183  208.197131  230.081517\n",
       "326 2025-04-11  218.130175  207.744578  229.132180\n",
       "327 2025-04-12  215.941625  204.892506  228.193162\n",
       "328 2025-04-13  216.786704  205.558074  229.350397\n",
       "329 2025-04-14  219.727834  207.430882  233.970551\n",
       "330 2025-04-15  219.995436  207.563127  234.863701\n",
       "331 2025-04-16  218.697475  205.341881  233.551939\n",
       "332 2025-04-17  216.990916  203.460646  231.707696"
      ]
     },
     "execution_count": 21,
     "metadata": {},
     "output_type": "execute_result"
    }
   ],
   "source": [
    "forecast[['ds', 'yhat', 'yhat_lower', 'yhat_upper']].tail(30)"
   ]
  },
  {
   "cell_type": "code",
   "execution_count": null,
   "metadata": {},
   "outputs": [],
   "source": []
  }
 ],
 "metadata": {
  "kernelspec": {
   "display_name": "stocksflags",
   "language": "python",
   "name": "python3"
  },
  "language_info": {
   "codemirror_mode": {
    "name": "ipython",
    "version": 3
   },
   "file_extension": ".py",
   "mimetype": "text/x-python",
   "name": "python",
   "nbconvert_exporter": "python",
   "pygments_lexer": "ipython3",
   "version": "3.11.11"
  }
 },
 "nbformat": 4,
 "nbformat_minor": 2
}
