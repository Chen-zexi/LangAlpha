{
 "cells": [
  {
   "cell_type": "code",
   "execution_count": 1,
   "metadata": {},
   "outputs": [
    {
     "name": "stdout",
     "output_type": "stream",
     "text": [
      "FINANCIAL_DATASETS_API_KEY is set\n",
      "DB_USER and DB_PASSWORD are set\n"
     ]
    }
   ],
   "source": [
    "import sys\n",
    "import os\n",
    "import pandas as pd\n",
    "import warnings\n",
    "import json\n",
    "from pydantic import BaseModel\n",
    "\n",
    "# Add the src folder to the path\n",
    "sys.path.append(os.path.abspath('..'))\n",
    "warnings.filterwarnings(\"ignore\", category=FutureWarning)\n",
    "\n",
    "# Import the classes\n",
    "from src.data_tool.yahoo_finance import yahoo_finance\n",
    "from src.data_tool.get_data_fd import get_prices, get_financial_metrics, search_line_items, get_insider_trades, get_company_news\n",
    "from src.data_tool.ploygon import polygon\n",
    "from src.data_tool.financial_datasets import FinancialDatasets\n",
    "from src.database_tool.connect_db import ConnectDB\n",
    "from src.data_tool.get_data import calculate_financial_metrics\n",
    "from src.data_tool.connect_wrds import get_fundamentals_quarterly, get_security_daily\n",
    "\n",
    "from src.llm.api_call import call_llm\n",
    "from langchain_core.prompts import ChatPromptTemplate\n",
    "\n",
    "db =ConnectDB()\n",
    "engine = db.get_engine()"
   ]
  },
  {
   "cell_type": "code",
   "execution_count": 2,
   "metadata": {},
   "outputs": [],
   "source": [
    "ticker = 'NVDA'\n",
    "date = '2025-04-02'"
   ]
  },
  {
   "cell_type": "code",
   "execution_count": 3,
   "metadata": {},
   "outputs": [],
   "source": [
    "#fundamentals_df = get_fundamentals_quarterly(tickers=[ticker], start_date='2024-04-02', end_date=date)\n",
    "#security_df = get_security_daily(tickers=[ticker], start_date=date, end_date=date)\n"
   ]
  },
  {
   "cell_type": "code",
   "execution_count": 4,
   "metadata": {},
   "outputs": [],
   "source": [
    "#fundamentals_df"
   ]
  },
  {
   "cell_type": "code",
   "execution_count": 5,
   "metadata": {},
   "outputs": [],
   "source": [
    "#fundamentals_df.isnull().sum()"
   ]
  },
  {
   "cell_type": "code",
   "execution_count": 6,
   "metadata": {},
   "outputs": [],
   "source": [
    "#security_df"
   ]
  },
  {
   "cell_type": "code",
   "execution_count": 7,
   "metadata": {},
   "outputs": [],
   "source": [
    "#security_df.isnull().sum()"
   ]
  },
  {
   "cell_type": "code",
   "execution_count": 8,
   "metadata": {},
   "outputs": [
    {
     "name": "stderr",
     "output_type": "stream",
     "text": [
      "2025-04-03 15:14:24,930 - src.data_tool.get_data - INFO - Starting financial metrics calculation for NVDA as of 2025-04-02\n"
     ]
    },
    {
     "name": "stdout",
     "output_type": "stream",
     "text": [
      "Loading library list...\n"
     ]
    },
    {
     "name": "stderr",
     "output_type": "stream",
     "text": [
      "2025-04-03 15:14:27,167 - src.data_tool.connect_wrds - INFO - Successfully connected to WRDS\n",
      "2025-04-03 15:14:27,197 - src.data_tool.connect_wrds - INFO - Retrieved 1 GVKEYs for tickers\n",
      "2025-04-03 15:14:27,226 - src.data_tool.connect_wrds - INFO - Retrieved 1 security daily records\n",
      "2025-04-03 15:14:27,227 - src.data_tool.connect_wrds - INFO - WRDS connection closed\n"
     ]
    },
    {
     "name": "stdout",
     "output_type": "stream",
     "text": [
      "Done\n",
      "Loading library list...\n"
     ]
    },
    {
     "name": "stderr",
     "output_type": "stream",
     "text": [
      "2025-04-03 15:14:29,500 - src.data_tool.connect_wrds - INFO - Successfully connected to WRDS\n",
      "2025-04-03 15:14:29,534 - src.data_tool.connect_wrds - INFO - Retrieved 1 GVKEYs for tickers\n",
      "2025-04-03 15:14:29,535 - src.data_tool.connect_wrds - INFO - Using gvkeys: '117768'\n",
      "2025-04-03 15:14:29,535 - src.data_tool.connect_wrds - INFO - Executing quarterly fundamentals query for date range: 2024-04-02 to 2025-04-02\n",
      "2025-04-03 15:14:29,570 - src.data_tool.connect_wrds - INFO - Retrieved 4 quarterly fundamental records\n",
      "2025-04-03 15:14:29,571 - src.data_tool.connect_wrds - INFO - WRDS connection closed\n",
      "2025-04-03 15:14:29,571 - src.data_tool.get_data - INFO - Retrieved fundamentals data: 4 rows\n",
      "2025-04-03 15:14:29,572 - src.data_tool.get_data - INFO - Retrieved security data: 1 rows\n",
      "2025-04-03 15:14:29,574 - src.data_tool.get_data - INFO - Successfully calculated metrics for NVDA\n"
     ]
    },
    {
     "name": "stdout",
     "output_type": "stream",
     "text": [
      "Done\n"
     ]
    }
   ],
   "source": [
    "nvda_data = calculate_financial_metrics(ticker=ticker, date='2025-04-02')"
   ]
  },
  {
   "cell_type": "code",
   "execution_count": 9,
   "metadata": {},
   "outputs": [
    {
     "data": {
      "text/plain": [
       "FinancialMetrics(ticker='NVDA', report_period='2025-01-31', period='Q4 2024', currency='USD', market_cap=2694248.0, earnings_growth=0.1392405063291139, fcf_yield=0.022586265258432037, return_on_equity=0.2784802148070644, return_on_invested_capital=0.2473546898968749, operating_margin=0.6248760519691846, gross_margin=0.7440949886857695, earnings_per_share=0.9, basic_eps=0.9, diluted_eps=0.89, net_income=22091.0, revenue=39331.0, debt_to_equity=0.12583357494926065, current_ratio=4.439851498864077, current_assets=80126.0, current_liabilities=18047.0, total_assets=111601.0, total_liabilities=32274.0, book_value_per_share=3.240879192711525, outstanding_shares=24477.0, dividends=0.0, special_distributions=0.0, free_cash_flow=60853.0, operating_cash_flow=64089.0, capital_expenditure=3236.0)"
      ]
     },
     "execution_count": 9,
     "metadata": {},
     "output_type": "execute_result"
    }
   ],
   "source": [
    "nvda_data"
   ]
  },
  {
   "cell_type": "code",
   "execution_count": 12,
   "metadata": {},
   "outputs": [
    {
     "data": {
      "text/plain": [
       "{'ticker': 'NVDA',\n",
       " 'report_period': '2025-01-31',\n",
       " 'period': 'Q4 2024',\n",
       " 'currency': 'USD',\n",
       " 'market_cap': 2694248.0,\n",
       " 'earnings_growth': 0.1392405063291139,\n",
       " 'fcf_yield': 0.022586265258432037,\n",
       " 'return_on_equity': 0.2784802148070644,\n",
       " 'return_on_invested_capital': 0.2473546898968749,\n",
       " 'operating_margin': 0.6248760519691846,\n",
       " 'gross_margin': 0.7440949886857695,\n",
       " 'earnings_per_share': 0.9,\n",
       " 'basic_eps': 0.9,\n",
       " 'diluted_eps': 0.89,\n",
       " 'net_income': 22091.0,\n",
       " 'revenue': 39331.0,\n",
       " 'debt_to_equity': 0.12583357494926065,\n",
       " 'current_ratio': 4.439851498864077,\n",
       " 'current_assets': 80126.0,\n",
       " 'current_liabilities': 18047.0,\n",
       " 'total_assets': 111601.0,\n",
       " 'total_liabilities': 32274.0,\n",
       " 'book_value_per_share': 3.240879192711525,\n",
       " 'outstanding_shares': 24477.0,\n",
       " 'dividends': 0.0,\n",
       " 'special_distributions': 0.0,\n",
       " 'free_cash_flow': 60853.0,\n",
       " 'operating_cash_flow': 64089.0,\n",
       " 'capital_expenditure': 3236.0}"
      ]
     },
     "execution_count": 12,
     "metadata": {},
     "output_type": "execute_result"
    }
   ],
   "source": [
    "nvda_data.model_dump()"
   ]
  }
 ],
 "metadata": {
  "kernelspec": {
   "display_name": "stocksflags",
   "language": "python",
   "name": "python3"
  },
  "language_info": {
   "codemirror_mode": {
    "name": "ipython",
    "version": 3
   },
   "file_extension": ".py",
   "mimetype": "text/x-python",
   "name": "python",
   "nbconvert_exporter": "python",
   "pygments_lexer": "ipython3",
   "version": "3.11.11"
  }
 },
 "nbformat": 4,
 "nbformat_minor": 2
}
