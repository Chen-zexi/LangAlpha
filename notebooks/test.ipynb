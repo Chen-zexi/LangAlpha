{
 "cells": [
  {
   "cell_type": "code",
   "execution_count": 1,
   "metadata": {},
   "outputs": [],
   "source": [
    "import nest_asyncio\n",
    "nest_asyncio.apply()"
   ]
  },
  {
   "cell_type": "code",
   "execution_count": 2,
   "metadata": {},
   "outputs": [],
   "source": [
    "import json"
   ]
  },
  {
   "cell_type": "code",
   "execution_count": 3,
   "metadata": {},
   "outputs": [
    {
     "name": "stderr",
     "output_type": "stream",
     "text": [
      "/Users/chen/anaconda3/envs/langalpha/lib/python3.11/site-packages/secedgar/client.py:218: XMLParsedAsHTMLWarning: It looks like you're parsing an XML document using an HTML parser. If this really is an HTML document (maybe it's XHTML?), you can ignore or filter this warning. If it's XML, you should know that using an XML parser will be more reliable. To parse this document as XML, make sure you have the lxml package installed, and pass the keyword argument `features=\"xml\"` into the BeautifulSoup constructor.\n",
      "  return BeautifulSoup(self.get_response(path, params, **kwargs).text,\n",
      "320it [00:32,  9.98it/s]                         \n"
     ]
    }
   ],
   "source": [
    "from secedgar import filings, FilingType\n",
    "\n",
    "# 10Q filings for Apple (ticker \"aapl\")\n",
    "my_filings = filings(cik_lookup=\"aapl\",\n",
    "                     filing_type=FilingType.FILING_10Q,\n",
    "                     user_agent=\"zc2610@nyu.edu\")\n",
    "my_filings.save('../data/10Q')"
   ]
  }
 ],
 "metadata": {
  "kernelspec": {
   "display_name": "langalpha",
   "language": "python",
   "name": "python3"
  },
  "language_info": {
   "codemirror_mode": {
    "name": "ipython",
    "version": 3
   },
   "file_extension": ".py",
   "mimetype": "text/x-python",
   "name": "python",
   "nbconvert_exporter": "python",
   "pygments_lexer": "ipython3",
   "version": "3.11.11"
  }
 },
 "nbformat": 4,
 "nbformat_minor": 2
}
