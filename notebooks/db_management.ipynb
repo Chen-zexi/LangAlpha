{
 "cells": [
  {
   "cell_type": "code",
   "execution_count": 1,
   "metadata": {},
   "outputs": [
    {
     "name": "stdout",
     "output_type": "stream",
     "text": [
      "FINANCIAL_DATASETS_API_KEY is set\n",
      "YAHOO_CONSUMER_KEY and YAHOO_CONSUMER_SECRET are set\n",
      "YAHOO_APP_ID is set\n",
      "POLYGON_API_KEY is set\n",
      "DB_USER and DB_PASSWORD are set\n"
     ]
    }
   ],
   "source": [
    "# Import the necessary libraries\n",
    "import sys\n",
    "import os\n",
    "import pandas as pd\n",
    "import warnings\n",
    "\n",
    "# Add the src folder to the path\n",
    "sys.path.append(os.path.abspath('..'))\n",
    "warnings.filterwarnings(\"ignore\", category=FutureWarning)\n",
    "\n",
    "# Import the classes\n",
    "from src.data_tool.connect_wrds import get_wrds_data, get_security_daily\n",
    "from src.data_tool.yahoo_finance import yahoo_finance\n",
    "from src.data_tool.ploygon import polygon\n",
    "from src.data_tool.financial_datasets import FinancialDatasets\n",
    "from src.data_tool.connect_db import ConnectDB\n",
    "from src.data_tool.create_table import TableCreator\n",
    "\n",
    "# Initialize the classes\n",
    "yf = yahoo_finance()\n",
    "pl = polygon()\n",
    "fd = FinancialDatasets()\n",
    "\n",
    "db =ConnectDB()\n",
    "engine = db.get_engine()\n"
   ]
  },
  {
   "cell_type": "code",
   "execution_count": null,
   "metadata": {},
   "outputs": [],
   "source": [
    "def get_database_size(db_instance, database_name):\n",
    "    \"\"\"\n",
    "    Retrieves the total size of the database.\n",
    "    \"\"\"\n",
    "    sql_statement = f\"\"\"\n",
    "    SELECT table_schema \"database_name\", \n",
    "           sum(data_length + index_length) / 1024 / 1024 \"database_size_mb\" \n",
    "    FROM information_schema.TABLES \n",
    "    WHERE table_schema = '{database_name}'\n",
    "    GROUP BY table_schema;\n",
    "    \"\"\"\n",
    "    result = db_instance.execute_sql(sql_statement)\n",
    "    df = pd.DataFrame(result.fetchall(), columns=result.keys())\n",
    "    return df\n",
    "\n",
    "database_name = 'Elite_Traders' # Replace with your database name if different\n",
    "database_size_df = get_database_size(db, database_name)\n",
    "print(database_size_df)"
   ]
  },
  {
   "cell_type": "code",
   "execution_count": null,
   "metadata": {},
   "outputs": [],
   "source": [
    "def get_table_sizes(db_instance):\n",
    "    \"\"\"\n",
    "    Retrieves the size of each table in the database.\n",
    "    \"\"\"\n",
    "    sql_statement = \"SHOW TABLE STATUS\"\n",
    "    result = db_instance.execute_sql(sql_statement)\n",
    "    df = pd.DataFrame(result.fetchall(), columns=result.keys())\n",
    "    size_df = df[['Name', 'Data_length', 'Index_length', 'Data_free']]\n",
    "    size_df['Total_size'] = size_df['Data_length'] + size_df['Index_length']\n",
    "    size_df['Data_length_MB'] = size_df['Data_length'] / 1024 / 1024\n",
    "    size_df['Index_length_MB'] = size_df['Index_length'] / 1024 / 1024\n",
    "    size_df['Data_free_MB'] = size_df['Data_free'] / 1024 / 1024\n",
    "    size_df['Total_size_MB'] = size_df['Total_size'] / 1024 / 1024\n",
    "    return size_df\n",
    "\n",
    "table_sizes_df = get_table_sizes(db)\n",
    "print(table_sizes_df)"
   ]
  },
  {
   "cell_type": "code",
   "execution_count": 3,
   "metadata": {},
   "outputs": [
    {
     "data": {
      "text/html": [
       "<div>\n",
       "<style scoped>\n",
       "    .dataframe tbody tr th:only-of-type {\n",
       "        vertical-align: middle;\n",
       "    }\n",
       "\n",
       "    .dataframe tbody tr th {\n",
       "        vertical-align: top;\n",
       "    }\n",
       "\n",
       "    .dataframe thead th {\n",
       "        text-align: right;\n",
       "    }\n",
       "</style>\n",
       "<table border=\"1\" class=\"dataframe\">\n",
       "  <thead>\n",
       "    <tr style=\"text-align: right;\">\n",
       "      <th></th>\n",
       "      <th>Tables</th>\n",
       "    </tr>\n",
       "  </thead>\n",
       "  <tbody>\n",
       "    <tr>\n",
       "      <th>0</th>\n",
       "      <td>capital_structure_debt</td>\n",
       "    </tr>\n",
       "    <tr>\n",
       "      <th>1</th>\n",
       "      <td>capital_structure_equity</td>\n",
       "    </tr>\n",
       "    <tr>\n",
       "      <th>2</th>\n",
       "      <td>capital_structure_summary</td>\n",
       "    </tr>\n",
       "    <tr>\n",
       "      <th>3</th>\n",
       "      <td>financial_ratios</td>\n",
       "    </tr>\n",
       "    <tr>\n",
       "      <th>4</th>\n",
       "      <td>fundamentals_annual</td>\n",
       "    </tr>\n",
       "    <tr>\n",
       "      <th>5</th>\n",
       "      <td>fundamentals_quarterly</td>\n",
       "    </tr>\n",
       "    <tr>\n",
       "      <th>6</th>\n",
       "      <td>identifiers</td>\n",
       "    </tr>\n",
       "    <tr>\n",
       "      <th>7</th>\n",
       "      <td>key_developments</td>\n",
       "    </tr>\n",
       "    <tr>\n",
       "      <th>8</th>\n",
       "      <td>security_daily</td>\n",
       "    </tr>\n",
       "  </tbody>\n",
       "</table>\n",
       "</div>"
      ],
      "text/plain": [
       "                      Tables\n",
       "0     capital_structure_debt\n",
       "1   capital_structure_equity\n",
       "2  capital_structure_summary\n",
       "3           financial_ratios\n",
       "4        fundamentals_annual\n",
       "5     fundamentals_quarterly\n",
       "6                identifiers\n",
       "7           key_developments\n",
       "8             security_daily"
      ]
     },
     "execution_count": 3,
     "metadata": {},
     "output_type": "execute_result"
    }
   ],
   "source": [
    "db.show_tables()"
   ]
  },
  {
   "cell_type": "code",
   "execution_count": null,
   "metadata": {},
   "outputs": [],
   "source": [
    "db.read_table('key_developments')"
   ]
  },
  {
   "cell_type": "code",
   "execution_count": 8,
   "metadata": {},
   "outputs": [],
   "source": [
    "tickers = ['AAPL']\n",
    "start_date = '2023-01-01'\n",
    "end_date = '2023-12-31'"
   ]
  },
  {
   "cell_type": "code",
   "execution_count": 9,
   "metadata": {},
   "outputs": [],
   "source": [
    "data = yf.get_data(tickers, start_date, end_date)"
   ]
  },
  {
   "cell_type": "code",
   "execution_count": null,
   "metadata": {},
   "outputs": [],
   "source": [
    "df = pd.DataFrame(data)\n",
    "df"
   ]
  },
  {
   "cell_type": "code",
   "execution_count": null,
   "metadata": {},
   "outputs": [],
   "source": [
    "db.create_table('test', df)"
   ]
  }
 ],
 "metadata": {
  "kernelspec": {
   "display_name": "stocksflags",
   "language": "python",
   "name": "python3"
  },
  "language_info": {
   "codemirror_mode": {
    "name": "ipython",
    "version": 3
   },
   "file_extension": ".py",
   "mimetype": "text/x-python",
   "name": "python",
   "nbconvert_exporter": "python",
   "pygments_lexer": "ipython3",
   "version": "3.11.11"
  }
 },
 "nbformat": 4,
 "nbformat_minor": 2
}
