{
 "cells": [
  {
   "cell_type": "code",
   "execution_count": 1,
   "metadata": {},
   "outputs": [],
   "source": [
    "import requests\n",
    "import os\n",
    "from dotenv import load_dotenv\n",
    "\n",
    "load_dotenv()\n",
    "fd_key = os.getenv('FINANCIAL_DATASETS_API_KEY')"
   ]
  },
  {
   "cell_type": "code",
   "execution_count": 2,
   "metadata": {},
   "outputs": [
    {
     "name": "stdout",
     "output_type": "stream",
     "text": [
      "14d0ddb1-4ea3-4a32-9a85-8d8f03648b3e\n"
     ]
    }
   ],
   "source": [
    "print(fd_key)"
   ]
  },
  {
   "cell_type": "code",
   "execution_count": 11,
   "metadata": {},
   "outputs": [],
   "source": [
    "headers = {\n",
    "    \"X-API-KEY\": fd_key\n",
    "}\n",
    "\n",
    "base_url = 'https://api.financialdatasets.ai'\n",
    "\n",
    "# set your query params\n",
    "ticker = 'AAPL'\n",
    "\n",
    "# create the URL\n",
    "url = (\n",
    "    f'{base_url}/company/facts'\n",
    "    f'?ticker={ticker}'\n",
    ")\n",
    "\n",
    "# make API request\n",
    "response = requests.get(url, headers=headers)\n",
    "\n",
    "# parse company_facts from the response\n",
    "company_facts = response.json().get('company_facts')"
   ]
  },
  {
   "cell_type": "code",
   "execution_count": 12,
   "metadata": {},
   "outputs": [
    {
     "name": "stdout",
     "output_type": "stream",
     "text": [
      "{'ticker': 'AAPL', 'name': 'Apple Inc', 'cik': '0000320193', 'industry': 'Consumer Electronics', 'sector': 'Technology', 'category': 'Common Stock', 'exchange': 'NASDAQ', 'is_active': True, 'listing_date': '1980-12-12', 'location': 'California; U.S.A', 'market_cap': 3198875334985.0, 'number_of_employees': 164000, 'sec_filings_url': 'https://www.sec.gov/cgi-bin/browse-edgar?action=getcompany&CIK=0000320193', 'sic_code': '3571.0', 'sic_industry': 'Electronic Computers', 'sic_sector': 'Manufacturing', 'website_url': 'https://www.apple.com', 'weighted_average_shares': 15022073000}\n"
     ]
    }
   ],
   "source": [
    "print(company_facts)"
   ]
  },
  {
   "cell_type": "code",
   "execution_count": 19,
   "metadata": {},
   "outputs": [
    {
     "name": "stdout",
     "output_type": "stream",
     "text": [
      "AAPL\n",
      "{'error': 'Invalid ticker', 'message': 'Please provide a valid ticker from https://api.financialdatasets.ai/earnings/press-releases/tickers'}\n"
     ]
    }
   ],
   "source": [
    "url = (\n",
    "    f'{base_url}/earnings/press-releases'\n",
    "    f'?ticker=AAPL'\n",
    ")\n",
    "# make API request\n",
    "response2 = requests.get(url, headers=headers)\n",
    "\n",
    "# parse press releases from the response\n",
    "press_releases = response2.json().get('press_releases')\n",
    "print(response2.json())"
   ]
  },
  {
   "cell_type": "code",
   "execution_count": null,
   "metadata": {},
   "outputs": [],
   "source": []
  },
  {
   "cell_type": "code",
   "execution_count": 16,
   "metadata": {},
   "outputs": [
    {
     "name": "stdout",
     "output_type": "stream",
     "text": [
      "None\n"
     ]
    }
   ],
   "source": [
    "print(press_releases)"
   ]
  }
 ],
 "metadata": {
  "kernelspec": {
   "display_name": "stocksflags",
   "language": "python",
   "name": "python3"
  },
  "language_info": {
   "codemirror_mode": {
    "name": "ipython",
    "version": 3
   },
   "file_extension": ".py",
   "mimetype": "text/x-python",
   "name": "python",
   "nbconvert_exporter": "python",
   "pygments_lexer": "ipython3",
   "version": "3.11.11"
  }
 },
 "nbformat": 4,
 "nbformat_minor": 2
}
