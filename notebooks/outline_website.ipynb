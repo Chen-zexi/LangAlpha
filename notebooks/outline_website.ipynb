{
  "nbformat": 4,
  "nbformat_minor": 0,
  "metadata": {
    "colab": {
      "provenance": []
    },
    "kernelspec": {
      "name": "python3",
      "display_name": "Python 3"
    },
    "language_info": {
      "name": "python"
    }
  },
  "cells": [
    {
      "cell_type": "code",
      "source": [
        "!pip install -q flask-ngrok\n",
        "!pip install -q pyngrok"
      ],
      "metadata": {
        "id": "YxJifl-NXNRQ"
      },
      "execution_count": null,
      "outputs": []
    },
    {
      "cell_type": "code",
      "source": [
        "from pyngrok import ngrok"
      ],
      "metadata": {
        "id": "v_B1KGsWXQZN"
      },
      "execution_count": null,
      "outputs": []
    },
    {
      "cell_type": "code",
      "execution_count": null,
      "metadata": {
        "id": "krB3VJWeXH1C"
      },
      "outputs": [],
      "source": [
        "from google.colab import userdata\n",
        "key = userdata.get('grok_token')"
      ]
    },
    {
      "cell_type": "code",
      "source": [
        "!ngrok authtoken {key}"
      ],
      "metadata": {
        "id": "ZtpfhMNSXpeq",
        "colab": {
          "base_uri": "https://localhost:8080/"
        },
        "outputId": "c72b30b9-bbce-4f2e-922c-4ce349d9baee"
      },
      "execution_count": null,
      "outputs": [
        {
          "output_type": "stream",
          "name": "stdout",
          "text": [
            "Authtoken saved to configuration file: /root/.config/ngrok/ngrok.yml\n"
          ]
        }
      ]
    },
    {
      "cell_type": "code",
      "source": [
        "from flask import Flask, render_template, request\n",
        "from flask_ngrok import run_with_ngrok\n",
        "import requests\n"
      ],
      "metadata": {
        "id": "kx1DpOmVZXHA"
      },
      "execution_count": null,
      "outputs": []
    },
    {
      "cell_type": "code",
      "source": [
        "ngrok.kill()\n",
        "\n",
        "public_url = ngrok.connect(8080)\n",
        "print(public_url)"
      ],
      "metadata": {
        "id": "b_fJw9bAaSWU",
        "colab": {
          "base_uri": "https://localhost:8080/"
        },
        "outputId": "bfee35cf-6bf7-4df2-a483-fbd5655fd516"
      },
      "execution_count": null,
      "outputs": [
        {
          "output_type": "stream",
          "name": "stdout",
          "text": [
            "NgrokTunnel: \"https://e240-34-27-254-176.ngrok-free.app\" -> \"http://localhost:8080\"\n"
          ]
        }
      ]
    },
    {
      "cell_type": "code",
      "source": [
        "!mkdir templates"
      ],
      "metadata": {
        "id": "sPlpkOANZd0p"
      },
      "execution_count": null,
      "outputs": []
    },
    {
      "cell_type": "code",
      "source": [
        "%%writefile templates/base.html\n",
        "<!DOCTYPE html>\n",
        "<html>\n",
        "<head>\n",
        "    <title>LangAlpha</title>\n",
        "    <link rel=\"stylesheet\" href=\"https://stackpath.bootstrapcdn.com/bootstrap/4.5.2/css/bootstrap.min.css\">\n",
        "    <style>\n",
        "        body {\n",
        "            font-family: sans-serif;\n",
        "        }\n",
        "        .navbar {\n",
        "            background-color: #333;\n",
        "            overflow: hidden;\n",
        "        }\n",
        "        .navbar a {\n",
        "            float: left;\n",
        "            display: block;\n",
        "            color: white;\n",
        "            text-align: center;\n",
        "            padding: 14px 16px;\n",
        "            text-decoration: none;\n",
        "        }\n",
        "        .navbar a:hover {\n",
        "            background-color: #ddd;\n",
        "            color: black;\n",
        "        }\n",
        "        .search-container {\n",
        "            text-align: center;\n",
        "            margin-top: 50px;\n",
        "        }\n",
        "        .search-container input[type=\"text\"] {\n",
        "            padding: 10px;\n",
        "            border: 1px solid #ccc;\n",
        "            border-radius: 5px;\n",
        "            width: 300px;\n",
        "        }\n",
        "        .search-container button {\n",
        "            padding: 10px 20px;\n",
        "            background-color: #007bff;\n",
        "            color: white;\n",
        "            border: none;\n",
        "            border-radius: 5px;\n",
        "            cursor: pointer;\n",
        "        }\n",
        "    </style>\n",
        "</head>\n",
        "<body>\n",
        "    <div class=\"navbar\">\n",
        "        <a href=\"/\">Home</a>\n",
        "        <a href=\"/about\">About Us</a>\n",
        "        <a href=\"/analysis\">Analysis</a>\n",
        "        <a href=\"/ai\">AI Chat</a>\n",
        "    </div>\n",
        "    {% block content %}{% endblock %}\n",
        "</body>\n",
        "</html>"
      ],
      "metadata": {
        "id": "BH9iOo5GLuGS",
        "colab": {
          "base_uri": "https://localhost:8080/"
        },
        "outputId": "3b544ce1-aa67-4a39-a01a-3e804cd31b33"
      },
      "execution_count": null,
      "outputs": [
        {
          "output_type": "stream",
          "name": "stdout",
          "text": [
            "Writing templates/base.html\n"
          ]
        }
      ]
    },
    {
      "cell_type": "code",
      "source": [
        "%%writefile templates/title.html\n",
        "{% extends \"base.html\" %}\n",
        "{% block content %}\n",
        "\n",
        "<div class=\"container search-container\">\n",
        "    <h1>Welcome to LangAlpha</h1>\n",
        "    <h5>Put a ticker for analysis</h5>\n",
        "    <form action=\"/search\">\n",
        "        <input type=\"text\" name=\"tic\" placeholder=\"Enter Stock Ticker\" required>\n",
        "        <button type=\"submit\">Search</button>\n",
        "    </form>\n",
        "</div>\n",
        "\n",
        "{% endblock %}"
      ],
      "metadata": {
        "id": "1tr4puttY-Fe",
        "colab": {
          "base_uri": "https://localhost:8080/"
        },
        "outputId": "c8724f6c-87ee-4e01-a478-794645058df9"
      },
      "execution_count": null,
      "outputs": [
        {
          "output_type": "stream",
          "name": "stdout",
          "text": [
            "Writing templates/title.html\n"
          ]
        }
      ]
    },
    {
      "cell_type": "code",
      "source": [
        "%%writefile templates/ABOUT.html\n",
        "{% extends \"base.html\" %}\n",
        "{% block content %}\n",
        "\n",
        "<div class=\"container\">\n",
        "  <div class=\"row\">\n",
        "    <div class=\"col-md-12 text-center\" style=\"padding-top: 100px;\">\n",
        "      <h1>Thanks for using our website!</h1>\n",
        "      <h5>We are students from NYU working on this project for a class. We hope you enjoy using it!</h5>\n",
        "      <img class=\"center-block\" src=\"{{ image_url }}\" />\n",
        "    </div>\n",
        "  </div>\n",
        "</div>\n",
        "\n",
        "{% endblock %}"
      ],
      "metadata": {
        "id": "UKywg1HvLGJU",
        "colab": {
          "base_uri": "https://localhost:8080/"
        },
        "outputId": "8702db4b-4ed6-4dd6-fb5d-2500a2e2c9ae"
      },
      "execution_count": null,
      "outputs": [
        {
          "output_type": "stream",
          "name": "stdout",
          "text": [
            "Writing templates/ABOUT.html\n"
          ]
        }
      ]
    },
    {
      "cell_type": "code",
      "source": [
        "#need to fix this, required is not save\n",
        "#not all are number too\n",
        "%%writefile templates/ANALYSIS.html\n",
        "{% extends \"base.html\" %}\n",
        "{% block content %}\n",
        "\n",
        "<div class=\"container\">\n",
        "    <div class=\"row\">\n",
        "        <div class=\"col-md-12\" style=\"padding-top: 10px;\">\n",
        "            <h1>Stock Analysis</h1>\n",
        "            <form action=\"/search\" method=\"GET\">\n",
        "                <div class=\"form-group\">\n",
        "                    <label for=\"tic\">Enter Stock Ticker:</label>\n",
        "                    <input type=\"text\" class=\"form-control\" id=\"tic\" name=\"tic\" placeholder=\"e.g., AAPL\" required>\n",
        "                </div>\n",
        "                <div class=\"form-group\">\n",
        "                    <label for=\"number2\">Number 2:</label>\n",
        "                    <input type=\"number\" class=\"form-control\" id=\"number2\" name=\"number2\" placeholder=\"Enter a number\" required>\n",
        "                </div>\n",
        "                <div class=\"form-group\">\n",
        "                    <label for=\"number3\">Number 3:</label>\n",
        "                    <input type=\"number\" class=\"form-control\" id=\"number3\" name=\"number3\" placeholder=\"Enter a number\" required>\n",
        "                </div>\n",
        "                <div class=\"form-group\">\n",
        "                    <label for=\"number4\">Number 4:</label>\n",
        "                    <input type=\"number\" class=\"form-control\" id=\"number4\" name=\"number4\" placeholder=\"Enter a number\" required>\n",
        "                </div>\n",
        "                <div class=\"form-group\">\n",
        "                    <label for=\"number5\">Number 5:</label>\n",
        "                    <input type=\"number\" class=\"form-control\" id=\"number5\" name=\"number5\" placeholder=\"Enter a number\" required>\n",
        "                </div>\n",
        "                <div class=\"form-group\">\n",
        "                    <label for=\"number6\">Number 6:</label>\n",
        "                    <input type=\"number\" class=\"form-control\" id=\"number6\" name=\"number6\" placeholder=\"Enter a number\" required>\n",
        "                </div>\n",
        "                <div class=\"form-group\">\n",
        "                    <label for=\"number7\">Number 7:</label>\n",
        "                    <input type=\"number\" class=\"form-control\" id=\"number7\" name=\"number7\" placeholder=\"Enter a number\" required>\n",
        "                </div>\n",
        "                <button type=\"submit\" class=\"btn btn-primary\">Submit</button>\n",
        "            </form>\n",
        "        </div>\n",
        "    </div>\n",
        "</div>\n",
        "\n",
        "{% endblock %}"
      ],
      "metadata": {
        "id": "0kqVdHGhdDVR",
        "colab": {
          "base_uri": "https://localhost:8080/"
        },
        "outputId": "93dfeead-4811-4bb0-9ec1-8e8c653f27fe"
      },
      "execution_count": null,
      "outputs": [
        {
          "output_type": "stream",
          "name": "stdout",
          "text": [
            "Writing templates/ANALYSIS.html\n"
          ]
        }
      ]
    },
    {
      "cell_type": "code",
      "source": [
        "!mkdir static"
      ],
      "metadata": {
        "id": "bFUYWtuWVY88"
      },
      "execution_count": null,
      "outputs": []
    },
    {
      "cell_type": "code",
      "source": [
        "import base64\n",
        "\n",
        "# Load the image (replace 'static/your_image.png' with the actual path)\n",
        "with open(\"static/new-york-university.jpg\", \"rb\") as img_file:\n",
        "    encoded_string = base64.b64encode(img_file.read()).decode('utf-8')"
      ],
      "metadata": {
        "id": "2YPc5O-kVbUP"
      },
      "execution_count": 16,
      "outputs": []
    },
    {
      "cell_type": "code",
      "source": [
        "%%writefile templates/Chat.html\n",
        "{% extends \"base.html\" %}\n",
        "{% block content %}\n",
        "<!DOCTYPE html>\n",
        "<html>\n",
        "<head>\n",
        "  <title>AI Chat</title>\n",
        "  <style>\n",
        "    body {\n",
        "      font-family: sans-serif;\n",
        "      margin: 0; /* Remove default body margins */\n",
        "    }\n",
        "\n",
        "    /* Center the chat container */\n",
        "    .chat-container {\n",
        "      width: 80%;\n",
        "      height: 80vh;\n",
        "      display: flex;\n",
        "      flex-direction: column;\n",
        "      border: 1px solid #ccc; /* Add a border for visual distinction */\n",
        "      padding: 20px; /* Add some padding within the container */\n",
        "      position: absolute; /* Position absolutely within the body */\n",
        "      top: 50%;\n",
        "      left: 50%;\n",
        "      transform: translate(-50%, -50%); /* Center using translate */\n",
        "    }\n",
        "\n",
        "    /* Style for chat messages */\n",
        "    .chat-messages {\n",
        "      flex: 1; /* Allow chat messages to take up available space */\n",
        "      overflow-y: auto; /* Add vertical scrollbar if needed */\n",
        "      padding: 10px;\n",
        "    }\n",
        "\n",
        "    /* Style for individual messages */\n",
        "    .chat-messages div {\n",
        "      margin-bottom: 10px;\n",
        "    }\n",
        "\n",
        "    /* Style for user messages */\n",
        "    .chat-messages div:nth-child(odd) { /* User messages are odd-numbered */\n",
        "      text-align: right;\n",
        "    }\n",
        "\n",
        "    /* Style for AI messages */\n",
        "    .chat-messages div:nth-child(even) { /* AI messages are even-numbered */\n",
        "      text-align: left;\n",
        "    }\n",
        "\n",
        "    /* Style for chat input area */\n",
        "    .chat-input {\n",
        "      display: flex;\n",
        "      padding: 10px;\n",
        "    }\n",
        "\n",
        "    /* Style for input field */\n",
        "    .chat-input input[type=\"text\"] {\n",
        "      flex: 1; /* Allow input field to take up available space */\n",
        "      padding: 10px;\n",
        "      border: 1px solid #ccc;\n",
        "      border-radius: 5px;\n",
        "      margin-right: 10px;\n",
        "    }\n",
        "\n",
        "    /* Style for send button */\n",
        "    .chat-input button {\n",
        "      padding: 10px 20px;\n",
        "      background-color: #007bff;\n",
        "      color: white;\n",
        "      border: none;\n",
        "      border-radius: 5px;\n",
        "      cursor: pointer;\n",
        "    }\n",
        "  </style>\n",
        "</head>\n",
        "<body>\n",
        "  <div class=\"chat-container\">\n",
        "    <div class=\"chat-messages\" id=\"chat-messages\">\n",
        "      </div>\n",
        "    <div class=\"chat-input\">\n",
        "      <input type=\"text\" id=\"user-input\" placeholder=\"Type your message...\" onkeyup=\"handleKeyUp(event)\">\n",
        "      <button onclick=\"sendMessage()\">Send</button>\n",
        "    </div>\n",
        "  </div>\n",
        "\n",
        "  <script>\n",
        "    function sendMessage() {\n",
        "      var userInput = document.getElementById(\"user-input\").value;\n",
        "      var chatMessages = document.getElementById(\"chat-messages\");\n",
        "\n",
        "      if (userInput.trim() !== \"\") { // Check if input is not empty\n",
        "        // Create a new message element for the user's message\n",
        "        var userMessageElement = document.createElement(\"div\");\n",
        "        userMessageElement.textContent = \"You: \" + userInput;\n",
        "        chatMessages.appendChild(userMessageElement);\n",
        "\n",
        "        // Simulate a response (replace with actual AI response later)\n",
        "        var response = \"AI: This is a placeholder response.\";\n",
        "        var aiMessageElement = document.createElement(\"div\");\n",
        "        aiMessageElement.textContent = response;\n",
        "        chatMessages.appendChild(aiMessageElement);\n",
        "\n",
        "        // Clear the input field\n",
        "        document.getElementById(\"user-input\").value = \"\";\n",
        "\n",
        "        // Scroll to the bottom of the chat messages\n",
        "        chatMessages.scrollTop = chatMessages.scrollHeight;\n",
        "      }\n",
        "    }\n",
        "\n",
        "    function handleKeyUp(event) {\n",
        "      if (event.keyCode === 13) { // Check if Enter key is pressed\n",
        "        sendMessage();\n",
        "      }\n",
        "    }\n",
        "  </script>\n",
        "</body>\n",
        "</html>\n",
        "{% endblock %}"
      ],
      "metadata": {
        "colab": {
          "base_uri": "https://localhost:8080/"
        },
        "id": "n5N_IagwaG9Z",
        "outputId": "c2ad7a39-e8fc-4f87-cd20-edc411e03a9a"
      },
      "execution_count": 17,
      "outputs": [
        {
          "output_type": "stream",
          "name": "stdout",
          "text": [
            "Writing templates/Chat.html\n"
          ]
        }
      ]
    },
    {
      "cell_type": "code",
      "source": [
        "from pyngrok import ngrok\n",
        "# Setup a tunnel to the flask port 5000\n",
        "ngrok.kill()\n",
        "\n",
        "public_url = ngrok.connect(5000)\n",
        "print(public_url)\n",
        "\n",
        "from flask import Flask, render_template, request, url_for\n",
        "from flask_ngrok import run_with_ngrok\n",
        "import requests\n",
        "\n",
        "app = Flask(__name__,\n",
        "            template_folder = '/content/templates',\n",
        "            static_folder='/content/static')\n",
        "#run_with_ngrok(app)  # Start ngrok when app is run\n",
        "\n",
        "@app.route(\"/\")\n",
        "def home():\n",
        "    return render_template(\"title.html\")\n",
        "\n",
        "@app.route(\"/about\")\n",
        "def About():\n",
        "  image_url = url_for('static', filename='new-york-university.jpg')\n",
        "  return render_template(\"ABOUT.html\", image_url=image_url)\n",
        "\n",
        "@app.route(\"/analysis\")\n",
        "def Analysis():\n",
        "  return render_template(\"ANALYSIS.html\")\n",
        "\n",
        "@app.route(\"/ai\")\n",
        "def Ai():\n",
        "  return render_template(\"Chat.html\")\n",
        "\n",
        "app.run()"
      ],
      "metadata": {
        "colab": {
          "base_uri": "https://localhost:8080/"
        },
        "id": "lIVbT7KMYokZ",
        "outputId": "a899d41f-6ae0-423d-8fc5-c269b6f68b78"
      },
      "execution_count": null,
      "outputs": [
        {
          "output_type": "stream",
          "name": "stdout",
          "text": [
            "NgrokTunnel: \"https://2542-34-27-254-176.ngrok-free.app\" -> \"http://localhost:5000\"\n",
            " * Serving Flask app '__main__'\n",
            " * Debug mode: off\n"
          ]
        },
        {
          "output_type": "stream",
          "name": "stderr",
          "text": [
            "INFO:werkzeug:\u001b[31m\u001b[1mWARNING: This is a development server. Do not use it in a production deployment. Use a production WSGI server instead.\u001b[0m\n",
            " * Running on http://127.0.0.1:5000\n",
            "INFO:werkzeug:\u001b[33mPress CTRL+C to quit\u001b[0m\n",
            "INFO:werkzeug:127.0.0.1 - - [28/Apr/2025 13:24:15] \"GET / HTTP/1.1\" 200 -\n",
            "INFO:werkzeug:127.0.0.1 - - [28/Apr/2025 13:24:17] \"GET /about HTTP/1.1\" 200 -\n",
            "INFO:werkzeug:127.0.0.1 - - [28/Apr/2025 13:24:17] \"GET /static/new-york-university.jpg HTTP/1.1\" 200 -\n",
            "INFO:werkzeug:127.0.0.1 - - [28/Apr/2025 13:24:19] \"GET /analysis HTTP/1.1\" 200 -\n",
            "INFO:werkzeug:127.0.0.1 - - [28/Apr/2025 13:24:20] \"GET /ai HTTP/1.1\" 200 -\n",
            "INFO:werkzeug:127.0.0.1 - - [28/Apr/2025 13:24:29] \"GET / HTTP/1.1\" 200 -\n",
            "INFO:werkzeug:127.0.0.1 - - [28/Apr/2025 13:24:30] \"GET /ai HTTP/1.1\" 200 -\n",
            "INFO:werkzeug:127.0.0.1 - - [28/Apr/2025 13:24:31] \"GET / HTTP/1.1\" 200 -\n",
            "INFO:werkzeug:127.0.0.1 - - [28/Apr/2025 13:25:12] \"GET /about HTTP/1.1\" 200 -\n",
            "INFO:werkzeug:127.0.0.1 - - [28/Apr/2025 13:25:12] \"\u001b[36mGET /static/new-york-university.jpg HTTP/1.1\u001b[0m\" 304 -\n",
            "INFO:werkzeug:127.0.0.1 - - [28/Apr/2025 13:25:12] \"\u001b[36mGET /static/new-york-university.jpg HTTP/1.1\u001b[0m\" 304 -\n",
            "INFO:werkzeug:127.0.0.1 - - [28/Apr/2025 13:25:13] \"GET /analysis HTTP/1.1\" 200 -\n",
            "INFO:werkzeug:127.0.0.1 - - [28/Apr/2025 13:25:19] \"GET /ai HTTP/1.1\" 200 -\n",
            "INFO:werkzeug:127.0.0.1 - - [28/Apr/2025 13:25:28] \"GET / HTTP/1.1\" 200 -\n",
            "INFO:werkzeug:127.0.0.1 - - [28/Apr/2025 13:26:03] \"GET /analysis HTTP/1.1\" 200 -\n",
            "INFO:werkzeug:127.0.0.1 - - [28/Apr/2025 13:26:11] \"GET /about HTTP/1.1\" 200 -\n",
            "INFO:werkzeug:127.0.0.1 - - [28/Apr/2025 13:26:11] \"\u001b[36mGET /static/new-york-university.jpg HTTP/1.1\u001b[0m\" 304 -\n",
            "INFO:werkzeug:127.0.0.1 - - [28/Apr/2025 13:26:11] \"\u001b[36mGET /static/new-york-university.jpg HTTP/1.1\u001b[0m\" 304 -\n",
            "INFO:werkzeug:127.0.0.1 - - [28/Apr/2025 13:26:13] \"GET / HTTP/1.1\" 200 -\n",
            "INFO:werkzeug:127.0.0.1 - - [28/Apr/2025 13:28:26] \"GET /about HTTP/1.1\" 200 -\n",
            "INFO:werkzeug:127.0.0.1 - - [28/Apr/2025 13:28:26] \"\u001b[36mGET /static/new-york-university.jpg HTTP/1.1\u001b[0m\" 304 -\n",
            "INFO:werkzeug:127.0.0.1 - - [28/Apr/2025 13:28:26] \"\u001b[36mGET /static/new-york-university.jpg HTTP/1.1\u001b[0m\" 304 -\n",
            "INFO:werkzeug:127.0.0.1 - - [28/Apr/2025 13:28:27] \"GET /analysis HTTP/1.1\" 200 -\n",
            "INFO:werkzeug:127.0.0.1 - - [28/Apr/2025 13:28:30] \"GET /ai HTTP/1.1\" 200 -\n",
            "INFO:werkzeug:127.0.0.1 - - [28/Apr/2025 13:28:38] \"GET / HTTP/1.1\" 200 -\n"
          ]
        }
      ]
    }
  ]
}