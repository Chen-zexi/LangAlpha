{
  "nbformat": 4,
  "nbformat_minor": 0,
  "metadata": {
    "colab": {
      "provenance": []
    },
    "kernelspec": {
      "name": "python3",
      "display_name": "Python 3"
    },
    "language_info": {
      "name": "python"
    }
  },
  "cells": [
    {
      "cell_type": "code",
      "source": [
        "!pip install -q flask-ngrok\n",
        "!pip install -q pyngrok"
      ],
      "metadata": {
        "id": "YxJifl-NXNRQ"
      },
      "execution_count": 1,
      "outputs": []
    },
    {
      "cell_type": "code",
      "source": [
        "from pyngrok import ngrok"
      ],
      "metadata": {
        "id": "v_B1KGsWXQZN"
      },
      "execution_count": 2,
      "outputs": []
    },
    {
      "cell_type": "code",
      "execution_count": 3,
      "metadata": {
        "id": "krB3VJWeXH1C"
      },
      "outputs": [],
      "source": [
        "from google.colab import userdata\n",
        "key = userdata.get('grok_token')"
      ]
    },
    {
      "cell_type": "code",
      "source": [
        "!ngrok authtoken {key}"
      ],
      "metadata": {
        "id": "ZtpfhMNSXpeq",
        "colab": {
          "base_uri": "https://localhost:8080/"
        },
        "outputId": "6ef1fc36-8694-46b1-b6b1-04016c330dcc"
      },
      "execution_count": 4,
      "outputs": [
        {
          "output_type": "stream",
          "name": "stdout",
          "text": [
            "Authtoken saved to configuration file: /root/.config/ngrok/ngrok.yml\n"
          ]
        }
      ]
    },
    {
      "cell_type": "code",
      "source": [
        "from flask import Flask, render_template, request\n",
        "from flask_ngrok import run_with_ngrok\n",
        "import requests\n"
      ],
      "metadata": {
        "id": "kx1DpOmVZXHA"
      },
      "execution_count": 5,
      "outputs": []
    },
    {
      "cell_type": "code",
      "source": [
        "ngrok.kill()\n",
        "\n",
        "public_url = ngrok.connect(8080)\n",
        "print(public_url)"
      ],
      "metadata": {
        "id": "b_fJw9bAaSWU",
        "colab": {
          "base_uri": "https://localhost:8080/"
        },
        "outputId": "7f42ef8f-b971-447c-eb09-ff23d3968dae"
      },
      "execution_count": 6,
      "outputs": [
        {
          "output_type": "stream",
          "name": "stdout",
          "text": [
            "NgrokTunnel: \"https://fa37-34-59-64-239.ngrok-free.app\" -> \"http://localhost:8080\"\n"
          ]
        }
      ]
    },
    {
      "cell_type": "code",
      "source": [
        "!mkdir templates"
      ],
      "metadata": {
        "id": "sPlpkOANZd0p"
      },
      "execution_count": 7,
      "outputs": []
    },
    {
      "cell_type": "code",
      "source": [
        "%%writefile templates/base.html\n",
        "<!DOCTYPE html>\n",
        "<html>\n",
        "<head>\n",
        "    <title>LangAlpha</title>\n",
        "    <link rel=\"stylesheet\" href=\"https://stackpath.bootstrapcdn.com/bootstrap/4.5.2/css/bootstrap.min.css\">\n",
        "    <style>\n",
        "        body {\n",
        "            font-family: sans-serif;\n",
        "        }\n",
        "        .navbar {\n",
        "            background-color: #333;\n",
        "            overflow: hidden;\n",
        "        }\n",
        "        .navbar a {\n",
        "            float: left;\n",
        "            display: block;\n",
        "            color: white;\n",
        "            text-align: center;\n",
        "            padding: 14px 16px;\n",
        "            text-decoration: none;\n",
        "        }\n",
        "        .navbar a:hover {\n",
        "            background-color: #ddd;\n",
        "            color: black;\n",
        "        }\n",
        "        .search-container {\n",
        "            text-align: center;\n",
        "            margin-top: 50px;\n",
        "        }\n",
        "        .search-container input[type=\"text\"] {\n",
        "            padding: 10px;\n",
        "            border: 1px solid #ccc;\n",
        "            border-radius: 5px;\n",
        "            width: 300px;\n",
        "        }\n",
        "        .search-container button {\n",
        "            padding: 10px 20px;\n",
        "            background-color: #007bff;\n",
        "            color: white;\n",
        "            border: none;\n",
        "            border-radius: 5px;\n",
        "            cursor: pointer;\n",
        "        }\n",
        "    </style>\n",
        "</head>\n",
        "<body>\n",
        "    <div class=\"navbar\">\n",
        "        <a href=\"/\">Home</a>\n",
        "        <a href=\"/about\">About Us</a>\n",
        "        <a href=\"/analysis\">Analysis</a>\n",
        "        <a href=\"/ai\">AI Chat</a>\n",
        "    </div>\n",
        "    {% block content %}{% endblock %}\n",
        "</body>\n",
        "</html>"
      ],
      "metadata": {
        "id": "BH9iOo5GLuGS",
        "colab": {
          "base_uri": "https://localhost:8080/"
        },
        "outputId": "d9f14112-43f7-4bb2-f9fc-192e2c69b8f6"
      },
      "execution_count": 8,
      "outputs": [
        {
          "output_type": "stream",
          "name": "stdout",
          "text": [
            "Writing templates/base.html\n"
          ]
        }
      ]
    },
    {
      "cell_type": "code",
      "source": [
        "%%writefile templates/title.html\n",
        "{% extends \"base.html\" %}\n",
        "{% block content %}\n",
        "\n",
        "<div class=\"container search-container\">\n",
        "    <h1>Welcome to LangAlpha</h1>\n",
        "    <h5>Put a ticker for analysis</h5>\n",
        "    <form action=\"/search\">\n",
        "        <input type=\"text\" name=\"tic\" placeholder=\"Enter Stock Ticker\" required>\n",
        "        <button type=\"submit\">Search</button>\n",
        "    </form>\n",
        "</div>\n",
        "\n",
        "{% endblock %}"
      ],
      "metadata": {
        "id": "1tr4puttY-Fe",
        "colab": {
          "base_uri": "https://localhost:8080/"
        },
        "outputId": "bf65c21a-5ad6-4b02-9fd8-ec35c81220a1"
      },
      "execution_count": 9,
      "outputs": [
        {
          "output_type": "stream",
          "name": "stdout",
          "text": [
            "Writing templates/title.html\n"
          ]
        }
      ]
    },
    {
      "cell_type": "code",
      "source": [
        "%%writefile templates/ABOUT.html\n",
        "{% extends \"base.html\" %}\n",
        "{% block content %}\n",
        "\n",
        "<div class=\"container\">\n",
        "  <div class=\"row\">\n",
        "    <div class=\"col-md-12 text-center\" style=\"padding-top: 100px;\">\n",
        "      <h1>Thanks for using our website!</h1>\n",
        "      <h5>We are students from NYU working on this project for a class. We hope you enjoy using it!</h5>\n",
        "      <img class=\"center-block\" src=\"{{ image_url }}\" />\n",
        "    </div>\n",
        "  </div>\n",
        "</div>\n",
        "\n",
        "{% endblock %}"
      ],
      "metadata": {
        "id": "UKywg1HvLGJU",
        "colab": {
          "base_uri": "https://localhost:8080/"
        },
        "outputId": "865b2cce-146a-4ed3-9a5f-cb4065928c84"
      },
      "execution_count": 10,
      "outputs": [
        {
          "output_type": "stream",
          "name": "stdout",
          "text": [
            "Writing templates/ABOUT.html\n"
          ]
        }
      ]
    },
    {
      "cell_type": "code",
      "source": [
        "countries = [\n",
        "    \"Afghanistan\", \"Albania\", \"Algeria\", \"Andorra\", \"Angola\", \"Antigua and Barbuda\",\n",
        "    \"Argentina\", \"Armenia\", \"Australia\", \"Austria\", \"Azerbaijan\", \"Bahamas\", \"Bahrain\",\n",
        "    \"Bangladesh\", \"Barbados\", \"Belarus\", \"Belgium\", \"Belize\", \"Benin\", \"Bhutan\",\n",
        "    \"Bolivia\", \"Bosnia and Herzegovina\", \"Botswana\", \"Brazil\", \"Brunei\", \"Bulgaria\",\n",
        "    \"Burkina Faso\", \"Burundi\", \"Cabo Verde\", \"Cambodia\", \"Cameroon\", \"Canada\",\n",
        "    \"Central African Republic\", \"Chad\", \"Chile\", \"China\", \"Colombia\", \"Comoros\",\n",
        "    \"Congo (Congo-Brazzaville)\", \"Costa Rica\", \"Croatia\", \"Cuba\", \"Cyprus\",\n",
        "    \"Czech Republic\", \"Democratic Republic of the Congo\", \"Denmark\", \"Djibouti\",\n",
        "    \"Dominica\", \"Dominican Republic\", \"Ecuador\", \"Egypt\", \"El Salvador\",\n",
        "    \"Equatorial Guinea\", \"Eritrea\", \"Estonia\", \"Eswatini\", \"Ethiopia\", \"Fiji\",\n",
        "    \"Finland\", \"France\", \"Gabon\", \"Gambia\", \"Georgia\", \"Germany\", \"Ghana\", \"Greece\",\n",
        "    \"Grenada\", \"Guatemala\", \"Guinea\", \"Guinea-Bissau\", \"Guyana\", \"Haiti\",\n",
        "    \"Honduras\", \"Hungary\", \"Iceland\", \"India\", \"Indonesia\", \"Iran\", \"Iraq\",\n",
        "    \"Ireland\", \"Israel\", \"Italy\", \"Ivory Coast\", \"Jamaica\", \"Japan\", \"Jordan\",\n",
        "    \"Kazakhstan\", \"Kenya\", \"Kiribati\", \"Kuwait\", \"Kyrgyzstan\", \"Laos\", \"Latvia\",\n",
        "    \"Lebanon\", \"Lesotho\", \"Liberia\", \"Libya\", \"Liechtenstein\", \"Lithuania\",\n",
        "    \"Luxembourg\", \"Madagascar\", \"Malawi\", \"Malaysia\", \"Maldives\", \"Mali\", \"Malta\",\n",
        "    \"Marshall Islands\", \"Mauritania\", \"Mauritius\", \"Mexico\", \"Micronesia\",\n",
        "    \"Moldova\", \"Monaco\", \"Mongolia\", \"Montenegro\", \"Morocco\", \"Mozambique\",\n",
        "    \"Myanmar\", \"Namibia\", \"Nauru\", \"Nepal\", \"Netherlands\", \"New Zealand\",\n",
        "    \"Nicaragua\", \"Niger\", \"Nigeria\", \"North Korea\", \"North Macedonia\", \"Norway\",\n",
        "    \"Oman\", \"Pakistan\", \"Palau\", \"Palestine\", \"Panama\", \"Papua New Guinea\",\n",
        "    \"Paraguay\", \"Peru\", \"Philippines\", \"Poland\", \"Portugal\", \"Qatar\", \"Romania\",\n",
        "    \"Russia\", \"Rwanda\", \"Saint Kitts and Nevis\", \"Saint Lucia\",\n",
        "    \"Saint Vincent and the Grenadines\", \"Samoa\", \"San Marino\", \"Sao Tome and Principe\",\n",
        "    \"Saudi Arabia\", \"Senegal\", \"Serbia\", \"Seychelles\", \"Sierra Leone\", \"Singapore\",\n",
        "    \"Slovakia\", \"Slovenia\", \"Solomon Islands\", \"Somalia\", \"South Africa\",\n",
        "    \"South Korea\", \"South Sudan\", \"Spain\", \"Sri Lanka\", \"Sudan\", \"Suriname\",\n",
        "    \"Sweden\", \"Switzerland\", \"Syria\", \"Taiwan\", \"Tajikistan\", \"Tanzania\", \"Thailand\",\n",
        "    \"Timor-Leste\", \"Togo\", \"Tonga\", \"Trinidad and Tobago\", \"Tunisia\", \"Turkey\",\n",
        "    \"Turkmenistan\", \"Tuvalu\", \"Uganda\", \"Ukraine\", \"United Arab Emirates\",\n",
        "    \"United Kingdom\", \"United States\", \"Uruguay\", \"Uzbekistan\", \"Vanuatu\",\n",
        "    \"Vatican City\", \"Venezuela\", \"Vietnam\", \"Yemen\", \"Zambia\", \"Zimbabwe\"\n",
        "]"
      ],
      "metadata": {
        "id": "zROTSCbyF6BI"
      },
      "execution_count": 27,
      "outputs": []
    },
    {
      "cell_type": "code",
      "source": [
        "industry_us = [\n",
        "    \"Aerospace & Defense\",\n",
        "    \"Agriculture\",\n",
        "    \"Apparel & Accessories\",\n",
        "    \"Automotive\",\n",
        "    \"Beverage (Alcoholic)\",\n",
        "    \"Beverage (Soft)\",\n",
        "    \"Biotechnology\",\n",
        "    \"Chemicals\",\n",
        "    \"Construction & Engineering\",\n",
        "    \"Consumer Electronics\",\n",
        "    \"Consumer Goods\",\n",
        "    \"Education Services\",\n",
        "    \"Energy (Oil & Gas)\",\n",
        "    \"Energy (Renewable)\",\n",
        "    \"Entertainment & Media\",\n",
        "    \"Environmental Services\",\n",
        "    \"Financial Services (Banking)\",\n",
        "    \"Financial Services (Insurance)\",\n",
        "    \"Financial Services (Investment)\",\n",
        "    \"Food Products\",\n",
        "    \"Healthcare (Devices & Supplies)\",\n",
        "    \"Healthcare (Providers & Services)\",\n",
        "    \"Healthcare (Pharmaceuticals)\",\n",
        "    \"Hospitality & Leisure\",\n",
        "    \"Household Products\",\n",
        "    \"Information Technology (Hardware)\",\n",
        "    \"Information Technology (Services)\",\n",
        "    \"Information Technology (Software)\",\n",
        "    \"Internet & E-Commerce\",\n",
        "    \"Logistics & Transportation\",\n",
        "    \"Manufacturing (Advanced)\",\n",
        "    \"Metals & Mining\",\n",
        "    \"Personal Care & Beauty\",\n",
        "    \"Professional Services\",\n",
        "    \"Real Estate\",\n",
        "    \"Retail (Online)\",\n",
        "    \"Retail (Physical)\",\n",
        "    \"Telecommunications\",\n",
        "    \"Tobacco\",\n",
        "    \"Utilities\",\n",
        "    \"Waste Management\"\n",
        "]"
      ],
      "metadata": {
        "id": "H6T74dg3IPDs"
      },
      "execution_count": 28,
      "outputs": []
    },
    {
      "cell_type": "code",
      "source": [
        "industry_global = [\n",
        "    \"Agriculture\",\n",
        "    \"Apparel & Textiles\",\n",
        "    \"Automotive\",\n",
        "    \"Beverage (Alcoholic)\",\n",
        "    \"Beverage (Soft)\",\n",
        "    \"Chemicals\",\n",
        "    \"Construction & Infrastructure\",\n",
        "    \"Consumer Goods\",\n",
        "    \"Education Services\",\n",
        "    \"Energy (Oil & Gas)\",\n",
        "    \"Energy (Renewable)\",\n",
        "    \"Entertainment & Media\",\n",
        "    \"Financial Services\",\n",
        "    \"Food & Beverage\",\n",
        "    \"Healthcare\",\n",
        "    \"Hospitality & Tourism\",\n",
        "    \"Household Products\",\n",
        "    \"Information Technology\",\n",
        "    \"Internet & E-Commerce\",\n",
        "    \"Logistics & Shipping\",\n",
        "    \"Manufacturing (General)\",\n",
        "    \"Metals & Mining\",\n",
        "    \"Paper & Forest Products\",\n",
        "    \"Personal Care\",\n",
        "    \"Pharmaceuticals\",\n",
        "    \"Professional Services\",\n",
        "    \"Real Estate\",\n",
        "    \"Retail\",\n",
        "    \"Telecommunications\",\n",
        "    \"Tobacco\",\n",
        "    \"Travel & Transportation\",\n",
        "    \"Utilities\",\n",
        "    \"Waste & Recycling\"\n",
        "]"
      ],
      "metadata": {
        "id": "SpULZd81ITSh"
      },
      "execution_count": 30,
      "outputs": []
    },
    {
      "cell_type": "code",
      "source": [
        "#need to fix this, required is not save\n",
        "#not all are number too\n",
        "%%writefile templates/ANALYSIS.html\n",
        "{% extends \"base.html\" %}\n",
        "{% block content %}\n",
        "\n",
        "<div class=\"container\">\n",
        "    <div class=\"row\">\n",
        "        <div class=\"col-md-12\" style=\"padding-top: 10px;\">\n",
        "            <h1>Stock Analysis</h1>\n",
        "            <form action=\"/analysis\" method=\"POST\">\n",
        "                <div class=\"form-group\">\n",
        "                    <label for=\"tic\">Enter Stock Ticker:</label>\n",
        "                    <input type=\"text\" class=\"form-control\" id=\"tic\" name=\"tic\" placeholder=\"e.g., AAPL\" required>\n",
        "                </div>\n",
        "                <div class=\"form-group\">\n",
        "                    <label for=\"country\">Country of incorporation:</label>\n",
        "                    <select class=\"form-control\" id=\"country\" name=\"country\" required>\n",
        "                        <option value=\"\">Select Country</option>\n",
        "                        {% for country in countries %}\n",
        "                            <option value=\"{{ country }}\">{{ country }}</option>\n",
        "                        {% endfor %}\n",
        "                    </select>\n",
        "                </div>\n",
        "                <div class=\"form-group\">\n",
        "                    <label for=\"Industry (US)\">Industry (US):</label>\n",
        "                    <select class=\"form-control\" id=\"Industry (US)\" name=\"Industry (US)\" required>\n",
        "                        <option value=\"\">Select Industry</option>\n",
        "                        {% for industry in industry_us %}\n",
        "                            <option value=\"{{ industry }}\">{{ industry }}</option>\n",
        "                        {% endfor %}\n",
        "                    </select>\n",
        "                </div>\n",
        "                <div class=\"form-group\">\n",
        "                    <label for=\"Industry (Global)\">Industry (Global):</label>\n",
        "                    <select class=\"form-control\" id=\"Industry (Global)\" name=\"Industry (Global)\" required>\n",
        "                        <option value=\"\">Select Industry</option>\n",
        "                        {% for industry in industry_global %}\n",
        "                            <option value=\"{{ industry }}\">{{ industry }}</option>\n",
        "                        {% endfor %}\n",
        "                    </select>\n",
        "                </div>\n",
        "                <div class=\"form-group\">\n",
        "                    <label for=\"Revenue Growth\">Revenue growth rate for next year:5:</label>\n",
        "                    <input type=\"number\" class=\"form-control\" id=\"Revenue Growth\" name=\"Revenue Growth\" placeholder=\"Enter a growth rate\" required>\n",
        "                </div>\n",
        "                <div class=\"form-group\">\n",
        "                    <label for=\"Operating Margin\">Operating margin for next year:</label>\n",
        "                    <input type=\"number\" class=\"form-control\" id=\"Operating Margin\" name=\"Operating Margin\" placeholder=\"Enter the margin rate\" required>\n",
        "                </div>\n",
        "                <div class=\"form-group\">\n",
        "                    <label for=\"Compunded Growth\">Compounded annual growth rate:</label>\n",
        "                    <input type=\"number\" class=\"form-control\" id=\"Compunded Growth\" name=\"Compunded Growth\" placeholder=\"Enter the compounded rate\" required>\n",
        "                </div>\n",
        "                <div class=\"form-group\">\n",
        "                    <label for=\"Pre-tax Margin\">Target pre-tax operating margin:</label>\n",
        "                    <input type=\"number\" class=\"form-control\" id=\"Pre-tax Margin\" name=\"Pre-tax Margin\" placeholder=\"Enter the pre-tax margin rate \" required>\n",
        "                </div>\n",
        "                <div class=\"form-group\">\n",
        "                    <label for=\"Convergence\">Years of convergence for margin:</label>\n",
        "                    <input type=\"number\" class=\"form-control\" id=\"Convergence\" name=\"Convergence\" placeholder=\"Enter the convergence year\" required>\n",
        "                </div>\n",
        "                <div class=\"form-group\">\n",
        "                    <label for=\"Short-term Capital Ratio\">Sales to capital ratio (for years 1-5):</label>\n",
        "                    <input type=\"number\" class=\"form-control\" id=\"Short-term Capital Ratio\" name=\"Short-term Capital Ratio\" placeholder=\"Enter the capital ratio\" required>\n",
        "                </div>\n",
        "                <div class=\"form-group\">\n",
        "                    <label for=\"Long-term Capital Ratio\">Sales to capital ratio (for years 6-10):</label>\n",
        "                    <input type=\"number\" class=\"form-control\" id=\"Long-term Capital Ratio\" name=\"Long-term Capital Ratio\" placeholder=\"Enter the capital ratio\" required>\n",
        "                </div>\n",
        "                <button type=\"submit\" class=\"btn btn-primary\">Submit</button>\n",
        "            </form>\n",
        "        </div>\n",
        "    </div>\n",
        "</div>\n",
        "\n",
        "{% endblock %}"
      ],
      "metadata": {
        "id": "0kqVdHGhdDVR",
        "colab": {
          "base_uri": "https://localhost:8080/"
        },
        "outputId": "59b8906f-cf8f-40f3-f887-1cb2b27ad446"
      },
      "execution_count": 31,
      "outputs": [
        {
          "output_type": "stream",
          "name": "stdout",
          "text": [
            "Overwriting templates/ANALYSIS.html\n"
          ]
        }
      ]
    },
    {
      "cell_type": "code",
      "source": [
        "!mkdir static\n",
        "!gdown --fuzzy https://drive.google.com/file/d/1t6ADxRgGGzqkwkNh2i2z9n3geb5FLSMi/view?usp=sharing\n",
        "!mv new-york-university.jpg static"
      ],
      "metadata": {
        "id": "bFUYWtuWVY88",
        "colab": {
          "base_uri": "https://localhost:8080/"
        },
        "outputId": "1816a573-adaf-4e51-cee2-8ab0384ab9d4"
      },
      "execution_count": 15,
      "outputs": [
        {
          "output_type": "stream",
          "name": "stdout",
          "text": [
            "Downloading...\n",
            "From: https://drive.google.com/uc?id=1t6ADxRgGGzqkwkNh2i2z9n3geb5FLSMi\n",
            "To: /content/new-york-university.jpg\n",
            "\r  0% 0.00/7.66k [00:00<?, ?B/s]\r100% 7.66k/7.66k [00:00<00:00, 20.6MB/s]\n"
          ]
        }
      ]
    },
    {
      "cell_type": "code",
      "source": [
        "import base64\n",
        "\n",
        "# Load the image (replace 'static/your_image.png' with the actual path)\n",
        "with open(\"static/new-york-university.jpg\", \"rb\") as img_file:\n",
        "    encoded_string = base64.b64encode(img_file.read()).decode('utf-8')"
      ],
      "metadata": {
        "id": "2YPc5O-kVbUP"
      },
      "execution_count": 16,
      "outputs": []
    },
    {
      "cell_type": "code",
      "source": [
        "%%writefile templates/Chat.html\n",
        "{% extends \"base.html\" %}\n",
        "{% block content %}\n",
        "<!DOCTYPE html>\n",
        "<html>\n",
        "<head>\n",
        "  <title>AI Chat</title>\n",
        "  <style>\n",
        "    body {\n",
        "      font-family: sans-serif;\n",
        "      margin: 0; /* Remove default body margins */\n",
        "    }\n",
        "\n",
        "    /* Center the chat container */\n",
        "    .chat-container {\n",
        "      width: 80%;\n",
        "      height: 80vh;\n",
        "      display: flex;\n",
        "      flex-direction: column;\n",
        "      border: 1px solid #ccc; /* Add a border for visual distinction */\n",
        "      padding: 20px; /* Add some padding within the container */\n",
        "      position: absolute; /* Position absolutely within the body */\n",
        "      top: 50%;\n",
        "      left: 50%;\n",
        "      transform: translate(-50%, -50%); /* Center using translate */\n",
        "    }\n",
        "\n",
        "    /* Style for chat messages */\n",
        "    .chat-messages {\n",
        "      flex: 1; /* Allow chat messages to take up available space */\n",
        "      overflow-y: auto; /* Add vertical scrollbar if needed */\n",
        "      padding: 10px;\n",
        "    }\n",
        "\n",
        "    /* Style for individual messages */\n",
        "    .chat-messages div {\n",
        "      margin-bottom: 10px;\n",
        "    }\n",
        "\n",
        "    /* Style for user messages */\n",
        "    .chat-messages div:nth-child(odd) { /* User messages are odd-numbered */\n",
        "      text-align: right;\n",
        "    }\n",
        "\n",
        "    /* Style for AI messages */\n",
        "    .chat-messages div:nth-child(even) { /* AI messages are even-numbered */\n",
        "      text-align: left;\n",
        "    }\n",
        "\n",
        "    /* Style for chat input area */\n",
        "    .chat-input {\n",
        "      display: flex;\n",
        "      padding: 10px;\n",
        "    }\n",
        "\n",
        "    /* Style for input field */\n",
        "    .chat-input input[type=\"text\"] {\n",
        "      flex: 1; /* Allow input field to take up available space */\n",
        "      padding: 10px;\n",
        "      border: 1px solid #ccc;\n",
        "      border-radius: 5px;\n",
        "      margin-right: 10px;\n",
        "    }\n",
        "\n",
        "    /* Style for send button */\n",
        "    .chat-input button {\n",
        "      padding: 10px 20px;\n",
        "      background-color: #007bff;\n",
        "      color: white;\n",
        "      border: none;\n",
        "      border-radius: 5px;\n",
        "      cursor: pointer;\n",
        "    }\n",
        "  </style>\n",
        "</head>\n",
        "<body>\n",
        "  <div class=\"chat-container\">\n",
        "    <div class=\"chat-messages\" id=\"chat-messages\">\n",
        "      </div>\n",
        "    <div class=\"chat-input\">\n",
        "      <input type=\"text\" id=\"user-input\" placeholder=\"Type your message...\" onkeyup=\"handleKeyUp(event)\">\n",
        "      <button onclick=\"sendMessage()\">Send</button>\n",
        "    </div>\n",
        "  </div>\n",
        "\n",
        "  <script>\n",
        "    function sendMessage() {\n",
        "      var userInput = document.getElementById(\"user-input\").value;\n",
        "      var chatMessages = document.getElementById(\"chat-messages\");\n",
        "\n",
        "      if (userInput.trim() !== \"\") { // Check if input is not empty\n",
        "        // Create a new message element for the user's message\n",
        "        var userMessageElement = document.createElement(\"div\");\n",
        "        userMessageElement.textContent = \"You: \" + userInput;\n",
        "        chatMessages.appendChild(userMessageElement);\n",
        "\n",
        "        // Simulate a response (replace with actual AI response later)\n",
        "        var response = \"AI: This is a placeholder response.\";\n",
        "        var aiMessageElement = document.createElement(\"div\");\n",
        "        aiMessageElement.textContent = response;\n",
        "        chatMessages.appendChild(aiMessageElement);\n",
        "\n",
        "        // Clear the input field\n",
        "        document.getElementById(\"user-input\").value = \"\";\n",
        "\n",
        "        // Scroll to the bottom of the chat messages\n",
        "        chatMessages.scrollTop = chatMessages.scrollHeight;\n",
        "      }\n",
        "    }\n",
        "\n",
        "    function handleKeyUp(event) {\n",
        "      if (event.keyCode === 13) { // Check if Enter key is pressed\n",
        "        sendMessage();\n",
        "      }\n",
        "    }\n",
        "  </script>\n",
        "</body>\n",
        "</html>\n",
        "{% endblock %}"
      ],
      "metadata": {
        "colab": {
          "base_uri": "https://localhost:8080/"
        },
        "id": "n5N_IagwaG9Z",
        "outputId": "b81d79d6-f8fc-49cd-b695-d9531a5d2b75"
      },
      "execution_count": 17,
      "outputs": [
        {
          "output_type": "stream",
          "name": "stdout",
          "text": [
            "Writing templates/Chat.html\n"
          ]
        }
      ]
    },
    {
      "cell_type": "code",
      "source": [
        "#analysis code\n",
        "\n",
        "#_____________"
      ],
      "metadata": {
        "id": "3vghrh-5m2Xd"
      },
      "execution_count": 18,
      "outputs": []
    },
    {
      "cell_type": "code",
      "source": [
        "#need to be fixed/add the real analysis\n",
        "\n",
        "%%writefile templates/results.html\n",
        "{% extends \"base.html\" %}\n",
        "{% block content %}\n",
        "<div class=\"container\">\n",
        "    <h1>Stock Analysis Results</h1>\n",
        "\n",
        "    <!-- So far I am only listing stuff, but we should change it to be the analysis -->\n",
        "    <h2>Input Data</h2>\n",
        "    <ul>\n",
        "        <li><strong>Ticker:</strong> {{ tic }}</li>\n",
        "        <li><strong>Country:</strong> {{ country }}</li>\n",
        "        <li><strong>Industry (US):</strong> {{ industry_us }}</li>\n",
        "        <li><strong>Industry (Global):</strong> {{ industry_global }}</li>\n",
        "        <li><strong>Revenue Growth:</strong> {{ revenue_growth }}</li>\n",
        "        <li><strong>Operating Margin:</strong> {{ operating_margin }}</li>\n",
        "        <li><strong>Compounded Growth:</strong> {{ compounded_growth }}</li>\n",
        "        <li><strong>Pre-tax Margin:</strong> {{ pre_tax_margin }}</li>\n",
        "        <li><strong>Convergence Years:</strong> {{ convergence_years }}</li>\n",
        "        <li><strong>Short-term Capital Ratio:</strong> {{ short_term_capital_ratio }}</li>\n",
        "        <li><strong>Long-term Capital Ratio:</strong> {{ long_term_capital_ratio }}</li>\n",
        "    </ul>\n",
        "\n",
        "    <h2>Analysis Results</h2>\n",
        "    <p>{{ results }}</p> <!-- change the variable to whatever the contains the results -->\n",
        "</div>\n",
        "\n",
        "{% endblock %}"
      ],
      "metadata": {
        "colab": {
          "base_uri": "https://localhost:8080/"
        },
        "id": "6SDPBY8jm613",
        "outputId": "dd15f7bc-3442-4d35-8fd6-926b9ee535d9"
      },
      "execution_count": 35,
      "outputs": [
        {
          "output_type": "stream",
          "name": "stdout",
          "text": [
            "Overwriting templates/results.html\n"
          ]
        }
      ]
    },
    {
      "cell_type": "code",
      "source": [
        "from pyngrok import ngrok\n",
        "# Setup a tunnel to the flask port 5000\n",
        "ngrok.kill()\n",
        "\n",
        "public_url = ngrok.connect(5000)\n",
        "print(public_url)\n",
        "\n",
        "from flask import Flask, render_template, request, url_for\n",
        "from flask_ngrok import run_with_ngrok\n",
        "import requests\n",
        "\n",
        "app = Flask(__name__,\n",
        "            template_folder = '/content/templates',\n",
        "            static_folder='/content/static')\n",
        "#run_with_ngrok(app)  # Start ngrok when app is run\n",
        "\n",
        "@app.route(\"/\")\n",
        "def home():\n",
        "    return render_template(\"title.html\")\n",
        "\n",
        "@app.route(\"/about\")\n",
        "def About():\n",
        "  image_url = url_for('static', filename='new-york-university.jpg')\n",
        "  return render_template(\"ABOUT.html\", image_url=image_url)\n",
        "\n",
        "@app.route(\"/analysis\", methods=['GET', 'POST'])\n",
        "def analysis():\n",
        "    \"\"\"\n",
        "    if request.method == 'POST':\n",
        "        tic = request.form['tic']\n",
        "        country = request.form['country']\n",
        "        industry_us = request.form['Industry (US)']\n",
        "        industry_global = request.form['Industry (Global)']\n",
        "        revenue_growth = request.form['Revenue Growth']\n",
        "        operating_margin = request.form['Operating Margin']\n",
        "        compounded_growth = request.form['Compunded Growth']\n",
        "        pre_tax_margin = request.form['Pre-tax Margin']\n",
        "        convergence_years = request.form['Convergence']\n",
        "        short_term_capital_ratio = request.form['Short-term Capital Ratio']\n",
        "        long_term_capital_ratio = request.form['Long-term Capital Ratio']\n",
        "\n",
        "\n",
        "        Add ANALYSIS code here:\n",
        "\n",
        "        # Redirect to results page with form data and analysis results\n",
        "        return render_template(\"results.html\",\n",
        "                               tic=tic,\n",
        "                               country=country,\n",
        "                               industry_us=industry_us,\n",
        "                               industry_global=industry_global,\n",
        "                               revenue_growth=revenue_growth,\n",
        "                               operating_margin=operating_margin,\n",
        "                               compounded_growth=compounded_growth,\n",
        "                               pre_tax_margin=pre_tax_margin,\n",
        "                               convergence_years=convergence_years,\n",
        "                               short_term_capital_ratio=short_term_capital_ratio,\n",
        "                               long_term_capital_ratio=long_term_capital_ratio,\n",
        "                               results=analysis_results)\n",
        "        \"\"\"\n",
        "    #else:\n",
        "      # Render the analysis form if it's a GET request\n",
        "    return render_template(\"ANALYSIS.html\", countries=countries, industry_us=industry_us, industry_global=industry_global)\n",
        "\n",
        "\n",
        "@app.route(\"/ai\")\n",
        "def Ai():\n",
        "  return render_template(\"Chat.html\")\n",
        "\n",
        "app.run()"
      ],
      "metadata": {
        "colab": {
          "base_uri": "https://localhost:8080/"
        },
        "id": "lIVbT7KMYokZ",
        "outputId": "e23dee28-f7a5-44da-97dd-940edc2f0537"
      },
      "execution_count": 34,
      "outputs": [
        {
          "output_type": "stream",
          "name": "stdout",
          "text": [
            "NgrokTunnel: \"https://7cf5-34-59-64-239.ngrok-free.app\" -> \"http://localhost:5000\"\n",
            " * Serving Flask app '__main__'\n",
            " * Debug mode: off\n"
          ]
        },
        {
          "output_type": "stream",
          "name": "stderr",
          "text": [
            "INFO:werkzeug:\u001b[31m\u001b[1mWARNING: This is a development server. Do not use it in a production deployment. Use a production WSGI server instead.\u001b[0m\n",
            " * Running on http://127.0.0.1:5000\n",
            "INFO:werkzeug:\u001b[33mPress CTRL+C to quit\u001b[0m\n",
            "INFO:werkzeug:127.0.0.1 - - [30/Apr/2025 21:38:58] \"GET / HTTP/1.1\" 200 -\n",
            "INFO:werkzeug:127.0.0.1 - - [30/Apr/2025 21:38:59] \"GET /analysis HTTP/1.1\" 200 -\n"
          ]
        }
      ]
    }
  ]
}