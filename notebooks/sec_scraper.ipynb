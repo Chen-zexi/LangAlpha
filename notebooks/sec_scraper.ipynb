{
 "cells": [
  {
   "cell_type": "code",
   "execution_count": null,
   "metadata": {},
   "outputs": [
    {
     "ename": "ModuleNotFoundError",
     "evalue": "No module named 'undetected_chromedriver.v2'",
     "output_type": "error",
     "traceback": [
      "\u001b[0;31m---------------------------------------------------------------------------\u001b[0m",
      "\u001b[0;31mModuleNotFoundError\u001b[0m                       Traceback (most recent call last)",
      "Cell \u001b[0;32mIn[37], line 6\u001b[0m\n\u001b[1;32m      4\u001b[0m \u001b[38;5;28;01mimport\u001b[39;00m \u001b[38;5;21;01mpandas\u001b[39;00m \u001b[38;5;28;01mas\u001b[39;00m \u001b[38;5;21;01mpd\u001b[39;00m\n\u001b[1;32m      5\u001b[0m \u001b[38;5;28;01mfrom\u001b[39;00m \u001b[38;5;21;01mbs4\u001b[39;00m \u001b[38;5;28;01mimport\u001b[39;00m BeautifulSoup\n\u001b[0;32m----> 6\u001b[0m \u001b[38;5;28;01mimport\u001b[39;00m \u001b[38;5;21;01mundetected_chromedriver\u001b[39;00m\u001b[38;5;21;01m.\u001b[39;00m\u001b[38;5;21;01mv2\u001b[39;00m \u001b[38;5;28;01mas\u001b[39;00m \u001b[38;5;21;01muc\u001b[39;00m\n",
      "\u001b[0;31mModuleNotFoundError\u001b[0m: No module named 'undetected_chromedriver.v2'"
     ]
    }
   ],
   "source": [
    "import time\n",
    "import random\n",
    "import requests\n",
    "import pandas as pd\n",
    "from bs4 import BeautifulSoup"
   ]
  },
  {
   "cell_type": "code",
   "execution_count": 28,
   "metadata": {},
   "outputs": [],
   "source": [
    "tickers = ['AAPL', 'MSFT', 'GOOG', 'AMZN', 'TSLA', 'META', 'NFLX', 'NVDA', 'AMD', 'BA', \n",
    "           'V', 'SPY', 'SPCE', 'FB', 'TWTR', 'BABA', 'MSTR', 'DIS', 'PYPL', 'SHOP', 'COIN', \n",
    "           'SQ', 'INTC', 'CSCO', 'IBM', 'GE', 'WMT', 'T']"
   ]
  },
  {
   "cell_type": "code",
   "execution_count": 29,
   "metadata": {},
   "outputs": [],
   "source": [
    "SEC_BASE_URL = \"https://www.sec.gov\""
   ]
  },
  {
   "cell_type": "code",
   "execution_count": 30,
   "metadata": {},
   "outputs": [],
   "source": [
    "# List of user agents for rotation\n",
    "USER_AGENTS = [\n",
    "    \"Mozilla/5.0 (Windows NT 10.0; Win64; x64) AppleWebKit/537.36 (KHTML, like Gecko) Chrome/91.0.4472.124 Safari/537.36\",\n",
    "    \"Mozilla/5.0 (Macintosh; Intel Mac OS X 10_15_7) AppleWebKit/537.36 (KHTML, like Gecko) Chrome/103.0.5060.134 Safari/537.36\",\n",
    "    \"Mozilla/5.0 (X11; Linux x86_64) AppleWebKit/537.36 (KHTML, like Gecko) Chrome/92.0.4515.107 Safari/537.36\",\n",
    "]"
   ]
  },
  {
   "cell_type": "code",
   "execution_count": 31,
   "metadata": {},
   "outputs": [],
   "source": [
    "# Configure Selenium WebDriver\n",
    "options = Options()\n",
    "options.add_argument(\"--headless\")  # Run in headless mode\n",
    "options.add_argument(\"--disable-gpu\")\n",
    "options.add_argument(\"--no-sandbox\")\n",
    "options.add_argument(\"--disable-dev-shm-usage\")\n",
    "\n",
    "# Initialize WebDriver\n",
    "service = Service(ChromeDriverManager().install())\n",
    "driver = webdriver.Chrome(service=service, options=options)"
   ]
  },
  {
   "cell_type": "code",
   "execution_count": 32,
   "metadata": {},
   "outputs": [],
   "source": [
    "def get_8k_filings(ticker):\n",
    "    \"\"\"Fetches the latest 8-K filings for a given ticker.\"\"\"\n",
    "    headers = {\"User-Agent\": random.choice(USER_AGENTS)}\n",
    "    search_url = f\"https://www.sec.gov/cgi-bin/browse-edgar?action=getcompany&CIK={ticker}&type=8-K&dateb=&owner=exclude&count=10\"\n",
    "\n",
    "    print(f\"\\n🔍 Fetching 8-K filings for {ticker}...\")\n",
    "    driver.get(search_url)\n",
    "    time.sleep(random.uniform(2, 5))  # Randomized delay\n",
    "\n",
    "    soup = BeautifulSoup(driver.page_source, \"html.parser\")\n",
    "    \n",
    "    # Debug: Print fetched page content\n",
    "    print(f\"📄 [DEBUG] Page Content for {ticker}:\\n{soup.prettify()[:500]}...\\n\")\n",
    "\n",
    "    filings = []\n",
    "    for link in soup.find_all(\"a\", href=True):\n",
    "        if \"Archives/edgar/data\" in link[\"href\"] and \"index.htm\" in link[\"href\"]:\n",
    "            filing_url = SEC_BASE_URL + link[\"href\"].replace(\"index.htm\", \"\")\n",
    "            filings.append(filing_url)\n",
    "\n",
    "    if not filings:\n",
    "        print(f\"⚠️ No 8-K filings found for {ticker}.\")\n",
    "    return filings[:3]"
   ]
  },
  {
   "cell_type": "code",
   "execution_count": 33,
   "metadata": {},
   "outputs": [],
   "source": [
    "def get_transcript(filing_url):\n",
    "    \"\"\"Fetches the transcript from an 8-K filing.\"\"\"\n",
    "    headers = {\"User-Agent\": random.choice(USER_AGENTS)}\n",
    "\n",
    "    print(f\"📄 Fetching filing page: {filing_url}\")\n",
    "    driver.get(filing_url)\n",
    "    time.sleep(random.uniform(2, 5))  # Randomized delay\n",
    "\n",
    "    soup = BeautifulSoup(driver.page_source, \"html.parser\")\n",
    "\n",
    "    transcript_url = None\n",
    "    all_links = [SEC_BASE_URL + link[\"href\"] for link in soup.find_all(\"a\", href=True)]\n",
    "    \n",
    "    # Debug: Print all found links\n",
    "    print(f\"🔗 [DEBUG] All Links on Filing Page:\\n{all_links}\\n\")\n",
    "\n",
    "    for link in all_links:\n",
    "        if \"ex99\" in link.lower():\n",
    "            transcript_url = link\n",
    "            break\n",
    "\n",
    "    if not transcript_url:\n",
    "        print(f\"⚠️ No transcript link found in {filing_url}\")\n",
    "        return None\n",
    "\n",
    "    print(f\"📝 Fetching transcript from: {transcript_url}\")\n",
    "    driver.get(transcript_url)\n",
    "    time.sleep(random.uniform(2, 5))  # Randomized delay\n",
    "\n",
    "    soup = BeautifulSoup(driver.page_source, \"html.parser\")\n",
    "    paragraphs = soup.find_all(\"p\")\n",
    "\n",
    "    # Debug: Print first 500 characters of extracted text\n",
    "    transcript_text = \"\\n\".join([p.get_text() for p in paragraphs])\n",
    "    print(f\"📜 [DEBUG] Transcript Preview:\\n{transcript_text[:500]}...\\n\")\n",
    "\n",
    "    return transcript_text if transcript_text else None\n"
   ]
  },
  {
   "cell_type": "code",
   "execution_count": 34,
   "metadata": {},
   "outputs": [
    {
     "name": "stdout",
     "output_type": "stream",
     "text": [
      "\n",
      "🔍 Fetching 8-K filings for AAPL...\n",
      "📄 [DEBUG] Page Content for AAPL:\n",
      "<html xmlns=\"http://www.w3.org/1999/xhtml\">\n",
      " <head>\n",
      "  <meta content=\"text/html; charset=utf-8\" http-equiv=\"Content-Type\"/>\n",
      "  <title>\n",
      "   SEC.gov | Request Rate Threshold Exceeded\n",
      "  </title>\n",
      "  <style>\n",
      "   html {height: 100%}\n",
      "body {height: 100%; margin:0; padding:0;}\n",
      "#header {background-color:#003968; color:#fff; padding:15px 20px 10px 20px;font-family:Arial, Helvetica, sans-serif; font-size:20px; border-bottom:solid 5px #000;}\n",
      "#footer {background-color:#003968; color:#fff; padding:15px 20px;font-fa...\n",
      "\n",
      "⚠️ No 8-K filings found for AAPL.\n",
      "\n",
      "🔍 Fetching 8-K filings for MSFT...\n",
      "📄 [DEBUG] Page Content for MSFT:\n",
      "<html xmlns=\"http://www.w3.org/1999/xhtml\">\n",
      " <head>\n",
      "  <meta content=\"text/html; charset=utf-8\" http-equiv=\"Content-Type\"/>\n",
      "  <title>\n",
      "   SEC.gov | Request Rate Threshold Exceeded\n",
      "  </title>\n",
      "  <style>\n",
      "   html {height: 100%}\n",
      "body {height: 100%; margin:0; padding:0;}\n",
      "#header {background-color:#003968; color:#fff; padding:15px 20px 10px 20px;font-family:Arial, Helvetica, sans-serif; font-size:20px; border-bottom:solid 5px #000;}\n",
      "#footer {background-color:#003968; color:#fff; padding:15px 20px;font-fa...\n",
      "\n",
      "⚠️ No 8-K filings found for MSFT.\n",
      "\n",
      "🔍 Fetching 8-K filings for GOOG...\n"
     ]
    },
    {
     "ename": "KeyboardInterrupt",
     "evalue": "",
     "output_type": "error",
     "traceback": [
      "\u001b[0;31m---------------------------------------------------------------------------\u001b[0m",
      "\u001b[0;31mKeyboardInterrupt\u001b[0m                         Traceback (most recent call last)",
      "Cell \u001b[0;32mIn[34], line 4\u001b[0m\n\u001b[1;32m      2\u001b[0m data \u001b[38;5;241m=\u001b[39m []\n\u001b[1;32m      3\u001b[0m \u001b[38;5;28;01mfor\u001b[39;00m ticker \u001b[38;5;129;01min\u001b[39;00m tickers:\n\u001b[0;32m----> 4\u001b[0m     filings \u001b[38;5;241m=\u001b[39m \u001b[43mget_8k_filings\u001b[49m\u001b[43m(\u001b[49m\u001b[43mticker\u001b[49m\u001b[43m)\u001b[49m\n\u001b[1;32m      6\u001b[0m     \u001b[38;5;28;01mfor\u001b[39;00m filing \u001b[38;5;129;01min\u001b[39;00m filings:\n\u001b[1;32m      7\u001b[0m         transcript \u001b[38;5;241m=\u001b[39m get_transcript(filing)\n",
      "Cell \u001b[0;32mIn[32], line 8\u001b[0m, in \u001b[0;36mget_8k_filings\u001b[0;34m(ticker)\u001b[0m\n\u001b[1;32m      6\u001b[0m \u001b[38;5;28mprint\u001b[39m(\u001b[38;5;124mf\u001b[39m\u001b[38;5;124m\"\u001b[39m\u001b[38;5;130;01m\\n\u001b[39;00m\u001b[38;5;124m🔍 Fetching 8-K filings for \u001b[39m\u001b[38;5;132;01m{\u001b[39;00mticker\u001b[38;5;132;01m}\u001b[39;00m\u001b[38;5;124m...\u001b[39m\u001b[38;5;124m\"\u001b[39m)\n\u001b[1;32m      7\u001b[0m driver\u001b[38;5;241m.\u001b[39mget(search_url)\n\u001b[0;32m----> 8\u001b[0m \u001b[43mtime\u001b[49m\u001b[38;5;241;43m.\u001b[39;49m\u001b[43msleep\u001b[49m\u001b[43m(\u001b[49m\u001b[43mrandom\u001b[49m\u001b[38;5;241;43m.\u001b[39;49m\u001b[43muniform\u001b[49m\u001b[43m(\u001b[49m\u001b[38;5;241;43m2\u001b[39;49m\u001b[43m,\u001b[49m\u001b[43m \u001b[49m\u001b[38;5;241;43m5\u001b[39;49m\u001b[43m)\u001b[49m\u001b[43m)\u001b[49m  \u001b[38;5;66;03m# Randomized delay\u001b[39;00m\n\u001b[1;32m     10\u001b[0m soup \u001b[38;5;241m=\u001b[39m BeautifulSoup(driver\u001b[38;5;241m.\u001b[39mpage_source, \u001b[38;5;124m\"\u001b[39m\u001b[38;5;124mhtml.parser\u001b[39m\u001b[38;5;124m\"\u001b[39m)\n\u001b[1;32m     12\u001b[0m \u001b[38;5;66;03m# Debug: Print fetched page content\u001b[39;00m\n",
      "\u001b[0;31mKeyboardInterrupt\u001b[0m: "
     ]
    }
   ],
   "source": [
    "# Scrape data\n",
    "data = []\n",
    "for ticker in tickers:\n",
    "    filings = get_8k_filings(ticker)\n",
    "    \n",
    "    for filing in filings:\n",
    "        transcript = get_transcript(filing)\n",
    "        \n",
    "        if transcript:\n",
    "            data.append({\"Ticker\": ticker, \"Transcript\": transcript})\n",
    "        \n",
    "        sleep_time = random.uniform(5, 10)\n",
    "        print(f\"⏳ Sleeping for {sleep_time:.2f} seconds...\\n\")\n",
    "        time.sleep(sleep_time)"
   ]
  },
  {
   "cell_type": "code",
   "execution_count": 23,
   "metadata": {},
   "outputs": [],
   "source": [
    "# Close the Selenium driver\n",
    "driver.quit()"
   ]
  },
  {
   "cell_type": "code",
   "execution_count": 26,
   "metadata": {},
   "outputs": [
    {
     "data": {
      "text/plain": [
       "[]"
      ]
     },
     "execution_count": 26,
     "metadata": {},
     "output_type": "execute_result"
    }
   ],
   "source": [
    "data"
   ]
  },
  {
   "cell_type": "code",
   "execution_count": 24,
   "metadata": {},
   "outputs": [],
   "source": [
    "df = pd.DataFrame(data)"
   ]
  },
  {
   "cell_type": "code",
   "execution_count": 25,
   "metadata": {},
   "outputs": [
    {
     "data": {
      "text/html": [
       "<div>\n",
       "<style scoped>\n",
       "    .dataframe tbody tr th:only-of-type {\n",
       "        vertical-align: middle;\n",
       "    }\n",
       "\n",
       "    .dataframe tbody tr th {\n",
       "        vertical-align: top;\n",
       "    }\n",
       "\n",
       "    .dataframe thead th {\n",
       "        text-align: right;\n",
       "    }\n",
       "</style>\n",
       "<table border=\"1\" class=\"dataframe\">\n",
       "  <thead>\n",
       "    <tr style=\"text-align: right;\">\n",
       "      <th></th>\n",
       "    </tr>\n",
       "  </thead>\n",
       "  <tbody>\n",
       "  </tbody>\n",
       "</table>\n",
       "</div>"
      ],
      "text/plain": [
       "Empty DataFrame\n",
       "Columns: []\n",
       "Index: []"
      ]
     },
     "execution_count": 25,
     "metadata": {},
     "output_type": "execute_result"
    }
   ],
   "source": [
    "df"
   ]
  },
  {
   "cell_type": "code",
   "execution_count": null,
   "metadata": {},
   "outputs": [],
   "source": []
  }
 ],
 "metadata": {
  "kernelspec": {
   "display_name": "base",
   "language": "python",
   "name": "python3"
  },
  "language_info": {
   "codemirror_mode": {
    "name": "ipython",
    "version": 3
   },
   "file_extension": ".py",
   "mimetype": "text/x-python",
   "name": "python",
   "nbconvert_exporter": "python",
   "pygments_lexer": "ipython3",
   "version": "3.10.9"
  }
 },
 "nbformat": 4,
 "nbformat_minor": 2
}
