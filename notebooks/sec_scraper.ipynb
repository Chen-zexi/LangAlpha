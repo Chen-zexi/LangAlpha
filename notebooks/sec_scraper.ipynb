{
 "cells": [
  {
   "cell_type": "code",
   "execution_count": 6,
   "metadata": {},
   "outputs": [],
   "source": [
    "from sec_edgar_downloader import Downloader\n",
    "import os\n",
    "from bs4 import BeautifulSoup"
   ]
  },
  {
   "cell_type": "code",
   "execution_count": null,
   "metadata": {},
   "outputs": [],
   "source": [
    "tickers = ['AAPL', 'MSFT', 'GOOG', 'AMZN', 'TSLA', 'META', 'NFLX', 'NVDA', 'AMD', \n",
    "           'BA', 'V', 'SPY', 'SPCE', 'BABA', 'MSTR', 'DIS', 'PYPL', 'SHOP', 'COIN', \n",
    "           , 'INTC', 'CSCO', 'IBM', 'GE', 'WMT', 'T']"
   ]
  },
  {
   "cell_type": "code",
   "execution_count": 18,
   "metadata": {},
   "outputs": [],
   "source": [
    "dl = Downloader(\"NYU\", \"tan4742@nyu.edu\", \"../data/sec_data\")"
   ]
  },
  {
   "cell_type": "code",
   "execution_count": 19,
   "metadata": {},
   "outputs": [
    {
     "name": "stdout",
     "output_type": "stream",
     "text": [
      "Fetching 8-K filings for AAPL...\n",
      "Fetching 8-K filings for MSFT...\n",
      "Fetching 8-K filings for GOOG...\n",
      "Fetching 8-K filings for AMZN...\n",
      "Fetching 8-K filings for TSLA...\n",
      "Fetching 8-K filings for META...\n",
      "Fetching 8-K filings for NFLX...\n",
      "Fetching 8-K filings for NVDA...\n",
      "Fetching 8-K filings for AMD...\n",
      "Fetching 8-K filings for BA...\n",
      "Fetching 8-K filings for V...\n",
      "Fetching 8-K filings for SPY...\n",
      "No filings found for SPY\n",
      "Fetching 8-K filings for SPCE...\n",
      "Fetching 8-K filings for BABA...\n",
      "No filings found for BABA\n",
      "Fetching 8-K filings for MSTR...\n",
      "Fetching 8-K filings for DIS...\n",
      "Fetching 8-K filings for PYPL...\n",
      "Fetching 8-K filings for SHOP...\n",
      "Fetching 8-K filings for COIN...\n",
      "Fetching 8-K filings for SQ...\n"
     ]
    },
    {
     "ename": "ValueError",
     "evalue": "Ticker 'SQ' is invalid and cannot be mapped to a CIK. Please enter a valid ticker or CIK.",
     "output_type": "error",
     "traceback": [
      "\u001b[0;31m---------------------------------------------------------------------------\u001b[0m",
      "\u001b[0;31mValueError\u001b[0m                                Traceback (most recent call last)",
      "Cell \u001b[0;32mIn[19], line 8\u001b[0m\n\u001b[1;32m      5\u001b[0m \u001b[38;5;28mprint\u001b[39m(\u001b[38;5;124mf\u001b[39m\u001b[38;5;124m\"\u001b[39m\u001b[38;5;124mFetching 8-K filings for \u001b[39m\u001b[38;5;132;01m{\u001b[39;00mticker\u001b[38;5;132;01m}\u001b[39;00m\u001b[38;5;124m...\u001b[39m\u001b[38;5;124m\"\u001b[39m)\n\u001b[1;32m      7\u001b[0m \u001b[38;5;66;03m# Download the latest 8-K filings\u001b[39;00m\n\u001b[0;32m----> 8\u001b[0m \u001b[43mdl\u001b[49m\u001b[38;5;241;43m.\u001b[39;49m\u001b[43mget\u001b[49m\u001b[43m(\u001b[49m\u001b[38;5;124;43m\"\u001b[39;49m\u001b[38;5;124;43m8-K\u001b[39;49m\u001b[38;5;124;43m\"\u001b[39;49m\u001b[43m,\u001b[49m\u001b[43m \u001b[49m\u001b[43mticker\u001b[49m\u001b[43m,\u001b[49m\u001b[43m \u001b[49m\u001b[43mlimit\u001b[49m\u001b[38;5;241;43m=\u001b[39;49m\u001b[38;5;241;43m5\u001b[39;49m\u001b[43m)\u001b[49m\n\u001b[1;32m     10\u001b[0m \u001b[38;5;66;03m# Path to downloaded files\u001b[39;00m\n\u001b[1;32m     11\u001b[0m filing_dir \u001b[38;5;241m=\u001b[39m \u001b[38;5;124mf\u001b[39m\u001b[38;5;124m\"\u001b[39m\u001b[38;5;124m../data/sec_data/sec-edgar-filings/\u001b[39m\u001b[38;5;132;01m{\u001b[39;00mticker\u001b[38;5;132;01m}\u001b[39;00m\u001b[38;5;124m/8-K/\u001b[39m\u001b[38;5;124m\"\u001b[39m\n",
      "File \u001b[0;32m~/anaconda3/lib/python3.10/site-packages/sec_edgar_downloader/_Downloader.py:126\u001b[0m, in \u001b[0;36mDownloader.get\u001b[0;34m(self, form, ticker_or_cik, limit, after, before, include_amends, download_details, accession_numbers_to_skip)\u001b[0m\n\u001b[1;32m     60\u001b[0m \u001b[38;5;28;01mdef\u001b[39;00m \u001b[38;5;21mget\u001b[39m(\n\u001b[1;32m     61\u001b[0m     \u001b[38;5;28mself\u001b[39m,\n\u001b[1;32m     62\u001b[0m     form: \u001b[38;5;28mstr\u001b[39m,\n\u001b[0;32m   (...)\u001b[0m\n\u001b[1;32m     70\u001b[0m     accession_numbers_to_skip: Optional[Set[\u001b[38;5;28mstr\u001b[39m]] \u001b[38;5;241m=\u001b[39m \u001b[38;5;28;01mNone\u001b[39;00m,\n\u001b[1;32m     71\u001b[0m ) \u001b[38;5;241m-\u001b[39m\u001b[38;5;241m>\u001b[39m \u001b[38;5;28mint\u001b[39m:\n\u001b[1;32m     72\u001b[0m     \u001b[38;5;124;03m\"\"\"Download filings and save them to disk.\u001b[39;00m\n\u001b[1;32m     73\u001b[0m \n\u001b[1;32m     74\u001b[0m \u001b[38;5;124;03m    :param form: form type to download (e.g. 8-K, 10-K).\u001b[39;00m\n\u001b[0;32m   (...)\u001b[0m\n\u001b[1;32m    124\u001b[0m \u001b[38;5;124;03m        >>> dl.get(\"SD\", \"AAPL\")\u001b[39;00m\n\u001b[1;32m    125\u001b[0m \u001b[38;5;124;03m    \"\"\"\u001b[39;00m\n\u001b[0;32m--> 126\u001b[0m     cik \u001b[38;5;241m=\u001b[39m \u001b[43mvalidate_and_convert_ticker_or_cik\u001b[49m\u001b[43m(\u001b[49m\n\u001b[1;32m    127\u001b[0m \u001b[43m        \u001b[49m\u001b[43mticker_or_cik\u001b[49m\u001b[43m,\u001b[49m\u001b[43m \u001b[49m\u001b[38;5;28;43mself\u001b[39;49m\u001b[38;5;241;43m.\u001b[39;49m\u001b[43mticker_to_cik_mapping\u001b[49m\n\u001b[1;32m    128\u001b[0m \u001b[43m    \u001b[49m\u001b[43m)\u001b[49m\n\u001b[1;32m    130\u001b[0m     \u001b[38;5;28;01mif\u001b[39;00m limit \u001b[38;5;129;01mis\u001b[39;00m \u001b[38;5;28;01mNone\u001b[39;00m:\n\u001b[1;32m    131\u001b[0m         \u001b[38;5;66;03m# If amount is not specified, obtain all available filings.\u001b[39;00m\n\u001b[1;32m    132\u001b[0m         \u001b[38;5;66;03m# We simply need a large number to denote this and the loop\u001b[39;00m\n\u001b[1;32m    133\u001b[0m         \u001b[38;5;66;03m# responsible for fetching the URLs will break appropriately.\u001b[39;00m\n\u001b[1;32m    134\u001b[0m         limit \u001b[38;5;241m=\u001b[39m sys\u001b[38;5;241m.\u001b[39mmaxsize\n",
      "File \u001b[0;32m~/anaconda3/lib/python3.10/site-packages/sec_edgar_downloader/_utils.py:38\u001b[0m, in \u001b[0;36mvalidate_and_convert_ticker_or_cik\u001b[0;34m(ticker_or_cik, ticker_to_cik_mapping)\u001b[0m\n\u001b[1;32m     35\u001b[0m cik \u001b[38;5;241m=\u001b[39m ticker_to_cik_mapping\u001b[38;5;241m.\u001b[39mget(ticker_or_cik)\n\u001b[1;32m     37\u001b[0m \u001b[38;5;28;01mif\u001b[39;00m cik \u001b[38;5;129;01mis\u001b[39;00m \u001b[38;5;28;01mNone\u001b[39;00m:\n\u001b[0;32m---> 38\u001b[0m     \u001b[38;5;28;01mraise\u001b[39;00m \u001b[38;5;167;01mValueError\u001b[39;00m(\n\u001b[1;32m     39\u001b[0m         \u001b[38;5;124mf\u001b[39m\u001b[38;5;124m\"\u001b[39m\u001b[38;5;124mTicker \u001b[39m\u001b[38;5;132;01m{\u001b[39;00m\u001b[38;5;28mrepr\u001b[39m(ticker_or_cik)\u001b[38;5;132;01m}\u001b[39;00m\u001b[38;5;124m is invalid and cannot be mapped to a CIK. \u001b[39m\u001b[38;5;124m\"\u001b[39m\n\u001b[1;32m     40\u001b[0m         \u001b[38;5;124m\"\u001b[39m\u001b[38;5;124mPlease enter a valid ticker or CIK.\u001b[39m\u001b[38;5;124m\"\u001b[39m\n\u001b[1;32m     41\u001b[0m     )\n\u001b[1;32m     43\u001b[0m \u001b[38;5;28;01mreturn\u001b[39;00m cik\n",
      "\u001b[0;31mValueError\u001b[0m: Ticker 'SQ' is invalid and cannot be mapped to a CIK. Please enter a valid ticker or CIK."
     ]
    }
   ],
   "source": [
    "output_dir = \"../data/transcripts\"\n",
    "os.makedirs(output_dir, exist_ok=True)\n",
    "\n",
    "for ticker in tickers:\n",
    "    print(f\"Fetching 8-K filings for {ticker}...\")\n",
    "    \n",
    "    # Download the latest 8-K filings\n",
    "    dl.get(\"8-K\", ticker, limit=5)\n",
    "    \n",
    "    # Path to downloaded files\n",
    "    filing_dir = f\"../data/sec_data/sec-edgar-filings/{ticker}/8-K/\"\n",
    "    \n",
    "    # Find the latest filing\n",
    "    if not os.path.exists(filing_dir):\n",
    "        print(f\"No filings found for {ticker}\")\n",
    "        continue\n",
    "    \n",
    "    for filing in os.listdir(filing_dir):\n",
    "        filing_path = os.path.join(filing_dir, filing)\n",
    "        for file in os.listdir(filing_path):\n",
    "            if file.endswith(\".htm\") or file.endswith(\".html\"):\n",
    "                with open(os.path.join(filing_path, file), \"r\", encoding=\"utf-8\") as f:\n",
    "                    soup = BeautifulSoup(f.read(), \"html.parser\")\n",
    "                    \n",
    "                    # Extract text from Exhibit 99 (where transcripts are usually found)\n",
    "                    exhibits = soup.find_all(\"div\")\n",
    "                    text = \"\\n\".join([ex.get_text() for ex in exhibits if \"Exhibit 99\" in ex.get_text()])\n",
    "                    \n",
    "                    if text:\n",
    "                        output_file = os.path.join(output_dir, f\"{ticker}_transcript.txt\")\n",
    "                        with open(output_file, \"w\", encoding=\"utf-8\") as out:\n",
    "                            out.write(text)\n",
    "                        print(f\"Transcript saved for {ticker}\")"
   ]
  },
  {
   "cell_type": "code",
   "execution_count": null,
   "metadata": {},
   "outputs": [],
   "source": []
  }
 ],
 "metadata": {
  "kernelspec": {
   "display_name": "base",
   "language": "python",
   "name": "python3"
  },
  "language_info": {
   "codemirror_mode": {
    "name": "ipython",
    "version": 3
   },
   "file_extension": ".py",
   "mimetype": "text/x-python",
   "name": "python",
   "nbconvert_exporter": "python",
   "pygments_lexer": "ipython3",
   "version": "3.10.9"
  }
 },
 "nbformat": 4,
 "nbformat_minor": 2
}
