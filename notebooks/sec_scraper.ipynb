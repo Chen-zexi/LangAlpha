{
 "cells": [
  {
   "cell_type": "code",
   "execution_count": 10,
   "metadata": {},
   "outputs": [],
   "source": [
    "import requests\n",
    "import pandas as pd\n",
    "from bs4 import BeautifulSoup\n",
    "import time"
   ]
  },
  {
   "cell_type": "code",
   "execution_count": 11,
   "metadata": {},
   "outputs": [],
   "source": [
    "tickers = ['AAPL', 'MSFT', 'GOOG', 'AMZN', 'TSLA', 'META', 'NFLX', 'NVDA', 'AMD', 'BA', \n",
    "           'V', 'SPY', 'SPCE', 'FB', 'TWTR', 'BABA', 'MSTR', 'DIS', 'PYPL', 'SHOP', 'COIN', \n",
    "           'SQ', 'INTC', 'CSCO', 'IBM', 'GE', 'WMT', 'T']"
   ]
  },
  {
   "cell_type": "code",
   "execution_count": 12,
   "metadata": {},
   "outputs": [],
   "source": [
    "SEC_BASE_URL = \"https://www.sec.gov\""
   ]
  },
  {
   "cell_type": "code",
   "execution_count": 13,
   "metadata": {},
   "outputs": [],
   "source": [
    "HEADERS = {\n",
    "    \"User-Agent\": \"Mozilla/5.0 (Windows NT 10.0; Win64; x64) AppleWebKit/537.36 (KHTML, like Gecko) Chrome/91.0.4472.124 Safari/537.36\"\n",
    "}"
   ]
  },
  {
   "cell_type": "code",
   "execution_count": 5,
   "metadata": {},
   "outputs": [],
   "source": [
    "def get_8k_filings(ticker):\n",
    "    search_url = f\"https://www.sec.gov/cgi-bin/browse-edgar?action=getcompany&CIK={ticker}&type=8-K&dateb=&owner=exclude&count=10\"\n",
    "    \n",
    "    response = requests.get(search_url, headers=HEADERS)\n",
    "    if response.status_code != 200:\n",
    "        print(f\"Failed to fetch data for {ticker}\")\n",
    "        return []\n",
    "\n",
    "    soup = BeautifulSoup(response.text, \"html.parser\")\n",
    "    filings = []\n",
    "    \n",
    "    # Extract filing links\n",
    "    for link in soup.find_all(\"a\", href=True):\n",
    "        if \"Archives/edgar/data\" in link[\"href\"] and \"index.htm\" in link[\"href\"]:\n",
    "            filings.append(SEC_BASE_URL + link[\"href\"].replace(\"index.htm\", \"\"))\n",
    "    \n",
    "    return filings[:3]"
   ]
  },
  {
   "cell_type": "code",
   "execution_count": 6,
   "metadata": {},
   "outputs": [],
   "source": [
    "def get_transcript(filing_url):\n",
    "    response = requests.get(filing_url, headers=HEADERS)\n",
    "    if response.status_code != 200:\n",
    "        print(f\"Failed to fetch filing: {filing_url}\")\n",
    "        return None\n",
    "\n",
    "    soup = BeautifulSoup(response.text, \"html.parser\")\n",
    "    transcript_url = None\n",
    "\n",
    "    for link in soup.find_all(\"a\", href=True):\n",
    "        if \"ex99\" in link[\"href\"].lower():\n",
    "            transcript_url = SEC_BASE_URL + link[\"href\"]\n",
    "            break\n",
    "\n",
    "    if not transcript_url:\n",
    "        print(f\"No transcript found in {filing_url}\")\n",
    "        return None\n",
    "\n",
    "    response = requests.get(transcript_url, headers=HEADERS)\n",
    "    if response.status_code != 200:\n",
    "        print(f\"Failed to fetch transcript: {transcript_url}\")\n",
    "        return None\n",
    "\n",
    "    soup = BeautifulSoup(response.text, \"html.parser\")\n",
    "    paragraphs = soup.find_all(\"p\")\n",
    "    transcript_text = \"\\n\".join([p.get_text() for p in paragraphs])\n",
    "\n",
    "    return transcript_text if transcript_text else None"
   ]
  },
  {
   "cell_type": "code",
   "execution_count": 14,
   "metadata": {},
   "outputs": [],
   "source": [
    "# check back again\n",
    "# data = []\n",
    "# for ticker in tickers:\n",
    "#     print(f\"Fetching 8-K filings for {ticker}...\")\n",
    "#     filings = get_8k_filings(ticker)\n",
    "    \n",
    "#     for filing in filings:\n",
    "#         print(f\"Fetching transcript from: {filing}\")\n",
    "#         transcript = get_transcript(filing)\n",
    "        \n",
    "#         if transcript:\n",
    "#             data.append({\"Ticker\": ticker, \"Transcript\": transcript})\n",
    "        \n",
    "#         time.sleep(5)"
   ]
  },
  {
   "cell_type": "code",
   "execution_count": 7,
   "metadata": {},
   "outputs": [
    {
     "ename": "NameError",
     "evalue": "name 'data' is not defined",
     "output_type": "error",
     "traceback": [
      "\u001b[0;31m---------------------------------------------------------------------------\u001b[0m",
      "\u001b[0;31mNameError\u001b[0m                                 Traceback (most recent call last)",
      "Cell \u001b[0;32mIn[7], line 1\u001b[0m\n\u001b[0;32m----> 1\u001b[0m df \u001b[38;5;241m=\u001b[39m pd\u001b[38;5;241m.\u001b[39mDataFrame(\u001b[43mdata\u001b[49m)\n",
      "\u001b[0;31mNameError\u001b[0m: name 'data' is not defined"
     ]
    }
   ],
   "source": [
    "df = pd.DataFrame(data)"
   ]
  },
  {
   "cell_type": "code",
   "execution_count": 8,
   "metadata": {},
   "outputs": [
    {
     "ename": "NameError",
     "evalue": "name 'df' is not defined",
     "output_type": "error",
     "traceback": [
      "\u001b[0;31m---------------------------------------------------------------------------\u001b[0m",
      "\u001b[0;31mNameError\u001b[0m                                 Traceback (most recent call last)",
      "Cell \u001b[0;32mIn[8], line 1\u001b[0m\n\u001b[0;32m----> 1\u001b[0m \u001b[43mdf\u001b[49m\n",
      "\u001b[0;31mNameError\u001b[0m: name 'df' is not defined"
     ]
    }
   ],
   "source": [
    "df"
   ]
  },
  {
   "cell_type": "code",
   "execution_count": null,
   "metadata": {},
   "outputs": [],
   "source": []
  }
 ],
 "metadata": {
  "kernelspec": {
   "display_name": "base",
   "language": "python",
   "name": "python3"
  },
  "language_info": {
   "codemirror_mode": {
    "name": "ipython",
    "version": 3
   },
   "file_extension": ".py",
   "mimetype": "text/x-python",
   "name": "python",
   "nbconvert_exporter": "python",
   "pygments_lexer": "ipython3",
   "version": "3.10.9"
  }
 },
 "nbformat": 4,
 "nbformat_minor": 2
}
