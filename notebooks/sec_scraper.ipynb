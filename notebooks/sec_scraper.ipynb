{
 "cells": [
  {
   "cell_type": "code",
   "execution_count": 6,
   "metadata": {},
   "outputs": [],
   "source": [
    "from sec_edgar_downloader import Downloader\n",
    "import os\n",
    "from bs4 import BeautifulSoup"
   ]
  },
  {
   "cell_type": "code",
   "execution_count": 21,
   "metadata": {},
   "outputs": [],
   "source": [
    "tickers = ['AAPL', 'MSFT', 'GOOG', 'AMZN', 'TSLA', 'META', 'NFLX', 'NVDA', 'AMD', \n",
    "           'BA', 'V', 'SPY', 'SPCE', 'BABA', 'MSTR', 'DIS', 'PYPL', 'SHOP', 'COIN', \n",
    "            'INTC', 'CSCO', 'IBM', 'GE', 'WMT', 'T']"
   ]
  },
  {
   "cell_type": "code",
   "execution_count": 22,
   "metadata": {},
   "outputs": [],
   "source": [
    "dl = Downloader(\"NYU\", \"tan4742@nyu.edu\", \"../data/sec_data\")"
   ]
  },
  {
   "cell_type": "code",
   "execution_count": 23,
   "metadata": {},
   "outputs": [
    {
     "name": "stdout",
     "output_type": "stream",
     "text": [
      "Fetching 8-K filings for AAPL...\n",
      "Fetching 8-K filings for MSFT...\n",
      "Fetching 8-K filings for GOOG...\n",
      "Fetching 8-K filings for AMZN...\n",
      "Fetching 8-K filings for TSLA...\n",
      "Fetching 8-K filings for META...\n",
      "Fetching 8-K filings for NFLX...\n",
      "Fetching 8-K filings for NVDA...\n",
      "Fetching 8-K filings for AMD...\n",
      "Fetching 8-K filings for BA...\n",
      "Fetching 8-K filings for V...\n",
      "Fetching 8-K filings for SPY...\n",
      "No filings found for SPY\n",
      "Fetching 8-K filings for SPCE...\n",
      "Fetching 8-K filings for BABA...\n",
      "No filings found for BABA\n",
      "Fetching 8-K filings for MSTR...\n",
      "Fetching 8-K filings for DIS...\n",
      "Fetching 8-K filings for PYPL...\n",
      "Fetching 8-K filings for SHOP...\n",
      "Fetching 8-K filings for COIN...\n",
      "Fetching 8-K filings for INTC...\n",
      "Fetching 8-K filings for CSCO...\n",
      "Fetching 8-K filings for IBM...\n",
      "Fetching 8-K filings for GE...\n",
      "Fetching 8-K filings for WMT...\n",
      "Fetching 8-K filings for T...\n"
     ]
    }
   ],
   "source": [
    "output_dir = \"../data/transcripts\"\n",
    "os.makedirs(output_dir, exist_ok=True)\n",
    "\n",
    "for ticker in tickers:\n",
    "    print(f\"Fetching 8-K filings for {ticker}...\")\n",
    "    \n",
    "    # Download the latest 8-K filings\n",
    "    dl.get(\"8-K\", ticker, limit=5)\n",
    "    \n",
    "    # Path to downloaded files\n",
    "    filing_dir = f\"../data/sec_data/sec-edgar-filings/{ticker}/8-K/\"\n",
    "    \n",
    "    # Find the latest filing\n",
    "    if not os.path.exists(filing_dir):\n",
    "        print(f\"No filings found for {ticker}\")\n",
    "        continue\n",
    "    \n",
    "    for filing in os.listdir(filing_dir):\n",
    "        filing_path = os.path.join(filing_dir, filing)\n",
    "        for file in os.listdir(filing_path):\n",
    "            if file.endswith(\".htm\") or file.endswith(\".html\"):\n",
    "                with open(os.path.join(filing_path, file), \"r\", encoding=\"utf-8\") as f:\n",
    "                    soup = BeautifulSoup(f.read(), \"html.parser\")\n",
    "                    \n",
    "                    # Extract text from Exhibit 99 (where transcripts are usually found)\n",
    "                    exhibits = soup.find_all(\"div\")\n",
    "                    text = \"\\n\".join([ex.get_text() for ex in exhibits if \"Exhibit 99\" in ex.get_text()])\n",
    "                    \n",
    "                    if text:\n",
    "                        output_file = os.path.join(output_dir, f\"{ticker}_transcript.txt\")\n",
    "                        with open(output_file, \"w\", encoding=\"utf-8\") as out:\n",
    "                            out.write(text)\n",
    "                        print(f\"Transcript saved for {ticker}\")"
   ]
  },
  {
   "cell_type": "code",
   "execution_count": null,
   "metadata": {},
   "outputs": [],
   "source": []
  }
 ],
 "metadata": {
  "kernelspec": {
   "display_name": "base",
   "language": "python",
   "name": "python3"
  },
  "language_info": {
   "codemirror_mode": {
    "name": "ipython",
    "version": 3
   },
   "file_extension": ".py",
   "mimetype": "text/x-python",
   "name": "python",
   "nbconvert_exporter": "python",
   "pygments_lexer": "ipython3",
   "version": "3.10.9"
  }
 },
 "nbformat": 4,
 "nbformat_minor": 2
}
