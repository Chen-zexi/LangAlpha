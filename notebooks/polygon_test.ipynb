{
 "cells": [
  {
   "cell_type": "code",
   "execution_count": 1,
   "metadata": {},
   "outputs": [
    {
     "name": "stdout",
     "output_type": "stream",
     "text": [
      "FINANCIAL_DATASETS_API_KEY is set\n",
      "YAHOO_CONSUMER_KEY and YAHOO_CONSUMER_SECRET are set\n",
      "YAHOO_APP_ID is set\n",
      "POLYGON_API_KEY is set\n",
      "DB_USER and DB_PASSWORD are set\n",
      "DB_USER and DB_PASSWORD are set\n",
      "DB_USER and DB_PASSWORD are set\n"
     ]
    }
   ],
   "source": [
    "# Import the necessary libraries\n",
    "import sys\n",
    "import os\n",
    "import pandas as pd\n",
    "import warnings\n",
    "\n",
    "# Add the src folder to the path\n",
    "sys.path.append(os.path.abspath('..'))\n",
    "warnings.filterwarnings(\"ignore\", category=FutureWarning)\n",
    "\n",
    "# Import the classes\n",
    "from src.data_tool.data_providers.connect_wrds import get_wrds_data, get_security_daily\n",
    "from src.data_tool.data_providers.yahoo_finance import yahoo_finance\n",
    "from src.data_tool.data_providers.polygon import polygon\n",
    "from src.data_tool.data_providers.financial_datasets import FinancialDatasets\n",
    "from src.database_tool.connect_db import ConnectDB\n",
    "\n",
    "# Initialize the classes\n",
    "yf = yahoo_finance()\n",
    "pl = polygon()\n",
    "fd = FinancialDatasets()\n",
    "\n",
    "db =ConnectDB()\n",
    "engine = db.get_engine()\n"
   ]
  },
  {
   "cell_type": "code",
   "execution_count": 2,
   "metadata": {},
   "outputs": [],
   "source": [
    "nvda = pl.get_stock_metrics('NVDA', multiplier=1, timespan='day', from_date='2025-04-01', to_date='2025-04-17', limit=100)"
   ]
  },
  {
   "cell_type": "code",
   "execution_count": 3,
   "metadata": {},
   "outputs": [
    {
     "data": {
      "text/plain": [
       "{'ticker': 'NVDA',\n",
       " 'data_start_date': '2025-04-01',\n",
       " 'data_end_date': '2025-04-17',\n",
       " 'period_days': 17,\n",
       " 'data_points_used': 13,\n",
       " 'first_open_price': 108.52,\n",
       " 'last_close_price': 101.49,\n",
       " 'overall_change_percent': -6.47,\n",
       " 'highest_price': 115.1,\n",
       " 'highest_price_date': '2025-04-09',\n",
       " 'lowest_price': 86.62,\n",
       " 'lowest_price_date': '2025-04-07',\n",
       " 'average_volume': '380.59M',\n",
       " 'total_volume': '4947.72M',\n",
       " 'volatility_std_dev': 0.07,\n",
       " 'annualized_volatility_percent': 115.23,\n",
       " 'max_drawdown_percent': -14.59,\n",
       " 'max_drawdown_date': '2025-04-04',\n",
       " 'sma_13_period': 105.56}"
      ]
     },
     "execution_count": 3,
     "metadata": {},
     "output_type": "execute_result"
    }
   ],
   "source": [
    "nvda"
   ]
  },
  {
   "cell_type": "code",
   "execution_count": 4,
   "metadata": {},
   "outputs": [
    {
     "data": {
      "text/plain": [
       "TickerSnapshot(day=Agg(open=0, high=0, low=0, close=0, volume=0, vwap=0, timestamp=None, transactions=None, otc=None), last_quote=None, last_trade=None, min=MinuteSnapshot(accumulated_volume=0, open=0, high=0, low=0, close=0, volume=0, vwap=0, otc=None, timestamp=0, transactions=0), prev_day=Agg(open=527.64, high=531.165, low=523.91, close=526.41, volume=79440083.0, vwap=527.5642, timestamp=None, transactions=None, otc=None), ticker='SPY', todays_change=0, todays_change_percent=0, updated=0, fair_market_value=None)"
      ]
     },
     "execution_count": 4,
     "metadata": {},
     "output_type": "execute_result"
    }
   ],
   "source": [
    "tk_snapshot = pl.get_ticker_snapshot('SPY')\n",
    "tk_snapshot"
   ]
  },
  {
   "cell_type": "code",
   "execution_count": 5,
   "metadata": {},
   "outputs": [],
   "source": [
    "top_movers = pl.get_market_movers(direction='gainers')\n"
   ]
  },
  {
   "cell_type": "code",
   "execution_count": 6,
   "metadata": {},
   "outputs": [
    {
     "name": "stdout",
     "output_type": "stream",
     "text": [
      "<class 'list'>\n"
     ]
    }
   ],
   "source": [
    "filling = pl.get_stock_financials('NVDA', timeframe='annual')\n",
    "print(type(filling))"
   ]
  },
  {
   "cell_type": "code",
   "execution_count": 8,
   "metadata": {},
   "outputs": [],
   "source": [
    "import json"
   ]
  },
  {
   "cell_type": "code",
   "execution_count": 15,
   "metadata": {},
   "outputs": [
    {
     "ename": "AttributeError",
     "evalue": "'StockFinancial' object has no attribute 'model_dump'",
     "output_type": "error",
     "traceback": [
      "\u001b[0;31m---------------------------------------------------------------------------\u001b[0m",
      "\u001b[0;31mAttributeError\u001b[0m                            Traceback (most recent call last)",
      "Cell \u001b[0;32mIn[15], line 1\u001b[0m\n\u001b[0;32m----> 1\u001b[0m \u001b[43mfilling\u001b[49m\u001b[43m[\u001b[49m\u001b[38;5;241;43m0\u001b[39;49m\u001b[43m]\u001b[49m\u001b[38;5;241;43m.\u001b[39;49m\u001b[43mmodel_dump\u001b[49m()\n",
      "\u001b[0;31mAttributeError\u001b[0m: 'StockFinancial' object has no attribute 'model_dump'"
     ]
    }
   ],
   "source": [
    "jsonfilling[0]"
   ]
  }
 ],
 "metadata": {
  "kernelspec": {
   "display_name": "langalpha",
   "language": "python",
   "name": "python3"
  },
  "language_info": {
   "codemirror_mode": {
    "name": "ipython",
    "version": 3
   },
   "file_extension": ".py",
   "mimetype": "text/x-python",
   "name": "python",
   "nbconvert_exporter": "python",
   "pygments_lexer": "ipython3",
   "version": "3.11.11"
  }
 },
 "nbformat": 4,
 "nbformat_minor": 2
}
