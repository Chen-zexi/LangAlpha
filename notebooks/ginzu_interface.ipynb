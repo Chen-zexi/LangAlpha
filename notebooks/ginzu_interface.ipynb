{
  "cells": [
    {
      "cell_type": "code",
      "execution_count": null,
      "metadata": {},
      "outputs": [],
      "source": [
        "import gspread\n",
        "\n",
        "gc = gspread.service_account(filename='stocksflags-ec5c40f2f2ee.json')\n",
        "\n",
        "ginzu_spreadsheet_link = 'https://docs.google.com/spreadsheets/d/1xclQf2xrgw0swp2CRwE25OBaEhQdDTOkm8VVkTcpVks/edit?usp=sharing'\n",
        "pricer = gc.open_by_url(ginzu_spreadsheet_link)\n",
        "input_worksheet = pricer.get_worksheet(0)\n",
        "valuation_worksheet = pricer.get_worksheet(1)"
      ]
    },
    {
      "cell_type": "markdown",
      "metadata": {
        "id": "-apU1EN-CHHY"
      },
      "source": [
        "## Date of Valuation and Company Name"
      ]
    },
    {
      "cell_type": "code",
      "execution_count": 24,
      "metadata": {
        "id": "xsSb7iyHCGoK"
      },
      "outputs": [
        {
          "ename": "APIError",
          "evalue": "APIError: [400]: Invalid value at 'data.values' (type.googleapis.com/google.protobuf.ListValue), \"B3\"",
          "output_type": "error",
          "traceback": [
            "\u001b[0;31m---------------------------------------------------------------------------\u001b[0m",
            "\u001b[0;31mAPIError\u001b[0m                                  Traceback (most recent call last)",
            "Cell \u001b[0;32mIn[24], line 3\u001b[0m\n\u001b[1;32m      1\u001b[0m date_of_valuation \u001b[38;5;241m=\u001b[39m \u001b[38;5;28minput\u001b[39m(\u001b[38;5;124m'\u001b[39m\u001b[38;5;124mWhat is the date of the valuation?\u001b[39m\u001b[38;5;124m'\u001b[39m)\n\u001b[1;32m      2\u001b[0m company_name \u001b[38;5;241m=\u001b[39m \u001b[38;5;28minput\u001b[39m(\u001b[38;5;124m'\u001b[39m\u001b[38;5;124mWhat is the company name?\u001b[39m\u001b[38;5;124m'\u001b[39m)\n\u001b[0;32m----> 3\u001b[0m \u001b[43minput_worksheet\u001b[49m\u001b[38;5;241;43m.\u001b[39;49m\u001b[43mupdate\u001b[49m\u001b[43m(\u001b[49m\u001b[38;5;124;43m'\u001b[39;49m\u001b[38;5;124;43mB3\u001b[39;49m\u001b[38;5;124;43m'\u001b[39;49m\u001b[43m,\u001b[49m\u001b[43m \u001b[49m\u001b[43mdate_of_valuation\u001b[49m\u001b[43m)\u001b[49m\n\u001b[1;32m      4\u001b[0m input_worksheet\u001b[38;5;241m.\u001b[39mupdate(\u001b[38;5;124m'\u001b[39m\u001b[38;5;124mB4\u001b[39m\u001b[38;5;124m'\u001b[39m, company_name)\n",
            "File \u001b[0;32m~/anaconda3/envs/stocksflags/lib/python3.11/site-packages/gspread/worksheet.py:1242\u001b[0m, in \u001b[0;36mWorksheet.update\u001b[0;34m(self, values, range_name, raw, major_dimension, value_input_option, include_values_in_response, response_value_render_option, response_date_time_render_option)\u001b[0m\n\u001b[1;32m   1231\u001b[0m     value_input_option \u001b[38;5;241m=\u001b[39m (\n\u001b[1;32m   1232\u001b[0m         ValueInputOption\u001b[38;5;241m.\u001b[39mraw \u001b[38;5;28;01mif\u001b[39;00m raw \u001b[38;5;129;01mis\u001b[39;00m \u001b[38;5;28;01mTrue\u001b[39;00m \u001b[38;5;28;01melse\u001b[39;00m ValueInputOption\u001b[38;5;241m.\u001b[39muser_entered\n\u001b[1;32m   1233\u001b[0m     )\n\u001b[1;32m   1235\u001b[0m params: ParamsType \u001b[38;5;241m=\u001b[39m {\n\u001b[1;32m   1236\u001b[0m     \u001b[38;5;124m\"\u001b[39m\u001b[38;5;124mvalueInputOption\u001b[39m\u001b[38;5;124m\"\u001b[39m: value_input_option,\n\u001b[1;32m   1237\u001b[0m     \u001b[38;5;124m\"\u001b[39m\u001b[38;5;124mincludeValuesInResponse\u001b[39m\u001b[38;5;124m\"\u001b[39m: include_values_in_response,\n\u001b[1;32m   1238\u001b[0m     \u001b[38;5;124m\"\u001b[39m\u001b[38;5;124mresponseValueRenderOption\u001b[39m\u001b[38;5;124m\"\u001b[39m: response_value_render_option,\n\u001b[1;32m   1239\u001b[0m     \u001b[38;5;124m\"\u001b[39m\u001b[38;5;124mresponseDateTimeRenderOption\u001b[39m\u001b[38;5;124m\"\u001b[39m: response_date_time_render_option,\n\u001b[1;32m   1240\u001b[0m }\n\u001b[0;32m-> 1242\u001b[0m response \u001b[38;5;241m=\u001b[39m \u001b[38;5;28;43mself\u001b[39;49m\u001b[38;5;241;43m.\u001b[39;49m\u001b[43mclient\u001b[49m\u001b[38;5;241;43m.\u001b[39;49m\u001b[43mvalues_update\u001b[49m\u001b[43m(\u001b[49m\n\u001b[1;32m   1243\u001b[0m \u001b[43m    \u001b[49m\u001b[38;5;28;43mself\u001b[39;49m\u001b[38;5;241;43m.\u001b[39;49m\u001b[43mspreadsheet_id\u001b[49m\u001b[43m,\u001b[49m\n\u001b[1;32m   1244\u001b[0m \u001b[43m    \u001b[49m\u001b[43mfull_range_name\u001b[49m\u001b[43m,\u001b[49m\n\u001b[1;32m   1245\u001b[0m \u001b[43m    \u001b[49m\u001b[43mparams\u001b[49m\u001b[38;5;241;43m=\u001b[39;49m\u001b[43mparams\u001b[49m\u001b[43m,\u001b[49m\n\u001b[1;32m   1246\u001b[0m \u001b[43m    \u001b[49m\u001b[43mbody\u001b[49m\u001b[38;5;241;43m=\u001b[39;49m\u001b[43m{\u001b[49m\u001b[38;5;124;43m\"\u001b[39;49m\u001b[38;5;124;43mvalues\u001b[39;49m\u001b[38;5;124;43m\"\u001b[39;49m\u001b[43m:\u001b[49m\u001b[43m \u001b[49m\u001b[43mvalues\u001b[49m\u001b[43m,\u001b[49m\u001b[43m \u001b[49m\u001b[38;5;124;43m\"\u001b[39;49m\u001b[38;5;124;43mmajorDimension\u001b[39;49m\u001b[38;5;124;43m\"\u001b[39;49m\u001b[43m:\u001b[49m\u001b[43m \u001b[49m\u001b[43mmajor_dimension\u001b[49m\u001b[43m}\u001b[49m\u001b[43m,\u001b[49m\n\u001b[1;32m   1247\u001b[0m \u001b[43m\u001b[49m\u001b[43m)\u001b[49m\n\u001b[1;32m   1249\u001b[0m \u001b[38;5;28;01mreturn\u001b[39;00m response\n",
            "File \u001b[0;32m~/anaconda3/envs/stocksflags/lib/python3.11/site-packages/gspread/http_client.py:173\u001b[0m, in \u001b[0;36mHTTPClient.values_update\u001b[0;34m(self, id, range, params, body)\u001b[0m\n\u001b[1;32m    150\u001b[0m \u001b[38;5;250m\u001b[39m\u001b[38;5;124;03m\"\"\"Lower-level method that directly calls `PUT spreadsheets/<ID>/values/<range> <https://developers.google.com/sheets/api/reference/rest/v4/spreadsheets.values/update>`_.\u001b[39;00m\n\u001b[1;32m    151\u001b[0m \n\u001b[1;32m    152\u001b[0m \u001b[38;5;124;03m:param str range: The `A1 notation <https://developers.google.com/sheets/api/guides/concepts#a1_notation>`_ of the values to update.\u001b[39;00m\n\u001b[0;32m   (...)\u001b[0m\n\u001b[1;32m    170\u001b[0m \u001b[38;5;124;03m.. versionadded:: 3.0\u001b[39;00m\n\u001b[1;32m    171\u001b[0m \u001b[38;5;124;03m\"\"\"\u001b[39;00m\n\u001b[1;32m    172\u001b[0m url \u001b[38;5;241m=\u001b[39m SPREADSHEET_VALUES_URL \u001b[38;5;241m%\u001b[39m (\u001b[38;5;28mid\u001b[39m, quote(\u001b[38;5;28mrange\u001b[39m))\n\u001b[0;32m--> 173\u001b[0m r \u001b[38;5;241m=\u001b[39m \u001b[38;5;28;43mself\u001b[39;49m\u001b[38;5;241;43m.\u001b[39;49m\u001b[43mrequest\u001b[49m\u001b[43m(\u001b[49m\u001b[38;5;124;43m\"\u001b[39;49m\u001b[38;5;124;43mput\u001b[39;49m\u001b[38;5;124;43m\"\u001b[39;49m\u001b[43m,\u001b[49m\u001b[43m \u001b[49m\u001b[43murl\u001b[49m\u001b[43m,\u001b[49m\u001b[43m \u001b[49m\u001b[43mparams\u001b[49m\u001b[38;5;241;43m=\u001b[39;49m\u001b[43mparams\u001b[49m\u001b[43m,\u001b[49m\u001b[43m \u001b[49m\u001b[43mjson\u001b[49m\u001b[38;5;241;43m=\u001b[39;49m\u001b[43mbody\u001b[49m\u001b[43m)\u001b[49m\n\u001b[1;32m    174\u001b[0m \u001b[38;5;28;01mreturn\u001b[39;00m r\u001b[38;5;241m.\u001b[39mjson()\n",
            "File \u001b[0;32m~/anaconda3/envs/stocksflags/lib/python3.11/site-packages/gspread/http_client.py:128\u001b[0m, in \u001b[0;36mHTTPClient.request\u001b[0;34m(self, method, endpoint, params, data, json, files, headers)\u001b[0m\n\u001b[1;32m    126\u001b[0m     \u001b[38;5;28;01mreturn\u001b[39;00m response\n\u001b[1;32m    127\u001b[0m \u001b[38;5;28;01melse\u001b[39;00m:\n\u001b[0;32m--> 128\u001b[0m     \u001b[38;5;28;01mraise\u001b[39;00m APIError(response)\n",
            "\u001b[0;31mAPIError\u001b[0m: APIError: [400]: Invalid value at 'data.values' (type.googleapis.com/google.protobuf.ListValue), \"B3\""
          ]
        }
      ],
      "source": [
        "date_of_valuation = input('What is the date of the valuation?')\n",
        "company_name = input('What is the company name?')\n",
        "input_worksheet.update('B3', date_of_valuation)\n",
        "input_worksheet.update('B4', company_name)"
      ]
    },
    {
      "cell_type": "markdown",
      "metadata": {
        "id": "yUpdCCbWCmpn"
      },
      "source": [
        "## Country of Incorporation, Industry (Global) and Industry (US)"
      ]
    },
    {
      "cell_type": "code",
      "execution_count": null,
      "metadata": {
        "id": "t6sKVDOlCl6F"
      },
      "outputs": [],
      "source": [
        "country_of_incorporation = input('What is the country of incorporation?')\n",
        "global_industry = input('What is the industry in the global market?')\n",
        "us_industry = input('What is the industry in the US market?')\n",
        "input_worksheet.update('B7', country_of_incorporation)\n",
        "input_worksheet.update('B8', us_industry)\n",
        "input_worksheet.update('B9', global_industry)"
      ]
    },
    {
      "cell_type": "markdown",
      "metadata": {
        "id": "4MLGXn0XC8jL"
      },
      "source": [
        "## Years Since Last 10K"
      ]
    },
    {
      "cell_type": "code",
      "execution_count": null,
      "metadata": {
        "id": "GXc2AAEjB_KI"
      },
      "outputs": [],
      "source": [
        "years_since_last_10k = input('How many years since the last 10K?')\n",
        "input_worksheet.update('D11', years_since_last_10k)"
      ]
    },
    {
      "cell_type": "markdown",
      "metadata": {
        "id": "HYGcUzcaDQ9t"
      },
      "source": [
        "## Revenues (Most Recent 12 Months, Last 10K)"
      ]
    },
    {
      "cell_type": "code",
      "execution_count": null,
      "metadata": {
        "id": "Pjcp2rY8DdHi"
      },
      "outputs": [],
      "source": [
        "current_revenues = input('What is the current revenues?')\n",
        "last_10k_revenues = input('What is the last 10K revenues?')\n",
        "input_worksheet.update('B11', current_revenues)\n",
        "input_worksheet.update('C11', last_10k_revenues)"
      ]
    },
    {
      "cell_type": "markdown",
      "metadata": {
        "id": "IePKIJxyDdlf"
      },
      "source": [
        "## Operating Income / EBIT (Most Recent 12 Months, Last 10K)"
      ]
    },
    {
      "cell_type": "code",
      "execution_count": null,
      "metadata": {
        "id": "DCG9xuFaDd-n"
      },
      "outputs": [],
      "source": [
        "current_operating_income = input('What is the current operating income?')\n",
        "last_10k_operating_income = input('What is the last 10K operating income?')\n",
        "input_worksheet.update('B12', current_operating_income)\n",
        "input_worksheet.update('C12', last_10k_operating_income)"
      ]
    },
    {
      "cell_type": "markdown",
      "metadata": {
        "id": "gfGr3G6OEuBq"
      },
      "source": [
        "## Interest Expense (Most Recent 12 Months, Last 10K)"
      ]
    },
    {
      "cell_type": "code",
      "execution_count": null,
      "metadata": {
        "id": "5CSIvjkdEuiB"
      },
      "outputs": [],
      "source": [
        "current_interest_expense = input('What is the current interest expense?')\n",
        "last_10k_interest_expense = input('What is the last 10K interest expense?')\n",
        "input_worksheet.update('B13', current_interest_expense)\n",
        "input_worksheet.update('C13', last_10k_interest_expense)"
      ]
    },
    {
      "cell_type": "markdown",
      "metadata": {
        "id": "6bIVV-nSP1G1"
      },
      "source": [
        "## Book Value of Equity (Most Recent 12 Months, Last 10K)"
      ]
    },
    {
      "cell_type": "code",
      "execution_count": null,
      "metadata": {
        "id": "Nz7nuX3mP1lc"
      },
      "outputs": [],
      "source": [
        "current_book_value_of_equity = input('What is the current book value of equity?')\n",
        "last_10k_book_value_of_equity = input('What is the last 10K book value of equity?')\n",
        "input_worksheet.update('B14', current_book_value_of_equity)\n",
        "input_worksheet.update('C14', last_10k_book_value_of_equity)"
      ]
    },
    {
      "cell_type": "markdown",
      "metadata": {
        "id": "XlWrc4rNQHOJ"
      },
      "source": [
        "## Book Value of Debt (Most Recent 12 Months, Last 10K)"
      ]
    },
    {
      "cell_type": "code",
      "execution_count": null,
      "metadata": {
        "id": "qWJu8aZGQG8L"
      },
      "outputs": [],
      "source": [
        "current_book_value_of_debt = input('What is the current book value of debt?')\n",
        "last_10k_book_value_of_debt = input('What is the last 10K book value of debt?')\n",
        "input_worksheet.update('B15', current_book_value_of_debt)\n",
        "input_worksheet.update('C15', last_10k_book_value_of_debt)"
      ]
    },
    {
      "cell_type": "markdown",
      "metadata": {
        "id": "zlsF27_hQSu2"
      },
      "source": [
        "## R&D Expenses to Capitalize + Operating Lease Commitments"
      ]
    },
    {
      "cell_type": "code",
      "execution_count": null,
      "metadata": {
        "id": "FlPc7LguQRPu"
      },
      "outputs": [],
      "source": [
        "r_and_d = input('Do you have R&D expenses to capitalize?')\n",
        "operating_lease_commitments = input('Do you have operating lease commitments?')\n",
        "input_worksheet.update('B16', r_and_d)\n",
        "input_worksheet.update('B17', operating_lease_commitments)"
      ]
    },
    {
      "cell_type": "markdown",
      "metadata": {
        "id": "th01qislQm4n"
      },
      "source": [
        "## Cash and Marketable Securities (Most Recent 12 Months, Last 10K)"
      ]
    },
    {
      "cell_type": "code",
      "execution_count": null,
      "metadata": {
        "id": "ShX1inB6Ql8t"
      },
      "outputs": [],
      "source": [
        "current_cash_and_marketable_securities = input('What is the current cash and marketable securities?')\n",
        "last_10k_cash_and_marketable_securities = input('What is the last 10K cash and marketable securities?')\n",
        "input_worksheet.update('B18', current_cash_and_marketable_securities)\n",
        "input_worksheet.update('C18', last_10k_cash_and_marketable_securities)"
      ]
    },
    {
      "cell_type": "markdown",
      "metadata": {
        "id": "Q97KRTmNQwx7"
      },
      "source": [
        "## Cross Holdings and Other Non-Operating Assets (Most Recent 12 Months, Last 10K)"
      ]
    },
    {
      "cell_type": "code",
      "execution_count": null,
      "metadata": {
        "id": "Pj-EsGKoQxWg"
      },
      "outputs": [],
      "source": [
        "cross_holdings_and_other_non_operating_assets = input('What is the current cross holdings and other non-operating assets?')\n",
        "last_10k_cross_holdings_and_other_non_operating_assets = input('What is the last 10K cross holdings and other non-operating assets?')\n",
        "input_worksheet.update('B19', cross_holdings_and_other_non_operating_assets)\n",
        "input_worksheet.update('C19', last_10k_cross_holdings_and_other_non_operating_assets)"
      ]
    },
    {
      "cell_type": "markdown",
      "metadata": {
        "id": "FJlSX4yvQ_Ix"
      },
      "source": [
        "## Minority Interests (Most Recent 12 Months, Last 10K)"
      ]
    },
    {
      "cell_type": "code",
      "execution_count": null,
      "metadata": {
        "id": "yc13z0lDQ-Z8"
      },
      "outputs": [],
      "source": [
        "current_minority_interests = input('What is the current minority interests?')\n",
        "last_10k_minority_interests = input('What is the last 10K minority interests?')\n",
        "input_worksheet.update('B20', current_minority_interests)\n",
        "input_worksheet.update('C20', last_10k_minority_interests)"
      ]
    },
    {
      "cell_type": "markdown",
      "metadata": {
        "id": "xxaGAGFiRKmz"
      },
      "source": [
        "## Number of Shares Outstanding, Current Stock Price, Effect and Marginal Tax Rate"
      ]
    },
    {
      "cell_type": "code",
      "execution_count": null,
      "metadata": {
        "id": "X9G6rsqyRHW1"
      },
      "outputs": [],
      "source": [
        "number_of_shares_outstanding = input('What is the number of shares outstanding?')\n",
        "current_stock_price = input('What is the current stock price?')\n",
        "effective_tax_rate = input('What is the effective tax rate?')\n",
        "marginal_tax_rate = input('What is the marginal tax rate?')\n",
        "input_worksheet.update('B21', number_of_shares_outstanding)\n",
        "input_worksheet.update('B22', current_stock_price)\n",
        "input_worksheet.update('B23', effective_tax_rate)\n",
        "input_worksheet.update('B24', marginal_tax_rate)"
      ]
    },
    {
      "cell_type": "markdown",
      "metadata": {
        "id": "6tclk_bORW3z"
      },
      "source": [
        "## Value Drivers"
      ]
    },
    {
      "cell_type": "code",
      "execution_count": null,
      "metadata": {
        "id": "kOwfaOSlRV3A"
      },
      "outputs": [],
      "source": [
        "rev_growth_rate_for_next_year = input('What is the revenue growth rate for the next year?')\n",
        "operating_margin_for_next_year = input('What is the operating margin for the next year?')\n",
        "compounded_annual_growth_rate = input('What is the compounded annual growth rate?')\n",
        "target_pre_tax_operating_margin = input('What is the target pre-tax operating margin?')\n",
        "years_of_convergence_for_margin = input('How many years of convergence for the margin?')\n",
        "sales_to_capital_ratio_for_years_1_to_5 = input('What is the sales to capital ratio for the first 5 years?')\n",
        "sales_to_capital_ratio_for_years_6_to_10 = input('What is the sales to capital ratio for the last 5 years?')\n",
        "input_worksheet.update('B26', rev_growth_rate_for_next_year)\n",
        "input_worksheet.update('B27', operating_margin_for_next_year)\n",
        "input_worksheet.update('B28', compounded_annual_growth_rate)\n",
        "input_worksheet.update('B29', target_pre_tax_operating_margin)\n",
        "input_worksheet.update('B30', years_of_convergence_for_margin)\n",
        "input_worksheet.update('B31', sales_to_capital_ratio_for_years_1_to_5)\n",
        "input_worksheet.update('B32', sales_to_capital_ratio_for_years_6_to_10)"
      ]
    },
    {
      "cell_type": "markdown",
      "metadata": {
        "id": "Qdscex7HRt9q"
      },
      "source": [
        "## Market Numbers"
      ]
    },
    {
      "cell_type": "code",
      "execution_count": null,
      "metadata": {
        "id": "2ScuwpcbRuQY"
      },
      "outputs": [],
      "source": [
        "rf = input('What is the riskfree rate?')\n",
        "input_worksheet.update('B33', rf)"
      ]
    },
    {
      "cell_type": "markdown",
      "metadata": {
        "id": "wCta4Xe0R09j"
      },
      "source": [
        "## Other Inputs"
      ]
    },
    {
      "cell_type": "code",
      "execution_count": null,
      "metadata": {
        "id": "sBpegqaAR3TV"
      },
      "outputs": [],
      "source": [
        "employee_options_outstanding = input('Do you have employee options outstanding?')\n",
        "number_of_options_outstanding = input('What is the number of options outstanding?')\n",
        "average_strike_price = input('What is the average strike price?')\n",
        "average_maturity = input('What is the average maturity?')\n",
        "standard_deviation_on_stock_price = input('What is the standard deviation on the stock price?')\n",
        "input_worksheet.update('B37', employee_options_outstanding)\n",
        "input_worksheet.update('B38', number_of_options_outstanding)\n",
        "input_worksheet.update('B39', average_strike_price)\n",
        "input_worksheet.update('B40', average_maturity)\n",
        "input_worksheet.update('B41', standard_deviation_on_stock_price)"
      ]
    },
    {
      "cell_type": "code",
      "execution_count": null,
      "metadata": {
        "colab": {
          "base_uri": "https://localhost:8080/",
          "height": 35
        },
        "id": "5JI72ycT610M",
        "outputId": "07e5bca6-4a3a-44d7-bede-d2dffa3fda3f"
      },
      "outputs": [],
      "source": [
        "valuation_worksheet.acell('B33').value"
      ]
    }
  ],
  "metadata": {
    "colab": {
      "provenance": []
    },
    "kernelspec": {
      "display_name": "stocksflags",
      "language": "python",
      "name": "python3"
    },
    "language_info": {
      "codemirror_mode": {
        "name": "ipython",
        "version": 3
      },
      "file_extension": ".py",
      "mimetype": "text/x-python",
      "name": "python",
      "nbconvert_exporter": "python",
      "pygments_lexer": "ipython3",
      "version": "3.11.11"
    }
  },
  "nbformat": 4,
  "nbformat_minor": 0
}
