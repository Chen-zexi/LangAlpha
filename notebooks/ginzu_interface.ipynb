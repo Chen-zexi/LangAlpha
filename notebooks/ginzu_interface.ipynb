{
  "cells": [
    {
      "cell_type": "code",
      "execution_count": 1,
      "metadata": {},
      "outputs": [],
      "source": [
        "import gspread\n",
        "\n",
        "gc = gspread.service_account(filename='../gcp_credential.json')\n",
        "\n",
        "ginzu_spreadsheet_link = 'https://docs.google.com/spreadsheets/d/1xclQf2xrgw0swp2CRwE25OBaEhQdDTOkm8VVkTcpVks/edit?usp=sharing'\n",
        "pricer = gc.open_by_url(ginzu_spreadsheet_link)\n",
        "input_worksheet = pricer.get_worksheet(0)\n",
        "valuation_worksheet = pricer.get_worksheet(1)"
      ]
    },
    {
      "cell_type": "markdown",
      "metadata": {
        "id": "-apU1EN-CHHY"
      },
      "source": [
        "## Date of Valuation and Company Name"
      ]
    },
    {
      "cell_type": "code",
      "execution_count": null,
      "metadata": {
        "id": "xsSb7iyHCGoK"
      },
      "outputs": [],
      "source": [
        "date_of_valuation = input('What is the date of the valuation?')\n",
        "company_name = input('What is the company name?')\n",
        "input_worksheet.update('B3', date_of_valuation)\n",
        "input_worksheet.update('B4', company_name)"
      ]
    },
    {
      "cell_type": "markdown",
      "metadata": {
        "id": "yUpdCCbWCmpn"
      },
      "source": [
        "## Country of Incorporation, Industry (Global) and Industry (US)"
      ]
    },
    {
      "cell_type": "code",
      "execution_count": null,
      "metadata": {
        "id": "t6sKVDOlCl6F"
      },
      "outputs": [],
      "source": [
        "country_of_incorporation = input('What is the country of incorporation?')\n",
        "global_industry = input('What is the industry in the global market?')\n",
        "us_industry = input('What is the industry in the US market?')\n",
        "input_worksheet.update('B7', country_of_incorporation)\n",
        "input_worksheet.update('B8', us_industry)\n",
        "input_worksheet.update('B9', global_industry)"
      ]
    },
    {
      "cell_type": "markdown",
      "metadata": {
        "id": "4MLGXn0XC8jL"
      },
      "source": [
        "## Years Since Last 10K"
      ]
    },
    {
      "cell_type": "code",
      "execution_count": null,
      "metadata": {
        "id": "GXc2AAEjB_KI"
      },
      "outputs": [],
      "source": [
        "years_since_last_10k = input('How many years since the last 10K?')\n",
        "input_worksheet.update('D11', years_since_last_10k)"
      ]
    },
    {
      "cell_type": "markdown",
      "metadata": {
        "id": "HYGcUzcaDQ9t"
      },
      "source": [
        "## Revenues (Most Recent 12 Months, Last 10K)"
      ]
    },
    {
      "cell_type": "code",
      "execution_count": null,
      "metadata": {
        "id": "Pjcp2rY8DdHi"
      },
      "outputs": [],
      "source": [
        "current_revenues = input('What is the current revenues?')\n",
        "last_10k_revenues = input('What is the last 10K revenues?')\n",
        "input_worksheet.update('B11', current_revenues)\n",
        "input_worksheet.update('C11', last_10k_revenues)"
      ]
    },
    {
      "cell_type": "markdown",
      "metadata": {
        "id": "IePKIJxyDdlf"
      },
      "source": [
        "## Operating Income / EBIT (Most Recent 12 Months, Last 10K)"
      ]
    },
    {
      "cell_type": "code",
      "execution_count": null,
      "metadata": {
        "id": "DCG9xuFaDd-n"
      },
      "outputs": [],
      "source": [
        "current_operating_income = input('What is the current operating income?')\n",
        "last_10k_operating_income = input('What is the last 10K operating income?')\n",
        "input_worksheet.update('B12', current_operating_income)\n",
        "input_worksheet.update('C12', last_10k_operating_income)"
      ]
    },
    {
      "cell_type": "markdown",
      "metadata": {
        "id": "gfGr3G6OEuBq"
      },
      "source": [
        "## Interest Expense (Most Recent 12 Months, Last 10K)"
      ]
    },
    {
      "cell_type": "code",
      "execution_count": null,
      "metadata": {
        "id": "5CSIvjkdEuiB"
      },
      "outputs": [],
      "source": [
        "current_interest_expense = input('What is the current interest expense?')\n",
        "last_10k_interest_expense = input('What is the last 10K interest expense?')\n",
        "input_worksheet.update('B13', current_interest_expense)\n",
        "input_worksheet.update('C13', last_10k_interest_expense)"
      ]
    },
    {
      "cell_type": "markdown",
      "metadata": {
        "id": "6bIVV-nSP1G1"
      },
      "source": [
        "## Book Value of Equity (Most Recent 12 Months, Last 10K)"
      ]
    },
    {
      "cell_type": "code",
      "execution_count": null,
      "metadata": {
        "id": "Nz7nuX3mP1lc"
      },
      "outputs": [],
      "source": [
        "current_book_value_of_equity = input('What is the current book value of equity?')\n",
        "last_10k_book_value_of_equity = input('What is the last 10K book value of equity?')\n",
        "input_worksheet.update('B14', current_book_value_of_equity)\n",
        "input_worksheet.update('C14', last_10k_book_value_of_equity)"
      ]
    },
    {
      "cell_type": "markdown",
      "metadata": {
        "id": "XlWrc4rNQHOJ"
      },
      "source": [
        "## Book Value of Debt (Most Recent 12 Months, Last 10K)"
      ]
    },
    {
      "cell_type": "code",
      "execution_count": null,
      "metadata": {
        "id": "qWJu8aZGQG8L"
      },
      "outputs": [],
      "source": [
        "current_book_value_of_debt = input('What is the current book value of debt?')\n",
        "last_10k_book_value_of_debt = input('What is the last 10K book value of debt?')\n",
        "input_worksheet.update('B15', current_book_value_of_debt)\n",
        "input_worksheet.update('C15', last_10k_book_value_of_debt)"
      ]
    },
    {
      "cell_type": "markdown",
      "metadata": {
        "id": "zlsF27_hQSu2"
      },
      "source": [
        "## R&D Expenses to Capitalize + Operating Lease Commitments"
      ]
    },
    {
      "cell_type": "code",
      "execution_count": null,
      "metadata": {
        "id": "FlPc7LguQRPu"
      },
      "outputs": [],
      "source": [
        "r_and_d = input('Do you have R&D expenses to capitalize?')\n",
        "operating_lease_commitments = input('Do you have operating lease commitments?')\n",
        "input_worksheet.update('B16', r_and_d)\n",
        "input_worksheet.update('B17', operating_lease_commitments)"
      ]
    },
    {
      "cell_type": "markdown",
      "metadata": {
        "id": "th01qislQm4n"
      },
      "source": [
        "## Cash and Marketable Securities (Most Recent 12 Months, Last 10K)"
      ]
    },
    {
      "cell_type": "code",
      "execution_count": null,
      "metadata": {
        "id": "ShX1inB6Ql8t"
      },
      "outputs": [],
      "source": [
        "current_cash_and_marketable_securities = input('What is the current cash and marketable securities?')\n",
        "last_10k_cash_and_marketable_securities = input('What is the last 10K cash and marketable securities?')\n",
        "input_worksheet.update('B18', current_cash_and_marketable_securities)\n",
        "input_worksheet.update('C18', last_10k_cash_and_marketable_securities)"
      ]
    },
    {
      "cell_type": "markdown",
      "metadata": {
        "id": "Q97KRTmNQwx7"
      },
      "source": [
        "## Cross Holdings and Other Non-Operating Assets (Most Recent 12 Months, Last 10K)"
      ]
    },
    {
      "cell_type": "code",
      "execution_count": null,
      "metadata": {
        "id": "Pj-EsGKoQxWg"
      },
      "outputs": [],
      "source": [
        "cross_holdings_and_other_non_operating_assets = input('What is the current cross holdings and other non-operating assets?')\n",
        "last_10k_cross_holdings_and_other_non_operating_assets = input('What is the last 10K cross holdings and other non-operating assets?')\n",
        "input_worksheet.update('B19', cross_holdings_and_other_non_operating_assets)\n",
        "input_worksheet.update('C19', last_10k_cross_holdings_and_other_non_operating_assets)"
      ]
    },
    {
      "cell_type": "markdown",
      "metadata": {
        "id": "FJlSX4yvQ_Ix"
      },
      "source": [
        "## Minority Interests (Most Recent 12 Months, Last 10K)"
      ]
    },
    {
      "cell_type": "code",
      "execution_count": null,
      "metadata": {
        "id": "yc13z0lDQ-Z8"
      },
      "outputs": [],
      "source": [
        "current_minority_interests = input('What is the current minority interests?')\n",
        "last_10k_minority_interests = input('What is the last 10K minority interests?')\n",
        "input_worksheet.update('B20', current_minority_interests)\n",
        "input_worksheet.update('C20', last_10k_minority_interests)"
      ]
    },
    {
      "cell_type": "markdown",
      "metadata": {
        "id": "xxaGAGFiRKmz"
      },
      "source": [
        "## Number of Shares Outstanding, Current Stock Price, Effect and Marginal Tax Rate"
      ]
    },
    {
      "cell_type": "code",
      "execution_count": null,
      "metadata": {
        "id": "X9G6rsqyRHW1"
      },
      "outputs": [],
      "source": [
        "number_of_shares_outstanding = input('What is the number of shares outstanding?')\n",
        "current_stock_price = input('What is the current stock price?')\n",
        "effective_tax_rate = input('What is the effective tax rate?')\n",
        "marginal_tax_rate = input('What is the marginal tax rate?')\n",
        "input_worksheet.update('B21', number_of_shares_outstanding)\n",
        "input_worksheet.update('B22', current_stock_price)\n",
        "input_worksheet.update('B23', effective_tax_rate)\n",
        "input_worksheet.update('B24', marginal_tax_rate)"
      ]
    },
    {
      "cell_type": "markdown",
      "metadata": {
        "id": "6tclk_bORW3z"
      },
      "source": [
        "## Value Drivers"
      ]
    },
    {
      "cell_type": "code",
      "execution_count": null,
      "metadata": {
        "id": "kOwfaOSlRV3A"
      },
      "outputs": [],
      "source": [
        "rev_growth_rate_for_next_year = input('What is the revenue growth rate for the next year?')\n",
        "operating_margin_for_next_year = input('What is the operating margin for the next year?')\n",
        "compounded_annual_growth_rate = input('What is the compounded annual growth rate?')\n",
        "target_pre_tax_operating_margin = input('What is the target pre-tax operating margin?')\n",
        "years_of_convergence_for_margin = input('How many years of convergence for the margin?')\n",
        "sales_to_capital_ratio_for_years_1_to_5 = input('What is the sales to capital ratio for the first 5 years?')\n",
        "sales_to_capital_ratio_for_years_6_to_10 = input('What is the sales to capital ratio for the last 5 years?')\n",
        "input_worksheet.update('B26', rev_growth_rate_for_next_year)\n",
        "input_worksheet.update('B27', operating_margin_for_next_year)\n",
        "input_worksheet.update('B28', compounded_annual_growth_rate)\n",
        "input_worksheet.update('B29', target_pre_tax_operating_margin)\n",
        "input_worksheet.update('B30', years_of_convergence_for_margin)\n",
        "input_worksheet.update('B31', sales_to_capital_ratio_for_years_1_to_5)\n",
        "input_worksheet.update('B32', sales_to_capital_ratio_for_years_6_to_10)"
      ]
    },
    {
      "cell_type": "markdown",
      "metadata": {
        "id": "Qdscex7HRt9q"
      },
      "source": [
        "## Market Numbers"
      ]
    },
    {
      "cell_type": "code",
      "execution_count": null,
      "metadata": {
        "id": "2ScuwpcbRuQY"
      },
      "outputs": [],
      "source": [
        "rf = input('What is the riskfree rate?')\n",
        "input_worksheet.update('B33', rf)"
      ]
    },
    {
      "cell_type": "markdown",
      "metadata": {
        "id": "wCta4Xe0R09j"
      },
      "source": [
        "## Other Inputs"
      ]
    },
    {
      "cell_type": "code",
      "execution_count": null,
      "metadata": {
        "id": "sBpegqaAR3TV"
      },
      "outputs": [],
      "source": [
        "employee_options_outstanding = input('Do you have employee options outstanding?')\n",
        "number_of_options_outstanding = input('What is the number of options outstanding?')\n",
        "average_strike_price = input('What is the average strike price?')\n",
        "average_maturity = input('What is the average maturity?')\n",
        "standard_deviation_on_stock_price = input('What is the standard deviation on the stock price?')\n",
        "input_worksheet.update('B37', employee_options_outstanding)\n",
        "input_worksheet.update('B38', number_of_options_outstanding)\n",
        "input_worksheet.update('B39', average_strike_price)\n",
        "input_worksheet.update('B40', average_maturity)\n",
        "input_worksheet.update('B41', standard_deviation_on_stock_price)"
      ]
    },
    {
      "cell_type": "code",
      "execution_count": null,
      "metadata": {
        "colab": {
          "base_uri": "https://localhost:8080/",
          "height": 35
        },
        "id": "5JI72ycT610M",
        "outputId": "07e5bca6-4a3a-44d7-bede-d2dffa3fda3f"
      },
      "outputs": [],
      "source": [
        "valuation_worksheet.acell('B33').value"
      ]
    }
  ],
  "metadata": {
    "colab": {
      "provenance": []
    },
    "kernelspec": {
      "display_name": "stocksflags",
      "language": "python",
      "name": "python3"
    },
    "language_info": {
      "codemirror_mode": {
        "name": "ipython",
        "version": 3
      },
      "file_extension": ".py",
      "mimetype": "text/x-python",
      "name": "python",
      "nbconvert_exporter": "python",
      "pygments_lexer": "ipython3",
      "version": "3.11.11"
    }
  },
  "nbformat": 4,
  "nbformat_minor": 0
}
