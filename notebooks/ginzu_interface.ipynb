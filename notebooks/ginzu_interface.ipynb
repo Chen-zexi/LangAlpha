{
  "cells": [
    {
      "cell_type": "code",
      "execution_count": 295,
      "metadata": {},
      "outputs": [],
      "source": [
        "import sys\n",
        "import os\n",
        "import pandas as pd\n",
        "import yfinance as yf\n",
        "import warnings\n",
        "\n",
        "from prophet import Prophet\n",
        "from prophet.diagnostics import cross_validation, performance_metrics\n",
        "import matplotlib.pyplot as plt\n",
        "\n",
        "from yahooquery import Ticker\n",
        "import requests\n",
        "\n",
        "import datetime\n",
        "\n",
        "warnings.filterwarnings(\"ignore\", category=FutureWarning)\n",
        "\n",
        "sys.path.append(os.path.abspath(os.path.join(os.getcwd(), \"..\")))"
      ]
    },
    {
      "cell_type": "code",
      "execution_count": 41,
      "metadata": {},
      "outputs": [],
      "source": [
        "import gspread\n",
        "\n",
        "# gc = gspread.service_account(filename='stocksflags-ec5c40f2f2ee.json')\n",
        "gc = gspread.service_account(filename='rational-diode-456114-m0-79243525427e.json')\n",
        "\n",
        "\n",
        "ginzu_spreadsheet_link = 'https://docs.google.com/spreadsheets/d/1xclQf2xrgw0swp2CRwE25OBaEhQdDTOkm8VVkTcpVks/edit?usp=sharing'\n",
        "pricer = gc.open_by_url(ginzu_spreadsheet_link)\n",
        "input_worksheet = pricer.get_worksheet(0)\n",
        "valuation_worksheet = pricer.get_worksheet(1)"
      ]
    },
    {
      "cell_type": "code",
      "execution_count": 42,
      "metadata": {},
      "outputs": [
        {
          "name": "stderr",
          "output_type": "stream",
          "text": [
            "2025-04-24 20:46:05,298 - googleapiclient.discovery_cache - INFO - file_cache is only supported with oauth2client<4.0.0\n"
          ]
        }
      ],
      "source": [
        "SCOPES = ['https://www.googleapis.com/auth/spreadsheets']\n",
        "SERVICE_ACCOUNT_FILE = 'rational-diode-456114-m0-79243525427e.json'\n",
        "\n",
        "spreadsheet_id = '1xclQf2xrgw0swp2CRwE25OBaEhQdDTOkm8VVkTcpVks'\n",
        "sheet_name = 'Input sheet'\n",
        "\n",
        "creds = Credentials.from_service_account_file(SERVICE_ACCOUNT_FILE, scopes=SCOPES)\n",
        "service = build('sheets', 'v4', credentials=creds)"
      ]
    },
    {
      "cell_type": "code",
      "execution_count": 43,
      "metadata": {},
      "outputs": [],
      "source": [
        "def get_dropdown_options(spreadsheet_id: str, sheet_name: str, cell: str) -> list:\n",
        "    \"\"\"\n",
        "    Given a spreadsheet ID, sheet name, and cell (e.g., 'B7'),\n",
        "    returns the dropdown options (either hardcoded or from a range).\n",
        "    \"\"\"\n",
        "    range_name = f\"'{sheet_name}'!{cell}\"\n",
        "    \n",
        "    try:\n",
        "        response = service.spreadsheets().get(\n",
        "            spreadsheetId=spreadsheet_id,\n",
        "            ranges=[range_name],\n",
        "            includeGridData=True,\n",
        "            fields='sheets.data.rowData.values.dataValidation'\n",
        "        ).execute()\n",
        "\n",
        "        validation = response['sheets'][0]['data'][0]['rowData'][0]['values'][0]['dataValidation']\n",
        "        condition = validation['condition']\n",
        "        dropdown_values = [v['userEnteredValue'] for v in condition.get('values', [])]\n",
        "\n",
        "        dropdown_ref = dropdown_values[0]\n",
        "        if dropdown_ref.startswith(\"=\"):\n",
        "            raw_ref = dropdown_ref.lstrip(\"=\").replace(\"'\", \"\")\n",
        "            ref_sheet, ref_range = raw_ref.split(\"!\")\n",
        "\n",
        "            country_resp = service.spreadsheets().values().get(\n",
        "                spreadsheetId=spreadsheet_id,\n",
        "                range=f\"{ref_sheet}!{ref_range}\"\n",
        "            ).execute()\n",
        "\n",
        "            return [row[0].strip() for row in country_resp.get(\"values\", []) if row and row[0].strip()]\n",
        "        else:\n",
        "            return dropdown_values\n",
        "\n",
        "    except (KeyError, IndexError):\n",
        "        print(f\"No dropdown (data validation) found at {sheet_name}!{cell}.\")\n",
        "        return []\n"
      ]
    },
    {
      "cell_type": "code",
      "execution_count": 151,
      "metadata": {},
      "outputs": [],
      "source": [
        "def get_latest_10k_financials(symbol):\n",
        "    ticker = Ticker(symbol)\n",
        "\n",
        "    # Annual financials\n",
        "    income = ticker.income_statement(frequency='a')\n",
        "    balance = ticker.balance_sheet(frequency='a')\n",
        "\n",
        "    # Reset index to get access to 'asOfDate' and other columns\n",
        "    income = income.reset_index()\n",
        "    balance = balance.reset_index()\n",
        "\n",
        "    # Filter for the most recent 12M data\n",
        "    income_12m = income[income['periodType'] == '12M']\n",
        "    balance_12m = balance[balance['periodType'] == '12M']\n",
        "\n",
        "    # Sort and get the most recent fiscal year\n",
        "    latest_income = income_12m.sort_values('asOfDate').iloc[-1]\n",
        "    latest_balance = balance_12m.sort_values('asOfDate').iloc[-1]\n",
        "\n",
        "    # Get the previous fiscal year for comparison\n",
        "    prev_income = income_12m.sort_values('asOfDate').iloc[-2] if len(income_12m) > 1 else None\n",
        "    prev_balance = balance_12m.sort_values('asOfDate').iloc[-2] if len(balance_12m) > 1 else None\n",
        "\n",
        "    # Calculate years since last 10-K\n",
        "    if prev_income is not None:\n",
        "        years_since_last_10k = (latest_income[\"asOfDate\"] - prev_income[\"asOfDate\"]).days / 365\n",
        "    else:\n",
        "        years_since_last_10k = None\n",
        "\n",
        "    # Extract Book Value of Equity (OrdinarySharesNumber)\n",
        "    latest_book_value_of_equity = latest_balance.get(\"OrdinarySharesNumber\")\n",
        "    prev_book_value_of_equity = prev_balance.get(\"OrdinarySharesNumber\") if prev_balance is not None else None\n",
        "\n",
        "    # Extract Minority Interests\n",
        "    latest_minority_interests = latest_balance.get(\"TotalEquityGrossMinorityInterest\") or latest_balance.get(\"TotalLiabilitiesNetMinorityInterest\") or latest_balance.get(\"TotalNonCurrentLiabilitiesNetMinorityInterest\")\n",
        "    prev_minority_interests = prev_balance.get(\"TotalEquityGrossMinorityInterest\") or prev_balance.get(\"TotalLiabilitiesNetMinorityInterest\") or prev_balance.get(\"TotalNonCurrentLiabilitiesNetMinorityInterest\") if prev_balance is not None else None\n",
        "\n",
        "    # R&D and operating lease flags\n",
        "    r_and_d_expenses = \"R&D\" in latest_income.index and latest_income[\"R&D\"] > 0\n",
        "    operating_lease_commitments = \"OperatingLease\" in latest_balance.index\n",
        "\n",
        "    # Shares outstanding and stock price\n",
        "    shares_outstanding = latest_balance.get(\"OrdinarySharesNumber\")\n",
        "    current_stock_price = ticker.history(period='1d')['close'].iloc[-1] if not ticker.history(period='1d').empty else None\n",
        "\n",
        "    # Use TaxRateForCalc for effective tax rate\n",
        "    effective_tax_rate = latest_income.get(\"TaxRateForCalcs\")\n",
        "\n",
        "    # Use static U.S. corporate rate as marginal tax rate\n",
        "    marginal_tax_rate = 0.21\n",
        "\n",
        "    # Get 10-year treasury rate from Yahoo Finance (^TNX gives 10Y yield * 100)\n",
        "\n",
        "    risk_free_rate = 0.0427\n",
        "\n",
        "    return {\n",
        "        \"B11\": latest_income.get(\"TotalRevenue\"),\n",
        "        \"C11\": prev_income.get(\"TotalRevenue\") if prev_income is not None else None,\n",
        "        \"D11\": years_since_last_10k,\n",
        "        \"B12\": latest_income.get(\"EBIT\"),\n",
        "        \"C12\": prev_income.get(\"EBIT\") if prev_income is not None else None,\n",
        "        \"B13\": latest_income.get(\"InterestExpense\"),\n",
        "        \"C13\": prev_income.get(\"InterestExpense\") if prev_income is not None else None,\n",
        "        \"B14\": latest_book_value_of_equity,\n",
        "        \"C14\": prev_book_value_of_equity,\n",
        "        \"B15\": latest_balance.get(\"TotalDebt\"),\n",
        "        \"C15\": prev_balance.get(\"TotalDebt\") if prev_balance is not None else None,\n",
        "        \"B16\": \"Yes\" if r_and_d_expenses else \"No\",\n",
        "        \"B17\": \"Yes\" if operating_lease_commitments else \"No\",\n",
        "        \"B18\": latest_balance.get(\"CashAndCashEquivalents\"),\n",
        "        \"C18\": prev_balance.get(\"CashAndCashEquivalents\") if prev_balance is not None else None,\n",
        "        \"B19\": latest_balance.get(\"InvestmentsAndAdvances\"),\n",
        "        \"C19\": prev_balance.get(\"InvestmentsAndAdvances\") if prev_balance is not None else None,\n",
        "        \"B20\": latest_minority_interests,\n",
        "        \"C20\": prev_minority_interests,\n",
        "        \"B21\": shares_outstanding,\n",
        "        \"B22\": current_stock_price,\n",
        "        \"B23\": effective_tax_rate,\n",
        "        \"B24\": marginal_tax_rate,\n",
        "        \"B33\": risk_free_rate\n",
        "    }"
      ]
    },
    {
      "cell_type": "code",
      "execution_count": 113,
      "metadata": {},
      "outputs": [
        {
          "data": {
            "text/plain": [
              "Index(['symbol', 'asOfDate', 'periodType', 'currencyCode', 'AccountsPayable',\n",
              "       'AccountsReceivable', 'AccumulatedDepreciation',\n",
              "       'AvailableForSaleSecurities', 'CapitalLeaseObligations', 'CapitalStock',\n",
              "       'CashAndCashEquivalents', 'CashCashEquivalentsAndShortTermInvestments',\n",
              "       'CashEquivalents', 'CashFinancial', 'CommercialPaper', 'CommonStock',\n",
              "       'CommonStockEquity', 'CurrentAssets', 'CurrentCapitalLeaseObligation',\n",
              "       'CurrentDebt', 'CurrentDebtAndCapitalLeaseObligation',\n",
              "       'CurrentDeferredLiabilities', 'CurrentDeferredRevenue',\n",
              "       'CurrentLiabilities', 'GainsLossesNotAffectingRetainedEarnings',\n",
              "       'GrossPPE', 'IncomeTaxPayable', 'Inventory', 'InvestedCapital',\n",
              "       'InvestmentinFinancialAssets', 'InvestmentsAndAdvances',\n",
              "       'LandAndImprovements', 'Leases', 'LongTermCapitalLeaseObligation',\n",
              "       'LongTermDebt', 'LongTermDebtAndCapitalLeaseObligation',\n",
              "       'MachineryFurnitureEquipment', 'NetDebt', 'NetPPE', 'NetTangibleAssets',\n",
              "       'NonCurrentDeferredAssets', 'NonCurrentDeferredTaxesAssets',\n",
              "       'OrdinarySharesNumber', 'OtherCurrentAssets', 'OtherCurrentBorrowings',\n",
              "       'OtherCurrentLiabilities', 'OtherEquityAdjustments', 'OtherInvestments',\n",
              "       'OtherNonCurrentAssets', 'OtherNonCurrentLiabilities',\n",
              "       'OtherProperties', 'OtherReceivables', 'OtherShortTermInvestments',\n",
              "       'Payables', 'PayablesAndAccruedExpenses', 'Properties', 'Receivables',\n",
              "       'RetainedEarnings', 'ShareIssued', 'StockholdersEquity',\n",
              "       'TangibleBookValue', 'TotalAssets', 'TotalCapitalization', 'TotalDebt',\n",
              "       'TotalEquityGrossMinorityInterest',\n",
              "       'TotalLiabilitiesNetMinorityInterest', 'TotalNonCurrentAssets',\n",
              "       'TotalNonCurrentLiabilitiesNetMinorityInterest', 'TotalTaxPayable',\n",
              "       'TradeandOtherPayablesNonCurrent', 'TreasurySharesNumber',\n",
              "       'WorkingCapital'],\n",
              "      dtype='object')"
            ]
          },
          "execution_count": 113,
          "metadata": {},
          "output_type": "execute_result"
        }
      ],
      "source": [
        "# List all columns in the balance sheet data\n",
        "balance_12m.columns"
      ]
    },
    {
      "cell_type": "code",
      "execution_count": 115,
      "metadata": {},
      "outputs": [
        {
          "data": {
            "text/plain": [
              "Index(['asOfDate', 'periodType', 'currencyCode', 'BasicAverageShares',\n",
              "       'BasicEPS', 'CostOfRevenue', 'DilutedAverageShares', 'DilutedEPS',\n",
              "       'DilutedNIAvailtoComStockholders', 'EBIT', 'EBITDA', 'GrossProfit',\n",
              "       'InterestExpense', 'InterestExpenseNonOperating', 'InterestIncome',\n",
              "       'InterestIncomeNonOperating', 'NetIncome',\n",
              "       'NetIncomeCommonStockholders', 'NetIncomeContinuousOperations',\n",
              "       'NetIncomeFromContinuingAndDiscontinuedOperation',\n",
              "       'NetIncomeFromContinuingOperationNetMinorityInterest',\n",
              "       'NetIncomeIncludingNoncontrollingInterests', 'NetInterestIncome',\n",
              "       'NetNonOperatingInterestIncomeExpense', 'NormalizedEBITDA',\n",
              "       'NormalizedIncome', 'OperatingExpense', 'OperatingIncome',\n",
              "       'OperatingRevenue', 'OtherIncomeExpense',\n",
              "       'OtherNonOperatingIncomeExpenses', 'PretaxIncome',\n",
              "       'ReconciledCostOfRevenue', 'ReconciledDepreciation',\n",
              "       'ResearchAndDevelopment', 'SellingGeneralAndAdministration',\n",
              "       'TaxEffectOfUnusualItems', 'TaxProvision', 'TaxRateForCalcs',\n",
              "       'TotalExpenses', 'TotalOperatingIncomeAsReported', 'TotalRevenue'],\n",
              "      dtype='object')"
            ]
          },
          "execution_count": 115,
          "metadata": {},
          "output_type": "execute_result"
        }
      ],
      "source": [
        "income_statement_df = pd.DataFrame(income_statement)\n",
        "income_statement_df.columns"
      ]
    },
    {
      "cell_type": "markdown",
      "metadata": {
        "id": "-apU1EN-CHHY"
      },
      "source": [
        "## Date of Valuation and Company Name"
      ]
    },
    {
      "cell_type": "code",
      "execution_count": 294,
      "metadata": {
        "id": "xsSb7iyHCGoK"
      },
      "outputs": [
        {
          "name": "stderr",
          "output_type": "stream",
          "text": [
            "/var/folders/zc/mk397vzd3rndczvtnq2xwwzr0000gn/T/ipykernel_8210/2454599184.py:3: DeprecationWarning: The order of arguments in worksheet.update() has changed. Please pass values first and range_name secondor used named arguments (range_name=, values=)\n",
            "  input_worksheet.update('B3', [[date_of_valuation]])\n",
            "/var/folders/zc/mk397vzd3rndczvtnq2xwwzr0000gn/T/ipykernel_8210/2454599184.py:4: DeprecationWarning: The order of arguments in worksheet.update() has changed. Please pass values first and range_name secondor used named arguments (range_name=, values=)\n",
            "  input_worksheet.update('B4', [[company_name]])\n"
          ]
        },
        {
          "data": {
            "text/plain": [
              "{'spreadsheetId': '1xclQf2xrgw0swp2CRwE25OBaEhQdDTOkm8VVkTcpVks',\n",
              " 'updatedRange': \"'Input sheet'!B4\",\n",
              " 'updatedRows': 1,\n",
              " 'updatedColumns': 1,\n",
              " 'updatedCells': 1}"
            ]
          },
          "execution_count": 294,
          "metadata": {},
          "output_type": "execute_result"
        }
      ],
      "source": [
        "date_of_valuation = input('What is the date of the valuation? (Month-Day, e.g. Mar-15)')\n",
        "company_name = input('What is the company name?')\n",
        "input_worksheet.update('B3', [[date_of_valuation]])\n",
        "input_worksheet.update('B4', [[company_name]])"
      ]
    },
    {
      "cell_type": "markdown",
      "metadata": {
        "id": "yUpdCCbWCmpn"
      },
      "source": [
        "## Country of Incorporation, Industry (Global) and Industry (US)"
      ]
    },
    {
      "cell_type": "code",
      "execution_count": 132,
      "metadata": {},
      "outputs": [],
      "source": [
        "country_names = get_dropdown_options(spreadsheet_id, sheet_name, 'B7')\n",
        "us_industry = get_dropdown_options(spreadsheet_id, sheet_name, 'B8')\n",
        "global_industry = get_dropdown_options(spreadsheet_id, sheet_name, 'B9')"
      ]
    },
    {
      "cell_type": "code",
      "execution_count": 133,
      "metadata": {},
      "outputs": [
        {
          "data": {
            "text/plain": [
              "['Abu Dhabi',\n",
              " 'Albania',\n",
              " 'Algeria',\n",
              " 'Andorra (Principality of)',\n",
              " 'Angola',\n",
              " 'Anguilla',\n",
              " 'Antigua & Barbuda',\n",
              " 'Argentina',\n",
              " 'Armenia',\n",
              " 'Aruba',\n",
              " 'Australia',\n",
              " 'Austria',\n",
              " 'Azerbaijan',\n",
              " 'Bahamas',\n",
              " 'Bahrain',\n",
              " 'Bangladesh',\n",
              " 'Barbados',\n",
              " 'Belarus',\n",
              " 'Belgium',\n",
              " 'Belize',\n",
              " 'Benin',\n",
              " 'Bermuda',\n",
              " 'Bolivia',\n",
              " 'Bosnia and Herzegovina',\n",
              " 'Botswana',\n",
              " 'Brazil',\n",
              " 'British Virgin Islands',\n",
              " 'Brunei',\n",
              " 'Bulgaria',\n",
              " 'Burkina Faso',\n",
              " 'Cambodia',\n",
              " 'Cameroon',\n",
              " 'Canada',\n",
              " 'Cape Verde',\n",
              " 'Cayman Islands',\n",
              " 'Channel Islands',\n",
              " 'Chile',\n",
              " 'China',\n",
              " 'Colombia',\n",
              " 'Congo (Democratic Republic of)',\n",
              " 'Congo (Republic of)',\n",
              " 'Cook Islands',\n",
              " 'Costa Rica',\n",
              " 'Croatia',\n",
              " 'Cuba',\n",
              " 'Curaçao',\n",
              " 'Cyprus',\n",
              " 'Czech Republic',\n",
              " 'Denmark',\n",
              " 'Dominican Republic',\n",
              " 'Ecuador',\n",
              " 'Egypt',\n",
              " 'El Salvador',\n",
              " 'Estonia',\n",
              " 'Ethiopia',\n",
              " 'Falkland Islands',\n",
              " 'Fiji',\n",
              " 'Finland',\n",
              " 'France',\n",
              " 'French Guiana',\n",
              " 'Gabon',\n",
              " 'Gambia',\n",
              " 'Georgia',\n",
              " 'Germany',\n",
              " 'Ghana',\n",
              " 'Gibraltar',\n",
              " 'Greece',\n",
              " 'Greenland',\n",
              " 'Guatemala',\n",
              " 'Guernsey (States of)',\n",
              " 'Guinea',\n",
              " 'Guinea-Bissau',\n",
              " 'Guyana',\n",
              " 'Haiti',\n",
              " 'Honduras',\n",
              " 'Hong Kong',\n",
              " 'Hungary',\n",
              " 'Iceland',\n",
              " 'India',\n",
              " 'Indonesia',\n",
              " 'Iran',\n",
              " 'Iraq',\n",
              " 'Ireland',\n",
              " 'Isle of Man',\n",
              " 'Israel',\n",
              " 'Italy',\n",
              " 'Ivory Coast',\n",
              " 'Jamaica',\n",
              " 'Japan',\n",
              " 'Jersey (States of)',\n",
              " 'Jordan',\n",
              " 'Kazakhstan',\n",
              " 'Kenya',\n",
              " 'Korea, D.P.R.',\n",
              " 'Kuwait',\n",
              " 'Kyrgyzstan',\n",
              " 'Laos',\n",
              " 'Latvia',\n",
              " 'Lebanon',\n",
              " 'Liberia',\n",
              " 'Libya',\n",
              " 'Liechtenstein',\n",
              " 'Lithuania',\n",
              " 'Luxembourg',\n",
              " 'Macau',\n",
              " 'Macedonia',\n",
              " 'Madagascar',\n",
              " 'Malawi',\n",
              " 'Malaysia',\n",
              " 'Maldives',\n",
              " 'Mali',\n",
              " 'Malta',\n",
              " 'Martinique',\n",
              " 'Mauritius',\n",
              " 'Mexico',\n",
              " 'Moldova',\n",
              " 'Monaco',\n",
              " 'Mongolia',\n",
              " 'Montenegro',\n",
              " 'Montserrat',\n",
              " 'Morocco',\n",
              " 'Mozambique',\n",
              " 'Myanmar',\n",
              " 'Namibia',\n",
              " 'Nepal',\n",
              " 'Netherlands',\n",
              " 'Netherlands Antilles',\n",
              " 'New Zealand',\n",
              " 'Nicaragua',\n",
              " 'Niger',\n",
              " 'Nigeria',\n",
              " 'Norway',\n",
              " 'Oman',\n",
              " 'Pakistan',\n",
              " 'Palestinian Authority',\n",
              " 'Panama',\n",
              " 'Papua New Guinea',\n",
              " 'Paraguay',\n",
              " 'Peru',\n",
              " 'Philippines',\n",
              " 'Poland',\n",
              " 'Portugal',\n",
              " 'Qatar',\n",
              " 'Ras Al Khaimah (Emirate of)',\n",
              " 'Reunion',\n",
              " 'Romania',\n",
              " 'Russia',\n",
              " 'Rwanda',\n",
              " 'Saint Lucia',\n",
              " 'Saudi Arabia',\n",
              " 'Senegal',\n",
              " 'Serbia',\n",
              " 'Sharjah',\n",
              " 'Sierra Leone',\n",
              " 'Singapore',\n",
              " 'Slovakia',\n",
              " 'Slovenia',\n",
              " 'Solomon Islands',\n",
              " 'Somalia',\n",
              " 'South Africa',\n",
              " 'South Korea',\n",
              " 'Spain',\n",
              " 'Sri Lanka',\n",
              " 'St. Maarten',\n",
              " 'St. Vincent & the Grenadines',\n",
              " 'Sudan',\n",
              " 'Suriname',\n",
              " 'Swaziland',\n",
              " 'Sweden',\n",
              " 'Switzerland',\n",
              " 'Syria',\n",
              " 'Taiwan',\n",
              " 'Tajikistan',\n",
              " 'Tanzania',\n",
              " 'Thailand',\n",
              " 'Togo',\n",
              " \"Trinidad &' Tobago\",\n",
              " 'Tunisia',\n",
              " 'Turkey',\n",
              " 'Turks & Caicos Islands',\n",
              " 'Uganda',\n",
              " 'Ukraine',\n",
              " 'United Arab Emirates',\n",
              " 'United Kingdom',\n",
              " 'United States',\n",
              " 'Uruguay',\n",
              " 'Uzbekistan',\n",
              " 'Venezuela',\n",
              " 'Vietnam',\n",
              " 'Yemen',\n",
              " 'Zambia',\n",
              " 'Zimbabwe']"
            ]
          },
          "execution_count": 133,
          "metadata": {},
          "output_type": "execute_result"
        }
      ],
      "source": [
        "country_names"
      ]
    },
    {
      "cell_type": "code",
      "execution_count": 134,
      "metadata": {},
      "outputs": [
        {
          "data": {
            "text/plain": [
              "['Advertising',\n",
              " 'Aerospace/Defense',\n",
              " 'Air Transport',\n",
              " 'Apparel',\n",
              " 'Auto & Truck',\n",
              " 'Auto Parts',\n",
              " 'Bank (Money Center)',\n",
              " 'Banks (Regional)',\n",
              " 'Beverage (Alcoholic)',\n",
              " 'Beverage (Soft)',\n",
              " 'Broadcasting',\n",
              " 'Brokerage & Investment Banking',\n",
              " 'Building Materials',\n",
              " 'Business & Consumer Services',\n",
              " 'Cable TV',\n",
              " 'Chemical (Basic)',\n",
              " 'Chemical (Diversified)',\n",
              " 'Chemical (Specialty)',\n",
              " 'Coal & Related Energy',\n",
              " 'Computer Services',\n",
              " 'Computers/Peripherals',\n",
              " 'Construction Supplies',\n",
              " 'Diversified',\n",
              " 'Drugs (Biotechnology)',\n",
              " 'Drugs (Pharmaceutical)',\n",
              " 'Education',\n",
              " 'Electrical Equipment',\n",
              " 'Electronics (Consumer & Office)',\n",
              " 'Electronics (General)',\n",
              " 'Engineering/Construction',\n",
              " 'Entertainment',\n",
              " 'Environmental & Waste Services',\n",
              " 'Farming/Agriculture',\n",
              " 'Financial Svcs. (Non-bank & Insurance)',\n",
              " 'Food Processing',\n",
              " 'Food Wholesalers',\n",
              " 'Furn/Home Furnishings',\n",
              " 'Green & Renewable Energy',\n",
              " 'Healthcare Products',\n",
              " 'Healthcare Support Services',\n",
              " 'Heathcare Information and Technology',\n",
              " 'Homebuilding',\n",
              " 'Hospitals/Healthcare Facilities',\n",
              " 'Hotel/Gaming',\n",
              " 'Household Products',\n",
              " 'Information Services',\n",
              " 'Insurance (General)',\n",
              " 'Insurance (Life)',\n",
              " 'Insurance (Prop/Cas.)',\n",
              " 'Investments & Asset Management',\n",
              " 'Machinery',\n",
              " 'Metals & Mining',\n",
              " 'Office Equipment & Services',\n",
              " 'Oil/Gas (Integrated)',\n",
              " 'Oil/Gas (Production and Exploration)',\n",
              " 'Oil/Gas Distribution',\n",
              " 'Oilfield Svcs/Equip.',\n",
              " 'Packaging & Container',\n",
              " 'Paper/Forest Products',\n",
              " 'Power',\n",
              " 'Precious Metals',\n",
              " 'Publishing & Newspapers',\n",
              " 'R.E.I.T.',\n",
              " 'Real Estate (Development)',\n",
              " 'Real Estate (General/Diversified)',\n",
              " 'Real Estate (Operations & Services)',\n",
              " 'Recreation',\n",
              " 'Reinsurance',\n",
              " 'Restaurant/Dining',\n",
              " 'Retail (Automotive)',\n",
              " 'Retail (Building Supply)',\n",
              " 'Retail (Distributors)',\n",
              " 'Retail (General)',\n",
              " 'Retail (Grocery and Food)',\n",
              " 'Retail (REITs)',\n",
              " 'Retail (Special Lines)',\n",
              " 'Rubber& Tires',\n",
              " 'Semiconductor',\n",
              " 'Semiconductor Equip',\n",
              " 'Shipbuilding & Marine',\n",
              " 'Shoe',\n",
              " 'Software (Entertainment)',\n",
              " 'Software (Internet)',\n",
              " 'Software (System & Application)',\n",
              " 'Steel',\n",
              " 'Telecom (Wireless)',\n",
              " 'Telecom. Equipment',\n",
              " 'Telecom. Services',\n",
              " 'Tobacco',\n",
              " 'Transportation',\n",
              " 'Transportation (Railroads)',\n",
              " 'Trucking',\n",
              " 'Utility (General)',\n",
              " 'Utility (Water)']"
            ]
          },
          "execution_count": 134,
          "metadata": {},
          "output_type": "execute_result"
        }
      ],
      "source": [
        "us_industry"
      ]
    },
    {
      "cell_type": "code",
      "execution_count": 135,
      "metadata": {},
      "outputs": [
        {
          "data": {
            "text/plain": [
              "['Advertising',\n",
              " 'Aerospace/Defense',\n",
              " 'Air Transport',\n",
              " 'Apparel',\n",
              " 'Auto & Truck',\n",
              " 'Auto Parts',\n",
              " 'Bank (Money Center)',\n",
              " 'Banks (Regional)',\n",
              " 'Beverage (Alcoholic)',\n",
              " 'Beverage (Soft)',\n",
              " 'Broadcasting',\n",
              " 'Brokerage & Investment Banking',\n",
              " 'Building Materials',\n",
              " 'Business & Consumer Services',\n",
              " 'Cable TV',\n",
              " 'Chemical (Basic)',\n",
              " 'Chemical (Diversified)',\n",
              " 'Chemical (Specialty)',\n",
              " 'Coal & Related Energy',\n",
              " 'Computer Services',\n",
              " 'Computers/Peripherals',\n",
              " 'Construction Supplies',\n",
              " 'Diversified',\n",
              " 'Drugs (Biotechnology)',\n",
              " 'Drugs (Pharmaceutical)',\n",
              " 'Education',\n",
              " 'Electrical Equipment',\n",
              " 'Electronics (Consumer & Office)',\n",
              " 'Electronics (General)',\n",
              " 'Engineering/Construction',\n",
              " 'Entertainment',\n",
              " 'Environmental & Waste Services',\n",
              " 'Farming/Agriculture',\n",
              " 'Financial Svcs. (Non-bank & Insurance)',\n",
              " 'Food Processing',\n",
              " 'Food Wholesalers',\n",
              " 'Furn/Home Furnishings',\n",
              " 'Green & Renewable Energy',\n",
              " 'Healthcare Products',\n",
              " 'Healthcare Support Services',\n",
              " 'Heathcare Information and Technology',\n",
              " 'Homebuilding',\n",
              " 'Hospitals/Healthcare Facilities',\n",
              " 'Hotel/Gaming',\n",
              " 'Household Products',\n",
              " 'Information Services',\n",
              " 'Insurance (General)',\n",
              " 'Insurance (Life)',\n",
              " 'Insurance (Prop/Cas.)',\n",
              " 'Investments & Asset Management',\n",
              " 'Machinery',\n",
              " 'Metals & Mining',\n",
              " 'Office Equipment & Services',\n",
              " 'Oil/Gas (Integrated)',\n",
              " 'Oil/Gas (Production and Exploration)',\n",
              " 'Oil/Gas Distribution',\n",
              " 'Oilfield Svcs/Equip.',\n",
              " 'Packaging & Container',\n",
              " 'Paper/Forest Products',\n",
              " 'Power',\n",
              " 'Precious Metals',\n",
              " 'Publishing & Newspapers',\n",
              " 'R.E.I.T.',\n",
              " 'Real Estate (Development)',\n",
              " 'Real Estate (General/Diversified)',\n",
              " 'Real Estate (Operations & Services)',\n",
              " 'Recreation',\n",
              " 'Reinsurance',\n",
              " 'Restaurant/Dining',\n",
              " 'Retail (Automotive)',\n",
              " 'Retail (Building Supply)',\n",
              " 'Retail (Distributors)',\n",
              " 'Retail (General)',\n",
              " 'Retail (Grocery and Food)',\n",
              " 'Retail (REITs)',\n",
              " 'Retail (Special Lines)',\n",
              " 'Rubber& Tires',\n",
              " 'Semiconductor',\n",
              " 'Semiconductor Equip',\n",
              " 'Shipbuilding & Marine',\n",
              " 'Shoe',\n",
              " 'Software (Entertainment)',\n",
              " 'Software (Internet)',\n",
              " 'Software (System & Application)',\n",
              " 'Steel',\n",
              " 'Telecom (Wireless)',\n",
              " 'Telecom. Equipment',\n",
              " 'Telecom. Services',\n",
              " 'Tobacco',\n",
              " 'Transportation',\n",
              " 'Transportation (Railroads)',\n",
              " 'Trucking',\n",
              " 'Utility (General)',\n",
              " 'Utility (Water)']"
            ]
          },
          "execution_count": 135,
          "metadata": {},
          "output_type": "execute_result"
        }
      ],
      "source": [
        "global_industry"
      ]
    },
    {
      "cell_type": "code",
      "execution_count": null,
      "metadata": {
        "id": "t6sKVDOlCl6F"
      },
      "outputs": [],
      "source": [
        "country_of_incorporation = input('What is the country of incorporation?')\n",
        "us_industry = input('What is the industry in the US market?')\n",
        "global_industry = input('What is the industry in the global market?')\n",
        "input_worksheet.update('B7', [[country_of_incorporation]])\n",
        "input_worksheet.update('B8', [[us_industry]])\n",
        "input_worksheet.update('B9', [[global_industry]])"
      ]
    },
    {
      "cell_type": "markdown",
      "metadata": {
        "id": "4MLGXn0XC8jL"
      },
      "source": [
        "## Years Since Last 10K"
      ]
    },
    {
      "cell_type": "code",
      "execution_count": null,
      "metadata": {
        "id": "GXc2AAEjB_KI"
      },
      "outputs": [],
      "source": [
        "years_since_last_10k = input('How many years since the last 10K?')\n",
        "input_worksheet.update('D11',[[years_since_last_10k]])"
      ]
    },
    {
      "cell_type": "markdown",
      "metadata": {
        "id": "HYGcUzcaDQ9t"
      },
      "source": [
        "## Revenues (Most Recent 12 Months, Last 10K)"
      ]
    },
    {
      "cell_type": "code",
      "execution_count": null,
      "metadata": {
        "id": "Pjcp2rY8DdHi"
      },
      "outputs": [],
      "source": [
        "current_revenues = input('What is the current revenues?')\n",
        "last_10k_revenues = input('What is the last 10K revenues?')\n",
        "input_worksheet.update('B11', [[current_revenues]])\n",
        "input_worksheet.update('C11', [[last_10k_revenues]])"
      ]
    },
    {
      "cell_type": "markdown",
      "metadata": {
        "id": "IePKIJxyDdlf"
      },
      "source": [
        "## Operating Income / EBIT (Most Recent 12 Months, Last 10K)"
      ]
    },
    {
      "cell_type": "code",
      "execution_count": null,
      "metadata": {
        "id": "DCG9xuFaDd-n"
      },
      "outputs": [],
      "source": [
        "current_operating_income = input('What is the current operating income?')\n",
        "last_10k_operating_income = input('What is the last 10K operating income?')\n",
        "input_worksheet.update('B12', [[current_operating_income]])\n",
        "input_worksheet.update('C12', [[last_10k_operating_income]])"
      ]
    },
    {
      "cell_type": "markdown",
      "metadata": {
        "id": "gfGr3G6OEuBq"
      },
      "source": [
        "## Interest Expense (Most Recent 12 Months, Last 10K)"
      ]
    },
    {
      "cell_type": "code",
      "execution_count": null,
      "metadata": {
        "id": "5CSIvjkdEuiB"
      },
      "outputs": [],
      "source": [
        "current_interest_expense = input('What is the current interest expense?')\n",
        "last_10k_interest_expense = input('What is the last 10K interest expense?')\n",
        "input_worksheet.update('B13', [[current_interest_expense]])\n",
        "input_worksheet.update('C13', [[last_10k_interest_expense]])"
      ]
    },
    {
      "cell_type": "markdown",
      "metadata": {
        "id": "6bIVV-nSP1G1"
      },
      "source": [
        "## Book Value of Equity (Most Recent 12 Months, Last 10K)"
      ]
    },
    {
      "cell_type": "code",
      "execution_count": null,
      "metadata": {
        "id": "Nz7nuX3mP1lc"
      },
      "outputs": [],
      "source": [
        "current_book_value_of_equity = input('What is the current book value of equity?')\n",
        "last_10k_book_value_of_equity = input('What is the last 10K book value of equity?')\n",
        "input_worksheet.update('B14', [[current_book_value_of_equity]])\n",
        "input_worksheet.update('C14', [[last_10k_book_value_of_equity]])"
      ]
    },
    {
      "cell_type": "markdown",
      "metadata": {
        "id": "XlWrc4rNQHOJ"
      },
      "source": [
        "## Book Value of Debt (Most Recent 12 Months, Last 10K)"
      ]
    },
    {
      "cell_type": "code",
      "execution_count": null,
      "metadata": {
        "id": "qWJu8aZGQG8L"
      },
      "outputs": [],
      "source": [
        "current_book_value_of_debt = input('What is the current book value of debt?')\n",
        "last_10k_book_value_of_debt = input('What is the last 10K book value of debt?')\n",
        "input_worksheet.update('B15', [[current_book_value_of_debt]])\n",
        "input_worksheet.update('C15', [[last_10k_book_value_of_debt]])"
      ]
    },
    {
      "cell_type": "markdown",
      "metadata": {
        "id": "zlsF27_hQSu2"
      },
      "source": [
        "## R&D Expenses to Capitalize + Operating Lease Commitments"
      ]
    },
    {
      "cell_type": "code",
      "execution_count": 20,
      "metadata": {},
      "outputs": [],
      "source": [
        "r_and_d_dd = get_dropdown_options(spreadsheet_id, sheet_name, 'B16')\n",
        "operating_lease_dd = get_dropdown_options(spreadsheet_id, sheet_name, 'B17')"
      ]
    },
    {
      "cell_type": "code",
      "execution_count": null,
      "metadata": {
        "id": "FlPc7LguQRPu"
      },
      "outputs": [],
      "source": [
        "r_and_d = input('Do you have R&D expenses to capitalize?')\n",
        "operating_lease_commitments = input('Do you have operating lease commitments?')\n",
        "input_worksheet.update('B16', [[r_and_d]])\n",
        "input_worksheet.update('B17', [[operating_lease_commitments]])"
      ]
    },
    {
      "cell_type": "markdown",
      "metadata": {
        "id": "th01qislQm4n"
      },
      "source": [
        "## Cash and Marketable Securities (Most Recent 12 Months, Last 10K)"
      ]
    },
    {
      "cell_type": "code",
      "execution_count": null,
      "metadata": {
        "id": "ShX1inB6Ql8t"
      },
      "outputs": [],
      "source": [
        "current_cash_and_marketable_securities = input('What is the current cash and marketable securities?')\n",
        "last_10k_cash_and_marketable_securities = input('What is the last 10K cash and marketable securities?')\n",
        "input_worksheet.update('B18', [[current_cash_and_marketable_securities]])\n",
        "input_worksheet.update('C18', [[last_10k_cash_and_marketable_securities]])"
      ]
    },
    {
      "cell_type": "markdown",
      "metadata": {
        "id": "Q97KRTmNQwx7"
      },
      "source": [
        "## Cross Holdings and Other Non-Operating Assets (Most Recent 12 Months, Last 10K)"
      ]
    },
    {
      "cell_type": "code",
      "execution_count": null,
      "metadata": {
        "id": "Pj-EsGKoQxWg"
      },
      "outputs": [],
      "source": [
        "cross_holdings_and_other_non_operating_assets = input('What is the current cross holdings and other non-operating assets?')\n",
        "last_10k_cross_holdings_and_other_non_operating_assets = input('What is the last 10K cross holdings and other non-operating assets?')\n",
        "input_worksheet.update('B19', [[cross_holdings_and_other_non_operating_assets]])\n",
        "input_worksheet.update('C19', [[last_10k_cross_holdings_and_other_non_operating_assets]])"
      ]
    },
    {
      "cell_type": "markdown",
      "metadata": {
        "id": "FJlSX4yvQ_Ix"
      },
      "source": [
        "## Minority Interests (Most Recent 12 Months, Last 10K)"
      ]
    },
    {
      "cell_type": "code",
      "execution_count": null,
      "metadata": {
        "id": "yc13z0lDQ-Z8"
      },
      "outputs": [],
      "source": [
        "current_minority_interests = input('What is the current minority interests?')\n",
        "last_10k_minority_interests = input('What is the last 10K minority interests?')\n",
        "input_worksheet.update('B20', [[current_minority_interests]])\n",
        "input_worksheet.update('C20', [[last_10k_minority_interests]])"
      ]
    },
    {
      "cell_type": "markdown",
      "metadata": {
        "id": "xxaGAGFiRKmz"
      },
      "source": [
        "## Number of Shares Outstanding, Current Stock Price, Effect and Marginal Tax Rate"
      ]
    },
    {
      "cell_type": "code",
      "execution_count": null,
      "metadata": {
        "id": "X9G6rsqyRHW1"
      },
      "outputs": [],
      "source": [
        "number_of_shares_outstanding = input('What is the number of shares outstanding?')\n",
        "current_stock_price = input('What is the current stock price?')\n",
        "effective_tax_rate = input('What is the effective tax rate?')\n",
        "marginal_tax_rate = input('What is the marginal tax rate?')\n",
        "input_worksheet.update('B21', [[number_of_shares_outstanding]])\n",
        "input_worksheet.update('B22', [[current_stock_price]])\n",
        "input_worksheet.update('B23', [[effective_tax_rate]])\n",
        "input_worksheet.update('B24', [[marginal_tax_rate]])"
      ]
    },
    {
      "cell_type": "markdown",
      "metadata": {
        "id": "6tclk_bORW3z"
      },
      "source": [
        "## Value Drivers (Rev Growth Projection)"
      ]
    },
    {
      "cell_type": "code",
      "execution_count": null,
      "metadata": {},
      "outputs": [],
      "source": [
        "def forecast_revenue_growth_rate_tuned(\n",
        "    symbol: str,\n",
        "    history_years: int = 10,\n",
        "    cps_grid=None\n",
        ") -> dict:\n",
        "    \"\"\"\n",
        "    Forecasts next year’s annual revenue growth rate using Prophet,\n",
        "    tuning changepoint_prior_scale via time-series CV. Pulls annual\n",
        "    TotalRevenue from yahooquery (periodType=='12M') so you get enough\n",
        "    data points for tuning.\n",
        "\n",
        "    Returns:\n",
        "      {\n",
        "        best_cps: float,\n",
        "        cv_results: DataFrame,\n",
        "        growth_rate: float,    # next-year forecast (%)\n",
        "        lower_bound: float,\n",
        "        upper_bound: float,\n",
        "        forecast_df: DataFrame # ds, yhat, yhat_lower, yhat_upper\n",
        "      }\n",
        "    \"\"\"\n",
        "    # 0) default CPS grid\n",
        "    if cps_grid is None:\n",
        "        cps_grid = [0.01, 0.05, 0.1, 0.3, 0.5]\n",
        "\n",
        "    # 1) Pull annual income statement via yahooquery\n",
        "    t = Ticker(symbol)\n",
        "    inc = t.income_statement(frequency='a')\n",
        "    if inc is None or inc.empty:\n",
        "        raise ValueError(f\"No annual income_statement data for {symbol}\")\n",
        "    inc = inc.reset_index()\n",
        "    # filter full-year entries\n",
        "    inc12 = inc[inc['periodType']=='12M'].copy()\n",
        "    inc12['asOfDate'] = pd.to_datetime(inc12['asOfDate'])\n",
        "    # build a Series of TotalRevenue, sorted\n",
        "    s = inc12.set_index('asOfDate')['TotalRevenue'].sort_index()\n",
        "    # limit history\n",
        "    s = s.last(f'{history_years}Y')\n",
        "\n",
        "    # 2) compute YoY growth (%) and format for Prophet\n",
        "    growth = s.pct_change().dropna() * 100\n",
        "    df = growth.reset_index().rename(columns={'asOfDate': 'ds', growth.name: 'y'})[['ds','y']]\n",
        "\n",
        "    # 3) decide if we can tune (need ≥4 points)\n",
        "    cv_results = pd.DataFrame()\n",
        "    if len(df) >= 4:\n",
        "        tuning = []\n",
        "        initial_years = max(3, history_years - 2)\n",
        "        for cps in cps_grid:\n",
        "            m = Prophet(\n",
        "                yearly_seasonality=False,\n",
        "                changepoint_prior_scale=cps,\n",
        "                n_changepoints=min(5, len(df)-1)\n",
        "            )\n",
        "            m.fit(df)\n",
        "            df_cv = cross_validation(\n",
        "                m,\n",
        "                initial=f\"{initial_years} years\",\n",
        "                period=\"1 years\",\n",
        "                horizon=\"1 years\",\n",
        "                parallel=\"processes\"\n",
        "            )\n",
        "            perf = performance_metrics(df_cv)\n",
        "            tuning.append({\n",
        "                \"cps\": cps,\n",
        "                \"mae\": perf['mae'].mean(),\n",
        "                \"mape\": perf['mape'].mean(),\n",
        "                \"rmse\": perf['rmse'].mean()\n",
        "            })\n",
        "        cv_results = pd.DataFrame(tuning)\n",
        "        best_cps = cv_results.loc[cv_results['mape'].idxmin(), 'cps']\n",
        "    else:\n",
        "        # fallback if too few data points\n",
        "        best_cps = 0.05\n",
        "\n",
        "    # 4) fit final model\n",
        "    model = Prophet(\n",
        "        yearly_seasonality=False,\n",
        "        changepoint_prior_scale=best_cps,\n",
        "        n_changepoints=min(5, len(df)-1)\n",
        "    )\n",
        "    model.fit(df)\n",
        "\n",
        "    # 5) forecast next year\n",
        "    future = model.make_future_dataframe(periods=1, freq='A')\n",
        "    forecast = model.predict(future)\n",
        "    ng = forecast.iloc[-1]\n",
        "    growth_rate = ng['yhat']\n",
        "    lower, upper = ng['yhat_lower'], ng['yhat_upper']\n",
        "\n",
        "    # 6) visualize\n",
        "    plt.figure(figsize=(10,6))\n",
        "    plt.plot(df['ds'], df['y'], 'o-', label='Historical Growth')\n",
        "    plt.plot(forecast['ds'], forecast['yhat'], '--', label='Forecast')\n",
        "    plt.fill_between(\n",
        "        forecast['ds'],\n",
        "        forecast['yhat_lower'],\n",
        "        forecast['yhat_upper'],\n",
        "        color='orange', alpha=0.3,\n",
        "        label='Uncertainty'\n",
        "    )\n",
        "    plt.axvline(df['ds'].iloc[-1], color='gray', linestyle=':')\n",
        "    plt.title(f\"{symbol} Annual Revenue Growth Forecast (cps={best_cps})\")\n",
        "    plt.xlabel(\"Year\")\n",
        "    plt.ylabel(\"Growth Rate (%)\")\n",
        "    plt.legend()\n",
        "    plt.grid(True)\n",
        "    plt.tight_layout()\n",
        "    plt.show()\n",
        "\n",
        "    return {\n",
        "        \"best_cps\": best_cps,\n",
        "        \"cv_results\": cv_results,\n",
        "        \"growth_rate\": growth_rate,\n",
        "        \"lower_bound\": lower,\n",
        "        \"upper_bound\": upper,\n",
        "        \"forecast_df\": forecast[['ds','yhat','yhat_lower','yhat_upper']]\n",
        "    }"
      ]
    },
    {
      "cell_type": "code",
      "execution_count": 308,
      "metadata": {},
      "outputs": [
        {
          "name": "stderr",
          "output_type": "stream",
          "text": [
            "2025-04-25 22:14:11,012 - prophet - INFO - Disabling weekly seasonality. Run prophet with weekly_seasonality=True to override this.\n",
            "2025-04-25 22:14:11,012 - prophet - INFO - Disabling daily seasonality. Run prophet with daily_seasonality=True to override this.\n",
            "2025-04-25 22:14:11,018 - prophet - INFO - n_changepoints greater than number of observations. Using 1.\n",
            "2025-04-25 22:14:11,022 - cmdstanpy - DEBUG - input tempfile: /var/folders/zc/mk397vzd3rndczvtnq2xwwzr0000gn/T/tmpuy9jk7vk/qsv2c0uz.json\n",
            "2025-04-25 22:14:11,023 - cmdstanpy - DEBUG - input tempfile: /var/folders/zc/mk397vzd3rndczvtnq2xwwzr0000gn/T/tmpuy9jk7vk/ki5iev_l.json\n",
            "2025-04-25 22:14:11,024 - cmdstanpy - DEBUG - idx 0\n",
            "2025-04-25 22:14:11,024 - cmdstanpy - DEBUG - running CmdStan, num_threads: None\n",
            "2025-04-25 22:14:11,025 - cmdstanpy - DEBUG - CmdStan args: ['/Users/tylerni/anaconda3/lib/python3.10/site-packages/prophet/stan_model/prophet_model.bin', 'random', 'seed=9663', 'data', 'file=/var/folders/zc/mk397vzd3rndczvtnq2xwwzr0000gn/T/tmpuy9jk7vk/qsv2c0uz.json', 'init=/var/folders/zc/mk397vzd3rndczvtnq2xwwzr0000gn/T/tmpuy9jk7vk/ki5iev_l.json', 'output', 'file=/var/folders/zc/mk397vzd3rndczvtnq2xwwzr0000gn/T/tmpuy9jk7vk/prophet_modeltm63pahf/prophet_model-20250425221411.csv', 'method=optimize', 'algorithm=newton', 'iter=10000']\n",
            "22:14:11 - cmdstanpy - INFO - Chain [1] start processing\n",
            "2025-04-25 22:14:11,025 - cmdstanpy - INFO - Chain [1] start processing\n",
            "22:14:11 - cmdstanpy - INFO - Chain [1] done processing\n",
            "2025-04-25 22:14:11,101 - cmdstanpy - INFO - Chain [1] done processing\n"
          ]
        },
        {
          "data": {
            "image/png": "[encoded data removed]",
            "text/plain": [
              "<Figure size 1000x600 with 1 Axes>"
            ]
          },
          "metadata": {},
          "output_type": "display_data"
        },
        {
          "name": "stdout",
          "output_type": "stream",
          "text": [
            "Best cps: 0.05\n",
            "Next year growth: 11.81%\n"
          ]
        }
      ],
      "source": [
        "result = forecast_revenue_growth_rate_tuned(\"MSFT\", history_years=10)\n",
        "print(\"Best cps:\", result[\"best_cps\"])\n",
        "print(f\"Next year growth: {result['growth_rate']:.2f}%\")"
      ]
    },
    {
      "cell_type": "markdown",
      "metadata": {},
      "source": [
        "## Value Drivers (Operating Margin)"
      ]
    },
    {
      "cell_type": "code",
      "execution_count": 321,
      "metadata": {},
      "outputs": [],
      "source": [
        "def forecast_operating_margin_tuned(\n",
        "    symbol: str,\n",
        "    history_years: int = 10,\n",
        "    cps_grid=None\n",
        ") -> dict:\n",
        "    \"\"\"\n",
        "    Forecasts next year's operating margin (%) using Prophet,\n",
        "    tuning changepoint_prior_scale via time-series CV on annual data.\n",
        "\n",
        "    Returns:\n",
        "      {\n",
        "        best_cps: float,\n",
        "        cv_results: DataFrame,\n",
        "        margin_forecast: float,    # next-year operating margin (%)\n",
        "        lower_bound: float,\n",
        "        upper_bound: float,\n",
        "        forecast_df: DataFrame     # ds, yhat, yhat_lower, yhat_upper\n",
        "      }\n",
        "    \"\"\"\n",
        "    # default grid\n",
        "    if cps_grid is None:\n",
        "        cps_grid = [0.01, 0.05, 0.1, 0.3, 0.5]\n",
        "\n",
        "    # 1) Pull annual statements via yahooquery\n",
        "    t = Ticker(symbol)\n",
        "    inc = t.income_statement(frequency='a')\n",
        "    if inc is None or inc.empty:\n",
        "        raise ValueError(f\"No annual income data for {symbol}\")\n",
        "    inc = inc.reset_index()\n",
        "    inc12 = inc[inc['periodType']=='12M'].copy()\n",
        "    inc12['asOfDate'] = pd.to_datetime(inc12['asOfDate'])\n",
        "    inc12 = inc12.set_index('asOfDate').sort_index()\n",
        "\n",
        "    # 2) Build operating margin series\n",
        "    if not {'OperatingIncome','TotalRevenue'}.issubset(inc12.columns):\n",
        "        raise ValueError(\"Required fields OperatingIncome or TotalRevenue missing\")\n",
        "    margin = (inc12['OperatingIncome'] / inc12['TotalRevenue']) * 100\n",
        "    margin = margin.last(f\"{history_years}Y\").dropna()\n",
        "\n",
        "    # 3) Prepare for Prophet\n",
        "    df = margin.reset_index(name='y').rename(columns={'asOfDate':'ds'})[['ds','y']]\n",
        "\n",
        "    # 4) Determine if tuning is feasible\n",
        "    cv_results = pd.DataFrame()\n",
        "    total_days = (df['ds'].max() - df['ds'].min()).days\n",
        "    horizon_days = 365\n",
        "    if total_days >= 2 * horizon_days:\n",
        "        # compute initial window to leave horizon_days for testing\n",
        "        initial_days = total_days - horizon_days\n",
        "        tuning = []\n",
        "        for cps in cps_grid:\n",
        "            m = Prophet(\n",
        "                yearly_seasonality=False,\n",
        "                changepoint_prior_scale=cps,\n",
        "                n_changepoints=min(5, len(df)-1)\n",
        "            )\n",
        "            m.fit(df)\n",
        "            df_cv = cross_validation(\n",
        "                m,\n",
        "                initial=f\"{initial_days} days\",\n",
        "                period=\"365 days\",\n",
        "                horizon=\"365 days\",\n",
        "                parallel=\"processes\"\n",
        "            )\n",
        "            perf = performance_metrics(df_cv)\n",
        "            tuning.append({\n",
        "                'cps': cps,\n",
        "                'mae': perf['mae'].mean(),\n",
        "                'mape': perf['mape'].mean(),\n",
        "                'rmse': perf['rmse'].mean()\n",
        "            })\n",
        "        cv_results = pd.DataFrame(tuning)\n",
        "        best_cps = cv_results.loc[cv_results['mape'].idxmin(), 'cps']\n",
        "    else:\n",
        "        best_cps = 0.05\n",
        "\n",
        "    # 5) Fit final model\n",
        "    model = Prophet(\n",
        "        yearly_seasonality=False,\n",
        "        changepoint_prior_scale=best_cps,\n",
        "        n_changepoints=min(5, len(df)-1)\n",
        "    )\n",
        "    model.fit(df)\n",
        "\n",
        "    # 6) Forecast next year\n",
        "    future = model.make_future_dataframe(periods=1, freq='A')\n",
        "    forecast = model.predict(future)\n",
        "    last = forecast.iloc[-1]\n",
        "    margin_forecast = last['yhat']\n",
        "    lower, upper = last['yhat_lower'], last['yhat_upper']\n",
        "\n",
        "    # 7) Visualization\n",
        "    plt.figure(figsize=(10,6))\n",
        "    plt.plot(df['ds'], df['y'], 'o-', label='Historical Margin')\n",
        "    plt.plot(forecast['ds'], forecast['yhat'], '--', label='Forecast')\n",
        "    plt.fill_between(\n",
        "        forecast['ds'], forecast['yhat_lower'], forecast['yhat_upper'],\n",
        "        color='orange', alpha=0.3, label='Uncertainty'\n",
        "    )\n",
        "    plt.axvline(df['ds'].iloc[-1], color='gray', linestyle=':')\n",
        "    plt.title(f\"{symbol} Operating Margin Forecast (cps={best_cps})\")\n",
        "    plt.xlabel(\"Year\")\n",
        "    plt.ylabel(\"Operating Margin (%)\")\n",
        "    plt.legend()\n",
        "    plt.grid(True)\n",
        "    plt.tight_layout()\n",
        "    plt.show()\n",
        "\n",
        "    return {\n",
        "        'best_cps': best_cps,\n",
        "        'cv_results': cv_results,\n",
        "        'margin_forecast': margin_forecast,\n",
        "        'lower_bound': lower,\n",
        "        'upper_bound': upper,\n",
        "        'forecast_df': forecast[['ds','yhat','yhat_lower','yhat_upper']]\n",
        "    }\n"
      ]
    },
    {
      "cell_type": "code",
      "execution_count": 323,
      "metadata": {},
      "outputs": [
        {
          "name": "stderr",
          "output_type": "stream",
          "text": [
            "2025-04-25 22:22:22,242 - prophet - INFO - Disabling weekly seasonality. Run prophet with weekly_seasonality=True to override this.\n",
            "2025-04-25 22:22:22,243 - prophet - INFO - Disabling daily seasonality. Run prophet with daily_seasonality=True to override this.\n",
            "2025-04-25 22:22:22,250 - prophet - INFO - n_changepoints greater than number of observations. Using 2.\n",
            "2025-04-25 22:22:22,253 - cmdstanpy - DEBUG - input tempfile: /var/folders/zc/mk397vzd3rndczvtnq2xwwzr0000gn/T/tmpuy9jk7vk/165teefo.json\n",
            "2025-04-25 22:22:22,254 - cmdstanpy - DEBUG - input tempfile: /var/folders/zc/mk397vzd3rndczvtnq2xwwzr0000gn/T/tmpuy9jk7vk/pxntg74u.json\n",
            "2025-04-25 22:22:22,255 - cmdstanpy - DEBUG - idx 0\n",
            "2025-04-25 22:22:22,255 - cmdstanpy - DEBUG - running CmdStan, num_threads: None\n",
            "2025-04-25 22:22:22,256 - cmdstanpy - DEBUG - CmdStan args: ['/Users/tylerni/anaconda3/lib/python3.10/site-packages/prophet/stan_model/prophet_model.bin', 'random', 'seed=66205', 'data', 'file=/var/folders/zc/mk397vzd3rndczvtnq2xwwzr0000gn/T/tmpuy9jk7vk/165teefo.json', 'init=/var/folders/zc/mk397vzd3rndczvtnq2xwwzr0000gn/T/tmpuy9jk7vk/pxntg74u.json', 'output', 'file=/var/folders/zc/mk397vzd3rndczvtnq2xwwzr0000gn/T/tmpuy9jk7vk/prophet_modelpy5z86bi/prophet_model-20250425222222.csv', 'method=optimize', 'algorithm=newton', 'iter=10000']\n",
            "22:22:22 - cmdstanpy - INFO - Chain [1] start processing\n",
            "2025-04-25 22:22:22,256 - cmdstanpy - INFO - Chain [1] start processing\n",
            "22:22:22 - cmdstanpy - INFO - Chain [1] done processing\n",
            "2025-04-25 22:22:22,363 - cmdstanpy - INFO - Chain [1] done processing\n",
            "2025-04-25 22:22:22,370 - prophet - INFO - Making 1 forecasts with cutoffs between 2023-07-01 00:00:00 and 2023-07-01 00:00:00\n",
            "2025-04-25 22:22:22,372 - prophet - INFO - Applying in parallel with <concurrent.futures.process.ProcessPoolExecutor object at 0x7fe249a62c80>\n",
            "/Users/tylerni/anaconda3/lib/python3.10/site-packages/pandas/core/arrays/masked.py:60: UserWarning: Pandas requires version '1.3.6' or newer of 'bottleneck' (version '1.3.5' currently installed).\n",
            "  from pandas.core import (\n",
            "22:22:24 - cmdstanpy - INFO - Chain [1] start processing\n",
            "22:22:26 - cmdstanpy - INFO - Chain [1] done processing\n",
            "2025-04-25 22:22:26,754 - prophet - INFO - Disabling weekly seasonality. Run prophet with weekly_seasonality=True to override this.\n",
            "2025-04-25 22:22:26,755 - prophet - INFO - Disabling daily seasonality. Run prophet with daily_seasonality=True to override this.\n",
            "2025-04-25 22:22:26,772 - prophet - INFO - n_changepoints greater than number of observations. Using 2.\n",
            "2025-04-25 22:22:26,776 - cmdstanpy - DEBUG - input tempfile: /var/folders/zc/mk397vzd3rndczvtnq2xwwzr0000gn/T/tmpuy9jk7vk/_8d7d2lz.json\n",
            "2025-04-25 22:22:26,778 - cmdstanpy - DEBUG - input tempfile: /var/folders/zc/mk397vzd3rndczvtnq2xwwzr0000gn/T/tmpuy9jk7vk/ibjn9fie.json\n",
            "2025-04-25 22:22:26,780 - cmdstanpy - DEBUG - idx 0\n",
            "2025-04-25 22:22:26,781 - cmdstanpy - DEBUG - running CmdStan, num_threads: None\n",
            "2025-04-25 22:22:26,783 - cmdstanpy - DEBUG - CmdStan args: ['/Users/tylerni/anaconda3/lib/python3.10/site-packages/prophet/stan_model/prophet_model.bin', 'random', 'seed=34433', 'data', 'file=/var/folders/zc/mk397vzd3rndczvtnq2xwwzr0000gn/T/tmpuy9jk7vk/_8d7d2lz.json', 'init=/var/folders/zc/mk397vzd3rndczvtnq2xwwzr0000gn/T/tmpuy9jk7vk/ibjn9fie.json', 'output', 'file=/var/folders/zc/mk397vzd3rndczvtnq2xwwzr0000gn/T/tmpuy9jk7vk/prophet_modeltr344ez4/prophet_model-20250425222226.csv', 'method=optimize', 'algorithm=newton', 'iter=10000']\n",
            "22:22:26 - cmdstanpy - INFO - Chain [1] start processing\n",
            "2025-04-25 22:22:26,790 - cmdstanpy - INFO - Chain [1] start processing\n",
            "22:22:30 - cmdstanpy - INFO - Chain [1] done processing\n",
            "2025-04-25 22:22:30,008 - cmdstanpy - INFO - Chain [1] done processing\n",
            "2025-04-25 22:22:30,014 - prophet - INFO - Making 1 forecasts with cutoffs between 2023-07-01 00:00:00 and 2023-07-01 00:00:00\n",
            "2025-04-25 22:22:30,016 - prophet - INFO - Applying in parallel with <concurrent.futures.process.ProcessPoolExecutor object at 0x7fe249a61450>\n",
            "/Users/tylerni/anaconda3/lib/python3.10/site-packages/pandas/core/arrays/masked.py:60: UserWarning: Pandas requires version '1.3.6' or newer of 'bottleneck' (version '1.3.5' currently installed).\n",
            "  from pandas.core import (\n",
            "22:22:31 - cmdstanpy - INFO - Chain [1] start processing\n",
            "22:22:31 - cmdstanpy - INFO - Chain [1] done processing\n",
            "2025-04-25 22:22:31,286 - prophet - INFO - Disabling weekly seasonality. Run prophet with weekly_seasonality=True to override this.\n",
            "2025-04-25 22:22:31,287 - prophet - INFO - Disabling daily seasonality. Run prophet with daily_seasonality=True to override this.\n",
            "2025-04-25 22:22:31,293 - prophet - INFO - n_changepoints greater than number of observations. Using 2.\n",
            "2025-04-25 22:22:31,295 - cmdstanpy - DEBUG - input tempfile: /var/folders/zc/mk397vzd3rndczvtnq2xwwzr0000gn/T/tmpuy9jk7vk/17p6r0x1.json\n",
            "2025-04-25 22:22:31,296 - cmdstanpy - DEBUG - input tempfile: /var/folders/zc/mk397vzd3rndczvtnq2xwwzr0000gn/T/tmpuy9jk7vk/q1fpmwep.json\n",
            "2025-04-25 22:22:31,299 - cmdstanpy - DEBUG - idx 0\n",
            "2025-04-25 22:22:31,299 - cmdstanpy - DEBUG - running CmdStan, num_threads: None\n",
            "2025-04-25 22:22:31,299 - cmdstanpy - DEBUG - CmdStan args: ['/Users/tylerni/anaconda3/lib/python3.10/site-packages/prophet/stan_model/prophet_model.bin', 'random', 'seed=46383', 'data', 'file=/var/folders/zc/mk397vzd3rndczvtnq2xwwzr0000gn/T/tmpuy9jk7vk/17p6r0x1.json', 'init=/var/folders/zc/mk397vzd3rndczvtnq2xwwzr0000gn/T/tmpuy9jk7vk/q1fpmwep.json', 'output', 'file=/var/folders/zc/mk397vzd3rndczvtnq2xwwzr0000gn/T/tmpuy9jk7vk/prophet_modelzu23xppx/prophet_model-20250425222231.csv', 'method=optimize', 'algorithm=newton', 'iter=10000']\n",
            "22:22:31 - cmdstanpy - INFO - Chain [1] start processing\n",
            "2025-04-25 22:22:31,299 - cmdstanpy - INFO - Chain [1] start processing\n",
            "22:22:34 - cmdstanpy - INFO - Chain [1] done processing\n",
            "2025-04-25 22:22:34,434 - cmdstanpy - INFO - Chain [1] done processing\n",
            "2025-04-25 22:22:34,440 - prophet - INFO - Making 1 forecasts with cutoffs between 2023-07-01 00:00:00 and 2023-07-01 00:00:00\n",
            "2025-04-25 22:22:34,443 - prophet - INFO - Applying in parallel with <concurrent.futures.process.ProcessPoolExecutor object at 0x7fe249a635e0>\n",
            "/Users/tylerni/anaconda3/lib/python3.10/site-packages/pandas/core/arrays/masked.py:60: UserWarning: Pandas requires version '1.3.6' or newer of 'bottleneck' (version '1.3.5' currently installed).\n",
            "  from pandas.core import (\n",
            "22:22:35 - cmdstanpy - INFO - Chain [1] start processing\n",
            "22:22:37 - cmdstanpy - INFO - Chain [1] done processing\n",
            "2025-04-25 22:22:37,739 - prophet - INFO - Disabling weekly seasonality. Run prophet with weekly_seasonality=True to override this.\n",
            "2025-04-25 22:22:37,740 - prophet - INFO - Disabling daily seasonality. Run prophet with daily_seasonality=True to override this.\n",
            "2025-04-25 22:22:37,746 - prophet - INFO - n_changepoints greater than number of observations. Using 2.\n",
            "2025-04-25 22:22:37,749 - cmdstanpy - DEBUG - input tempfile: /var/folders/zc/mk397vzd3rndczvtnq2xwwzr0000gn/T/tmpuy9jk7vk/l1bestc9.json\n",
            "2025-04-25 22:22:37,750 - cmdstanpy - DEBUG - input tempfile: /var/folders/zc/mk397vzd3rndczvtnq2xwwzr0000gn/T/tmpuy9jk7vk/xhitpqhb.json\n",
            "2025-04-25 22:22:37,755 - cmdstanpy - DEBUG - idx 0\n",
            "2025-04-25 22:22:37,755 - cmdstanpy - DEBUG - running CmdStan, num_threads: None\n",
            "2025-04-25 22:22:37,756 - cmdstanpy - DEBUG - CmdStan args: ['/Users/tylerni/anaconda3/lib/python3.10/site-packages/prophet/stan_model/prophet_model.bin', 'random', 'seed=76664', 'data', 'file=/var/folders/zc/mk397vzd3rndczvtnq2xwwzr0000gn/T/tmpuy9jk7vk/l1bestc9.json', 'init=/var/folders/zc/mk397vzd3rndczvtnq2xwwzr0000gn/T/tmpuy9jk7vk/xhitpqhb.json', 'output', 'file=/var/folders/zc/mk397vzd3rndczvtnq2xwwzr0000gn/T/tmpuy9jk7vk/prophet_model226m_v_w/prophet_model-20250425222237.csv', 'method=optimize', 'algorithm=newton', 'iter=10000']\n",
            "22:22:37 - cmdstanpy - INFO - Chain [1] start processing\n",
            "2025-04-25 22:22:37,756 - cmdstanpy - INFO - Chain [1] start processing\n",
            "22:22:40 - cmdstanpy - INFO - Chain [1] done processing\n",
            "2025-04-25 22:22:40,890 - cmdstanpy - INFO - Chain [1] done processing\n",
            "2025-04-25 22:22:40,897 - prophet - INFO - Making 1 forecasts with cutoffs between 2023-07-01 00:00:00 and 2023-07-01 00:00:00\n",
            "2025-04-25 22:22:40,898 - prophet - INFO - Applying in parallel with <concurrent.futures.process.ProcessPoolExecutor object at 0x7fe249982470>\n",
            "/Users/tylerni/anaconda3/lib/python3.10/site-packages/pandas/core/arrays/masked.py:60: UserWarning: Pandas requires version '1.3.6' or newer of 'bottleneck' (version '1.3.5' currently installed).\n",
            "  from pandas.core import (\n",
            "22:22:41 - cmdstanpy - INFO - Chain [1] start processing\n",
            "22:22:44 - cmdstanpy - INFO - Chain [1] done processing\n",
            "2025-04-25 22:22:44,067 - prophet - INFO - Disabling weekly seasonality. Run prophet with weekly_seasonality=True to override this.\n",
            "2025-04-25 22:22:44,068 - prophet - INFO - Disabling daily seasonality. Run prophet with daily_seasonality=True to override this.\n",
            "2025-04-25 22:22:44,074 - prophet - INFO - n_changepoints greater than number of observations. Using 2.\n",
            "2025-04-25 22:22:44,077 - cmdstanpy - DEBUG - input tempfile: /var/folders/zc/mk397vzd3rndczvtnq2xwwzr0000gn/T/tmpuy9jk7vk/9le_7wyd.json\n",
            "2025-04-25 22:22:44,079 - cmdstanpy - DEBUG - input tempfile: /var/folders/zc/mk397vzd3rndczvtnq2xwwzr0000gn/T/tmpuy9jk7vk/hf7f6a2p.json\n",
            "2025-04-25 22:22:44,082 - cmdstanpy - DEBUG - idx 0\n",
            "2025-04-25 22:22:44,082 - cmdstanpy - DEBUG - running CmdStan, num_threads: None\n",
            "2025-04-25 22:22:44,083 - cmdstanpy - DEBUG - CmdStan args: ['/Users/tylerni/anaconda3/lib/python3.10/site-packages/prophet/stan_model/prophet_model.bin', 'random', 'seed=29067', 'data', 'file=/var/folders/zc/mk397vzd3rndczvtnq2xwwzr0000gn/T/tmpuy9jk7vk/9le_7wyd.json', 'init=/var/folders/zc/mk397vzd3rndczvtnq2xwwzr0000gn/T/tmpuy9jk7vk/hf7f6a2p.json', 'output', 'file=/var/folders/zc/mk397vzd3rndczvtnq2xwwzr0000gn/T/tmpuy9jk7vk/prophet_modeltjtapdku/prophet_model-20250425222244.csv', 'method=optimize', 'algorithm=newton', 'iter=10000']\n",
            "22:22:44 - cmdstanpy - INFO - Chain [1] start processing\n",
            "2025-04-25 22:22:44,084 - cmdstanpy - INFO - Chain [1] start processing\n",
            "22:22:48 - cmdstanpy - INFO - Chain [1] done processing\n",
            "2025-04-25 22:22:48,182 - cmdstanpy - INFO - Chain [1] done processing\n",
            "2025-04-25 22:22:48,187 - prophet - INFO - Making 1 forecasts with cutoffs between 2023-07-01 00:00:00 and 2023-07-01 00:00:00\n",
            "2025-04-25 22:22:48,187 - prophet - INFO - Applying in parallel with <concurrent.futures.process.ProcessPoolExecutor object at 0x7fe249a62e00>\n",
            "/Users/tylerni/anaconda3/lib/python3.10/site-packages/pandas/core/arrays/masked.py:60: UserWarning: Pandas requires version '1.3.6' or newer of 'bottleneck' (version '1.3.5' currently installed).\n",
            "  from pandas.core import (\n",
            "22:22:49 - cmdstanpy - INFO - Chain [1] start processing\n",
            "22:22:51 - cmdstanpy - INFO - Chain [1] done processing\n",
            "2025-04-25 22:22:51,613 - prophet - INFO - Disabling weekly seasonality. Run prophet with weekly_seasonality=True to override this.\n",
            "2025-04-25 22:22:51,613 - prophet - INFO - Disabling daily seasonality. Run prophet with daily_seasonality=True to override this.\n",
            "2025-04-25 22:22:51,619 - prophet - INFO - n_changepoints greater than number of observations. Using 2.\n",
            "2025-04-25 22:22:51,621 - cmdstanpy - DEBUG - input tempfile: /var/folders/zc/mk397vzd3rndczvtnq2xwwzr0000gn/T/tmpuy9jk7vk/hi3muc4r.json\n",
            "2025-04-25 22:22:51,623 - cmdstanpy - DEBUG - input tempfile: /var/folders/zc/mk397vzd3rndczvtnq2xwwzr0000gn/T/tmpuy9jk7vk/15wii6nt.json\n",
            "2025-04-25 22:22:51,625 - cmdstanpy - DEBUG - idx 0\n",
            "2025-04-25 22:22:51,626 - cmdstanpy - DEBUG - running CmdStan, num_threads: None\n",
            "2025-04-25 22:22:51,626 - cmdstanpy - DEBUG - CmdStan args: ['/Users/tylerni/anaconda3/lib/python3.10/site-packages/prophet/stan_model/prophet_model.bin', 'random', 'seed=28474', 'data', 'file=/var/folders/zc/mk397vzd3rndczvtnq2xwwzr0000gn/T/tmpuy9jk7vk/hi3muc4r.json', 'init=/var/folders/zc/mk397vzd3rndczvtnq2xwwzr0000gn/T/tmpuy9jk7vk/15wii6nt.json', 'output', 'file=/var/folders/zc/mk397vzd3rndczvtnq2xwwzr0000gn/T/tmpuy9jk7vk/prophet_modelw_j2xq5g/prophet_model-20250425222251.csv', 'method=optimize', 'algorithm=newton', 'iter=10000']\n",
            "22:22:51 - cmdstanpy - INFO - Chain [1] start processing\n",
            "2025-04-25 22:22:51,627 - cmdstanpy - INFO - Chain [1] start processing\n",
            "22:22:51 - cmdstanpy - INFO - Chain [1] done processing\n",
            "2025-04-25 22:22:51,700 - cmdstanpy - INFO - Chain [1] done processing\n"
          ]
        },
        {
          "data": {
            "image/png": "[encoded data removed]",
            "text/plain": [
              "<Figure size 1000x600 with 1 Axes>"
            ]
          },
          "metadata": {},
          "output_type": "display_data"
        },
        {
          "name": "stdout",
          "output_type": "stream",
          "text": [
            "Next-year operating margin: 44.29%  (± 43.35%→45.30%)\n"
          ]
        }
      ],
      "source": [
        "res = forecast_operating_margin_tuned(\"MSFT\", history_years=10)\n",
        "print(f\"Next-year operating margin: {res['margin_forecast']:.2f}%  (± {res['lower_bound']:.2f}%→{res['upper_bound']:.2f}%)\")"
      ]
    },
    {
      "cell_type": "code",
      "execution_count": null,
      "metadata": {
        "id": "kOwfaOSlRV3A"
      },
      "outputs": [],
      "source": [
        "rev_growth_rate_for_next_year = input('What is the revenue growth rate for the next year?')\n",
        "operating_margin_for_next_year = input('What is the operating margin for the next year?')\n",
        "compounded_annual_growth_rate = input('What is the compounded annual growth rate?')\n",
        "target_pre_tax_operating_margin = input('What is the target pre-tax operating margin?')\n",
        "years_of_convergence_for_margin = input('How many years of convergence for the margin?')\n",
        "sales_to_capital_ratio_for_years_1_to_5 = input('What is the sales to capital ratio for the first 5 years?')\n",
        "sales_to_capital_ratio_for_years_6_to_10 = input('What is the sales to capital ratio for the last 5 years?')\n",
        "input_worksheet.update('B26', [[rev_growth_rate_for_next_year]])\n",
        "input_worksheet.update('B27', [[operating_margin_for_next_year]])\n",
        "input_worksheet.update('B28', [[compounded_annual_growth_rate]])\n",
        "input_worksheet.update('B29', [[target_pre_tax_operating_margin]])\n",
        "input_worksheet.update('B30', [[years_of_convergence_for_margin]])\n",
        "input_worksheet.update('B31', [[sales_to_capital_ratio_for_years_1_to_5]])\n",
        "input_worksheet.update('B32', [[sales_to_capital_ratio_for_years_6_to_10]])"
      ]
    },
    {
      "cell_type": "markdown",
      "metadata": {
        "id": "Qdscex7HRt9q"
      },
      "source": [
        "## Market Numbers"
      ]
    },
    {
      "cell_type": "code",
      "execution_count": null,
      "metadata": {
        "id": "2ScuwpcbRuQY"
      },
      "outputs": [],
      "source": [
        "rf = input('What is the riskfree rate?')\n",
        "input_worksheet.update('B33', [[rf]])"
      ]
    },
    {
      "cell_type": "markdown",
      "metadata": {
        "id": "wCta4Xe0R09j"
      },
      "source": [
        "## Other Inputs"
      ]
    },
    {
      "cell_type": "code",
      "execution_count": null,
      "metadata": {
        "id": "sBpegqaAR3TV"
      },
      "outputs": [],
      "source": [
        "employee_options_outstanding = input('Do you have employee options outstanding?')\n",
        "number_of_options_outstanding = input('What is the number of options outstanding?')\n",
        "average_strike_price = input('What is the average strike price?')\n",
        "average_maturity = input('What is the average maturity?')\n",
        "standard_deviation_on_stock_price = input('What is the standard deviation on the stock price?')\n",
        "input_worksheet.update('B37', [[employee_options_outstanding]])\n",
        "input_worksheet.update('B38', [[number_of_options_outstanding]])\n",
        "input_worksheet.update('B39', [[average_strike_price]])\n",
        "input_worksheet.update('B40', [[average_maturity]])\n",
        "input_worksheet.update('B41', [[standard_deviation_on_stock_price]])"
      ]
    },
    {
      "cell_type": "code",
      "execution_count": null,
      "metadata": {
        "colab": {
          "base_uri": "https://localhost:8080/",
          "height": 35
        },
        "id": "5JI72ycT610M",
        "outputId": "07e5bca6-4a3a-44d7-bede-d2dffa3fda3f"
      },
      "outputs": [],
      "source": [
        "valuation_worksheet.acell('B33').value"
      ]
    }
  ],
  "metadata": {
    "colab": {
      "provenance": []
    },
    "kernelspec": {
      "display_name": "base",
      "language": "python",
      "name": "python3"
    },
    "language_info": {
      "codemirror_mode": {
        "name": "ipython",
        "version": 3
      },
      "file_extension": ".py",
      "mimetype": "text/x-python",
      "name": "python",
      "nbconvert_exporter": "python",
      "pygments_lexer": "ipython3",
      "version": "3.10.9"
    }
  },
  "nbformat": 4,
  "nbformat_minor": 0
}
