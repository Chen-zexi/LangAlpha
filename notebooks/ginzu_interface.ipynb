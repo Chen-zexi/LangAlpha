{
  "cells": [
    {
      "cell_type": "code",
      "execution_count": null,
      "metadata": {},
      "outputs": [],
      "source": [
        "import sys\n",
        "import pandas as pd\n",
        "import yfinance as yf\n",
        "import warnings\n",
        "\n",
        "from prophet import Prophet\n",
        "from prophet.diagnostics import cross_validation, performance_metrics\n",
        "import matplotlib.pyplot as plt\n",
        "import numpy as np\n",
        "from sklearn.linear_model import LinearRegression\n",
        "\n",
        "from sklearn.model_selection import train_test_split\n",
        "from sklearn.metrics import mean_absolute_error\n",
        "import lightgbm as lgb\n",
        "\n",
        "from google.oauth2.service_account import Credentials\n",
        "from googleapiclient.discovery import build\n",
        "\n",
        "from yahooquery import Ticker\n",
        "from polygon import RESTClient\n",
        "\n",
        "import os\n",
        "import requests\n",
        "from datetime import datetime\n",
        "from dateutil.relativedelta import relativedelta\n",
        "\n",
        "warnings.filterwarnings(\"ignore\", category=FutureWarning)\n",
        "\n",
        "sys.path.append(os.path.abspath(os.path.join(os.getcwd(), \"..\")))"
      ]
    },
    {
      "cell_type": "code",
      "execution_count": 137,
      "metadata": {},
      "outputs": [
        {
          "name": "stdout",
          "output_type": "stream",
          "text": [
            "API Key successfully loaded!\n"
          ]
        }
      ],
      "source": [
        "from dotenv import load_dotenv\n",
        "import os\n",
        "\n",
        "load_dotenv()\n",
        "\n",
        "polygon_api_key = os.getenv(\"POLYGON_API_KEY\")\n",
        "\n",
        "if polygon_api_key:\n",
        "    print(\"API Key successfully loaded!\")\n",
        "else:\n",
        "    print(\"Error: API Key not found!\")\n",
        "\n",
        "ALPHA_VANTAGE_API_KEY = os.getenv(\"ALPHA_VANTAGE_API_KEY\")"
      ]
    },
    {
      "cell_type": "code",
      "execution_count": 2,
      "metadata": {},
      "outputs": [],
      "source": [
        "import gspread\n",
        "\n",
        "# gc = gspread.service_account(filename='stocksflags-ec5c40f2f2ee.json')\n",
        "gc = gspread.service_account(filename='rational-diode-456114-m0-79243525427e.json')\n",
        "\n",
        "\n",
        "ginzu_spreadsheet_link = 'https://docs.google.com/spreadsheets/d/1xclQf2xrgw0swp2CRwE25OBaEhQdDTOkm8VVkTcpVks/edit?usp=sharing'\n",
        "pricer = gc.open_by_url(ginzu_spreadsheet_link)\n",
        "input_worksheet = pricer.get_worksheet(0)\n",
        "valuation_worksheet = pricer.get_worksheet(1)"
      ]
    },
    {
      "cell_type": "code",
      "execution_count": 3,
      "metadata": {},
      "outputs": [],
      "source": [
        "SCOPES = ['https://www.googleapis.com/auth/spreadsheets']\n",
        "SERVICE_ACCOUNT_FILE = 'rational-diode-456114-m0-79243525427e.json'\n",
        "\n",
        "spreadsheet_id = '1xclQf2xrgw0swp2CRwE25OBaEhQdDTOkm8VVkTcpVks'\n",
        "sheet_name = 'Input sheet'\n",
        "\n",
        "creds = Credentials.from_service_account_file(SERVICE_ACCOUNT_FILE, scopes=SCOPES)\n",
        "service = build('sheets', 'v4', credentials=creds)"
      ]
    },
    {
      "cell_type": "code",
      "execution_count": 4,
      "metadata": {},
      "outputs": [],
      "source": [
        "def get_dropdown_options(spreadsheet_id: str, sheet_name: str, cell: str) -> list:\n",
        "    \"\"\"\n",
        "    Given a spreadsheet ID, sheet name, and cell (e.g., 'B7'),\n",
        "    returns the dropdown options (either hardcoded or from a range).\n",
        "    \"\"\"\n",
        "    range_name = f\"'{sheet_name}'!{cell}\"\n",
        "    \n",
        "    try:\n",
        "        response = service.spreadsheets().get(\n",
        "            spreadsheetId=spreadsheet_id,\n",
        "            ranges=[range_name],\n",
        "            includeGridData=True,\n",
        "            fields='sheets.data.rowData.values.dataValidation'\n",
        "        ).execute()\n",
        "\n",
        "        validation = response['sheets'][0]['data'][0]['rowData'][0]['values'][0]['dataValidation']\n",
        "        condition = validation['condition']\n",
        "        dropdown_values = [v['userEnteredValue'] for v in condition.get('values', [])]\n",
        "\n",
        "        dropdown_ref = dropdown_values[0]\n",
        "        if dropdown_ref.startswith(\"=\"):\n",
        "            raw_ref = dropdown_ref.lstrip(\"=\").replace(\"'\", \"\")\n",
        "            ref_sheet, ref_range = raw_ref.split(\"!\")\n",
        "\n",
        "            country_resp = service.spreadsheets().values().get(\n",
        "                spreadsheetId=spreadsheet_id,\n",
        "                range=f\"{ref_sheet}!{ref_range}\"\n",
        "            ).execute()\n",
        "\n",
        "            return [row[0].strip() for row in country_resp.get(\"values\", []) if row and row[0].strip()]\n",
        "        else:\n",
        "            return dropdown_values\n",
        "\n",
        "    except (KeyError, IndexError):\n",
        "        print(f\"No dropdown (data validation) found at {sheet_name}!{cell}.\")\n",
        "        return []\n"
      ]
    },
    {
      "cell_type": "code",
      "execution_count": 136,
      "metadata": {},
      "outputs": [],
      "source": [
        "# def get_latest_10k_financials(symbol):\n",
        "#     ticker = Ticker(symbol)\n",
        "\n",
        "#     # Annual financials\n",
        "#     income = ticker.income_statement(frequency='a')\n",
        "#     balance = ticker.balance_sheet(frequency='a')\n",
        "\n",
        "#     # Reset index to access 'asOfDate'\n",
        "#     income = income.reset_index()\n",
        "#     balance = balance.reset_index()\n",
        "\n",
        "#     # Filter for the most recent 12M reports\n",
        "#     income_12m = income[income['periodType'] == '12M']\n",
        "#     balance_12m = balance[balance['periodType'] == '12M']\n",
        "\n",
        "#     # Sort chronologically\n",
        "#     income_12m = income_12m.sort_values('asOfDate')\n",
        "#     balance_12m = balance_12m.sort_values('asOfDate')\n",
        "\n",
        "#     latest_income = income_12m.iloc[-1]\n",
        "#     latest_balance = balance_12m.iloc[-1]\n",
        "\n",
        "#     prev_income = income_12m.iloc[-2] if len(income_12m) > 1 else None\n",
        "#     prev_balance = balance_12m.iloc[-2] if len(balance_12m) > 1 else None\n",
        "\n",
        "#     # Years between 10-Ks\n",
        "#     if prev_income is not None:\n",
        "#         years_since_last_10k = (latest_income['asOfDate'] - prev_income['asOfDate']).days / 365\n",
        "#     else:\n",
        "#         years_since_last_10k = None\n",
        "\n",
        "#     # Calculate Minority Interests correctly\n",
        "#     def compute_minority_interest(balance_row):\n",
        "#         if balance_row is None:\n",
        "#             return None\n",
        "#         total_equity_gross = balance_row.get(\"TotalEquityGrossMinorityInterest\")\n",
        "#         common_stock_equity = balance_row.get(\"CommonStockEquity\")\n",
        "#         if total_equity_gross is not None and common_stock_equity is not None:\n",
        "#             return total_equity_gross - common_stock_equity\n",
        "\n",
        "#     latest_minority_interests = compute_minority_interest(latest_balance)\n",
        "#     prev_minority_interests = compute_minority_interest(prev_balance)\n",
        "\n",
        "#     # Other fields\n",
        "#     r_and_d_expenses = \"R&D\" in latest_income.index and latest_income[\"R&D\"] > 0\n",
        "#     operating_lease_commitments = \"OperatingLease\" in latest_balance.index\n",
        "\n",
        "#     shares_outstanding = latest_balance.get(\"OrdinarySharesNumber\")\n",
        "\n",
        "#     # Stock price\n",
        "#     history = ticker.history(period='1d')\n",
        "#     current_stock_price = history['close'].iloc[-1] if not history.empty else None\n",
        "\n",
        "#     effective_tax_rate = latest_income.get(\"TaxRateForCalcs\")\n",
        "#     marginal_tax_rate = 0.21\n",
        "#     risk_free_rate = 0.0427  # You can replace dynamically if you want later\n",
        "\n",
        "#     return {\n",
        "#         \"B11\": latest_income.get(\"TotalRevenue\"),\n",
        "#         \"C11\": prev_income.get(\"TotalRevenue\") if prev_income is not None else None,\n",
        "#         \"D11\": years_since_last_10k,\n",
        "#         \"B12\": latest_income.get(\"EBIT\"),\n",
        "#         \"C12\": prev_income.get(\"EBIT\") if prev_income is not None else None,\n",
        "#         \"B13\": latest_income.get(\"InterestExpense\"),\n",
        "#         \"C13\": prev_income.get(\"InterestExpense\") if prev_income is not None else None,\n",
        "#         \"B14\": latest_balance.get(\"OrdinarySharesNumber\"),\n",
        "#         \"C14\": prev_balance.get(\"OrdinarySharesNumber\") if prev_balance is not None else None,\n",
        "#         \"B15\": latest_balance.get(\"TotalDebt\"),\n",
        "#         \"C15\": prev_balance.get(\"TotalDebt\") if prev_balance is not None else None,\n",
        "#         \"B16\": \"Yes\" if r_and_d_expenses else \"No\",\n",
        "#         \"B17\": \"Yes\" if operating_lease_commitments else \"No\",\n",
        "#         \"B18\": latest_balance.get(\"CashAndCashEquivalents\"),\n",
        "#         \"C18\": prev_balance.get(\"CashAndCashEquivalents\") if prev_balance is not None else None,\n",
        "#         \"B19\": latest_balance.get(\"InvestmentsAndAdvances\"),\n",
        "#         \"C19\": prev_balance.get(\"InvestmentsAndAdvances\") if prev_balance is not None else None,\n",
        "#         \"B20\": latest_minority_interests,\n",
        "#         \"C20\": prev_minority_interests,\n",
        "#         \"B21\": shares_outstanding,\n",
        "#         \"B22\": current_stock_price,\n",
        "#         \"B23\": effective_tax_rate,\n",
        "#         \"B24\": marginal_tax_rate,\n",
        "#         \"B34\": risk_free_rate\n",
        "#     }\n"
      ]
    },
    {
      "cell_type": "code",
      "execution_count": null,
      "metadata": {},
      "outputs": [],
      "source": [
        "def get_alpha_vantage_data(function, symbol):\n",
        "    url = f\"https://www.alphavantage.co/query?function={function}&symbol={symbol}&apikey={ALPHA_VANTAGE_API_KEY}\"\n",
        "    response = requests.get(url)\n",
        "    return response.json()"
      ]
    },
    {
      "cell_type": "code",
      "execution_count": 191,
      "metadata": {},
      "outputs": [],
      "source": [
        "def safe_float(value):\n",
        "    try:\n",
        "        # Attempt to convert to float; if it fails, return 0\n",
        "        return float(value) if value not in [None, 'None', ''] else 0\n",
        "    except ValueError:\n",
        "        return 0"
      ]
    },
    {
      "cell_type": "code",
      "execution_count": 192,
      "metadata": {},
      "outputs": [],
      "source": [
        "def get_latest_10k_financials(symbol):\n",
        "    # Fetch financial data\n",
        "    income_data = get_alpha_vantage_data(\"INCOME_STATEMENT\", symbol)\n",
        "    balance_data = get_alpha_vantage_data(\"BALANCE_SHEET\", symbol)\n",
        "    cash_data = get_alpha_vantage_data(\"CASH_FLOW\", symbol)\n",
        "    quote_data = get_alpha_vantage_data(\"TIME_SERIES_DAILY\", symbol)\n",
        "\n",
        "    try:\n",
        "        inc_reports = income_data[\"annualReports\"]\n",
        "        bal_reports = balance_data[\"annualReports\"]\n",
        "        price_series = quote_data[\"Time Series (Daily)\"]\n",
        "    except KeyError:\n",
        "        raise ValueError(\"Missing data from Alpha Vantage. Check symbol or API limit.\")\n",
        "    \n",
        "    # Sort reports by date descending\n",
        "    inc_reports.sort(key=lambda x: x[\"fiscalDateEnding\"], reverse=True)\n",
        "    bal_reports.sort(key=lambda x: x[\"fiscalDateEnding\"], reverse=True)\n",
        "\n",
        "    # Most recent and previous year\n",
        "    inc_curr, inc_prev = inc_reports[0], inc_reports[1]\n",
        "    bal_curr, bal_prev = bal_reports[0], bal_reports[1]\n",
        "\n",
        "    # Valuation fields (Most recent and last 10-K before LTM)\n",
        "    b11 = safe_float(inc_curr.get(\"totalRevenue\", 0))\n",
        "    c11 = safe_float(inc_prev.get(\"totalRevenue\", 0))\n",
        "\n",
        "    b12 = safe_float(inc_curr.get(\"ebit\", 0))\n",
        "    c12 = safe_float(inc_prev.get(\"ebit\", 0))\n",
        "\n",
        "    b13 = safe_float(inc_curr.get(\"interestExpense\", 0))\n",
        "    c13 = safe_float(inc_prev.get(\"interestExpense\", 0))\n",
        "\n",
        "    b14 = safe_float(bal_curr.get(\"totalShareholderEquity\", 0))\n",
        "    c14 = safe_float(bal_prev.get(\"totalShareholderEquity\", 0))\n",
        "\n",
        "    # Get short-term and long-term debt fields\n",
        "    current_debt = safe_float(bal_curr.get(\"currentDebt\", 0))  # Short-term debt\n",
        "    long_term_debt = safe_float(bal_curr.get(\"currentLongTermDebt\", 0))  # Long-term debt\n",
        "    b15 = current_debt + long_term_debt  # Total debt for the most recent 10-K\n",
        "\n",
        "    # For the previous 10-K (C15), we need to get similar debt data from the previous year\n",
        "    prev_current_debt = safe_float(bal_prev.get(\"currentDebt\", 0))  # Short-term debt for previous 10-K\n",
        "    prev_long_term_debt = safe_float(bal_prev.get(\"currentLongTermDebt\", 0))  # Long-term debt for previous 10-K\n",
        "    c15 = prev_current_debt + prev_long_term_debt  # Total debt for the last 10-K\n",
        "\n",
        "    # Get other balance sheet fields\n",
        "    b18 = safe_float(bal_curr.get(\"cashAndCashEquivalentsAtCarryingValue\", 0))\n",
        "    c18 = safe_float(bal_prev.get(\"cashAndCashEquivalentsAtCarryingValue\", 0))\n",
        "\n",
        "    b19 = safe_float(bal_curr.get(\"otherCurrentAssets\", 0))  # proxy\n",
        "    c19 = safe_float(bal_prev.get(\"otherCurrentAssets\", 0))  # proxy\n",
        "\n",
        "    b20 = safe_float(bal_curr.get(\"totalShareholderEquity\", 0)) - safe_float(bal_curr.get(\"commonStockEquity\", 0))\n",
        "    c20 = safe_float(bal_prev.get(\"totalShareholderEquity\", 0)) - safe_float(bal_prev.get(\"commonStockEquity\", 0))\n",
        "\n",
        "    b21 = int(bal_curr.get(\"commonStockSharesOutstanding\", 0))\n",
        "\n",
        "    # Get most recent stock price\n",
        "    latest_day = sorted(price_series.keys())[-1]\n",
        "    b22 = safe_float(price_series[latest_day][\"4. close\"])\n",
        "\n",
        "    # Estimate time difference between 10-Ks\n",
        "    d11 = relativedelta(datetime.strptime(inc_curr[\"fiscalDateEnding\"], \"%Y-%m-%d\"),\n",
        "                        datetime.strptime(inc_prev[\"fiscalDateEnding\"], \"%Y-%m-%d\")).years\n",
        "\n",
        "    # Define C16 (R&D expenses to capitalize) field\n",
        "    c16 = \"Yes\" if \"R&D\" in bal_curr or \"R&D\" in bal_prev else \"No\"\n",
        "\n",
        "    # Define C17 (Operating lease commitments) field\n",
        "    c17 = \"Yes\" if \"operatingLease\" in bal_curr or \"operatingLease\" in bal_prev else \"No\"\n",
        "\n",
        "    # Calculate Effective Tax Rate (B23)\n",
        "    income_tax_expense = safe_float(inc_curr.get(\"incomeTaxExpense\", 0))\n",
        "    pre_tax_income = safe_float(inc_curr.get(\"ebit\", 0))  # EBIT as proxy for pre-tax income\n",
        "    b23 = income_tax_expense / pre_tax_income if pre_tax_income != 0 else 0\n",
        "\n",
        "    # Define Marginal Tax Rate (B24)\n",
        "    b24 = 0.21 \n",
        "\n",
        "    return {\n",
        "        \"B11\": b11, \"C11\": c11, \"D11\": d11,\n",
        "        \"B12\": b12, \"C12\": c12, \"B13\": b13, \"C13\": c13,\n",
        "        \"B14\": b14, \"C14\": c14,\n",
        "        \"B15\": b15, \"C15\": c15, \n",
        "        \"B18\": b18, \"C18\": c18,\n",
        "        \"B19\": b19, \"C19\": c19,\n",
        "        \"B20\": b20, \"C20\": c20,\n",
        "        \"B21\": b21, \"B22\": b22,\n",
        "        \"B23\": b23,\n",
        "        \"B24\": b24,\n",
        "        \"B34\": 0.0427, \n",
        "        \"B16\": c16,  # R&D expenses to capitalize\n",
        "        \"B17\": c17,  # Operating lease commitments\n",
        "    }\n",
        "\n"
      ]
    },
    {
      "cell_type": "code",
      "execution_count": 169,
      "metadata": {},
      "outputs": [],
      "source": [
        "company_ticker = input(\"Enter the company ticker: \")"
      ]
    },
    {
      "cell_type": "code",
      "execution_count": 193,
      "metadata": {},
      "outputs": [
        {
          "ename": "ValueError",
          "evalue": "Missing data from Alpha Vantage. Check symbol or API limit.",
          "output_type": "error",
          "traceback": [
            "\u001b[0;31m---------------------------------------------------------------------------\u001b[0m",
            "\u001b[0;31mKeyError\u001b[0m                                  Traceback (most recent call last)",
            "Cell \u001b[0;32mIn[192], line 9\u001b[0m, in \u001b[0;36mget_latest_10k_financials\u001b[0;34m(symbol)\u001b[0m\n\u001b[1;32m      8\u001b[0m \u001b[38;5;28;01mtry\u001b[39;00m:\n\u001b[0;32m----> 9\u001b[0m     inc_reports \u001b[38;5;241m=\u001b[39m \u001b[43mincome_data\u001b[49m\u001b[43m[\u001b[49m\u001b[38;5;124;43m\"\u001b[39;49m\u001b[38;5;124;43mannualReports\u001b[39;49m\u001b[38;5;124;43m\"\u001b[39;49m\u001b[43m]\u001b[49m\n\u001b[1;32m     10\u001b[0m     bal_reports \u001b[38;5;241m=\u001b[39m balance_data[\u001b[38;5;124m\"\u001b[39m\u001b[38;5;124mannualReports\u001b[39m\u001b[38;5;124m\"\u001b[39m]\n",
            "\u001b[0;31mKeyError\u001b[0m: 'annualReports'",
            "\nDuring handling of the above exception, another exception occurred:\n",
            "\u001b[0;31mValueError\u001b[0m                                Traceback (most recent call last)",
            "Cell \u001b[0;32mIn[193], line 1\u001b[0m\n\u001b[0;32m----> 1\u001b[0m financials \u001b[38;5;241m=\u001b[39m \u001b[43mget_latest_10k_financials\u001b[49m\u001b[43m(\u001b[49m\u001b[43mcompany_ticker\u001b[49m\u001b[43m)\u001b[49m\n",
            "Cell \u001b[0;32mIn[192], line 13\u001b[0m, in \u001b[0;36mget_latest_10k_financials\u001b[0;34m(symbol)\u001b[0m\n\u001b[1;32m     11\u001b[0m     price_series \u001b[38;5;241m=\u001b[39m quote_data[\u001b[38;5;124m\"\u001b[39m\u001b[38;5;124mTime Series (Daily)\u001b[39m\u001b[38;5;124m\"\u001b[39m]\n\u001b[1;32m     12\u001b[0m \u001b[38;5;28;01mexcept\u001b[39;00m \u001b[38;5;167;01mKeyError\u001b[39;00m:\n\u001b[0;32m---> 13\u001b[0m     \u001b[38;5;28;01mraise\u001b[39;00m \u001b[38;5;167;01mValueError\u001b[39;00m(\u001b[38;5;124m\"\u001b[39m\u001b[38;5;124mMissing data from Alpha Vantage. Check symbol or API limit.\u001b[39m\u001b[38;5;124m\"\u001b[39m)\n\u001b[1;32m     15\u001b[0m \u001b[38;5;66;03m# Sort reports by date descending\u001b[39;00m\n\u001b[1;32m     16\u001b[0m inc_reports\u001b[38;5;241m.\u001b[39msort(key\u001b[38;5;241m=\u001b[39m\u001b[38;5;28;01mlambda\u001b[39;00m x: x[\u001b[38;5;124m\"\u001b[39m\u001b[38;5;124mfiscalDateEnding\u001b[39m\u001b[38;5;124m\"\u001b[39m], reverse\u001b[38;5;241m=\u001b[39m\u001b[38;5;28;01mTrue\u001b[39;00m)\n",
            "\u001b[0;31mValueError\u001b[0m: Missing data from Alpha Vantage. Check symbol or API limit."
          ]
        }
      ],
      "source": [
        "financials = get_latest_10k_financials(company_ticker)"
      ]
    },
    {
      "cell_type": "code",
      "execution_count": 171,
      "metadata": {},
      "outputs": [
        {
          "data": {
            "text/plain": [
              "{'B11': 245122000000.0,\n",
              " 'C11': 211915000000.0,\n",
              " 'D11': 1,\n",
              " 'B12': 110722000000.0,\n",
              " 'C12': 91279000000.0,\n",
              " 'B13': 2935000000.0,\n",
              " 'C13': 1968000000.0,\n",
              " 'B14': 268477000000.0,\n",
              " 'C14': 206223000000.0,\n",
              " 'B15': 8942000000.0,\n",
              " 'C15': 5247000000.0,\n",
              " 'B18': 18315000000.0,\n",
              " 'C18': 34704000000.0,\n",
              " 'B19': 26033000000.0,\n",
              " 'C19': 21807000000.0,\n",
              " 'B20': 268477000000.0,\n",
              " 'C20': 206223000000.0,\n",
              " 'B21': 7469000000,\n",
              " 'B22': 438.17,\n",
              " 'B23': 0.21,\n",
              " 'B24': 0.0427,\n",
              " 'C16': 'No',\n",
              " 'C17': 'No'}"
            ]
          },
          "execution_count": 171,
          "metadata": {},
          "output_type": "execute_result"
        }
      ],
      "source": [
        "financials"
      ]
    },
    {
      "cell_type": "markdown",
      "metadata": {
        "id": "-apU1EN-CHHY"
      },
      "source": [
        "## Date of Valuation and Company Name"
      ]
    },
    {
      "cell_type": "code",
      "execution_count": 149,
      "metadata": {},
      "outputs": [],
      "source": [
        "def retrieve_date():\n",
        "    valuation_date = datetime.today()\n",
        "    formatted_date = valuation_date.strftime('%b-%d')\n",
        "    return formatted_date"
      ]
    },
    {
      "cell_type": "code",
      "execution_count": null,
      "metadata": {},
      "outputs": [],
      "source": [
        "# def get_company_name(symbol: str) -> str:\n",
        "#     t = Ticker(symbol)\n",
        "#     try:\n",
        "#         name = t.quote_type[symbol]['longName']\n",
        "#     except (KeyError, TypeError):\n",
        "#         raise ValueError(f\"Could not retrieve company name for symbol: {symbol}\")\n",
        "    \n",
        "#     return name"
      ]
    },
    {
      "cell_type": "code",
      "execution_count": 172,
      "metadata": {},
      "outputs": [],
      "source": [
        "def get_company_name(symbol: str) -> str:\n",
        "    url = f\"https://www.alphavantage.co/query?function=OVERVIEW&symbol={symbol}&apikey={ALPHA_VANTAGE_API_KEY}\"\n",
        "    response = requests.get(url)\n",
        "    data = response.json()\n",
        "\n",
        "    try:\n",
        "        return data[\"Name\"]\n",
        "    except (KeyError, TypeError):\n",
        "        raise ValueError(f\"Could not retrieve company name for symbol: {symbol}\")"
      ]
    },
    {
      "cell_type": "code",
      "execution_count": 173,
      "metadata": {
        "id": "xsSb7iyHCGoK"
      },
      "outputs": [
        {
          "name": "stderr",
          "output_type": "stream",
          "text": [
            "/var/folders/zc/mk397vzd3rndczvtnq2xwwzr0000gn/T/ipykernel_3998/1387689903.py:3: DeprecationWarning: The order of arguments in worksheet.update() has changed. Please pass values first and range_name secondor used named arguments (range_name=, values=)\n",
            "  input_worksheet.update('B3', [[date_of_valuation]])\n",
            "/var/folders/zc/mk397vzd3rndczvtnq2xwwzr0000gn/T/ipykernel_3998/1387689903.py:4: DeprecationWarning: The order of arguments in worksheet.update() has changed. Please pass values first and range_name secondor used named arguments (range_name=, values=)\n",
            "  input_worksheet.update('B4', [[company_name]])\n"
          ]
        },
        {
          "data": {
            "text/plain": [
              "{'spreadsheetId': '1xclQf2xrgw0swp2CRwE25OBaEhQdDTOkm8VVkTcpVks',\n",
              " 'updatedRange': \"'Input sheet'!B4\",\n",
              " 'updatedRows': 1,\n",
              " 'updatedColumns': 1,\n",
              " 'updatedCells': 1}"
            ]
          },
          "execution_count": 173,
          "metadata": {},
          "output_type": "execute_result"
        }
      ],
      "source": [
        "date_of_valuation = retrieve_date()\n",
        "company_name = get_company_name(company_ticker)\n",
        "input_worksheet.update('B3', [[date_of_valuation]])\n",
        "input_worksheet.update('B4', [[company_name]])"
      ]
    },
    {
      "cell_type": "markdown",
      "metadata": {
        "id": "yUpdCCbWCmpn"
      },
      "source": [
        "## Country of Incorporation, Industry (Global) and Industry (US)"
      ]
    },
    {
      "cell_type": "code",
      "execution_count": 54,
      "metadata": {},
      "outputs": [],
      "source": [
        "def prompt_user_choice(options_list, prompt_message=\"Please choose an option:\"):\n",
        "    print(\"\\nYou can type part of the name to search for matches.\")\n",
        "    print(\"Example: typing 'tech' will show 'Technology', 'Biotech', etc.\\n\")\n",
        "\n",
        "    while True:\n",
        "        search_input = input(f\"{prompt_message} (type to search): \").strip().lower()\n",
        "        \n",
        "        matching_options = [opt for opt in options_list if search_input in opt.lower()]\n",
        "        \n",
        "        if not matching_options:\n",
        "            print(\"No matches found. Please try again.\")\n",
        "            continue\n",
        "\n",
        "        print(\"\\nMatches found:\")\n",
        "        for idx, opt in enumerate(matching_options[:10], start=1):\n",
        "            print(f\"{idx}. {opt}\")\n",
        "        \n",
        "        if len(matching_options) > 10:\n",
        "            print(f\"...and {len(matching_options) - 10} more matches.\\n\")\n",
        "        else:\n",
        "            print(\"\") \n",
        "\n",
        "        selected_option = input(\"Type your exact choice from the matches above: \").strip()\n",
        "        selected_exact = [opt for opt in matching_options if opt.lower() == selected_option.lower()]\n",
        "        \n",
        "        if selected_exact:\n",
        "            return selected_exact[0]\n",
        "        else:\n",
        "            print(\"Invalid selection from matches. Please try again.\\n\")\n",
        "\n"
      ]
    },
    {
      "cell_type": "code",
      "execution_count": 55,
      "metadata": {},
      "outputs": [],
      "source": [
        "country_names = get_dropdown_options(spreadsheet_id, sheet_name, 'B7')\n",
        "us_industry = get_dropdown_options(spreadsheet_id, sheet_name, 'B8')\n",
        "global_industry = get_dropdown_options(spreadsheet_id, sheet_name, 'B9')"
      ]
    },
    {
      "cell_type": "code",
      "execution_count": 14,
      "metadata": {},
      "outputs": [
        {
          "data": {
            "text/plain": [
              "['Abu Dhabi',\n",
              " 'Albania',\n",
              " 'Algeria',\n",
              " 'Andorra (Principality of)',\n",
              " 'Angola',\n",
              " 'Anguilla',\n",
              " 'Antigua & Barbuda',\n",
              " 'Argentina',\n",
              " 'Armenia',\n",
              " 'Aruba',\n",
              " 'Australia',\n",
              " 'Austria',\n",
              " 'Azerbaijan',\n",
              " 'Bahamas',\n",
              " 'Bahrain',\n",
              " 'Bangladesh',\n",
              " 'Barbados',\n",
              " 'Belarus',\n",
              " 'Belgium',\n",
              " 'Belize',\n",
              " 'Benin',\n",
              " 'Bermuda',\n",
              " 'Bolivia',\n",
              " 'Bosnia and Herzegovina',\n",
              " 'Botswana',\n",
              " 'Brazil',\n",
              " 'British Virgin Islands',\n",
              " 'Brunei',\n",
              " 'Bulgaria',\n",
              " 'Burkina Faso',\n",
              " 'Cambodia',\n",
              " 'Cameroon',\n",
              " 'Canada',\n",
              " 'Cape Verde',\n",
              " 'Cayman Islands',\n",
              " 'Channel Islands',\n",
              " 'Chile',\n",
              " 'China',\n",
              " 'Colombia',\n",
              " 'Congo (Democratic Republic of)',\n",
              " 'Congo (Republic of)',\n",
              " 'Cook Islands',\n",
              " 'Costa Rica',\n",
              " 'Croatia',\n",
              " 'Cuba',\n",
              " 'Curaçao',\n",
              " 'Cyprus',\n",
              " 'Czech Republic',\n",
              " 'Denmark',\n",
              " 'Dominican Republic',\n",
              " 'Ecuador',\n",
              " 'Egypt',\n",
              " 'El Salvador',\n",
              " 'Estonia',\n",
              " 'Ethiopia',\n",
              " 'Falkland Islands',\n",
              " 'Fiji',\n",
              " 'Finland',\n",
              " 'France',\n",
              " 'French Guiana',\n",
              " 'Gabon',\n",
              " 'Gambia',\n",
              " 'Georgia',\n",
              " 'Germany',\n",
              " 'Ghana',\n",
              " 'Gibraltar',\n",
              " 'Greece',\n",
              " 'Greenland',\n",
              " 'Guatemala',\n",
              " 'Guernsey (States of)',\n",
              " 'Guinea',\n",
              " 'Guinea-Bissau',\n",
              " 'Guyana',\n",
              " 'Haiti',\n",
              " 'Honduras',\n",
              " 'Hong Kong',\n",
              " 'Hungary',\n",
              " 'Iceland',\n",
              " 'India',\n",
              " 'Indonesia',\n",
              " 'Iran',\n",
              " 'Iraq',\n",
              " 'Ireland',\n",
              " 'Isle of Man',\n",
              " 'Israel',\n",
              " 'Italy',\n",
              " 'Ivory Coast',\n",
              " 'Jamaica',\n",
              " 'Japan',\n",
              " 'Jersey (States of)',\n",
              " 'Jordan',\n",
              " 'Kazakhstan',\n",
              " 'Kenya',\n",
              " 'Korea, D.P.R.',\n",
              " 'Kuwait',\n",
              " 'Kyrgyzstan',\n",
              " 'Laos',\n",
              " 'Latvia',\n",
              " 'Lebanon',\n",
              " 'Liberia',\n",
              " 'Libya',\n",
              " 'Liechtenstein',\n",
              " 'Lithuania',\n",
              " 'Luxembourg',\n",
              " 'Macau',\n",
              " 'Macedonia',\n",
              " 'Madagascar',\n",
              " 'Malawi',\n",
              " 'Malaysia',\n",
              " 'Maldives',\n",
              " 'Mali',\n",
              " 'Malta',\n",
              " 'Martinique',\n",
              " 'Mauritius',\n",
              " 'Mexico',\n",
              " 'Moldova',\n",
              " 'Monaco',\n",
              " 'Mongolia',\n",
              " 'Montenegro',\n",
              " 'Montserrat',\n",
              " 'Morocco',\n",
              " 'Mozambique',\n",
              " 'Myanmar',\n",
              " 'Namibia',\n",
              " 'Nepal',\n",
              " 'Netherlands',\n",
              " 'Netherlands Antilles',\n",
              " 'New Zealand',\n",
              " 'Nicaragua',\n",
              " 'Niger',\n",
              " 'Nigeria',\n",
              " 'Norway',\n",
              " 'Oman',\n",
              " 'Pakistan',\n",
              " 'Palestinian Authority',\n",
              " 'Panama',\n",
              " 'Papua New Guinea',\n",
              " 'Paraguay',\n",
              " 'Peru',\n",
              " 'Philippines',\n",
              " 'Poland',\n",
              " 'Portugal',\n",
              " 'Qatar',\n",
              " 'Ras Al Khaimah (Emirate of)',\n",
              " 'Reunion',\n",
              " 'Romania',\n",
              " 'Russia',\n",
              " 'Rwanda',\n",
              " 'Saint Lucia',\n",
              " 'Saudi Arabia',\n",
              " 'Senegal',\n",
              " 'Serbia',\n",
              " 'Sharjah',\n",
              " 'Sierra Leone',\n",
              " 'Singapore',\n",
              " 'Slovakia',\n",
              " 'Slovenia',\n",
              " 'Solomon Islands',\n",
              " 'Somalia',\n",
              " 'South Africa',\n",
              " 'South Korea',\n",
              " 'Spain',\n",
              " 'Sri Lanka',\n",
              " 'St. Maarten',\n",
              " 'St. Vincent & the Grenadines',\n",
              " 'Sudan',\n",
              " 'Suriname',\n",
              " 'Swaziland',\n",
              " 'Sweden',\n",
              " 'Switzerland',\n",
              " 'Syria',\n",
              " 'Taiwan',\n",
              " 'Tajikistan',\n",
              " 'Tanzania',\n",
              " 'Thailand',\n",
              " 'Togo',\n",
              " \"Trinidad &' Tobago\",\n",
              " 'Tunisia',\n",
              " 'Turkey',\n",
              " 'Turks & Caicos Islands',\n",
              " 'Uganda',\n",
              " 'Ukraine',\n",
              " 'United Arab Emirates',\n",
              " 'United Kingdom',\n",
              " 'United States',\n",
              " 'Uruguay',\n",
              " 'Uzbekistan',\n",
              " 'Venezuela',\n",
              " 'Vietnam',\n",
              " 'Yemen',\n",
              " 'Zambia',\n",
              " 'Zimbabwe']"
            ]
          },
          "execution_count": 14,
          "metadata": {},
          "output_type": "execute_result"
        }
      ],
      "source": [
        "country_names"
      ]
    },
    {
      "cell_type": "code",
      "execution_count": 15,
      "metadata": {},
      "outputs": [
        {
          "data": {
            "text/plain": [
              "['Advertising',\n",
              " 'Aerospace/Defense',\n",
              " 'Air Transport',\n",
              " 'Apparel',\n",
              " 'Auto & Truck',\n",
              " 'Auto Parts',\n",
              " 'Bank (Money Center)',\n",
              " 'Banks (Regional)',\n",
              " 'Beverage (Alcoholic)',\n",
              " 'Beverage (Soft)',\n",
              " 'Broadcasting',\n",
              " 'Brokerage & Investment Banking',\n",
              " 'Building Materials',\n",
              " 'Business & Consumer Services',\n",
              " 'Cable TV',\n",
              " 'Chemical (Basic)',\n",
              " 'Chemical (Diversified)',\n",
              " 'Chemical (Specialty)',\n",
              " 'Coal & Related Energy',\n",
              " 'Computer Services',\n",
              " 'Computers/Peripherals',\n",
              " 'Construction Supplies',\n",
              " 'Diversified',\n",
              " 'Drugs (Biotechnology)',\n",
              " 'Drugs (Pharmaceutical)',\n",
              " 'Education',\n",
              " 'Electrical Equipment',\n",
              " 'Electronics (Consumer & Office)',\n",
              " 'Electronics (General)',\n",
              " 'Engineering/Construction',\n",
              " 'Entertainment',\n",
              " 'Environmental & Waste Services',\n",
              " 'Farming/Agriculture',\n",
              " 'Financial Svcs. (Non-bank & Insurance)',\n",
              " 'Food Processing',\n",
              " 'Food Wholesalers',\n",
              " 'Furn/Home Furnishings',\n",
              " 'Green & Renewable Energy',\n",
              " 'Healthcare Products',\n",
              " 'Healthcare Support Services',\n",
              " 'Heathcare Information and Technology',\n",
              " 'Homebuilding',\n",
              " 'Hospitals/Healthcare Facilities',\n",
              " 'Hotel/Gaming',\n",
              " 'Household Products',\n",
              " 'Information Services',\n",
              " 'Insurance (General)',\n",
              " 'Insurance (Life)',\n",
              " 'Insurance (Prop/Cas.)',\n",
              " 'Investments & Asset Management',\n",
              " 'Machinery',\n",
              " 'Metals & Mining',\n",
              " 'Office Equipment & Services',\n",
              " 'Oil/Gas (Integrated)',\n",
              " 'Oil/Gas (Production and Exploration)',\n",
              " 'Oil/Gas Distribution',\n",
              " 'Oilfield Svcs/Equip.',\n",
              " 'Packaging & Container',\n",
              " 'Paper/Forest Products',\n",
              " 'Power',\n",
              " 'Precious Metals',\n",
              " 'Publishing & Newspapers',\n",
              " 'R.E.I.T.',\n",
              " 'Real Estate (Development)',\n",
              " 'Real Estate (General/Diversified)',\n",
              " 'Real Estate (Operations & Services)',\n",
              " 'Recreation',\n",
              " 'Reinsurance',\n",
              " 'Restaurant/Dining',\n",
              " 'Retail (Automotive)',\n",
              " 'Retail (Building Supply)',\n",
              " 'Retail (Distributors)',\n",
              " 'Retail (General)',\n",
              " 'Retail (Grocery and Food)',\n",
              " 'Retail (REITs)',\n",
              " 'Retail (Special Lines)',\n",
              " 'Rubber& Tires',\n",
              " 'Semiconductor',\n",
              " 'Semiconductor Equip',\n",
              " 'Shipbuilding & Marine',\n",
              " 'Shoe',\n",
              " 'Software (Entertainment)',\n",
              " 'Software (Internet)',\n",
              " 'Software (System & Application)',\n",
              " 'Steel',\n",
              " 'Telecom (Wireless)',\n",
              " 'Telecom. Equipment',\n",
              " 'Telecom. Services',\n",
              " 'Tobacco',\n",
              " 'Transportation',\n",
              " 'Transportation (Railroads)',\n",
              " 'Trucking',\n",
              " 'Utility (General)',\n",
              " 'Utility (Water)']"
            ]
          },
          "execution_count": 15,
          "metadata": {},
          "output_type": "execute_result"
        }
      ],
      "source": [
        "us_industry"
      ]
    },
    {
      "cell_type": "code",
      "execution_count": 16,
      "metadata": {},
      "outputs": [
        {
          "data": {
            "text/plain": [
              "['Advertising',\n",
              " 'Aerospace/Defense',\n",
              " 'Air Transport',\n",
              " 'Apparel',\n",
              " 'Auto & Truck',\n",
              " 'Auto Parts',\n",
              " 'Bank (Money Center)',\n",
              " 'Banks (Regional)',\n",
              " 'Beverage (Alcoholic)',\n",
              " 'Beverage (Soft)',\n",
              " 'Broadcasting',\n",
              " 'Brokerage & Investment Banking',\n",
              " 'Building Materials',\n",
              " 'Business & Consumer Services',\n",
              " 'Cable TV',\n",
              " 'Chemical (Basic)',\n",
              " 'Chemical (Diversified)',\n",
              " 'Chemical (Specialty)',\n",
              " 'Coal & Related Energy',\n",
              " 'Computer Services',\n",
              " 'Computers/Peripherals',\n",
              " 'Construction Supplies',\n",
              " 'Diversified',\n",
              " 'Drugs (Biotechnology)',\n",
              " 'Drugs (Pharmaceutical)',\n",
              " 'Education',\n",
              " 'Electrical Equipment',\n",
              " 'Electronics (Consumer & Office)',\n",
              " 'Electronics (General)',\n",
              " 'Engineering/Construction',\n",
              " 'Entertainment',\n",
              " 'Environmental & Waste Services',\n",
              " 'Farming/Agriculture',\n",
              " 'Financial Svcs. (Non-bank & Insurance)',\n",
              " 'Food Processing',\n",
              " 'Food Wholesalers',\n",
              " 'Furn/Home Furnishings',\n",
              " 'Green & Renewable Energy',\n",
              " 'Healthcare Products',\n",
              " 'Healthcare Support Services',\n",
              " 'Heathcare Information and Technology',\n",
              " 'Homebuilding',\n",
              " 'Hospitals/Healthcare Facilities',\n",
              " 'Hotel/Gaming',\n",
              " 'Household Products',\n",
              " 'Information Services',\n",
              " 'Insurance (General)',\n",
              " 'Insurance (Life)',\n",
              " 'Insurance (Prop/Cas.)',\n",
              " 'Investments & Asset Management',\n",
              " 'Machinery',\n",
              " 'Metals & Mining',\n",
              " 'Office Equipment & Services',\n",
              " 'Oil/Gas (Integrated)',\n",
              " 'Oil/Gas (Production and Exploration)',\n",
              " 'Oil/Gas Distribution',\n",
              " 'Oilfield Svcs/Equip.',\n",
              " 'Packaging & Container',\n",
              " 'Paper/Forest Products',\n",
              " 'Power',\n",
              " 'Precious Metals',\n",
              " 'Publishing & Newspapers',\n",
              " 'R.E.I.T.',\n",
              " 'Real Estate (Development)',\n",
              " 'Real Estate (General/Diversified)',\n",
              " 'Real Estate (Operations & Services)',\n",
              " 'Recreation',\n",
              " 'Reinsurance',\n",
              " 'Restaurant/Dining',\n",
              " 'Retail (Automotive)',\n",
              " 'Retail (Building Supply)',\n",
              " 'Retail (Distributors)',\n",
              " 'Retail (General)',\n",
              " 'Retail (Grocery and Food)',\n",
              " 'Retail (REITs)',\n",
              " 'Retail (Special Lines)',\n",
              " 'Rubber& Tires',\n",
              " 'Semiconductor',\n",
              " 'Semiconductor Equip',\n",
              " 'Shipbuilding & Marine',\n",
              " 'Shoe',\n",
              " 'Software (Entertainment)',\n",
              " 'Software (Internet)',\n",
              " 'Software (System & Application)',\n",
              " 'Steel',\n",
              " 'Telecom (Wireless)',\n",
              " 'Telecom. Equipment',\n",
              " 'Telecom. Services',\n",
              " 'Tobacco',\n",
              " 'Transportation',\n",
              " 'Transportation (Railroads)',\n",
              " 'Trucking',\n",
              " 'Utility (General)',\n",
              " 'Utility (Water)']"
            ]
          },
          "execution_count": 16,
          "metadata": {},
          "output_type": "execute_result"
        }
      ],
      "source": [
        "global_industry"
      ]
    },
    {
      "cell_type": "code",
      "execution_count": 56,
      "metadata": {},
      "outputs": [
        {
          "name": "stdout",
          "output_type": "stream",
          "text": [
            "\n",
            "You can type part of the name to search for matches.\n",
            "Example: typing 'tech' will show 'Technology', 'Biotech', etc.\n",
            "\n",
            "\n",
            "Matches found:\n",
            "1. United States\n",
            "\n"
          ]
        }
      ],
      "source": [
        "country = prompt_user_choice(country_names, \"Choose a country from the list above:\")"
      ]
    },
    {
      "cell_type": "code",
      "execution_count": 175,
      "metadata": {},
      "outputs": [
        {
          "name": "stdout",
          "output_type": "stream",
          "text": [
            "\n",
            "You can type part of the name to search for matches.\n",
            "Example: typing 'tech' will show 'Technology', 'Biotech', etc.\n",
            "\n",
            "\n",
            "Matches found:\n",
            "1. Software (Entertainment)\n",
            "2. Software (Internet)\n",
            "3. Software (System & Application)\n",
            "\n"
          ]
        }
      ],
      "source": [
        "us_industry_choice = prompt_user_choice(us_industry, \"Choose a US industry from the list above:\")"
      ]
    },
    {
      "cell_type": "code",
      "execution_count": 174,
      "metadata": {},
      "outputs": [
        {
          "name": "stdout",
          "output_type": "stream",
          "text": [
            "\n",
            "You can type part of the name to search for matches.\n",
            "Example: typing 'tech' will show 'Technology', 'Biotech', etc.\n",
            "\n",
            "\n",
            "Matches found:\n",
            "1. Software (Entertainment)\n",
            "2. Software (Internet)\n",
            "3. Software (System & Application)\n",
            "\n"
          ]
        }
      ],
      "source": [
        "global_industry_choice = prompt_user_choice(global_industry, \"Choose a Global industry from the list above:\")"
      ]
    },
    {
      "cell_type": "code",
      "execution_count": 60,
      "metadata": {
        "id": "t6sKVDOlCl6F"
      },
      "outputs": [
        {
          "name": "stderr",
          "output_type": "stream",
          "text": [
            "/var/folders/zc/mk397vzd3rndczvtnq2xwwzr0000gn/T/ipykernel_3998/2968613820.py:1: DeprecationWarning: The order of arguments in worksheet.update() has changed. Please pass values first and range_name secondor used named arguments (range_name=, values=)\n",
            "  input_worksheet.update('B7', [[country]])\n",
            "/var/folders/zc/mk397vzd3rndczvtnq2xwwzr0000gn/T/ipykernel_3998/2968613820.py:2: DeprecationWarning: The order of arguments in worksheet.update() has changed. Please pass values first and range_name secondor used named arguments (range_name=, values=)\n",
            "  input_worksheet.update('B8', [[us_industry_choice]])\n",
            "/var/folders/zc/mk397vzd3rndczvtnq2xwwzr0000gn/T/ipykernel_3998/2968613820.py:3: DeprecationWarning: The order of arguments in worksheet.update() has changed. Please pass values first and range_name secondor used named arguments (range_name=, values=)\n",
            "  input_worksheet.update('B9', [[global_industry_choice]])\n"
          ]
        },
        {
          "data": {
            "text/plain": [
              "{'spreadsheetId': '1xclQf2xrgw0swp2CRwE25OBaEhQdDTOkm8VVkTcpVks',\n",
              " 'updatedRange': \"'Input sheet'!B9\",\n",
              " 'updatedRows': 1,\n",
              " 'updatedColumns': 1,\n",
              " 'updatedCells': 1}"
            ]
          },
          "execution_count": 60,
          "metadata": {},
          "output_type": "execute_result"
        }
      ],
      "source": [
        "input_worksheet.update('B7', [[country]])\n",
        "input_worksheet.update('B8', [[us_industry_choice]])\n",
        "input_worksheet.update('B9', [[global_industry_choice]])"
      ]
    },
    {
      "cell_type": "markdown",
      "metadata": {
        "id": "4MLGXn0XC8jL"
      },
      "source": [
        "## Years Since Last 10K"
      ]
    },
    {
      "cell_type": "code",
      "execution_count": 176,
      "metadata": {
        "id": "GXc2AAEjB_KI"
      },
      "outputs": [
        {
          "name": "stderr",
          "output_type": "stream",
          "text": [
            "/var/folders/zc/mk397vzd3rndczvtnq2xwwzr0000gn/T/ipykernel_3998/2544386389.py:2: DeprecationWarning: The order of arguments in worksheet.update() has changed. Please pass values first and range_name secondor used named arguments (range_name=, values=)\n",
            "  input_worksheet.update('D11',[[years_since_last_10k]])\n"
          ]
        },
        {
          "data": {
            "text/plain": [
              "{'spreadsheetId': '1xclQf2xrgw0swp2CRwE25OBaEhQdDTOkm8VVkTcpVks',\n",
              " 'updatedRange': \"'Input sheet'!D11\",\n",
              " 'updatedRows': 1,\n",
              " 'updatedColumns': 1,\n",
              " 'updatedCells': 1}"
            ]
          },
          "execution_count": 176,
          "metadata": {},
          "output_type": "execute_result"
        }
      ],
      "source": [
        "years_since_last_10k = financials[\"D11\"]\n",
        "input_worksheet.update('D11',[[years_since_last_10k]])"
      ]
    },
    {
      "cell_type": "markdown",
      "metadata": {
        "id": "HYGcUzcaDQ9t"
      },
      "source": [
        "## Revenues (Most Recent 12 Months, Last 10K)"
      ]
    },
    {
      "cell_type": "code",
      "execution_count": 177,
      "metadata": {
        "id": "Pjcp2rY8DdHi"
      },
      "outputs": [
        {
          "name": "stderr",
          "output_type": "stream",
          "text": [
            "/var/folders/zc/mk397vzd3rndczvtnq2xwwzr0000gn/T/ipykernel_3998/816528849.py:3: DeprecationWarning: The order of arguments in worksheet.update() has changed. Please pass values first and range_name secondor used named arguments (range_name=, values=)\n",
            "  input_worksheet.update('B11', [[current_revenues]])\n",
            "/var/folders/zc/mk397vzd3rndczvtnq2xwwzr0000gn/T/ipykernel_3998/816528849.py:4: DeprecationWarning: The order of arguments in worksheet.update() has changed. Please pass values first and range_name secondor used named arguments (range_name=, values=)\n",
            "  input_worksheet.update('C11', [[last_10k_revenues]])\n"
          ]
        },
        {
          "data": {
            "text/plain": [
              "{'spreadsheetId': '1xclQf2xrgw0swp2CRwE25OBaEhQdDTOkm8VVkTcpVks',\n",
              " 'updatedRange': \"'Input sheet'!C11\",\n",
              " 'updatedRows': 1,\n",
              " 'updatedColumns': 1,\n",
              " 'updatedCells': 1}"
            ]
          },
          "execution_count": 177,
          "metadata": {},
          "output_type": "execute_result"
        }
      ],
      "source": [
        "current_revenues = financials[\"B11\"]/10000000\n",
        "last_10k_revenues = financials[\"C11\"]/10000000\n",
        "input_worksheet.update('B11', [[current_revenues]])\n",
        "input_worksheet.update('C11', [[last_10k_revenues]])"
      ]
    },
    {
      "cell_type": "markdown",
      "metadata": {
        "id": "IePKIJxyDdlf"
      },
      "source": [
        "## Operating Income / EBIT (Most Recent 12 Months, Last 10K)"
      ]
    },
    {
      "cell_type": "code",
      "execution_count": 178,
      "metadata": {
        "id": "DCG9xuFaDd-n"
      },
      "outputs": [
        {
          "name": "stderr",
          "output_type": "stream",
          "text": [
            "/var/folders/zc/mk397vzd3rndczvtnq2xwwzr0000gn/T/ipykernel_3998/2793727140.py:3: DeprecationWarning: The order of arguments in worksheet.update() has changed. Please pass values first and range_name secondor used named arguments (range_name=, values=)\n",
            "  input_worksheet.update('B12', [[current_operating_income]])\n",
            "/var/folders/zc/mk397vzd3rndczvtnq2xwwzr0000gn/T/ipykernel_3998/2793727140.py:4: DeprecationWarning: The order of arguments in worksheet.update() has changed. Please pass values first and range_name secondor used named arguments (range_name=, values=)\n",
            "  input_worksheet.update('C12', [[last_10k_operating_income]])\n"
          ]
        },
        {
          "data": {
            "text/plain": [
              "{'spreadsheetId': '1xclQf2xrgw0swp2CRwE25OBaEhQdDTOkm8VVkTcpVks',\n",
              " 'updatedRange': \"'Input sheet'!C12\",\n",
              " 'updatedRows': 1,\n",
              " 'updatedColumns': 1,\n",
              " 'updatedCells': 1}"
            ]
          },
          "execution_count": 178,
          "metadata": {},
          "output_type": "execute_result"
        }
      ],
      "source": [
        "current_operating_income = financials[\"B12\"]/10000000\n",
        "last_10k_operating_income = financials[\"C12\"]/10000000\n",
        "input_worksheet.update('B12', [[current_operating_income]])\n",
        "input_worksheet.update('C12', [[last_10k_operating_income]])"
      ]
    },
    {
      "cell_type": "markdown",
      "metadata": {
        "id": "gfGr3G6OEuBq"
      },
      "source": [
        "## Interest Expense (Most Recent 12 Months, Last 10K)"
      ]
    },
    {
      "cell_type": "code",
      "execution_count": 179,
      "metadata": {
        "id": "5CSIvjkdEuiB"
      },
      "outputs": [
        {
          "name": "stderr",
          "output_type": "stream",
          "text": [
            "/var/folders/zc/mk397vzd3rndczvtnq2xwwzr0000gn/T/ipykernel_3998/1258613870.py:3: DeprecationWarning: The order of arguments in worksheet.update() has changed. Please pass values first and range_name secondor used named arguments (range_name=, values=)\n",
            "  input_worksheet.update('B13', [[current_interest_expense]])\n",
            "/var/folders/zc/mk397vzd3rndczvtnq2xwwzr0000gn/T/ipykernel_3998/1258613870.py:4: DeprecationWarning: The order of arguments in worksheet.update() has changed. Please pass values first and range_name secondor used named arguments (range_name=, values=)\n",
            "  input_worksheet.update('C13', [[last_10k_interest_expense]])\n"
          ]
        },
        {
          "data": {
            "text/plain": [
              "{'spreadsheetId': '1xclQf2xrgw0swp2CRwE25OBaEhQdDTOkm8VVkTcpVks',\n",
              " 'updatedRange': \"'Input sheet'!C13\",\n",
              " 'updatedRows': 1,\n",
              " 'updatedColumns': 1,\n",
              " 'updatedCells': 1}"
            ]
          },
          "execution_count": 179,
          "metadata": {},
          "output_type": "execute_result"
        }
      ],
      "source": [
        "current_interest_expense = financials[\"B13\"]/10000000\n",
        "last_10k_interest_expense = financials[\"C13\"]/10000000\n",
        "input_worksheet.update('B13', [[current_interest_expense]])\n",
        "input_worksheet.update('C13', [[last_10k_interest_expense]])"
      ]
    },
    {
      "cell_type": "markdown",
      "metadata": {
        "id": "6bIVV-nSP1G1"
      },
      "source": [
        "## Book Value of Equity (Most Recent 12 Months, Last 10K)"
      ]
    },
    {
      "cell_type": "code",
      "execution_count": 180,
      "metadata": {
        "id": "Nz7nuX3mP1lc"
      },
      "outputs": [
        {
          "name": "stderr",
          "output_type": "stream",
          "text": [
            "/var/folders/zc/mk397vzd3rndczvtnq2xwwzr0000gn/T/ipykernel_3998/2515169866.py:3: DeprecationWarning: The order of arguments in worksheet.update() has changed. Please pass values first and range_name secondor used named arguments (range_name=, values=)\n",
            "  input_worksheet.update('B14', [[current_book_value_of_equity]])\n",
            "/var/folders/zc/mk397vzd3rndczvtnq2xwwzr0000gn/T/ipykernel_3998/2515169866.py:4: DeprecationWarning: The order of arguments in worksheet.update() has changed. Please pass values first and range_name secondor used named arguments (range_name=, values=)\n",
            "  input_worksheet.update('C14', [[last_10k_book_value_of_equity]])\n"
          ]
        },
        {
          "data": {
            "text/plain": [
              "{'spreadsheetId': '1xclQf2xrgw0swp2CRwE25OBaEhQdDTOkm8VVkTcpVks',\n",
              " 'updatedRange': \"'Input sheet'!C14\",\n",
              " 'updatedRows': 1,\n",
              " 'updatedColumns': 1,\n",
              " 'updatedCells': 1}"
            ]
          },
          "execution_count": 180,
          "metadata": {},
          "output_type": "execute_result"
        }
      ],
      "source": [
        "current_book_value_of_equity = financials[\"B14\"]/10000000\n",
        "last_10k_book_value_of_equity = financials[\"C14\"]/10000000\n",
        "input_worksheet.update('B14', [[current_book_value_of_equity]])\n",
        "input_worksheet.update('C14', [[last_10k_book_value_of_equity]])"
      ]
    },
    {
      "cell_type": "markdown",
      "metadata": {
        "id": "XlWrc4rNQHOJ"
      },
      "source": [
        "## Book Value of Debt (Most Recent 12 Months, Last 10K)"
      ]
    },
    {
      "cell_type": "code",
      "execution_count": 181,
      "metadata": {
        "id": "qWJu8aZGQG8L"
      },
      "outputs": [
        {
          "name": "stderr",
          "output_type": "stream",
          "text": [
            "/var/folders/zc/mk397vzd3rndczvtnq2xwwzr0000gn/T/ipykernel_3998/2317523367.py:3: DeprecationWarning: The order of arguments in worksheet.update() has changed. Please pass values first and range_name secondor used named arguments (range_name=, values=)\n",
            "  input_worksheet.update('B15', [[current_book_value_of_debt]])\n",
            "/var/folders/zc/mk397vzd3rndczvtnq2xwwzr0000gn/T/ipykernel_3998/2317523367.py:4: DeprecationWarning: The order of arguments in worksheet.update() has changed. Please pass values first and range_name secondor used named arguments (range_name=, values=)\n",
            "  input_worksheet.update('C15', [[last_10k_book_value_of_debt]])\n"
          ]
        },
        {
          "data": {
            "text/plain": [
              "{'spreadsheetId': '1xclQf2xrgw0swp2CRwE25OBaEhQdDTOkm8VVkTcpVks',\n",
              " 'updatedRange': \"'Input sheet'!C15\",\n",
              " 'updatedRows': 1,\n",
              " 'updatedColumns': 1,\n",
              " 'updatedCells': 1}"
            ]
          },
          "execution_count": 181,
          "metadata": {},
          "output_type": "execute_result"
        }
      ],
      "source": [
        "current_book_value_of_debt = financials[\"B15\"]/10000000\n",
        "last_10k_book_value_of_debt = financials[\"C15\"]/10000000\n",
        "input_worksheet.update('B15', [[current_book_value_of_debt]])\n",
        "input_worksheet.update('C15', [[last_10k_book_value_of_debt]])"
      ]
    },
    {
      "cell_type": "markdown",
      "metadata": {
        "id": "zlsF27_hQSu2"
      },
      "source": [
        "## R&D Expenses to Capitalize + Operating Lease Commitments"
      ]
    },
    {
      "cell_type": "code",
      "execution_count": 185,
      "metadata": {
        "id": "FlPc7LguQRPu"
      },
      "outputs": [
        {
          "ename": "KeyError",
          "evalue": "'B16'",
          "output_type": "error",
          "traceback": [
            "\u001b[0;31m---------------------------------------------------------------------------\u001b[0m",
            "\u001b[0;31mKeyError\u001b[0m                                  Traceback (most recent call last)",
            "Cell \u001b[0;32mIn[185], line 1\u001b[0m\n\u001b[0;32m----> 1\u001b[0m r_and_d \u001b[38;5;241m=\u001b[39m \u001b[43mfinancials\u001b[49m\u001b[43m[\u001b[49m\u001b[38;5;124;43m\"\u001b[39;49m\u001b[38;5;124;43mB16\u001b[39;49m\u001b[38;5;124;43m\"\u001b[39;49m\u001b[43m]\u001b[49m\n\u001b[1;32m      2\u001b[0m operating_lease_commitments \u001b[38;5;241m=\u001b[39m financials[\u001b[38;5;124m\"\u001b[39m\u001b[38;5;124mB17\u001b[39m\u001b[38;5;124m\"\u001b[39m]\n\u001b[1;32m      3\u001b[0m input_worksheet\u001b[38;5;241m.\u001b[39mupdate(\u001b[38;5;124m'\u001b[39m\u001b[38;5;124mB16\u001b[39m\u001b[38;5;124m'\u001b[39m, [[r_and_d]])\n",
            "\u001b[0;31mKeyError\u001b[0m: 'B16'"
          ]
        }
      ],
      "source": [
        "r_and_d = financials[\"B16\"]\n",
        "operating_lease_commitments = financials[\"B17\"]\n",
        "input_worksheet.update('B16', [[r_and_d]])\n",
        "input_worksheet.update('B17', [[operating_lease_commitments]])"
      ]
    },
    {
      "cell_type": "markdown",
      "metadata": {
        "id": "th01qislQm4n"
      },
      "source": [
        "## Cash and Marketable Securities (Most Recent 12 Months, Last 10K)"
      ]
    },
    {
      "cell_type": "code",
      "execution_count": 186,
      "metadata": {
        "id": "ShX1inB6Ql8t"
      },
      "outputs": [
        {
          "name": "stderr",
          "output_type": "stream",
          "text": [
            "/var/folders/zc/mk397vzd3rndczvtnq2xwwzr0000gn/T/ipykernel_3998/1215311087.py:3: DeprecationWarning: The order of arguments in worksheet.update() has changed. Please pass values first and range_name secondor used named arguments (range_name=, values=)\n",
            "  input_worksheet.update('B18', [[current_cash_and_marketable_securities]])\n",
            "/var/folders/zc/mk397vzd3rndczvtnq2xwwzr0000gn/T/ipykernel_3998/1215311087.py:4: DeprecationWarning: The order of arguments in worksheet.update() has changed. Please pass values first and range_name secondor used named arguments (range_name=, values=)\n",
            "  input_worksheet.update('C18', [[last_10k_cash_and_marketable_securities]])\n"
          ]
        },
        {
          "data": {
            "text/plain": [
              "{'spreadsheetId': '1xclQf2xrgw0swp2CRwE25OBaEhQdDTOkm8VVkTcpVks',\n",
              " 'updatedRange': \"'Input sheet'!C18\",\n",
              " 'updatedRows': 1,\n",
              " 'updatedColumns': 1,\n",
              " 'updatedCells': 1}"
            ]
          },
          "execution_count": 186,
          "metadata": {},
          "output_type": "execute_result"
        }
      ],
      "source": [
        "current_cash_and_marketable_securities = financials[\"B18\"]/10000000\n",
        "last_10k_cash_and_marketable_securities = financials[\"C18\"]/10000000\n",
        "input_worksheet.update('B18', [[current_cash_and_marketable_securities]])\n",
        "input_worksheet.update('C18', [[last_10k_cash_and_marketable_securities]])"
      ]
    },
    {
      "cell_type": "markdown",
      "metadata": {
        "id": "Q97KRTmNQwx7"
      },
      "source": [
        "## Investments (Most Recent 12 Months, Last 10K)"
      ]
    },
    {
      "cell_type": "code",
      "execution_count": 187,
      "metadata": {
        "id": "Pj-EsGKoQxWg"
      },
      "outputs": [
        {
          "name": "stderr",
          "output_type": "stream",
          "text": [
            "/var/folders/zc/mk397vzd3rndczvtnq2xwwzr0000gn/T/ipykernel_3998/2466075078.py:3: DeprecationWarning: The order of arguments in worksheet.update() has changed. Please pass values first and range_name secondor used named arguments (range_name=, values=)\n",
            "  input_worksheet.update('B19', [[cross_holdings_and_other_non_operating_assets]])\n",
            "/var/folders/zc/mk397vzd3rndczvtnq2xwwzr0000gn/T/ipykernel_3998/2466075078.py:9: DeprecationWarning: The order of arguments in worksheet.update() has changed. Please pass values first and range_name secondor used named arguments (range_name=, values=)\n",
            "  input_worksheet.update('C19', [[last_10k_cross_holdings_and_other_non_operating_assets]])\n"
          ]
        }
      ],
      "source": [
        "if financials.get(\"B19\") is not None:\n",
        "    cross_holdings_and_other_non_operating_assets = financials[\"B19\"] / 1e7\n",
        "    input_worksheet.update('B19', [[cross_holdings_and_other_non_operating_assets]])\n",
        "else:\n",
        "    print(\"B19 (Cross holdings and other non-operating assets) is missing.\")\n",
        "\n",
        "if financials.get(\"C19\") is not None:\n",
        "    last_10k_cross_holdings_and_other_non_operating_assets = financials[\"C19\"] / 1e7\n",
        "    input_worksheet.update('C19', [[last_10k_cross_holdings_and_other_non_operating_assets]])\n",
        "else:\n",
        "    print(\"C19 (Last 10K cross holdings and other non-operating assets) is missing.\")\n"
      ]
    },
    {
      "cell_type": "markdown",
      "metadata": {
        "id": "FJlSX4yvQ_Ix"
      },
      "source": [
        "## Minority Interests (Most Recent 12 Months, Last 10K)"
      ]
    },
    {
      "cell_type": "code",
      "execution_count": 188,
      "metadata": {
        "id": "yc13z0lDQ-Z8"
      },
      "outputs": [
        {
          "name": "stderr",
          "output_type": "stream",
          "text": [
            "/var/folders/zc/mk397vzd3rndczvtnq2xwwzr0000gn/T/ipykernel_3998/1365170341.py:3: DeprecationWarning: The order of arguments in worksheet.update() has changed. Please pass values first and range_name secondor used named arguments (range_name=, values=)\n",
            "  input_worksheet.update('B20', [[current_minority_interests]])\n",
            "/var/folders/zc/mk397vzd3rndczvtnq2xwwzr0000gn/T/ipykernel_3998/1365170341.py:4: DeprecationWarning: The order of arguments in worksheet.update() has changed. Please pass values first and range_name secondor used named arguments (range_name=, values=)\n",
            "  input_worksheet.update('C20', [[last_10k_minority_interests]])\n"
          ]
        },
        {
          "data": {
            "text/plain": [
              "{'spreadsheetId': '1xclQf2xrgw0swp2CRwE25OBaEhQdDTOkm8VVkTcpVks',\n",
              " 'updatedRange': \"'Input sheet'!C20\",\n",
              " 'updatedRows': 1,\n",
              " 'updatedColumns': 1,\n",
              " 'updatedCells': 1}"
            ]
          },
          "execution_count": 188,
          "metadata": {},
          "output_type": "execute_result"
        }
      ],
      "source": [
        "current_minority_interests = financials[\"B20\"]/10000000\n",
        "last_10k_minority_interests = financials[\"C20\"]/10000000\n",
        "input_worksheet.update('B20', [[current_minority_interests]])\n",
        "input_worksheet.update('C20', [[last_10k_minority_interests]])"
      ]
    },
    {
      "cell_type": "markdown",
      "metadata": {
        "id": "xxaGAGFiRKmz"
      },
      "source": [
        "## Number of Shares Outstanding, Current Stock Price, Effect and Marginal Tax Rate"
      ]
    },
    {
      "cell_type": "code",
      "execution_count": 189,
      "metadata": {
        "id": "X9G6rsqyRHW1"
      },
      "outputs": [
        {
          "name": "stderr",
          "output_type": "stream",
          "text": [
            "/var/folders/zc/mk397vzd3rndczvtnq2xwwzr0000gn/T/ipykernel_3998/2367951670.py:5: DeprecationWarning: The order of arguments in worksheet.update() has changed. Please pass values first and range_name secondor used named arguments (range_name=, values=)\n",
            "  input_worksheet.update('B21', [[number_of_shares_outstanding]])\n",
            "/var/folders/zc/mk397vzd3rndczvtnq2xwwzr0000gn/T/ipykernel_3998/2367951670.py:6: DeprecationWarning: The order of arguments in worksheet.update() has changed. Please pass values first and range_name secondor used named arguments (range_name=, values=)\n",
            "  input_worksheet.update('B22', [[current_stock_price]])\n",
            "/var/folders/zc/mk397vzd3rndczvtnq2xwwzr0000gn/T/ipykernel_3998/2367951670.py:7: DeprecationWarning: The order of arguments in worksheet.update() has changed. Please pass values first and range_name secondor used named arguments (range_name=, values=)\n",
            "  input_worksheet.update('B23', [[effective_tax_rate]])\n",
            "/var/folders/zc/mk397vzd3rndczvtnq2xwwzr0000gn/T/ipykernel_3998/2367951670.py:8: DeprecationWarning: The order of arguments in worksheet.update() has changed. Please pass values first and range_name secondor used named arguments (range_name=, values=)\n",
            "  input_worksheet.update('B24', [[marginal_tax_rate]])\n"
          ]
        },
        {
          "data": {
            "text/plain": [
              "{'spreadsheetId': '1xclQf2xrgw0swp2CRwE25OBaEhQdDTOkm8VVkTcpVks',\n",
              " 'updatedRange': \"'Input sheet'!B24\",\n",
              " 'updatedRows': 1,\n",
              " 'updatedColumns': 1,\n",
              " 'updatedCells': 1}"
            ]
          },
          "execution_count": 189,
          "metadata": {},
          "output_type": "execute_result"
        }
      ],
      "source": [
        "number_of_shares_outstanding = financials[\"B21\"]/10000000\n",
        "current_stock_price = financials[\"B22\"]\n",
        "effective_tax_rate = financials[\"B23\"]\n",
        "marginal_tax_rate = financials[\"B24\"]\n",
        "input_worksheet.update('B21', [[number_of_shares_outstanding]])\n",
        "input_worksheet.update('B22', [[current_stock_price]])\n",
        "input_worksheet.update('B23', [[effective_tax_rate]])\n",
        "input_worksheet.update('B24', [[marginal_tax_rate]])"
      ]
    },
    {
      "cell_type": "markdown",
      "metadata": {
        "id": "6tclk_bORW3z"
      },
      "source": [
        "## Value Drivers (Rev Growth)"
      ]
    },
    {
      "cell_type": "code",
      "execution_count": 153,
      "metadata": {},
      "outputs": [],
      "source": [
        "def forecast_revenue_growth_rate(\n",
        "    symbol: str,\n",
        "    history_years: int = 10,\n",
        "    cps_grid=None\n",
        ") -> dict:\n",
        "    \"\"\"\n",
        "    Forecasts next year’s annual revenue growth rate using Prophet,\n",
        "    tuning changepoint_prior_scale via time-series CV. Pulls annual\n",
        "    TotalRevenue from Alpha Vantage (Income Statement) so you get enough\n",
        "    data points for tuning.\n",
        "\n",
        "    Returns:\n",
        "      {\n",
        "        best_cps: float,\n",
        "        cv_results: DataFrame,\n",
        "        growth_rate: float,    # next-year forecast (%)\n",
        "        lower_bound: float,\n",
        "        upper_bound: float,\n",
        "        forecast_df: DataFrame # ds, yhat, yhat_lower, yhat_upper\n",
        "      }\n",
        "    \"\"\"\n",
        "    # 0) default CPS grid\n",
        "    if cps_grid is None:\n",
        "        cps_grid = [0.01, 0.05, 0.1, 0.3, 0.5]\n",
        "\n",
        "    # 1) Pull annual income statement via Alpha Vantage\n",
        "    data = get_alpha_vantage_data(\"INCOME_STATEMENT\", symbol)\n",
        "    if \"annualReports\" not in data:\n",
        "        raise ValueError(f\"Error retrieving data for {symbol}: {data}\")\n",
        "    \n",
        "    # Extract annual income statement data\n",
        "    annual_reports = data[\"annualReports\"]\n",
        "    inc = pd.DataFrame(annual_reports)\n",
        "\n",
        "    # 2) Format the data\n",
        "    inc['fiscalDateEnding'] = pd.to_datetime(inc['fiscalDateEnding'])\n",
        "    inc = inc.sort_values('fiscalDateEnding')\n",
        "\n",
        "    # Ensure we only get relevant columns (TotalRevenue for our calculation)\n",
        "    inc = inc[['fiscalDateEnding', 'totalRevenue']]\n",
        "\n",
        "    # 3) Limit to the last `history_years` and filter out missing values\n",
        "    inc = inc.tail(history_years).dropna(subset=['totalRevenue'])\n",
        "\n",
        "    # 4) Compute YoY growth (%) and format for Prophet\n",
        "    inc['growth'] = inc['totalRevenue'].pct_change() * 100  # Year-over-Year growth\n",
        "    df = inc[['fiscalDateEnding', 'growth']].rename(columns={'fiscalDateEnding': 'ds', 'growth': 'y'})\n",
        "\n",
        "    # 5) Decide if we can tune (need ≥4 data points)\n",
        "    cv_results = pd.DataFrame()\n",
        "    if len(df) >= 4:\n",
        "        tuning = []\n",
        "        initial_years = max(3, history_years - 2)\n",
        "        for cps in cps_grid:\n",
        "            m = Prophet(\n",
        "                yearly_seasonality=False,\n",
        "                changepoint_prior_scale=cps,\n",
        "                n_changepoints=min(5, len(df)-1)\n",
        "            )\n",
        "            m.fit(df)\n",
        "            df_cv = cross_validation(\n",
        "                m,\n",
        "                initial=f\"{initial_years} years\",\n",
        "                period=\"1 years\",\n",
        "                horizon=\"1 years\",\n",
        "                parallel=\"processes\"\n",
        "            )\n",
        "            perf = performance_metrics(df_cv)\n",
        "            tuning.append({\n",
        "                \"cps\": cps,\n",
        "                \"mae\": perf['mae'].mean(),\n",
        "                \"mape\": perf['mape'].mean(),\n",
        "                \"rmse\": perf['rmse'].mean()\n",
        "            })\n",
        "        cv_results = pd.DataFrame(tuning)\n",
        "        best_cps = cv_results.loc[cv_results['mape'].idxmin(), 'cps']\n",
        "    else:\n",
        "        # fallback if too few data points\n",
        "        best_cps = 0.05\n",
        "\n",
        "    # 6) Fit final model with the best changepoint prior scale\n",
        "    model = Prophet(\n",
        "        yearly_seasonality=False,\n",
        "        changepoint_prior_scale=best_cps,\n",
        "        n_changepoints=min(5, len(df)-1)\n",
        "    )\n",
        "    model.fit(df)\n",
        "\n",
        "    # 7) Forecast the next year\n",
        "    future = model.make_future_dataframe(periods=1, freq='A')\n",
        "    forecast = model.predict(future)\n",
        "    ng = forecast.iloc[-1]\n",
        "    growth_rate = ng['yhat']\n",
        "    lower, upper = ng['yhat_lower'], ng['yhat_upper']\n",
        "\n",
        "    # 8) Visualize the forecast\n",
        "    plt.figure(figsize=(10,6))\n",
        "    plt.plot(df['ds'], df['y'], 'o-', label='Historical Growth')\n",
        "    plt.plot(forecast['ds'], forecast['yhat'], '--', label='Forecast')\n",
        "    plt.fill_between(\n",
        "        forecast['ds'],\n",
        "        forecast['yhat_lower'],\n",
        "        forecast['yhat_upper'],\n",
        "        color='orange', alpha=0.3,\n",
        "        label='Uncertainty'\n",
        "    )\n",
        "    plt.axvline(df['ds'].iloc[-1], color='gray', linestyle=':')\n",
        "    plt.title(f\"{symbol} Annual Revenue Growth Forecast (cps={best_cps})\")\n",
        "    plt.xlabel(\"Year\")\n",
        "    plt.ylabel(\"Growth Rate (%)\")\n",
        "    plt.legend()\n",
        "    plt.grid(True)\n",
        "    plt.tight_layout()\n",
        "    plt.show()\n",
        "\n",
        "    return {\n",
        "        \"best_cps\": best_cps,\n",
        "        \"cv_results\": cv_results,\n",
        "        \"growth_rate\": growth_rate,\n",
        "        \"lower_bound\": lower,\n",
        "        \"upper_bound\": upper,\n",
        "        \"forecast_df\": forecast[['ds','yhat','yhat_lower','yhat_upper']]\n",
        "    }"
      ]
    },
    {
      "cell_type": "code",
      "execution_count": 154,
      "metadata": {},
      "outputs": [
        {
          "ename": "TypeError",
          "evalue": "unsupported operand type(s) for /: 'str' and 'str'",
          "output_type": "error",
          "traceback": [
            "\u001b[0;31m---------------------------------------------------------------------------\u001b[0m",
            "\u001b[0;31mTypeError\u001b[0m                                 Traceback (most recent call last)",
            "File \u001b[0;32m~/anaconda3/lib/python3.10/site-packages/pandas/core/ops/array_ops.py:218\u001b[0m, in \u001b[0;36m_na_arithmetic_op\u001b[0;34m(left, right, op, is_cmp)\u001b[0m\n\u001b[1;32m    217\u001b[0m \u001b[38;5;28;01mtry\u001b[39;00m:\n\u001b[0;32m--> 218\u001b[0m     result \u001b[38;5;241m=\u001b[39m \u001b[43mfunc\u001b[49m\u001b[43m(\u001b[49m\u001b[43mleft\u001b[49m\u001b[43m,\u001b[49m\u001b[43m \u001b[49m\u001b[43mright\u001b[49m\u001b[43m)\u001b[49m\n\u001b[1;32m    219\u001b[0m \u001b[38;5;28;01mexcept\u001b[39;00m \u001b[38;5;167;01mTypeError\u001b[39;00m:\n",
            "File \u001b[0;32m~/anaconda3/lib/python3.10/site-packages/pandas/core/computation/expressions.py:242\u001b[0m, in \u001b[0;36mevaluate\u001b[0;34m(op, a, b, use_numexpr)\u001b[0m\n\u001b[1;32m    240\u001b[0m     \u001b[38;5;28;01mif\u001b[39;00m use_numexpr:\n\u001b[1;32m    241\u001b[0m         \u001b[38;5;66;03m# error: \"None\" not callable\u001b[39;00m\n\u001b[0;32m--> 242\u001b[0m         \u001b[38;5;28;01mreturn\u001b[39;00m \u001b[43m_evaluate\u001b[49m\u001b[43m(\u001b[49m\u001b[43mop\u001b[49m\u001b[43m,\u001b[49m\u001b[43m \u001b[49m\u001b[43mop_str\u001b[49m\u001b[43m,\u001b[49m\u001b[43m \u001b[49m\u001b[43ma\u001b[49m\u001b[43m,\u001b[49m\u001b[43m \u001b[49m\u001b[43mb\u001b[49m\u001b[43m)\u001b[49m  \u001b[38;5;66;03m# type: ignore[misc]\u001b[39;00m\n\u001b[1;32m    243\u001b[0m \u001b[38;5;28;01mreturn\u001b[39;00m _evaluate_standard(op, op_str, a, b)\n",
            "File \u001b[0;32m~/anaconda3/lib/python3.10/site-packages/pandas/core/computation/expressions.py:131\u001b[0m, in \u001b[0;36m_evaluate_numexpr\u001b[0;34m(op, op_str, a, b)\u001b[0m\n\u001b[1;32m    130\u001b[0m \u001b[38;5;28;01mif\u001b[39;00m result \u001b[38;5;129;01mis\u001b[39;00m \u001b[38;5;28;01mNone\u001b[39;00m:\n\u001b[0;32m--> 131\u001b[0m     result \u001b[38;5;241m=\u001b[39m \u001b[43m_evaluate_standard\u001b[49m\u001b[43m(\u001b[49m\u001b[43mop\u001b[49m\u001b[43m,\u001b[49m\u001b[43m \u001b[49m\u001b[43mop_str\u001b[49m\u001b[43m,\u001b[49m\u001b[43m \u001b[49m\u001b[43ma\u001b[49m\u001b[43m,\u001b[49m\u001b[43m \u001b[49m\u001b[43mb\u001b[49m\u001b[43m)\u001b[49m\n\u001b[1;32m    133\u001b[0m \u001b[38;5;28;01mreturn\u001b[39;00m result\n",
            "File \u001b[0;32m~/anaconda3/lib/python3.10/site-packages/pandas/core/computation/expressions.py:73\u001b[0m, in \u001b[0;36m_evaluate_standard\u001b[0;34m(op, op_str, a, b)\u001b[0m\n\u001b[1;32m     72\u001b[0m     _store_test_result(\u001b[38;5;28;01mFalse\u001b[39;00m)\n\u001b[0;32m---> 73\u001b[0m \u001b[38;5;28;01mreturn\u001b[39;00m \u001b[43mop\u001b[49m\u001b[43m(\u001b[49m\u001b[43ma\u001b[49m\u001b[43m,\u001b[49m\u001b[43m \u001b[49m\u001b[43mb\u001b[49m\u001b[43m)\u001b[49m\n",
            "\u001b[0;31mTypeError\u001b[0m: unsupported operand type(s) for /: 'str' and 'NoneType'",
            "\nDuring handling of the above exception, another exception occurred:\n",
            "\u001b[0;31mTypeError\u001b[0m                                 Traceback (most recent call last)",
            "Cell \u001b[0;32mIn[154], line 1\u001b[0m\n\u001b[0;32m----> 1\u001b[0m result \u001b[38;5;241m=\u001b[39m \u001b[43mforecast_revenue_growth_rate\u001b[49m\u001b[43m(\u001b[49m\u001b[43mcompany_ticker\u001b[49m\u001b[43m,\u001b[49m\u001b[43m \u001b[49m\u001b[43mhistory_years\u001b[49m\u001b[38;5;241;43m=\u001b[39;49m\u001b[38;5;241;43m10\u001b[39;49m\u001b[43m)\u001b[49m\n\u001b[1;32m      2\u001b[0m \u001b[38;5;28mprint\u001b[39m(\u001b[38;5;124m\"\u001b[39m\u001b[38;5;124mBest cps:\u001b[39m\u001b[38;5;124m\"\u001b[39m, result[\u001b[38;5;124m\"\u001b[39m\u001b[38;5;124mbest_cps\u001b[39m\u001b[38;5;124m\"\u001b[39m])\n\u001b[1;32m      3\u001b[0m \u001b[38;5;28mprint\u001b[39m(\u001b[38;5;124mf\u001b[39m\u001b[38;5;124m\"\u001b[39m\u001b[38;5;124mNext year growth: \u001b[39m\u001b[38;5;132;01m{\u001b[39;00mresult[\u001b[38;5;124m'\u001b[39m\u001b[38;5;124mgrowth_rate\u001b[39m\u001b[38;5;124m'\u001b[39m]\u001b[38;5;132;01m:\u001b[39;00m\u001b[38;5;124m.2f\u001b[39m\u001b[38;5;132;01m}\u001b[39;00m\u001b[38;5;124m%\u001b[39m\u001b[38;5;124m\"\u001b[39m)\n",
            "Cell \u001b[0;32mIn[153], line 46\u001b[0m, in \u001b[0;36mforecast_revenue_growth_rate\u001b[0;34m(symbol, history_years, cps_grid)\u001b[0m\n\u001b[1;32m     43\u001b[0m inc \u001b[38;5;241m=\u001b[39m inc\u001b[38;5;241m.\u001b[39mtail(history_years)\u001b[38;5;241m.\u001b[39mdropna(subset\u001b[38;5;241m=\u001b[39m[\u001b[38;5;124m'\u001b[39m\u001b[38;5;124mtotalRevenue\u001b[39m\u001b[38;5;124m'\u001b[39m])\n\u001b[1;32m     45\u001b[0m \u001b[38;5;66;03m# 4) Compute YoY growth (%) and format for Prophet\u001b[39;00m\n\u001b[0;32m---> 46\u001b[0m inc[\u001b[38;5;124m'\u001b[39m\u001b[38;5;124mgrowth\u001b[39m\u001b[38;5;124m'\u001b[39m] \u001b[38;5;241m=\u001b[39m \u001b[43minc\u001b[49m\u001b[43m[\u001b[49m\u001b[38;5;124;43m'\u001b[39;49m\u001b[38;5;124;43mtotalRevenue\u001b[39;49m\u001b[38;5;124;43m'\u001b[39;49m\u001b[43m]\u001b[49m\u001b[38;5;241;43m.\u001b[39;49m\u001b[43mpct_change\u001b[49m\u001b[43m(\u001b[49m\u001b[43m)\u001b[49m \u001b[38;5;241m*\u001b[39m \u001b[38;5;241m100\u001b[39m  \u001b[38;5;66;03m# Year-over-Year growth\u001b[39;00m\n\u001b[1;32m     47\u001b[0m df \u001b[38;5;241m=\u001b[39m inc[[\u001b[38;5;124m'\u001b[39m\u001b[38;5;124mfiscalDateEnding\u001b[39m\u001b[38;5;124m'\u001b[39m, \u001b[38;5;124m'\u001b[39m\u001b[38;5;124mgrowth\u001b[39m\u001b[38;5;124m'\u001b[39m]]\u001b[38;5;241m.\u001b[39mrename(columns\u001b[38;5;241m=\u001b[39m{\u001b[38;5;124m'\u001b[39m\u001b[38;5;124mfiscalDateEnding\u001b[39m\u001b[38;5;124m'\u001b[39m: \u001b[38;5;124m'\u001b[39m\u001b[38;5;124mds\u001b[39m\u001b[38;5;124m'\u001b[39m, \u001b[38;5;124m'\u001b[39m\u001b[38;5;124mgrowth\u001b[39m\u001b[38;5;124m'\u001b[39m: \u001b[38;5;124m'\u001b[39m\u001b[38;5;124my\u001b[39m\u001b[38;5;124m'\u001b[39m})\n\u001b[1;32m     49\u001b[0m \u001b[38;5;66;03m# 5) Decide if we can tune (need ≥4 data points)\u001b[39;00m\n",
            "File \u001b[0;32m~/anaconda3/lib/python3.10/site-packages/pandas/core/generic.py:12161\u001b[0m, in \u001b[0;36mNDFrame.pct_change\u001b[0;34m(self, periods, fill_method, limit, freq, **kwargs)\u001b[0m\n\u001b[1;32m  12159\u001b[0m shifted \u001b[38;5;241m=\u001b[39m data\u001b[38;5;241m.\u001b[39mshift(periods\u001b[38;5;241m=\u001b[39mperiods, freq\u001b[38;5;241m=\u001b[39mfreq, axis\u001b[38;5;241m=\u001b[39maxis, \u001b[38;5;241m*\u001b[39m\u001b[38;5;241m*\u001b[39mkwargs)\n\u001b[1;32m  12160\u001b[0m \u001b[38;5;66;03m# Unsupported left operand type for / (\"Self\")\u001b[39;00m\n\u001b[0;32m> 12161\u001b[0m rs \u001b[38;5;241m=\u001b[39m \u001b[43mdata\u001b[49m\u001b[43m \u001b[49m\u001b[38;5;241;43m/\u001b[39;49m\u001b[43m \u001b[49m\u001b[43mshifted\u001b[49m \u001b[38;5;241m-\u001b[39m \u001b[38;5;241m1\u001b[39m  \u001b[38;5;66;03m# type: ignore[operator]\u001b[39;00m\n\u001b[1;32m  12162\u001b[0m \u001b[38;5;28;01mif\u001b[39;00m freq \u001b[38;5;129;01mis\u001b[39;00m \u001b[38;5;129;01mnot\u001b[39;00m \u001b[38;5;28;01mNone\u001b[39;00m:\n\u001b[1;32m  12163\u001b[0m     \u001b[38;5;66;03m# Shift method is implemented differently when freq is not None\u001b[39;00m\n\u001b[1;32m  12164\u001b[0m     \u001b[38;5;66;03m# We want to restore the original index\u001b[39;00m\n\u001b[1;32m  12165\u001b[0m     rs \u001b[38;5;241m=\u001b[39m rs\u001b[38;5;241m.\u001b[39mloc[\u001b[38;5;241m~\u001b[39mrs\u001b[38;5;241m.\u001b[39mindex\u001b[38;5;241m.\u001b[39mduplicated()]\n",
            "File \u001b[0;32m~/anaconda3/lib/python3.10/site-packages/pandas/core/ops/common.py:76\u001b[0m, in \u001b[0;36m_unpack_zerodim_and_defer.<locals>.new_method\u001b[0;34m(self, other)\u001b[0m\n\u001b[1;32m     72\u001b[0m             \u001b[38;5;28;01mreturn\u001b[39;00m \u001b[38;5;28mNotImplemented\u001b[39m\n\u001b[1;32m     74\u001b[0m other \u001b[38;5;241m=\u001b[39m item_from_zerodim(other)\n\u001b[0;32m---> 76\u001b[0m \u001b[38;5;28;01mreturn\u001b[39;00m \u001b[43mmethod\u001b[49m\u001b[43m(\u001b[49m\u001b[38;5;28;43mself\u001b[39;49m\u001b[43m,\u001b[49m\u001b[43m \u001b[49m\u001b[43mother\u001b[49m\u001b[43m)\u001b[49m\n",
            "File \u001b[0;32m~/anaconda3/lib/python3.10/site-packages/pandas/core/arraylike.py:210\u001b[0m, in \u001b[0;36mOpsMixin.__truediv__\u001b[0;34m(self, other)\u001b[0m\n\u001b[1;32m    208\u001b[0m \u001b[38;5;129m@unpack_zerodim_and_defer\u001b[39m(\u001b[38;5;124m\"\u001b[39m\u001b[38;5;124m__truediv__\u001b[39m\u001b[38;5;124m\"\u001b[39m)\n\u001b[1;32m    209\u001b[0m \u001b[38;5;28;01mdef\u001b[39;00m \u001b[38;5;21m__truediv__\u001b[39m(\u001b[38;5;28mself\u001b[39m, other):\n\u001b[0;32m--> 210\u001b[0m     \u001b[38;5;28;01mreturn\u001b[39;00m \u001b[38;5;28;43mself\u001b[39;49m\u001b[38;5;241;43m.\u001b[39;49m\u001b[43m_arith_method\u001b[49m\u001b[43m(\u001b[49m\u001b[43mother\u001b[49m\u001b[43m,\u001b[49m\u001b[43m \u001b[49m\u001b[43moperator\u001b[49m\u001b[38;5;241;43m.\u001b[39;49m\u001b[43mtruediv\u001b[49m\u001b[43m)\u001b[49m\n",
            "File \u001b[0;32m~/anaconda3/lib/python3.10/site-packages/pandas/core/series.py:6135\u001b[0m, in \u001b[0;36mSeries._arith_method\u001b[0;34m(self, other, op)\u001b[0m\n\u001b[1;32m   6133\u001b[0m \u001b[38;5;28;01mdef\u001b[39;00m \u001b[38;5;21m_arith_method\u001b[39m(\u001b[38;5;28mself\u001b[39m, other, op):\n\u001b[1;32m   6134\u001b[0m     \u001b[38;5;28mself\u001b[39m, other \u001b[38;5;241m=\u001b[39m \u001b[38;5;28mself\u001b[39m\u001b[38;5;241m.\u001b[39m_align_for_op(other)\n\u001b[0;32m-> 6135\u001b[0m     \u001b[38;5;28;01mreturn\u001b[39;00m \u001b[43mbase\u001b[49m\u001b[38;5;241;43m.\u001b[39;49m\u001b[43mIndexOpsMixin\u001b[49m\u001b[38;5;241;43m.\u001b[39;49m\u001b[43m_arith_method\u001b[49m\u001b[43m(\u001b[49m\u001b[38;5;28;43mself\u001b[39;49m\u001b[43m,\u001b[49m\u001b[43m \u001b[49m\u001b[43mother\u001b[49m\u001b[43m,\u001b[49m\u001b[43m \u001b[49m\u001b[43mop\u001b[49m\u001b[43m)\u001b[49m\n",
            "File \u001b[0;32m~/anaconda3/lib/python3.10/site-packages/pandas/core/base.py:1382\u001b[0m, in \u001b[0;36mIndexOpsMixin._arith_method\u001b[0;34m(self, other, op)\u001b[0m\n\u001b[1;32m   1379\u001b[0m     rvalues \u001b[38;5;241m=\u001b[39m np\u001b[38;5;241m.\u001b[39marange(rvalues\u001b[38;5;241m.\u001b[39mstart, rvalues\u001b[38;5;241m.\u001b[39mstop, rvalues\u001b[38;5;241m.\u001b[39mstep)\n\u001b[1;32m   1381\u001b[0m \u001b[38;5;28;01mwith\u001b[39;00m np\u001b[38;5;241m.\u001b[39merrstate(\u001b[38;5;28mall\u001b[39m\u001b[38;5;241m=\u001b[39m\u001b[38;5;124m\"\u001b[39m\u001b[38;5;124mignore\u001b[39m\u001b[38;5;124m\"\u001b[39m):\n\u001b[0;32m-> 1382\u001b[0m     result \u001b[38;5;241m=\u001b[39m \u001b[43mops\u001b[49m\u001b[38;5;241;43m.\u001b[39;49m\u001b[43marithmetic_op\u001b[49m\u001b[43m(\u001b[49m\u001b[43mlvalues\u001b[49m\u001b[43m,\u001b[49m\u001b[43m \u001b[49m\u001b[43mrvalues\u001b[49m\u001b[43m,\u001b[49m\u001b[43m \u001b[49m\u001b[43mop\u001b[49m\u001b[43m)\u001b[49m\n\u001b[1;32m   1384\u001b[0m \u001b[38;5;28;01mreturn\u001b[39;00m \u001b[38;5;28mself\u001b[39m\u001b[38;5;241m.\u001b[39m_construct_result(result, name\u001b[38;5;241m=\u001b[39mres_name)\n",
            "File \u001b[0;32m~/anaconda3/lib/python3.10/site-packages/pandas/core/ops/array_ops.py:283\u001b[0m, in \u001b[0;36marithmetic_op\u001b[0;34m(left, right, op)\u001b[0m\n\u001b[1;32m    279\u001b[0m     _bool_arith_check(op, left, right)  \u001b[38;5;66;03m# type: ignore[arg-type]\u001b[39;00m\n\u001b[1;32m    281\u001b[0m     \u001b[38;5;66;03m# error: Argument 1 to \"_na_arithmetic_op\" has incompatible type\u001b[39;00m\n\u001b[1;32m    282\u001b[0m     \u001b[38;5;66;03m# \"Union[ExtensionArray, ndarray[Any, Any]]\"; expected \"ndarray[Any, Any]\"\u001b[39;00m\n\u001b[0;32m--> 283\u001b[0m     res_values \u001b[38;5;241m=\u001b[39m \u001b[43m_na_arithmetic_op\u001b[49m\u001b[43m(\u001b[49m\u001b[43mleft\u001b[49m\u001b[43m,\u001b[49m\u001b[43m \u001b[49m\u001b[43mright\u001b[49m\u001b[43m,\u001b[49m\u001b[43m \u001b[49m\u001b[43mop\u001b[49m\u001b[43m)\u001b[49m  \u001b[38;5;66;03m# type: ignore[arg-type]\u001b[39;00m\n\u001b[1;32m    285\u001b[0m \u001b[38;5;28;01mreturn\u001b[39;00m res_values\n",
            "File \u001b[0;32m~/anaconda3/lib/python3.10/site-packages/pandas/core/ops/array_ops.py:227\u001b[0m, in \u001b[0;36m_na_arithmetic_op\u001b[0;34m(left, right, op, is_cmp)\u001b[0m\n\u001b[1;32m    219\u001b[0m \u001b[38;5;28;01mexcept\u001b[39;00m \u001b[38;5;167;01mTypeError\u001b[39;00m:\n\u001b[1;32m    220\u001b[0m     \u001b[38;5;28;01mif\u001b[39;00m \u001b[38;5;129;01mnot\u001b[39;00m is_cmp \u001b[38;5;129;01mand\u001b[39;00m (\n\u001b[1;32m    221\u001b[0m         left\u001b[38;5;241m.\u001b[39mdtype \u001b[38;5;241m==\u001b[39m \u001b[38;5;28mobject\u001b[39m \u001b[38;5;129;01mor\u001b[39;00m \u001b[38;5;28mgetattr\u001b[39m(right, \u001b[38;5;124m\"\u001b[39m\u001b[38;5;124mdtype\u001b[39m\u001b[38;5;124m\"\u001b[39m, \u001b[38;5;28;01mNone\u001b[39;00m) \u001b[38;5;241m==\u001b[39m \u001b[38;5;28mobject\u001b[39m\n\u001b[1;32m    222\u001b[0m     ):\n\u001b[0;32m   (...)\u001b[0m\n\u001b[1;32m    225\u001b[0m         \u001b[38;5;66;03m# Don't do this for comparisons, as that will handle complex numbers\u001b[39;00m\n\u001b[1;32m    226\u001b[0m         \u001b[38;5;66;03m#  incorrectly, see GH#32047\u001b[39;00m\n\u001b[0;32m--> 227\u001b[0m         result \u001b[38;5;241m=\u001b[39m \u001b[43m_masked_arith_op\u001b[49m\u001b[43m(\u001b[49m\u001b[43mleft\u001b[49m\u001b[43m,\u001b[49m\u001b[43m \u001b[49m\u001b[43mright\u001b[49m\u001b[43m,\u001b[49m\u001b[43m \u001b[49m\u001b[43mop\u001b[49m\u001b[43m)\u001b[49m\n\u001b[1;32m    228\u001b[0m     \u001b[38;5;28;01melse\u001b[39;00m:\n\u001b[1;32m    229\u001b[0m         \u001b[38;5;28;01mraise\u001b[39;00m\n",
            "File \u001b[0;32m~/anaconda3/lib/python3.10/site-packages/pandas/core/ops/array_ops.py:163\u001b[0m, in \u001b[0;36m_masked_arith_op\u001b[0;34m(x, y, op)\u001b[0m\n\u001b[1;32m    161\u001b[0m     \u001b[38;5;66;03m# See GH#5284, GH#5035, GH#19448 for historical reference\u001b[39;00m\n\u001b[1;32m    162\u001b[0m     \u001b[38;5;28;01mif\u001b[39;00m mask\u001b[38;5;241m.\u001b[39many():\n\u001b[0;32m--> 163\u001b[0m         result[mask] \u001b[38;5;241m=\u001b[39m \u001b[43mop\u001b[49m\u001b[43m(\u001b[49m\u001b[43mxrav\u001b[49m\u001b[43m[\u001b[49m\u001b[43mmask\u001b[49m\u001b[43m]\u001b[49m\u001b[43m,\u001b[49m\u001b[43m \u001b[49m\u001b[43myrav\u001b[49m\u001b[43m[\u001b[49m\u001b[43mmask\u001b[49m\u001b[43m]\u001b[49m\u001b[43m)\u001b[49m\n\u001b[1;32m    165\u001b[0m \u001b[38;5;28;01melse\u001b[39;00m:\n\u001b[1;32m    166\u001b[0m     \u001b[38;5;28;01mif\u001b[39;00m \u001b[38;5;129;01mnot\u001b[39;00m is_scalar(y):\n",
            "\u001b[0;31mTypeError\u001b[0m: unsupported operand type(s) for /: 'str' and 'str'"
          ]
        }
      ],
      "source": [
        "result = forecast_revenue_growth_rate(company_ticker, history_years=10)\n",
        "print(\"Best cps:\", result[\"best_cps\"])\n",
        "print(f\"Next year growth: {result['growth_rate']:.2f}%\")"
      ]
    },
    {
      "cell_type": "markdown",
      "metadata": {},
      "source": [
        "## Value Drivers (Rev Growth Projection: LightGBM-layered MLR)"
      ]
    },
    {
      "cell_type": "code",
      "execution_count": 129,
      "metadata": {},
      "outputs": [],
      "source": [
        "def get_related_tickers(ticker):\n",
        "    client = RESTClient(polygon_api_key)\n",
        "    try:\n",
        "        related = client.get_related_companies(ticker.upper())\n",
        "        return [r.ticker for r in related]\n",
        "    except Exception as e:\n",
        "        print(f\"Error fetching related companies: {e}\")\n",
        "        return []"
      ]
    },
    {
      "cell_type": "code",
      "execution_count": 131,
      "metadata": {},
      "outputs": [
        {
          "data": {
            "text/plain": [
              "['LSTR', 'GATX', 'KNX', 'EXPD', 'CVLG', 'ARCB', 'KEX', 'SKYW', 'FDX']"
            ]
          },
          "execution_count": 131,
          "metadata": {},
          "output_type": "execute_result"
        }
      ],
      "source": [
        "get_related_tickers(company_ticker)"
      ]
    },
    {
      "cell_type": "code",
      "execution_count": null,
      "metadata": {},
      "outputs": [],
      "source": []
    },
    {
      "cell_type": "markdown",
      "metadata": {},
      "source": [
        "## Value Drivers (Operating Margin)"
      ]
    },
    {
      "cell_type": "code",
      "execution_count": 132,
      "metadata": {},
      "outputs": [],
      "source": [
        "def forecast_operating_margin_tuned(\n",
        "    symbol: str,\n",
        "    history_years: int = 10,\n",
        "    cps_grid=None\n",
        ") -> dict:\n",
        "    \"\"\"\n",
        "    Forecasts next year's operating margin (%) using Prophet,\n",
        "    tuning changepoint_prior_scale via time-series CV on annual data.\n",
        "\n",
        "    Returns:\n",
        "      {\n",
        "        best_cps: float,\n",
        "        cv_results: DataFrame,\n",
        "        margin_forecast: float,    # next-year operating margin (%)\n",
        "        lower_bound: float,\n",
        "        upper_bound: float,\n",
        "        forecast_df: DataFrame     # ds, yhat, yhat_lower, yhat_upper\n",
        "      }\n",
        "    \"\"\"\n",
        "    # default grid\n",
        "    if cps_grid is None:\n",
        "        cps_grid = [0.01, 0.05, 0.1, 0.3, 0.5]\n",
        "\n",
        "    # 1) Pull annual statements via yahooquery\n",
        "    t = Ticker(symbol)\n",
        "    inc = t.income_statement(frequency='a')\n",
        "    if inc is None or inc.empty:\n",
        "        raise ValueError(f\"No annual income data for {symbol}\")\n",
        "    inc = inc.reset_index()\n",
        "    inc12 = inc[inc['periodType']=='12M'].copy()\n",
        "    inc12['asOfDate'] = pd.to_datetime(inc12['asOfDate'])\n",
        "    inc12 = inc12.set_index('asOfDate').sort_index()\n",
        "\n",
        "    # 2) Build operating margin series\n",
        "    if not {'OperatingIncome','TotalRevenue'}.issubset(inc12.columns):\n",
        "        raise ValueError(\"Required fields OperatingIncome or TotalRevenue missing\")\n",
        "    margin = (inc12['OperatingIncome'] / inc12['TotalRevenue']) * 100\n",
        "    margin = margin.last(f\"{history_years}Y\").dropna()\n",
        "\n",
        "    # 3) Prepare for Prophet\n",
        "    df = margin.reset_index(name='y').rename(columns={'asOfDate':'ds'})[['ds','y']]\n",
        "\n",
        "    # 4) Determine if tuning is feasible\n",
        "    cv_results = pd.DataFrame()\n",
        "    total_days = (df['ds'].max() - df['ds'].min()).days\n",
        "    horizon_days = 365\n",
        "    if total_days >= 2 * horizon_days:\n",
        "        # compute initial window to leave horizon_days for testing\n",
        "        initial_days = total_days - horizon_days\n",
        "        tuning = []\n",
        "        for cps in cps_grid:\n",
        "            m = Prophet(\n",
        "                yearly_seasonality=False,\n",
        "                changepoint_prior_scale=cps,\n",
        "                n_changepoints=min(5, len(df)-1)\n",
        "            )\n",
        "            m.fit(df)\n",
        "            df_cv = cross_validation(\n",
        "                m,\n",
        "                initial=f\"{initial_days} days\",\n",
        "                period=\"365 days\",\n",
        "                horizon=\"365 days\",\n",
        "                parallel=\"processes\"\n",
        "            )\n",
        "            perf = performance_metrics(df_cv)\n",
        "            tuning.append({\n",
        "                'cps': cps,\n",
        "                'mae': perf['mae'].mean(),\n",
        "                'mape': perf['mape'].mean(),\n",
        "                'rmse': perf['rmse'].mean()\n",
        "            })\n",
        "        cv_results = pd.DataFrame(tuning)\n",
        "        best_cps = cv_results.loc[cv_results['mape'].idxmin(), 'cps']\n",
        "    else:\n",
        "        best_cps = 0.05\n",
        "\n",
        "    # 5) Fit final model\n",
        "    model = Prophet(\n",
        "        yearly_seasonality=False,\n",
        "        changepoint_prior_scale=best_cps,\n",
        "        n_changepoints=min(5, len(df)-1)\n",
        "    )\n",
        "    model.fit(df)\n",
        "\n",
        "    # 6) Forecast next year\n",
        "    future = model.make_future_dataframe(periods=1, freq='A')\n",
        "    forecast = model.predict(future)\n",
        "    last = forecast.iloc[-1]\n",
        "    margin_forecast = last['yhat']\n",
        "    lower, upper = last['yhat_lower'], last['yhat_upper']\n",
        "\n",
        "    # 7) Visualization\n",
        "    plt.figure(figsize=(10,6))\n",
        "    plt.plot(df['ds'], df['y'], 'o-', label='Historical Margin')\n",
        "    plt.plot(forecast['ds'], forecast['yhat'], '--', label='Forecast')\n",
        "    plt.fill_between(\n",
        "        forecast['ds'], forecast['yhat_lower'], forecast['yhat_upper'],\n",
        "        color='orange', alpha=0.3, label='Uncertainty'\n",
        "    )\n",
        "    plt.axvline(df['ds'].iloc[-1], color='gray', linestyle=':')\n",
        "    plt.title(f\"{symbol} Operating Margin Forecast (cps={best_cps})\")\n",
        "    plt.xlabel(\"Year\")\n",
        "    plt.ylabel(\"Operating Margin (%)\")\n",
        "    plt.legend()\n",
        "    plt.grid(True)\n",
        "    plt.tight_layout()\n",
        "    plt.show()\n",
        "\n",
        "    return {\n",
        "        'best_cps': best_cps,\n",
        "        'cv_results': cv_results,\n",
        "        'margin_forecast': margin_forecast,\n",
        "        'lower_bound': lower,\n",
        "        'upper_bound': upper,\n",
        "        'forecast_df': forecast[['ds','yhat','yhat_lower','yhat_upper']]\n",
        "    }"
      ]
    },
    {
      "cell_type": "code",
      "execution_count": 133,
      "metadata": {},
      "outputs": [
        {
          "name": "stderr",
          "output_type": "stream",
          "text": [
            "Failed to obtain crumb.  Ability to retrieve data will be significantly limited.\n"
          ]
        },
        {
          "ename": "KeyboardInterrupt",
          "evalue": "",
          "output_type": "error",
          "traceback": [
            "\u001b[0;31m---------------------------------------------------------------------------\u001b[0m",
            "\u001b[0;31mKeyboardInterrupt\u001b[0m                         Traceback (most recent call last)",
            "Cell \u001b[0;32mIn[133], line 1\u001b[0m\n\u001b[0;32m----> 1\u001b[0m res \u001b[38;5;241m=\u001b[39m \u001b[43mforecast_operating_margin_tuned\u001b[49m\u001b[43m(\u001b[49m\u001b[43mcompany_ticker\u001b[49m\u001b[43m,\u001b[49m\u001b[43m \u001b[49m\u001b[43mhistory_years\u001b[49m\u001b[38;5;241;43m=\u001b[39;49m\u001b[38;5;241;43m10\u001b[39;49m\u001b[43m)\u001b[49m\n\u001b[1;32m      2\u001b[0m \u001b[38;5;28mprint\u001b[39m(\u001b[38;5;124mf\u001b[39m\u001b[38;5;124m\"\u001b[39m\u001b[38;5;124mNext-year operating margin: \u001b[39m\u001b[38;5;132;01m{\u001b[39;00mres[\u001b[38;5;124m'\u001b[39m\u001b[38;5;124mmargin_forecast\u001b[39m\u001b[38;5;124m'\u001b[39m]\u001b[38;5;132;01m:\u001b[39;00m\u001b[38;5;124m.2f\u001b[39m\u001b[38;5;132;01m}\u001b[39;00m\u001b[38;5;124m%  (± \u001b[39m\u001b[38;5;132;01m{\u001b[39;00mres[\u001b[38;5;124m'\u001b[39m\u001b[38;5;124mlower_bound\u001b[39m\u001b[38;5;124m'\u001b[39m]\u001b[38;5;132;01m:\u001b[39;00m\u001b[38;5;124m.2f\u001b[39m\u001b[38;5;132;01m}\u001b[39;00m\u001b[38;5;124m%→\u001b[39m\u001b[38;5;132;01m{\u001b[39;00mres[\u001b[38;5;124m'\u001b[39m\u001b[38;5;124mupper_bound\u001b[39m\u001b[38;5;124m'\u001b[39m]\u001b[38;5;132;01m:\u001b[39;00m\u001b[38;5;124m.2f\u001b[39m\u001b[38;5;132;01m}\u001b[39;00m\u001b[38;5;124m%)\u001b[39m\u001b[38;5;124m\"\u001b[39m)\n",
            "Cell \u001b[0;32mIn[132], line 26\u001b[0m, in \u001b[0;36mforecast_operating_margin_tuned\u001b[0;34m(symbol, history_years, cps_grid)\u001b[0m\n\u001b[1;32m     24\u001b[0m \u001b[38;5;66;03m# 1) Pull annual statements via yahooquery\u001b[39;00m\n\u001b[1;32m     25\u001b[0m t \u001b[38;5;241m=\u001b[39m Ticker(symbol)\n\u001b[0;32m---> 26\u001b[0m inc \u001b[38;5;241m=\u001b[39m \u001b[43mt\u001b[49m\u001b[38;5;241;43m.\u001b[39;49m\u001b[43mincome_statement\u001b[49m\u001b[43m(\u001b[49m\u001b[43mfrequency\u001b[49m\u001b[38;5;241;43m=\u001b[39;49m\u001b[38;5;124;43m'\u001b[39;49m\u001b[38;5;124;43ma\u001b[39;49m\u001b[38;5;124;43m'\u001b[39;49m\u001b[43m)\u001b[49m\n\u001b[1;32m     27\u001b[0m \u001b[38;5;28;01mif\u001b[39;00m inc \u001b[38;5;129;01mis\u001b[39;00m \u001b[38;5;28;01mNone\u001b[39;00m \u001b[38;5;129;01mor\u001b[39;00m inc\u001b[38;5;241m.\u001b[39mempty:\n\u001b[1;32m     28\u001b[0m     \u001b[38;5;28;01mraise\u001b[39;00m \u001b[38;5;167;01mValueError\u001b[39;00m(\u001b[38;5;124mf\u001b[39m\u001b[38;5;124m\"\u001b[39m\u001b[38;5;124mNo annual income data for \u001b[39m\u001b[38;5;132;01m{\u001b[39;00msymbol\u001b[38;5;132;01m}\u001b[39;00m\u001b[38;5;124m\"\u001b[39m)\n",
            "File \u001b[0;32m~/anaconda3/lib/python3.10/site-packages/yahooquery/ticker.py:768\u001b[0m, in \u001b[0;36mTicker.income_statement\u001b[0;34m(self, frequency, trailing)\u001b[0m\n\u001b[1;32m    749\u001b[0m \u001b[38;5;28;01mdef\u001b[39;00m \u001b[38;5;21mincome_statement\u001b[39m(\u001b[38;5;28mself\u001b[39m, frequency\u001b[38;5;241m=\u001b[39m\u001b[38;5;124m\"\u001b[39m\u001b[38;5;124ma\u001b[39m\u001b[38;5;124m\"\u001b[39m, trailing\u001b[38;5;241m=\u001b[39m\u001b[38;5;28;01mTrue\u001b[39;00m):\n\u001b[1;32m    750\u001b[0m     \u001b[38;5;124;03m\"\"\"Income Statement\u001b[39;00m\n\u001b[1;32m    751\u001b[0m \n\u001b[1;32m    752\u001b[0m \u001b[38;5;124;03m    Retrieves income statement data for most recent four quarters or most\u001b[39;00m\n\u001b[0;32m   (...)\u001b[0m\n\u001b[1;32m    766\u001b[0m \u001b[38;5;124;03m    pandas.DataFrame\u001b[39;00m\n\u001b[1;32m    767\u001b[0m \u001b[38;5;124;03m    \"\"\"\u001b[39;00m\n\u001b[0;32m--> 768\u001b[0m     \u001b[38;5;28;01mreturn\u001b[39;00m \u001b[38;5;28;43mself\u001b[39;49m\u001b[38;5;241;43m.\u001b[39;49m\u001b[43m_financials\u001b[49m\u001b[43m(\u001b[49m\u001b[38;5;124;43m\"\u001b[39;49m\u001b[38;5;124;43mincome_statement\u001b[39;49m\u001b[38;5;124;43m\"\u001b[39;49m\u001b[43m,\u001b[49m\u001b[43m \u001b[49m\u001b[43mfrequency\u001b[49m\u001b[43m,\u001b[49m\u001b[43m \u001b[49m\u001b[43mtrailing\u001b[49m\u001b[38;5;241;43m=\u001b[39;49m\u001b[43mtrailing\u001b[49m\u001b[43m)\u001b[49m\n",
            "File \u001b[0;32m~/anaconda3/lib/python3.10/site-packages/yahooquery/ticker.py:512\u001b[0m, in \u001b[0;36mTicker._financials\u001b[0;34m(self, financials_type, frequency, premium, types, trailing)\u001b[0m\n\u001b[1;32m    510\u001b[0m \u001b[38;5;28;01melse\u001b[39;00m:\n\u001b[1;32m    511\u001b[0m     prefixed_types \u001b[38;5;241m=\u001b[39m [\u001b[38;5;124m\"\u001b[39m\u001b[38;5;132;01m{}\u001b[39;00m\u001b[38;5;132;01m{}\u001b[39;00m\u001b[38;5;124m\"\u001b[39m\u001b[38;5;241m.\u001b[39mformat(prefix, t) \u001b[38;5;28;01mfor\u001b[39;00m t \u001b[38;5;129;01min\u001b[39;00m types]\n\u001b[0;32m--> 512\u001b[0m data \u001b[38;5;241m=\u001b[39m \u001b[38;5;28;43mself\u001b[39;49m\u001b[38;5;241;43m.\u001b[39;49m\u001b[43m_get_data\u001b[49m\u001b[43m(\u001b[49m\n\u001b[1;32m    513\u001b[0m \u001b[43m    \u001b[49m\u001b[43mkey\u001b[49m\u001b[43m,\u001b[49m\u001b[43m \u001b[49m\u001b[43m{\u001b[49m\u001b[38;5;124;43m\"\u001b[39;49m\u001b[38;5;124;43mtype\u001b[39;49m\u001b[38;5;124;43m\"\u001b[39;49m\u001b[43m:\u001b[49m\u001b[43m \u001b[49m\u001b[38;5;124;43m\"\u001b[39;49m\u001b[38;5;124;43m,\u001b[39;49m\u001b[38;5;124;43m\"\u001b[39;49m\u001b[38;5;241;43m.\u001b[39;49m\u001b[43mjoin\u001b[49m\u001b[43m(\u001b[49m\u001b[43mprefixed_types\u001b[49m\u001b[43m)\u001b[49m\u001b[43m}\u001b[49m\u001b[43m,\u001b[49m\u001b[43m \u001b[49m\u001b[38;5;241;43m*\u001b[39;49m\u001b[38;5;241;43m*\u001b[39;49m\u001b[43m{\u001b[49m\u001b[38;5;124;43m\"\u001b[39;49m\u001b[38;5;124;43mlist_result\u001b[39;49m\u001b[38;5;124;43m\"\u001b[39;49m\u001b[43m:\u001b[49m\u001b[43m \u001b[49m\u001b[38;5;28;43;01mTrue\u001b[39;49;00m\u001b[43m}\u001b[49m\n\u001b[1;32m    514\u001b[0m \u001b[43m\u001b[49m\u001b[43m)\u001b[49m\n\u001b[1;32m    515\u001b[0m dataframes \u001b[38;5;241m=\u001b[39m []\n\u001b[1;32m    516\u001b[0m \u001b[38;5;28;01mtry\u001b[39;00m:\n",
            "File \u001b[0;32m~/anaconda3/lib/python3.10/site-packages/yahooquery/base.py:1096\u001b[0m, in \u001b[0;36m_YahooFinance._get_data\u001b[0;34m(self, key, params, **kwargs)\u001b[0m\n\u001b[1;32m   1094\u001b[0m config \u001b[38;5;241m=\u001b[39m \u001b[38;5;28mself\u001b[39m\u001b[38;5;241m.\u001b[39m_CONFIG[key]\n\u001b[1;32m   1095\u001b[0m params \u001b[38;5;241m=\u001b[39m \u001b[38;5;28mself\u001b[39m\u001b[38;5;241m.\u001b[39m_construct_params(config, params)\n\u001b[0;32m-> 1096\u001b[0m urls \u001b[38;5;241m=\u001b[39m \u001b[38;5;28;43mself\u001b[39;49m\u001b[38;5;241;43m.\u001b[39;49m\u001b[43m_construct_urls\u001b[49m\u001b[43m(\u001b[49m\u001b[43mconfig\u001b[49m\u001b[43m,\u001b[49m\u001b[43m \u001b[49m\u001b[43mparams\u001b[49m\u001b[43m,\u001b[49m\u001b[43m \u001b[49m\u001b[38;5;241;43m*\u001b[39;49m\u001b[38;5;241;43m*\u001b[39;49m\u001b[43mkwargs\u001b[49m\u001b[43m)\u001b[49m\n\u001b[1;32m   1097\u001b[0m response_field \u001b[38;5;241m=\u001b[39m config[\u001b[38;5;124m\"\u001b[39m\u001b[38;5;124mresponse_field\u001b[39m\u001b[38;5;124m\"\u001b[39m]\n\u001b[1;32m   1098\u001b[0m \u001b[38;5;28;01mtry\u001b[39;00m:\n",
            "File \u001b[0;32m~/anaconda3/lib/python3.10/site-packages/yahooquery/base.py:1169\u001b[0m, in \u001b[0;36m_YahooFinance._construct_urls\u001b[0;34m(self, config, params, **kwargs)\u001b[0m\n\u001b[1;32m   1163\u001b[0m \u001b[38;5;28;01melse\u001b[39;00m:\n\u001b[1;32m   1164\u001b[0m     ls \u001b[38;5;241m=\u001b[39m (\n\u001b[1;32m   1165\u001b[0m         \u001b[38;5;28mself\u001b[39m\u001b[38;5;241m.\u001b[39m_symbols\n\u001b[1;32m   1166\u001b[0m         \u001b[38;5;28;01mif\u001b[39;00m \u001b[38;5;28misinstance\u001b[39m(\u001b[38;5;28mself\u001b[39m\u001b[38;5;241m.\u001b[39msession, FuturesSession)\n\u001b[1;32m   1167\u001b[0m         \u001b[38;5;28;01melse\u001b[39;00m tqdm(\u001b[38;5;28mself\u001b[39m\u001b[38;5;241m.\u001b[39m_symbols, disable\u001b[38;5;241m=\u001b[39m\u001b[38;5;129;01mnot\u001b[39;00m \u001b[38;5;28mself\u001b[39m\u001b[38;5;241m.\u001b[39mprogress)\n\u001b[1;32m   1168\u001b[0m     )\n\u001b[0;32m-> 1169\u001b[0m     urls \u001b[38;5;241m=\u001b[39m [\n\u001b[1;32m   1170\u001b[0m         \u001b[38;5;28mself\u001b[39m\u001b[38;5;241m.\u001b[39msession\u001b[38;5;241m.\u001b[39mget(\n\u001b[1;32m   1171\u001b[0m             url\u001b[38;5;241m=\u001b[39mconfig[\u001b[38;5;124m\"\u001b[39m\u001b[38;5;124mpath\u001b[39m\u001b[38;5;124m\"\u001b[39m]\u001b[38;5;241m.\u001b[39mformat(\u001b[38;5;241m*\u001b[39m\u001b[38;5;241m*\u001b[39m{\u001b[38;5;124m\"\u001b[39m\u001b[38;5;124msymbol\u001b[39m\u001b[38;5;124m\"\u001b[39m: symbol}), params\u001b[38;5;241m=\u001b[39mparams\n\u001b[1;32m   1172\u001b[0m         )\n\u001b[1;32m   1173\u001b[0m         \u001b[38;5;28;01mfor\u001b[39;00m symbol \u001b[38;5;129;01min\u001b[39;00m ls\n\u001b[1;32m   1174\u001b[0m     ]\n\u001b[1;32m   1175\u001b[0m \u001b[38;5;28;01mreturn\u001b[39;00m urls\n",
            "File \u001b[0;32m~/anaconda3/lib/python3.10/site-packages/yahooquery/base.py:1170\u001b[0m, in \u001b[0;36m<listcomp>\u001b[0;34m(.0)\u001b[0m\n\u001b[1;32m   1163\u001b[0m \u001b[38;5;28;01melse\u001b[39;00m:\n\u001b[1;32m   1164\u001b[0m     ls \u001b[38;5;241m=\u001b[39m (\n\u001b[1;32m   1165\u001b[0m         \u001b[38;5;28mself\u001b[39m\u001b[38;5;241m.\u001b[39m_symbols\n\u001b[1;32m   1166\u001b[0m         \u001b[38;5;28;01mif\u001b[39;00m \u001b[38;5;28misinstance\u001b[39m(\u001b[38;5;28mself\u001b[39m\u001b[38;5;241m.\u001b[39msession, FuturesSession)\n\u001b[1;32m   1167\u001b[0m         \u001b[38;5;28;01melse\u001b[39;00m tqdm(\u001b[38;5;28mself\u001b[39m\u001b[38;5;241m.\u001b[39m_symbols, disable\u001b[38;5;241m=\u001b[39m\u001b[38;5;129;01mnot\u001b[39;00m \u001b[38;5;28mself\u001b[39m\u001b[38;5;241m.\u001b[39mprogress)\n\u001b[1;32m   1168\u001b[0m     )\n\u001b[1;32m   1169\u001b[0m     urls \u001b[38;5;241m=\u001b[39m [\n\u001b[0;32m-> 1170\u001b[0m         \u001b[38;5;28;43mself\u001b[39;49m\u001b[38;5;241;43m.\u001b[39;49m\u001b[43msession\u001b[49m\u001b[38;5;241;43m.\u001b[39;49m\u001b[43mget\u001b[49m\u001b[43m(\u001b[49m\n\u001b[1;32m   1171\u001b[0m \u001b[43m            \u001b[49m\u001b[43murl\u001b[49m\u001b[38;5;241;43m=\u001b[39;49m\u001b[43mconfig\u001b[49m\u001b[43m[\u001b[49m\u001b[38;5;124;43m\"\u001b[39;49m\u001b[38;5;124;43mpath\u001b[39;49m\u001b[38;5;124;43m\"\u001b[39;49m\u001b[43m]\u001b[49m\u001b[38;5;241;43m.\u001b[39;49m\u001b[43mformat\u001b[49m\u001b[43m(\u001b[49m\u001b[38;5;241;43m*\u001b[39;49m\u001b[38;5;241;43m*\u001b[39;49m\u001b[43m{\u001b[49m\u001b[38;5;124;43m\"\u001b[39;49m\u001b[38;5;124;43msymbol\u001b[39;49m\u001b[38;5;124;43m\"\u001b[39;49m\u001b[43m:\u001b[49m\u001b[43m \u001b[49m\u001b[43msymbol\u001b[49m\u001b[43m}\u001b[49m\u001b[43m)\u001b[49m\u001b[43m,\u001b[49m\u001b[43m \u001b[49m\u001b[43mparams\u001b[49m\u001b[38;5;241;43m=\u001b[39;49m\u001b[43mparams\u001b[49m\n\u001b[1;32m   1172\u001b[0m \u001b[43m        \u001b[49m\u001b[43m)\u001b[49m\n\u001b[1;32m   1173\u001b[0m         \u001b[38;5;28;01mfor\u001b[39;00m symbol \u001b[38;5;129;01min\u001b[39;00m ls\n\u001b[1;32m   1174\u001b[0m     ]\n\u001b[1;32m   1175\u001b[0m \u001b[38;5;28;01mreturn\u001b[39;00m urls\n",
            "File \u001b[0;32m~/anaconda3/lib/python3.10/site-packages/requests/sessions.py:602\u001b[0m, in \u001b[0;36mSession.get\u001b[0;34m(self, url, **kwargs)\u001b[0m\n\u001b[1;32m    594\u001b[0m \u001b[38;5;124mr\u001b[39m\u001b[38;5;124;03m\"\"\"Sends a GET request. Returns :class:`Response` object.\u001b[39;00m\n\u001b[1;32m    595\u001b[0m \n\u001b[1;32m    596\u001b[0m \u001b[38;5;124;03m:param url: URL for the new :class:`Request` object.\u001b[39;00m\n\u001b[1;32m    597\u001b[0m \u001b[38;5;124;03m:param \\*\\*kwargs: Optional arguments that ``request`` takes.\u001b[39;00m\n\u001b[1;32m    598\u001b[0m \u001b[38;5;124;03m:rtype: requests.Response\u001b[39;00m\n\u001b[1;32m    599\u001b[0m \u001b[38;5;124;03m\"\"\"\u001b[39;00m\n\u001b[1;32m    601\u001b[0m kwargs\u001b[38;5;241m.\u001b[39msetdefault(\u001b[38;5;124m\"\u001b[39m\u001b[38;5;124mallow_redirects\u001b[39m\u001b[38;5;124m\"\u001b[39m, \u001b[38;5;28;01mTrue\u001b[39;00m)\n\u001b[0;32m--> 602\u001b[0m \u001b[38;5;28;01mreturn\u001b[39;00m \u001b[38;5;28;43mself\u001b[39;49m\u001b[38;5;241;43m.\u001b[39;49m\u001b[43mrequest\u001b[49m\u001b[43m(\u001b[49m\u001b[38;5;124;43m\"\u001b[39;49m\u001b[38;5;124;43mGET\u001b[39;49m\u001b[38;5;124;43m\"\u001b[39;49m\u001b[43m,\u001b[49m\u001b[43m \u001b[49m\u001b[43murl\u001b[49m\u001b[43m,\u001b[49m\u001b[43m \u001b[49m\u001b[38;5;241;43m*\u001b[39;49m\u001b[38;5;241;43m*\u001b[39;49m\u001b[43mkwargs\u001b[49m\u001b[43m)\u001b[49m\n",
            "File \u001b[0;32m~/anaconda3/lib/python3.10/site-packages/requests/sessions.py:589\u001b[0m, in \u001b[0;36mSession.request\u001b[0;34m(self, method, url, params, data, headers, cookies, files, auth, timeout, allow_redirects, proxies, hooks, stream, verify, cert, json)\u001b[0m\n\u001b[1;32m    584\u001b[0m send_kwargs \u001b[38;5;241m=\u001b[39m {\n\u001b[1;32m    585\u001b[0m     \u001b[38;5;124m\"\u001b[39m\u001b[38;5;124mtimeout\u001b[39m\u001b[38;5;124m\"\u001b[39m: timeout,\n\u001b[1;32m    586\u001b[0m     \u001b[38;5;124m\"\u001b[39m\u001b[38;5;124mallow_redirects\u001b[39m\u001b[38;5;124m\"\u001b[39m: allow_redirects,\n\u001b[1;32m    587\u001b[0m }\n\u001b[1;32m    588\u001b[0m send_kwargs\u001b[38;5;241m.\u001b[39mupdate(settings)\n\u001b[0;32m--> 589\u001b[0m resp \u001b[38;5;241m=\u001b[39m \u001b[38;5;28;43mself\u001b[39;49m\u001b[38;5;241;43m.\u001b[39;49m\u001b[43msend\u001b[49m\u001b[43m(\u001b[49m\u001b[43mprep\u001b[49m\u001b[43m,\u001b[49m\u001b[43m \u001b[49m\u001b[38;5;241;43m*\u001b[39;49m\u001b[38;5;241;43m*\u001b[39;49m\u001b[43msend_kwargs\u001b[49m\u001b[43m)\u001b[49m\n\u001b[1;32m    591\u001b[0m \u001b[38;5;28;01mreturn\u001b[39;00m resp\n",
            "File \u001b[0;32m~/anaconda3/lib/python3.10/site-packages/requests/sessions.py:703\u001b[0m, in \u001b[0;36mSession.send\u001b[0;34m(self, request, **kwargs)\u001b[0m\n\u001b[1;32m    700\u001b[0m start \u001b[38;5;241m=\u001b[39m preferred_clock()\n\u001b[1;32m    702\u001b[0m \u001b[38;5;66;03m# Send the request\u001b[39;00m\n\u001b[0;32m--> 703\u001b[0m r \u001b[38;5;241m=\u001b[39m \u001b[43madapter\u001b[49m\u001b[38;5;241;43m.\u001b[39;49m\u001b[43msend\u001b[49m\u001b[43m(\u001b[49m\u001b[43mrequest\u001b[49m\u001b[43m,\u001b[49m\u001b[43m \u001b[49m\u001b[38;5;241;43m*\u001b[39;49m\u001b[38;5;241;43m*\u001b[39;49m\u001b[43mkwargs\u001b[49m\u001b[43m)\u001b[49m\n\u001b[1;32m    705\u001b[0m \u001b[38;5;66;03m# Total elapsed time of the request (approximately)\u001b[39;00m\n\u001b[1;32m    706\u001b[0m elapsed \u001b[38;5;241m=\u001b[39m preferred_clock() \u001b[38;5;241m-\u001b[39m start\n",
            "File \u001b[0;32m~/anaconda3/lib/python3.10/site-packages/yahooquery/utils/__init__.py:1342\u001b[0m, in \u001b[0;36mTimeoutHTTPAdapter.send\u001b[0;34m(self, request, **kwargs)\u001b[0m\n\u001b[1;32m   1340\u001b[0m \u001b[38;5;28;01mif\u001b[39;00m timeout \u001b[38;5;129;01mis\u001b[39;00m \u001b[38;5;28;01mNone\u001b[39;00m:\n\u001b[1;32m   1341\u001b[0m     kwargs[\u001b[38;5;124m\"\u001b[39m\u001b[38;5;124mtimeout\u001b[39m\u001b[38;5;124m\"\u001b[39m] \u001b[38;5;241m=\u001b[39m \u001b[38;5;28mself\u001b[39m\u001b[38;5;241m.\u001b[39mtimeout\n\u001b[0;32m-> 1342\u001b[0m \u001b[38;5;28;01mreturn\u001b[39;00m \u001b[38;5;28;43msuper\u001b[39;49m\u001b[43m(\u001b[49m\u001b[43mTimeoutHTTPAdapter\u001b[49m\u001b[43m,\u001b[49m\u001b[43m \u001b[49m\u001b[38;5;28;43mself\u001b[39;49m\u001b[43m)\u001b[49m\u001b[38;5;241;43m.\u001b[39;49m\u001b[43msend\u001b[49m\u001b[43m(\u001b[49m\u001b[43mrequest\u001b[49m\u001b[43m,\u001b[49m\u001b[43m \u001b[49m\u001b[38;5;241;43m*\u001b[39;49m\u001b[38;5;241;43m*\u001b[39;49m\u001b[43mkwargs\u001b[49m\u001b[43m)\u001b[49m\n",
            "File \u001b[0;32m~/anaconda3/lib/python3.10/site-packages/requests/adapters.py:667\u001b[0m, in \u001b[0;36mHTTPAdapter.send\u001b[0;34m(self, request, stream, timeout, verify, cert, proxies)\u001b[0m\n\u001b[1;32m    664\u001b[0m     timeout \u001b[38;5;241m=\u001b[39m TimeoutSauce(connect\u001b[38;5;241m=\u001b[39mtimeout, read\u001b[38;5;241m=\u001b[39mtimeout)\n\u001b[1;32m    666\u001b[0m \u001b[38;5;28;01mtry\u001b[39;00m:\n\u001b[0;32m--> 667\u001b[0m     resp \u001b[38;5;241m=\u001b[39m \u001b[43mconn\u001b[49m\u001b[38;5;241;43m.\u001b[39;49m\u001b[43murlopen\u001b[49m\u001b[43m(\u001b[49m\n\u001b[1;32m    668\u001b[0m \u001b[43m        \u001b[49m\u001b[43mmethod\u001b[49m\u001b[38;5;241;43m=\u001b[39;49m\u001b[43mrequest\u001b[49m\u001b[38;5;241;43m.\u001b[39;49m\u001b[43mmethod\u001b[49m\u001b[43m,\u001b[49m\n\u001b[1;32m    669\u001b[0m \u001b[43m        \u001b[49m\u001b[43murl\u001b[49m\u001b[38;5;241;43m=\u001b[39;49m\u001b[43murl\u001b[49m\u001b[43m,\u001b[49m\n\u001b[1;32m    670\u001b[0m \u001b[43m        \u001b[49m\u001b[43mbody\u001b[49m\u001b[38;5;241;43m=\u001b[39;49m\u001b[43mrequest\u001b[49m\u001b[38;5;241;43m.\u001b[39;49m\u001b[43mbody\u001b[49m\u001b[43m,\u001b[49m\n\u001b[1;32m    671\u001b[0m \u001b[43m        \u001b[49m\u001b[43mheaders\u001b[49m\u001b[38;5;241;43m=\u001b[39;49m\u001b[43mrequest\u001b[49m\u001b[38;5;241;43m.\u001b[39;49m\u001b[43mheaders\u001b[49m\u001b[43m,\u001b[49m\n\u001b[1;32m    672\u001b[0m \u001b[43m        \u001b[49m\u001b[43mredirect\u001b[49m\u001b[38;5;241;43m=\u001b[39;49m\u001b[38;5;28;43;01mFalse\u001b[39;49;00m\u001b[43m,\u001b[49m\n\u001b[1;32m    673\u001b[0m \u001b[43m        \u001b[49m\u001b[43massert_same_host\u001b[49m\u001b[38;5;241;43m=\u001b[39;49m\u001b[38;5;28;43;01mFalse\u001b[39;49;00m\u001b[43m,\u001b[49m\n\u001b[1;32m    674\u001b[0m \u001b[43m        \u001b[49m\u001b[43mpreload_content\u001b[49m\u001b[38;5;241;43m=\u001b[39;49m\u001b[38;5;28;43;01mFalse\u001b[39;49;00m\u001b[43m,\u001b[49m\n\u001b[1;32m    675\u001b[0m \u001b[43m        \u001b[49m\u001b[43mdecode_content\u001b[49m\u001b[38;5;241;43m=\u001b[39;49m\u001b[38;5;28;43;01mFalse\u001b[39;49;00m\u001b[43m,\u001b[49m\n\u001b[1;32m    676\u001b[0m \u001b[43m        \u001b[49m\u001b[43mretries\u001b[49m\u001b[38;5;241;43m=\u001b[39;49m\u001b[38;5;28;43mself\u001b[39;49m\u001b[38;5;241;43m.\u001b[39;49m\u001b[43mmax_retries\u001b[49m\u001b[43m,\u001b[49m\n\u001b[1;32m    677\u001b[0m \u001b[43m        \u001b[49m\u001b[43mtimeout\u001b[49m\u001b[38;5;241;43m=\u001b[39;49m\u001b[43mtimeout\u001b[49m\u001b[43m,\u001b[49m\n\u001b[1;32m    678\u001b[0m \u001b[43m        \u001b[49m\u001b[43mchunked\u001b[49m\u001b[38;5;241;43m=\u001b[39;49m\u001b[43mchunked\u001b[49m\u001b[43m,\u001b[49m\n\u001b[1;32m    679\u001b[0m \u001b[43m    \u001b[49m\u001b[43m)\u001b[49m\n\u001b[1;32m    681\u001b[0m \u001b[38;5;28;01mexcept\u001b[39;00m (ProtocolError, \u001b[38;5;167;01mOSError\u001b[39;00m) \u001b[38;5;28;01mas\u001b[39;00m err:\n\u001b[1;32m    682\u001b[0m     \u001b[38;5;28;01mraise\u001b[39;00m \u001b[38;5;167;01mConnectionError\u001b[39;00m(err, request\u001b[38;5;241m=\u001b[39mrequest)\n",
            "File \u001b[0;32m~/anaconda3/lib/python3.10/site-packages/urllib3/connectionpool.py:878\u001b[0m, in \u001b[0;36mHTTPConnectionPool.urlopen\u001b[0;34m(self, method, url, body, headers, retries, redirect, assert_same_host, timeout, pool_timeout, release_conn, chunked, body_pos, **response_kw)\u001b[0m\n\u001b[1;32m    876\u001b[0m     retries\u001b[38;5;241m.\u001b[39msleep(response)\n\u001b[1;32m    877\u001b[0m     log\u001b[38;5;241m.\u001b[39mdebug(\u001b[38;5;124m\"\u001b[39m\u001b[38;5;124mRetry: \u001b[39m\u001b[38;5;132;01m%s\u001b[39;00m\u001b[38;5;124m\"\u001b[39m, url)\n\u001b[0;32m--> 878\u001b[0m     \u001b[38;5;28;01mreturn\u001b[39;00m \u001b[38;5;28;43mself\u001b[39;49m\u001b[38;5;241;43m.\u001b[39;49m\u001b[43murlopen\u001b[49m\u001b[43m(\u001b[49m\n\u001b[1;32m    879\u001b[0m \u001b[43m        \u001b[49m\u001b[43mmethod\u001b[49m\u001b[43m,\u001b[49m\n\u001b[1;32m    880\u001b[0m \u001b[43m        \u001b[49m\u001b[43murl\u001b[49m\u001b[43m,\u001b[49m\n\u001b[1;32m    881\u001b[0m \u001b[43m        \u001b[49m\u001b[43mbody\u001b[49m\u001b[43m,\u001b[49m\n\u001b[1;32m    882\u001b[0m \u001b[43m        \u001b[49m\u001b[43mheaders\u001b[49m\u001b[43m,\u001b[49m\n\u001b[1;32m    883\u001b[0m \u001b[43m        \u001b[49m\u001b[43mretries\u001b[49m\u001b[38;5;241;43m=\u001b[39;49m\u001b[43mretries\u001b[49m\u001b[43m,\u001b[49m\n\u001b[1;32m    884\u001b[0m \u001b[43m        \u001b[49m\u001b[43mredirect\u001b[49m\u001b[38;5;241;43m=\u001b[39;49m\u001b[43mredirect\u001b[49m\u001b[43m,\u001b[49m\n\u001b[1;32m    885\u001b[0m \u001b[43m        \u001b[49m\u001b[43massert_same_host\u001b[49m\u001b[38;5;241;43m=\u001b[39;49m\u001b[43massert_same_host\u001b[49m\u001b[43m,\u001b[49m\n\u001b[1;32m    886\u001b[0m \u001b[43m        \u001b[49m\u001b[43mtimeout\u001b[49m\u001b[38;5;241;43m=\u001b[39;49m\u001b[43mtimeout\u001b[49m\u001b[43m,\u001b[49m\n\u001b[1;32m    887\u001b[0m \u001b[43m        \u001b[49m\u001b[43mpool_timeout\u001b[49m\u001b[38;5;241;43m=\u001b[39;49m\u001b[43mpool_timeout\u001b[49m\u001b[43m,\u001b[49m\n\u001b[1;32m    888\u001b[0m \u001b[43m        \u001b[49m\u001b[43mrelease_conn\u001b[49m\u001b[38;5;241;43m=\u001b[39;49m\u001b[43mrelease_conn\u001b[49m\u001b[43m,\u001b[49m\n\u001b[1;32m    889\u001b[0m \u001b[43m        \u001b[49m\u001b[43mchunked\u001b[49m\u001b[38;5;241;43m=\u001b[39;49m\u001b[43mchunked\u001b[49m\u001b[43m,\u001b[49m\n\u001b[1;32m    890\u001b[0m \u001b[43m        \u001b[49m\u001b[43mbody_pos\u001b[49m\u001b[38;5;241;43m=\u001b[39;49m\u001b[43mbody_pos\u001b[49m\u001b[43m,\u001b[49m\n\u001b[1;32m    891\u001b[0m \u001b[43m        \u001b[49m\u001b[38;5;241;43m*\u001b[39;49m\u001b[38;5;241;43m*\u001b[39;49m\u001b[43mresponse_kw\u001b[49m\n\u001b[1;32m    892\u001b[0m \u001b[43m    \u001b[49m\u001b[43m)\u001b[49m\n\u001b[1;32m    894\u001b[0m \u001b[38;5;28;01mreturn\u001b[39;00m response\n",
            "File \u001b[0;32m~/anaconda3/lib/python3.10/site-packages/urllib3/connectionpool.py:878\u001b[0m, in \u001b[0;36mHTTPConnectionPool.urlopen\u001b[0;34m(self, method, url, body, headers, retries, redirect, assert_same_host, timeout, pool_timeout, release_conn, chunked, body_pos, **response_kw)\u001b[0m\n\u001b[1;32m    876\u001b[0m     retries\u001b[38;5;241m.\u001b[39msleep(response)\n\u001b[1;32m    877\u001b[0m     log\u001b[38;5;241m.\u001b[39mdebug(\u001b[38;5;124m\"\u001b[39m\u001b[38;5;124mRetry: \u001b[39m\u001b[38;5;132;01m%s\u001b[39;00m\u001b[38;5;124m\"\u001b[39m, url)\n\u001b[0;32m--> 878\u001b[0m     \u001b[38;5;28;01mreturn\u001b[39;00m \u001b[38;5;28;43mself\u001b[39;49m\u001b[38;5;241;43m.\u001b[39;49m\u001b[43murlopen\u001b[49m\u001b[43m(\u001b[49m\n\u001b[1;32m    879\u001b[0m \u001b[43m        \u001b[49m\u001b[43mmethod\u001b[49m\u001b[43m,\u001b[49m\n\u001b[1;32m    880\u001b[0m \u001b[43m        \u001b[49m\u001b[43murl\u001b[49m\u001b[43m,\u001b[49m\n\u001b[1;32m    881\u001b[0m \u001b[43m        \u001b[49m\u001b[43mbody\u001b[49m\u001b[43m,\u001b[49m\n\u001b[1;32m    882\u001b[0m \u001b[43m        \u001b[49m\u001b[43mheaders\u001b[49m\u001b[43m,\u001b[49m\n\u001b[1;32m    883\u001b[0m \u001b[43m        \u001b[49m\u001b[43mretries\u001b[49m\u001b[38;5;241;43m=\u001b[39;49m\u001b[43mretries\u001b[49m\u001b[43m,\u001b[49m\n\u001b[1;32m    884\u001b[0m \u001b[43m        \u001b[49m\u001b[43mredirect\u001b[49m\u001b[38;5;241;43m=\u001b[39;49m\u001b[43mredirect\u001b[49m\u001b[43m,\u001b[49m\n\u001b[1;32m    885\u001b[0m \u001b[43m        \u001b[49m\u001b[43massert_same_host\u001b[49m\u001b[38;5;241;43m=\u001b[39;49m\u001b[43massert_same_host\u001b[49m\u001b[43m,\u001b[49m\n\u001b[1;32m    886\u001b[0m \u001b[43m        \u001b[49m\u001b[43mtimeout\u001b[49m\u001b[38;5;241;43m=\u001b[39;49m\u001b[43mtimeout\u001b[49m\u001b[43m,\u001b[49m\n\u001b[1;32m    887\u001b[0m \u001b[43m        \u001b[49m\u001b[43mpool_timeout\u001b[49m\u001b[38;5;241;43m=\u001b[39;49m\u001b[43mpool_timeout\u001b[49m\u001b[43m,\u001b[49m\n\u001b[1;32m    888\u001b[0m \u001b[43m        \u001b[49m\u001b[43mrelease_conn\u001b[49m\u001b[38;5;241;43m=\u001b[39;49m\u001b[43mrelease_conn\u001b[49m\u001b[43m,\u001b[49m\n\u001b[1;32m    889\u001b[0m \u001b[43m        \u001b[49m\u001b[43mchunked\u001b[49m\u001b[38;5;241;43m=\u001b[39;49m\u001b[43mchunked\u001b[49m\u001b[43m,\u001b[49m\n\u001b[1;32m    890\u001b[0m \u001b[43m        \u001b[49m\u001b[43mbody_pos\u001b[49m\u001b[38;5;241;43m=\u001b[39;49m\u001b[43mbody_pos\u001b[49m\u001b[43m,\u001b[49m\n\u001b[1;32m    891\u001b[0m \u001b[43m        \u001b[49m\u001b[38;5;241;43m*\u001b[39;49m\u001b[38;5;241;43m*\u001b[39;49m\u001b[43mresponse_kw\u001b[49m\n\u001b[1;32m    892\u001b[0m \u001b[43m    \u001b[49m\u001b[43m)\u001b[49m\n\u001b[1;32m    894\u001b[0m \u001b[38;5;28;01mreturn\u001b[39;00m response\n",
            "    \u001b[0;31m[... skipping similar frames: HTTPConnectionPool.urlopen at line 878 (1 times)]\u001b[0m\n",
            "File \u001b[0;32m~/anaconda3/lib/python3.10/site-packages/urllib3/connectionpool.py:878\u001b[0m, in \u001b[0;36mHTTPConnectionPool.urlopen\u001b[0;34m(self, method, url, body, headers, retries, redirect, assert_same_host, timeout, pool_timeout, release_conn, chunked, body_pos, **response_kw)\u001b[0m\n\u001b[1;32m    876\u001b[0m     retries\u001b[38;5;241m.\u001b[39msleep(response)\n\u001b[1;32m    877\u001b[0m     log\u001b[38;5;241m.\u001b[39mdebug(\u001b[38;5;124m\"\u001b[39m\u001b[38;5;124mRetry: \u001b[39m\u001b[38;5;132;01m%s\u001b[39;00m\u001b[38;5;124m\"\u001b[39m, url)\n\u001b[0;32m--> 878\u001b[0m     \u001b[38;5;28;01mreturn\u001b[39;00m \u001b[38;5;28;43mself\u001b[39;49m\u001b[38;5;241;43m.\u001b[39;49m\u001b[43murlopen\u001b[49m\u001b[43m(\u001b[49m\n\u001b[1;32m    879\u001b[0m \u001b[43m        \u001b[49m\u001b[43mmethod\u001b[49m\u001b[43m,\u001b[49m\n\u001b[1;32m    880\u001b[0m \u001b[43m        \u001b[49m\u001b[43murl\u001b[49m\u001b[43m,\u001b[49m\n\u001b[1;32m    881\u001b[0m \u001b[43m        \u001b[49m\u001b[43mbody\u001b[49m\u001b[43m,\u001b[49m\n\u001b[1;32m    882\u001b[0m \u001b[43m        \u001b[49m\u001b[43mheaders\u001b[49m\u001b[43m,\u001b[49m\n\u001b[1;32m    883\u001b[0m \u001b[43m        \u001b[49m\u001b[43mretries\u001b[49m\u001b[38;5;241;43m=\u001b[39;49m\u001b[43mretries\u001b[49m\u001b[43m,\u001b[49m\n\u001b[1;32m    884\u001b[0m \u001b[43m        \u001b[49m\u001b[43mredirect\u001b[49m\u001b[38;5;241;43m=\u001b[39;49m\u001b[43mredirect\u001b[49m\u001b[43m,\u001b[49m\n\u001b[1;32m    885\u001b[0m \u001b[43m        \u001b[49m\u001b[43massert_same_host\u001b[49m\u001b[38;5;241;43m=\u001b[39;49m\u001b[43massert_same_host\u001b[49m\u001b[43m,\u001b[49m\n\u001b[1;32m    886\u001b[0m \u001b[43m        \u001b[49m\u001b[43mtimeout\u001b[49m\u001b[38;5;241;43m=\u001b[39;49m\u001b[43mtimeout\u001b[49m\u001b[43m,\u001b[49m\n\u001b[1;32m    887\u001b[0m \u001b[43m        \u001b[49m\u001b[43mpool_timeout\u001b[49m\u001b[38;5;241;43m=\u001b[39;49m\u001b[43mpool_timeout\u001b[49m\u001b[43m,\u001b[49m\n\u001b[1;32m    888\u001b[0m \u001b[43m        \u001b[49m\u001b[43mrelease_conn\u001b[49m\u001b[38;5;241;43m=\u001b[39;49m\u001b[43mrelease_conn\u001b[49m\u001b[43m,\u001b[49m\n\u001b[1;32m    889\u001b[0m \u001b[43m        \u001b[49m\u001b[43mchunked\u001b[49m\u001b[38;5;241;43m=\u001b[39;49m\u001b[43mchunked\u001b[49m\u001b[43m,\u001b[49m\n\u001b[1;32m    890\u001b[0m \u001b[43m        \u001b[49m\u001b[43mbody_pos\u001b[49m\u001b[38;5;241;43m=\u001b[39;49m\u001b[43mbody_pos\u001b[49m\u001b[43m,\u001b[49m\n\u001b[1;32m    891\u001b[0m \u001b[43m        \u001b[49m\u001b[38;5;241;43m*\u001b[39;49m\u001b[38;5;241;43m*\u001b[39;49m\u001b[43mresponse_kw\u001b[49m\n\u001b[1;32m    892\u001b[0m \u001b[43m    \u001b[49m\u001b[43m)\u001b[49m\n\u001b[1;32m    894\u001b[0m \u001b[38;5;28;01mreturn\u001b[39;00m response\n",
            "File \u001b[0;32m~/anaconda3/lib/python3.10/site-packages/urllib3/connectionpool.py:876\u001b[0m, in \u001b[0;36mHTTPConnectionPool.urlopen\u001b[0;34m(self, method, url, body, headers, retries, redirect, assert_same_host, timeout, pool_timeout, release_conn, chunked, body_pos, **response_kw)\u001b[0m\n\u001b[1;32m    873\u001b[0m     \u001b[38;5;28;01mreturn\u001b[39;00m response\n\u001b[1;32m    875\u001b[0m response\u001b[38;5;241m.\u001b[39mdrain_conn()\n\u001b[0;32m--> 876\u001b[0m \u001b[43mretries\u001b[49m\u001b[38;5;241;43m.\u001b[39;49m\u001b[43msleep\u001b[49m\u001b[43m(\u001b[49m\u001b[43mresponse\u001b[49m\u001b[43m)\u001b[49m\n\u001b[1;32m    877\u001b[0m log\u001b[38;5;241m.\u001b[39mdebug(\u001b[38;5;124m\"\u001b[39m\u001b[38;5;124mRetry: \u001b[39m\u001b[38;5;132;01m%s\u001b[39;00m\u001b[38;5;124m\"\u001b[39m, url)\n\u001b[1;32m    878\u001b[0m \u001b[38;5;28;01mreturn\u001b[39;00m \u001b[38;5;28mself\u001b[39m\u001b[38;5;241m.\u001b[39murlopen(\n\u001b[1;32m    879\u001b[0m     method,\n\u001b[1;32m    880\u001b[0m     url,\n\u001b[0;32m   (...)\u001b[0m\n\u001b[1;32m    891\u001b[0m     \u001b[38;5;241m*\u001b[39m\u001b[38;5;241m*\u001b[39mresponse_kw\n\u001b[1;32m    892\u001b[0m )\n",
            "File \u001b[0;32m~/anaconda3/lib/python3.10/site-packages/urllib3/util/retry.py:432\u001b[0m, in \u001b[0;36mRetry.sleep\u001b[0;34m(self, response)\u001b[0m\n\u001b[1;32m    429\u001b[0m     \u001b[38;5;28;01mif\u001b[39;00m slept:\n\u001b[1;32m    430\u001b[0m         \u001b[38;5;28;01mreturn\u001b[39;00m\n\u001b[0;32m--> 432\u001b[0m \u001b[38;5;28;43mself\u001b[39;49m\u001b[38;5;241;43m.\u001b[39;49m\u001b[43m_sleep_backoff\u001b[49m\u001b[43m(\u001b[49m\u001b[43m)\u001b[49m\n",
            "File \u001b[0;32m~/anaconda3/lib/python3.10/site-packages/urllib3/util/retry.py:416\u001b[0m, in \u001b[0;36mRetry._sleep_backoff\u001b[0;34m(self)\u001b[0m\n\u001b[1;32m    414\u001b[0m \u001b[38;5;28;01mif\u001b[39;00m backoff \u001b[38;5;241m<\u001b[39m\u001b[38;5;241m=\u001b[39m \u001b[38;5;241m0\u001b[39m:\n\u001b[1;32m    415\u001b[0m     \u001b[38;5;28;01mreturn\u001b[39;00m\n\u001b[0;32m--> 416\u001b[0m \u001b[43mtime\u001b[49m\u001b[38;5;241;43m.\u001b[39;49m\u001b[43msleep\u001b[49m\u001b[43m(\u001b[49m\u001b[43mbackoff\u001b[49m\u001b[43m)\u001b[49m\n",
            "\u001b[0;31mKeyboardInterrupt\u001b[0m: "
          ]
        }
      ],
      "source": [
        "res = forecast_operating_margin_tuned(company_ticker, history_years=10)\n",
        "print(f\"Next-year operating margin: {res['margin_forecast']:.2f}%  (± {res['lower_bound']:.2f}%→{res['upper_bound']:.2f}%)\")"
      ]
    },
    {
      "cell_type": "markdown",
      "metadata": {},
      "source": [
        "## Value Drivers (CAGR)"
      ]
    },
    {
      "cell_type": "code",
      "execution_count": 76,
      "metadata": {},
      "outputs": [],
      "source": [
        "def forecast_revenue_cagr(\n",
        "    symbol: str,\n",
        "    forecast_years: int = 5,\n",
        "    history_years: int = 15,\n",
        "    cps_grid: list = [0.05, 0.1, 0.2, 0.3, 0.5],\n",
        "    growth: str = 'linear',\n",
        "    plot: bool = True\n",
        ") -> dict:\n",
        "    \"\"\"\n",
        "    Forecast revenue with Prophet, auto-tuning changepoint_prior_scale (CPS).\n",
        "\n",
        "    Args:\n",
        "      symbol (str): stock ticker\n",
        "      forecast_years (int): how many years forward to forecast\n",
        "      history_years (int): how much historical data to use\n",
        "      cps_grid (list): list of CPS values to try\n",
        "      growth (str): 'linear' or 'logistic'\n",
        "      plot (bool): whether to plot results\n",
        "\n",
        "    Returns:\n",
        "      dict with initial revenue, forecast revenue, CAGR, bounds, best CPS\n",
        "    \"\"\"\n",
        "    # 1) Pull data\n",
        "    t = Ticker(symbol)\n",
        "    inc = t.income_statement(frequency='a')\n",
        "    if inc is None or inc.empty:\n",
        "        raise ValueError(f\"No annual income data for {symbol}\")\n",
        "    inc = inc.reset_index()\n",
        "    inc12 = inc[inc['periodType'] == '12M'].copy()\n",
        "    inc12['asOfDate'] = pd.to_datetime(inc12['asOfDate'])\n",
        "    inc12 = inc12.set_index('asOfDate').sort_index()\n",
        "\n",
        "    if 'TotalRevenue' not in inc12:\n",
        "        raise ValueError(\"TotalRevenue not found\")\n",
        "\n",
        "    rev = inc12['TotalRevenue'].last(f\"{history_years}Y\").dropna()\n",
        "    rev = rev[rev > 0]\n",
        "\n",
        "    if len(rev) < 3:\n",
        "        raise ValueError(\"Not enough revenue history for tuning\")\n",
        "\n",
        "    df = rev.reset_index(name='y').rename(columns={'asOfDate': 'ds'})[['ds', 'y']]\n",
        "\n",
        "    # 2) Auto-tune CPS by splitting into train/validation\n",
        "    errors = []\n",
        "    for cps in cps_grid:\n",
        "        model = Prophet(\n",
        "            growth=growth,\n",
        "            yearly_seasonality=False,\n",
        "            changepoint_prior_scale=cps,\n",
        "            n_changepoints=min(10, len(df)-1)\n",
        "        )\n",
        "        if growth == 'logistic':\n",
        "            cap = df['y'].max() * 1.5\n",
        "            df['cap'] = cap\n",
        "\n",
        "        model.fit(df.iloc[:-1])  # train on all but last year\n",
        "\n",
        "        future = model.make_future_dataframe(periods=1, freq='A')\n",
        "        if growth == 'logistic':\n",
        "            future['cap'] = cap\n",
        "\n",
        "        forecast = model.predict(future)\n",
        "\n",
        "        predicted = forecast['yhat'].iloc[-1]\n",
        "        actual = df['y'].iloc[-1]\n",
        "        error = np.abs(predicted - actual) / actual  # relative error\n",
        "        errors.append((cps, error))\n",
        "\n",
        "    # 3) Choose best CPS\n",
        "    best_cps, best_error = min(errors, key=lambda x: x[1])\n",
        "    print(f\"Best CPS: {best_cps:.3f} with validation error: {best_error:.2%}\")\n",
        "\n",
        "    # 4) Retrain model on full data\n",
        "    model = Prophet(\n",
        "        growth=growth,\n",
        "        yearly_seasonality=False,\n",
        "        changepoint_prior_scale=best_cps,\n",
        "        n_changepoints=min(10, len(df)-1)\n",
        "    )\n",
        "    if growth == 'logistic':\n",
        "        cap = df['y'].max() * 1.5\n",
        "        df['cap'] = cap\n",
        "\n",
        "    model.fit(df)\n",
        "\n",
        "    future = model.make_future_dataframe(periods=forecast_years, freq='A')\n",
        "    if growth == 'logistic':\n",
        "        future['cap'] = cap\n",
        "\n",
        "    forecast = model.predict(future)\n",
        "\n",
        "    # 5) Compute CAGRs\n",
        "    initial_revenue = df['y'].iloc[-1]\n",
        "    forecast_row = forecast.iloc[-1]\n",
        "    forecast_revenue = forecast_row['yhat']\n",
        "    lower_revenue = forecast_row['yhat_lower']\n",
        "    upper_revenue = forecast_row['yhat_upper']\n",
        "\n",
        "    n = forecast_years\n",
        "    cagr_forecast = (forecast_revenue / initial_revenue) ** (1/n) - 1\n",
        "    lower_bound = (lower_revenue / initial_revenue) ** (1/n) - 1\n",
        "    upper_bound = (upper_revenue / initial_revenue) ** (1/n) - 1\n",
        "\n",
        "    if plot:\n",
        "        plt.figure(figsize=(10,6))\n",
        "        plt.plot(df['ds'], df['y'], 'o-', label='Historical Revenue')\n",
        "        plt.plot(forecast['ds'], forecast['yhat'], '--', label='Forecast Revenue')\n",
        "        plt.fill_between(\n",
        "            forecast['ds'], forecast['yhat_lower'], forecast['yhat_upper'],\n",
        "            color='orange', alpha=0.3, label='Uncertainty'\n",
        "        )\n",
        "        plt.axvline(df['ds'].iloc[-1], color='gray', linestyle=':')\n",
        "        plt.title(f\"{symbol} Revenue Forecast (5 Years) [Best CPS={best_cps}]\")\n",
        "        plt.xlabel(\"Year\")\n",
        "        plt.ylabel(\"Revenue (USD)\")\n",
        "        plt.legend()\n",
        "        plt.grid(True)\n",
        "        plt.tight_layout()\n",
        "        plt.show()\n",
        "\n",
        "    return {\n",
        "        'initial_revenue': initial_revenue,\n",
        "        'forecast_revenue': forecast_revenue,\n",
        "        'cagr_forecast': cagr_forecast * 100,\n",
        "        'lower_bound': lower_bound * 100,\n",
        "        'upper_bound': upper_bound * 100,\n",
        "        'forecast_df': forecast[['ds', 'yhat', 'yhat_lower', 'yhat_upper']],\n",
        "        'best_cps': best_cps\n",
        "    }"
      ]
    },
    {
      "cell_type": "code",
      "execution_count": 77,
      "metadata": {},
      "outputs": [
        {
          "name": "stderr",
          "output_type": "stream",
          "text": [
            "21:01:51 - cmdstanpy - INFO - Chain [1] start processing\n",
            "21:01:51 - cmdstanpy - INFO - Chain [1] done processing\n",
            "21:01:51 - cmdstanpy - INFO - Chain [1] start processing\n",
            "21:01:51 - cmdstanpy - INFO - Chain [1] done processing\n",
            "21:01:51 - cmdstanpy - INFO - Chain [1] start processing\n",
            "21:01:51 - cmdstanpy - INFO - Chain [1] done processing\n",
            "21:01:51 - cmdstanpy - INFO - Chain [1] start processing\n",
            "21:01:51 - cmdstanpy - INFO - Chain [1] done processing\n",
            "21:01:51 - cmdstanpy - INFO - Chain [1] start processing\n",
            "21:01:51 - cmdstanpy - INFO - Chain [1] done processing\n",
            "21:01:51 - cmdstanpy - INFO - Chain [1] start processing\n",
            "21:01:51 - cmdstanpy - INFO - Chain [1] done processing\n"
          ]
        },
        {
          "name": "stdout",
          "output_type": "stream",
          "text": [
            "Best CPS: 0.300 with validation error: 9.73%\n"
          ]
        },
        {
          "data": {
            "image/png": "[encoded data removed]",
            "text/plain": [
              "<Figure size 1000x600 with 1 Axes>"
            ]
          },
          "metadata": {},
          "output_type": "display_data"
        },
        {
          "name": "stdout",
          "output_type": "stream",
          "text": [
            "5-Year Forecasted CAGR: -16.70%\n",
            "90% confidence: -22.99% → -11.78%\n",
            "Tuned CPS: 0.30\n"
          ]
        }
      ],
      "source": [
        "result = forecast_revenue_cagr(\n",
        "    company_ticker,\n",
        "    forecast_years=5,\n",
        "    growth='logistic'\n",
        ")\n",
        "\n",
        "print(f\"5-Year Forecasted CAGR: {result['cagr_forecast']:.2f}%\")\n",
        "print(f\"90% confidence: {result['lower_bound']:.2f}% → {result['upper_bound']:.2f}%\")\n",
        "print(f\"Tuned CPS: {result['best_cps']:.2f}\")"
      ]
    },
    {
      "cell_type": "markdown",
      "metadata": {},
      "source": [
        "## Value Drivers (Target Pre-Tax Operating Margin, Years to Convergence)"
      ]
    },
    {
      "cell_type": "code",
      "execution_count": 78,
      "metadata": {},
      "outputs": [],
      "source": [
        "def forecast_operating_margin(symbol: str, history_years: int = 5) -> dict:\n",
        "    \"\"\"\n",
        "    Forecasts the Target Pre-Tax Operating Margin and estimates\n",
        "    how many years it'll take to converge.\n",
        "\n",
        "    Returns:\n",
        "      {\n",
        "        'current_margin': float (%),\n",
        "        'target_margin': float (%),\n",
        "        'annual_change': float (%/year),\n",
        "        'years_to_converge': float,\n",
        "        'margin_trend_df': DataFrame\n",
        "      }\n",
        "    \"\"\"\n",
        "    # 1. Pull financials\n",
        "    t = Ticker(symbol)\n",
        "    inc = t.income_statement(frequency='a')\n",
        "    if inc is None or inc.empty:\n",
        "        raise ValueError(f\"No annual income statement data for {symbol}\")\n",
        "    \n",
        "    inc = inc.reset_index()\n",
        "    inc = inc.sort_values('asOfDate')\n",
        "    \n",
        "    # 2. Calculate operating margin\n",
        "    inc['operating_margin'] = inc['EBIT'] / inc['TotalRevenue']\n",
        "    inc = inc.dropna(subset=['operating_margin'])\n",
        "    \n",
        "    # 3. Limit to recent history\n",
        "    inc['asOfDate'] = pd.to_datetime(inc['asOfDate'])\n",
        "    inc = inc.set_index('asOfDate')\n",
        "    recent = inc.last(f\"{history_years}Y\")\n",
        "    \n",
        "    if len(recent) < 2:\n",
        "        raise ValueError(\"Not enough historical margin data for trend estimation.\")\n",
        "\n",
        "    # 4. Fit linear trend (year vs margin)\n",
        "    X = recent.index.year.values.reshape(-1,1)\n",
        "    y = recent['operating_margin'].values\n",
        "\n",
        "    model = LinearRegression()\n",
        "    model.fit(X, y)\n",
        "\n",
        "    slope = model.coef_[0]   # margin change per year\n",
        "    intercept = model.intercept_\n",
        "\n",
        "    # 5. Forecast target margin (say, extrapolate +5 years ahead)\n",
        "    future_year = X[-1][0] + 5\n",
        "    target_margin = model.predict(np.array([[future_year]]))[0]\n",
        "\n",
        "    # 6. Current margin\n",
        "    current_margin = y[-1]\n",
        "\n",
        "    # 7. Time to converge\n",
        "    if np.isclose(slope, 0):\n",
        "        years_to_converge = np.inf  # Never converges\n",
        "    else:\n",
        "        years_to_converge = (target_margin - current_margin) / slope\n",
        "\n",
        "    # 8. Package results\n",
        "    margin_trend_df = pd.DataFrame({'year': X.flatten(), 'operating_margin': y})\n",
        "\n",
        "    # Visualization\n",
        "    plt.figure(figsize=(10, 6))\n",
        "    plt.plot(recent.index.year, recent['operating_margin'], 'o-', label='Historical Operating Margin', color='blue')\n",
        "    plt.plot(recent.index.year, model.predict(X), '--', label='Regression Line', color='green')\n",
        "    plt.axvline(future_year, color='red', linestyle=':', label=f'Forecast for {future_year}')\n",
        "    plt.scatter(future_year, target_margin, color='red', zorder=5)\n",
        "    plt.text(future_year, target_margin, f'Target Margin: {target_margin*100:.2f}%', \n",
        "             verticalalignment='bottom', horizontalalignment='right', color='red')\n",
        "    \n",
        "    plt.title(f'{symbol} Operating Margin Forecast and Convergence')\n",
        "    plt.xlabel('Year')\n",
        "    plt.ylabel('Operating Margin (%)')\n",
        "    plt.legend()\n",
        "    plt.grid(True)\n",
        "    plt.tight_layout()\n",
        "    plt.show()\n",
        "\n",
        "    return {\n",
        "        'current_margin': current_margin * 100,\n",
        "        'target_margin': target_margin * 100,\n",
        "        'annual_change': slope * 100,\n",
        "        'years_to_converge': years_to_converge,\n",
        "        'margin_trend_df': margin_trend_df\n",
        "    }\n"
      ]
    },
    {
      "cell_type": "code",
      "execution_count": 79,
      "metadata": {},
      "outputs": [
        {
          "data": {
            "image/png": "[encoded data removed]",
            "text/plain": [
              "<Figure size 1000x600 with 1 Axes>"
            ]
          },
          "metadata": {},
          "output_type": "display_data"
        },
        {
          "name": "stdout",
          "output_type": "stream",
          "text": [
            "Current Margin: 3.78%\n",
            "Target Margin (5yr): 1.42%\n",
            "Annual Change: -0.42% per year\n",
            "Years to Converge: 5.5 years\n"
          ]
        }
      ],
      "source": [
        "result = forecast_operating_margin(company_ticker)\n",
        "\n",
        "print(f\"Current Margin: {result['current_margin']:.2f}%\")\n",
        "print(f\"Target Margin (5yr): {result['target_margin']:.2f}%\")\n",
        "print(f\"Annual Change: {result['annual_change']:.2f}% per year\")\n",
        "print(f\"Years to Converge: {result['years_to_converge']:.1f} years\")"
      ]
    },
    {
      "cell_type": "markdown",
      "metadata": {},
      "source": [
        "## Value Drivers (Sales to Capital Ratio)"
      ]
    },
    {
      "cell_type": "code",
      "execution_count": 80,
      "metadata": {},
      "outputs": [],
      "source": [
        "def forecast_sales_to_capital_ratio(\n",
        "    symbol: str,\n",
        "    history_years: int = 15,\n",
        "    cps: float = 0.05\n",
        ") -> dict:\n",
        "    \"\"\"\n",
        "    Forecasts the sales-to-capital ratio (Revenue / InvestedCapital) for\n",
        "    the next 1–5 years and 6–10 years using Prophet.\n",
        "\n",
        "    Returns:\n",
        "      {\n",
        "        'avg_1_5': float,      # average ratio for years 1–5\n",
        "        'avg_6_10': float,     # average ratio for years 6–10\n",
        "        'forecast_df': DataFrame  # full 10-year forecast with yhat, yhat_lower, yhat_upper\n",
        "      }\n",
        "    \"\"\"\n",
        "    # 1) Fetch annual data\n",
        "    ticker = Ticker(symbol)\n",
        "    inc = ticker.income_statement(frequency='a').reset_index()\n",
        "    bal = ticker.balance_sheet(frequency='a').reset_index()\n",
        "\n",
        "    # 2) Keep only 12M rows and parse dates\n",
        "    inc = inc[inc['periodType'] == '12M'].copy()\n",
        "    bal = bal[bal['periodType'] == '12M'].copy()\n",
        "    inc['asOfDate'] = pd.to_datetime(inc['asOfDate'])\n",
        "    bal['asOfDate'] = pd.to_datetime(bal['asOfDate'])\n",
        "\n",
        "    # 3) Merge Revenue & InvestedCapital on date\n",
        "    df = pd.merge(\n",
        "        inc[['asOfDate','TotalRevenue']],\n",
        "        bal[['asOfDate','InvestedCapital']],\n",
        "        on='asOfDate',\n",
        "        how='inner'\n",
        "    ).sort_values('asOfDate')\n",
        "\n",
        "    # 4) Limit to the last history_years (drop any nulls)\n",
        "    cutoff = df['asOfDate'].max() - pd.DateOffset(years=history_years)\n",
        "    df = df[df['asOfDate'] >= cutoff].dropna(subset=['TotalRevenue','InvestedCapital'])\n",
        "\n",
        "    # 5) Compute the ratio\n",
        "    df['ratio'] = df['TotalRevenue'] / df['InvestedCapital']\n",
        "\n",
        "    # 6) Prepare for Prophet\n",
        "    df_prophet = df[['asOfDate','ratio']].rename(columns={'asOfDate':'ds','ratio':'y'})\n",
        "\n",
        "    # 7) Fit Prophet\n",
        "    m = Prophet(\n",
        "        yearly_seasonality=False,\n",
        "        changepoint_prior_scale=cps\n",
        "    )\n",
        "    m.fit(df_prophet)\n",
        "\n",
        "    # 8) Forecast 10 years ahead (1–10)\n",
        "    future = m.make_future_dataframe(periods=10, freq='A')\n",
        "    fc = m.predict(future)\n",
        "\n",
        "    # 9) Extract just the 10 forecast points (after the last historical year)\n",
        "    last_hist = df_prophet['ds'].max()\n",
        "    fut = fc[fc['ds'] > last_hist].reset_index(drop=True)\n",
        "\n",
        "    # 10) Compute averages for years 1–5 and 6–10\n",
        "    avg_1_5  = fut.loc[0:4, 'yhat'].mean()\n",
        "    avg_6_10 = fut.loc[5:9, 'yhat'].mean()\n",
        "\n",
        "    # 11) Plot historical + forecast\n",
        "    plt.figure(figsize=(10,5))\n",
        "    plt.plot(df_prophet['ds'], df_prophet['y'], 'o-', label='Historical Ratio')\n",
        "    plt.plot(fut['ds'], fut['yhat'], '--', label='Forecast Ratio')\n",
        "    plt.fill_between(fut['ds'], fut['yhat_lower'], fut['yhat_upper'],\n",
        "                     color='orange', alpha=0.3, label='Uncertainty')\n",
        "    plt.axvline(last_hist, color='gray', linestyle=':')\n",
        "    plt.title(f\"{symbol} Sales-to-Capital Ratio Forecast\")\n",
        "    plt.xlabel(\"Year\")\n",
        "    plt.ylabel(\"Revenue / Invested Capital\")\n",
        "    plt.legend()\n",
        "    plt.grid(True)\n",
        "    plt.tight_layout()\n",
        "    plt.show()\n",
        "\n",
        "    return {\n",
        "        'avg_1_5':  avg_1_5,\n",
        "        'avg_6_10': avg_6_10,\n",
        "        'forecast_df': fut[['ds','yhat','yhat_lower','yhat_upper']]\n",
        "    }"
      ]
    },
    {
      "cell_type": "code",
      "execution_count": 81,
      "metadata": {},
      "outputs": [
        {
          "name": "stderr",
          "output_type": "stream",
          "text": [
            "21:02:14 - cmdstanpy - INFO - Chain [1] start processing\n",
            "21:02:14 - cmdstanpy - INFO - Chain [1] done processing\n"
          ]
        },
        {
          "data": {
            "image/png": "[encoded data removed]",
            "text/plain": [
              "<Figure size 1000x500 with 1 Axes>"
            ]
          },
          "metadata": {},
          "output_type": "display_data"
        },
        {
          "name": "stdout",
          "output_type": "stream",
          "text": [
            "Sales→Capital (Years 1–5): 5.33\n",
            "Sales→Capital (Years 6–10): 4.33\n"
          ]
        }
      ],
      "source": [
        "res = forecast_sales_to_capital_ratio(company_ticker, history_years=10, cps=0.1)\n",
        "print(f\"Sales→Capital (Years 1–5): {res['avg_1_5']:.2f}\")\n",
        "print(f\"Sales→Capital (Years 6–10): {res['avg_6_10']:.2f}\")"
      ]
    },
    {
      "cell_type": "code",
      "execution_count": 56,
      "metadata": {
        "id": "kOwfaOSlRV3A"
      },
      "outputs": [
        {
          "name": "stderr",
          "output_type": "stream",
          "text": [
            "/var/folders/zc/mk397vzd3rndczvtnq2xwwzr0000gn/T/ipykernel_39120/306207704.py:8: DeprecationWarning: The order of arguments in worksheet.update() has changed. Please pass values first and range_name secondor used named arguments (range_name=, values=)\n",
            "  input_worksheet.update('B26', [[rev_growth_rate_for_next_year]])\n",
            "/var/folders/zc/mk397vzd3rndczvtnq2xwwzr0000gn/T/ipykernel_39120/306207704.py:9: DeprecationWarning: The order of arguments in worksheet.update() has changed. Please pass values first and range_name secondor used named arguments (range_name=, values=)\n",
            "  input_worksheet.update('B27', [[operating_margin_for_next_year]])\n",
            "/var/folders/zc/mk397vzd3rndczvtnq2xwwzr0000gn/T/ipykernel_39120/306207704.py:10: DeprecationWarning: The order of arguments in worksheet.update() has changed. Please pass values first and range_name secondor used named arguments (range_name=, values=)\n",
            "  input_worksheet.update('B28', [[compounded_annual_growth_rate]])\n",
            "/var/folders/zc/mk397vzd3rndczvtnq2xwwzr0000gn/T/ipykernel_39120/306207704.py:11: DeprecationWarning: The order of arguments in worksheet.update() has changed. Please pass values first and range_name secondor used named arguments (range_name=, values=)\n",
            "  input_worksheet.update('B29', [[target_pre_tax_operating_margin]])\n",
            "/var/folders/zc/mk397vzd3rndczvtnq2xwwzr0000gn/T/ipykernel_39120/306207704.py:12: DeprecationWarning: The order of arguments in worksheet.update() has changed. Please pass values first and range_name secondor used named arguments (range_name=, values=)\n",
            "  input_worksheet.update('B30', [[years_of_convergence_for_margin]])\n",
            "/var/folders/zc/mk397vzd3rndczvtnq2xwwzr0000gn/T/ipykernel_39120/306207704.py:13: DeprecationWarning: The order of arguments in worksheet.update() has changed. Please pass values first and range_name secondor used named arguments (range_name=, values=)\n",
            "  input_worksheet.update('B31', [[sales_to_capital_ratio_for_years_1_to_5]])\n",
            "/var/folders/zc/mk397vzd3rndczvtnq2xwwzr0000gn/T/ipykernel_39120/306207704.py:14: DeprecationWarning: The order of arguments in worksheet.update() has changed. Please pass values first and range_name secondor used named arguments (range_name=, values=)\n",
            "  input_worksheet.update('B32', [[sales_to_capital_ratio_for_years_6_to_10]])\n"
          ]
        },
        {
          "data": {
            "text/plain": [
              "{'spreadsheetId': '1xclQf2xrgw0swp2CRwE25OBaEhQdDTOkm8VVkTcpVks',\n",
              " 'updatedRange': \"'Input sheet'!B32\",\n",
              " 'updatedRows': 1,\n",
              " 'updatedColumns': 1,\n",
              " 'updatedCells': 1}"
            ]
          },
          "execution_count": 56,
          "metadata": {},
          "output_type": "execute_result"
        }
      ],
      "source": [
        "rev_growth_rate_for_next_year = input('What is the revenue growth rate for the next year?')\n",
        "operating_margin_for_next_year = input('What is the operating margin for the next year?')\n",
        "compounded_annual_growth_rate = input('What is the compounded annual growth rate?')\n",
        "target_pre_tax_operating_margin = input('What is the target pre-tax operating margin?')\n",
        "years_of_convergence_for_margin = input('How many years of convergence for the margin?')\n",
        "sales_to_capital_ratio_for_years_1_to_5 = input('What is the sales to capital ratio for the first 5 years?')\n",
        "sales_to_capital_ratio_for_years_6_to_10 = input('What is the sales to capital ratio for the last 5 years?')\n",
        "input_worksheet.update('B26', [[rev_growth_rate_for_next_year]])\n",
        "input_worksheet.update('B27', [[operating_margin_for_next_year]])\n",
        "input_worksheet.update('B28', [[compounded_annual_growth_rate]])\n",
        "input_worksheet.update('B29', [[target_pre_tax_operating_margin]])\n",
        "input_worksheet.update('B30', [[years_of_convergence_for_margin]])\n",
        "input_worksheet.update('B31', [[sales_to_capital_ratio_for_years_1_to_5]])\n",
        "input_worksheet.update('B32', [[sales_to_capital_ratio_for_years_6_to_10]])"
      ]
    },
    {
      "cell_type": "markdown",
      "metadata": {
        "id": "Qdscex7HRt9q"
      },
      "source": [
        "## Market Numbers"
      ]
    },
    {
      "cell_type": "code",
      "execution_count": 190,
      "metadata": {
        "id": "2ScuwpcbRuQY"
      },
      "outputs": [
        {
          "ename": "KeyError",
          "evalue": "'B34'",
          "output_type": "error",
          "traceback": [
            "\u001b[0;31m---------------------------------------------------------------------------\u001b[0m",
            "\u001b[0;31mKeyError\u001b[0m                                  Traceback (most recent call last)",
            "Cell \u001b[0;32mIn[190], line 1\u001b[0m\n\u001b[0;32m----> 1\u001b[0m rf \u001b[38;5;241m=\u001b[39m \u001b[43mfinancials\u001b[49m\u001b[43m[\u001b[49m\u001b[38;5;124;43m\"\u001b[39;49m\u001b[38;5;124;43mB34\u001b[39;49m\u001b[38;5;124;43m\"\u001b[39;49m\u001b[43m]\u001b[49m\n\u001b[1;32m      2\u001b[0m input_worksheet\u001b[38;5;241m.\u001b[39mupdate(\u001b[38;5;124m'\u001b[39m\u001b[38;5;124mB34\u001b[39m\u001b[38;5;124m'\u001b[39m, [[rf]])\n",
            "\u001b[0;31mKeyError\u001b[0m: 'B34'"
          ]
        }
      ],
      "source": [
        "rf = financials[\"B34\"]\n",
        "input_worksheet.update('B34', [[rf]])"
      ]
    },
    {
      "cell_type": "markdown",
      "metadata": {
        "id": "wCta4Xe0R09j"
      },
      "source": [
        "## Valuation Metrics"
      ]
    },
    {
      "cell_type": "code",
      "execution_count": 45,
      "metadata": {
        "colab": {
          "base_uri": "https://localhost:8080/",
          "height": 35
        },
        "id": "5JI72ycT610M",
        "outputId": "07e5bca6-4a3a-44d7-bede-d2dffa3fda3f"
      },
      "outputs": [
        {
          "data": {
            "text/plain": [
              "' $ 353.59 '"
            ]
          },
          "execution_count": 45,
          "metadata": {},
          "output_type": "execute_result"
        }
      ],
      "source": [
        "valuation_worksheet.acell('B33').value"
      ]
    },
    {
      "cell_type": "code",
      "execution_count": 46,
      "metadata": {},
      "outputs": [
        {
          "data": {
            "text/plain": [
              "' $ 485.26 '"
            ]
          },
          "execution_count": 46,
          "metadata": {},
          "output_type": "execute_result"
        }
      ],
      "source": [
        "valuation_worksheet.acell('B34').value"
      ]
    },
    {
      "cell_type": "code",
      "execution_count": 47,
      "metadata": {},
      "outputs": [
        {
          "data": {
            "text/plain": [
              "'137.24%'"
            ]
          },
          "execution_count": 47,
          "metadata": {},
          "output_type": "execute_result"
        }
      ],
      "source": [
        "valuation_worksheet.acell('B35').value"
      ]
    },
    {
      "cell_type": "code",
      "execution_count": null,
      "metadata": {},
      "outputs": [],
      "source": []
    }
  ],
  "metadata": {
    "colab": {
      "provenance": []
    },
    "kernelspec": {
      "display_name": "base",
      "language": "python",
      "name": "python3"
    },
    "language_info": {
      "codemirror_mode": {
        "name": "ipython",
        "version": 3
      },
      "file_extension": ".py",
      "mimetype": "text/x-python",
      "name": "python",
      "nbconvert_exporter": "python",
      "pygments_lexer": "ipython3",
      "version": "3.10.9"
    }
  },
  "nbformat": 4,
  "nbformat_minor": 0
}
