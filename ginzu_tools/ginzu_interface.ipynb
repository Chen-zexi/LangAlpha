{
  "cells": [
    {
      "cell_type": "code",
      "execution_count": 45,
      "metadata": {
        "colab": {
          "base_uri": "https://localhost:8080/"
        },
        "id": "3JPxoEO6F27x",
        "outputId": "39246930-0df4-4d88-d18e-6ddadb016c7b"
      },
      "outputs": [],
      "source": [
        "import gspread\n",
        "from google.oauth2.service_account import Credentials\n",
        "\n",
        "import json\n",
        "import os"
      ]
    },
    {
      "cell_type": "code",
      "execution_count": 46,
      "metadata": {},
      "outputs": [],
      "source": [
        "def validate_service_account_file(file_path):\n",
        "    print(f\"Checking if file exists at: {file_path}\")\n",
        "    if not os.path.exists(file_path):\n",
        "        print(f\"ERROR: File not found at {file_path}\")\n",
        "        return False\n",
        "    \n",
        "    print(f\"File exists. Size: {os.path.getsize(file_path)} bytes\")\n",
        "    \n",
        "    try:\n",
        "        with open(file_path, 'r') as file:\n",
        "            data = json.load(file)\n",
        "            \n",
        "        # Check for required keys in service account JSON\n",
        "        required_keys = ['client_email', 'private_key', 'project_id']\n",
        "        missing_keys = [key for key in required_keys if key not in data]\n",
        "        \n",
        "        if missing_keys:\n",
        "            print(f\"ERROR: Missing required keys in JSON: {missing_keys}\")\n",
        "            return False\n",
        "        \n",
        "        print(\"JSON successfully parsed\")\n",
        "        print(f\"Service account email: {data['client_email']}\")\n",
        "        print(f\"Project ID: {data['project_id']}\")\n",
        "        # Don't print the private key for security reasons\n",
        "        print(\"Private key: [Present]\" if 'private_key' in data else \"ERROR: Private key missing\")\n",
        "        return True\n",
        "        \n",
        "    except json.JSONDecodeError:\n",
        "        print(\"ERROR: Invalid JSON format\")\n",
        "        return False\n",
        "    except Exception as e:\n",
        "        print(f\"ERROR: Exception while reading file: {e}\")\n",
        "        return False"
      ]
    },
    {
      "cell_type": "code",
      "execution_count": 47,
      "metadata": {},
      "outputs": [],
      "source": [
        "SERVICE_ACCOUNT_FILE = 'rational-diode-456114-m0-79243525427e.json'\n",
        "SCOPES = ['https://www.googleapis.com/auth/spreadsheets']"
      ]
    },
    {
      "cell_type": "code",
      "execution_count": 48,
      "metadata": {},
      "outputs": [
        {
          "name": "stdout",
          "output_type": "stream",
          "text": [
            "Checking if file exists at: rational-diode-456114-m0-79243525427e.json\n",
            "File exists. Size: 2382 bytes\n",
            "JSON successfully parsed\n",
            "Service account email: tyler-ni@rational-diode-456114-m0.iam.gserviceaccount.com\n",
            "Project ID: rational-diode-456114-m0\n",
            "Private key: [Present]\n"
          ]
        },
        {
          "data": {
            "text/plain": [
              "True"
            ]
          },
          "execution_count": 48,
          "metadata": {},
          "output_type": "execute_result"
        }
      ],
      "source": [
        "validate_service_account_file(SERVICE_ACCOUNT_FILE)"
      ]
    },
    {
      "cell_type": "code",
      "execution_count": 42,
      "metadata": {},
      "outputs": [],
      "source": [
        "creds = Credentials.from_service_account_file(SERVICE_ACCOUNT_FILE, scopes=SCOPES)\n",
        "gc = gspread.authorize(creds)"
      ]
    },
    {
      "cell_type": "code",
      "execution_count": 43,
      "metadata": {
        "id": "djFkWPtN6ZcM"
      },
      "outputs": [
        {
          "ename": "PermissionError",
          "evalue": "",
          "output_type": "error",
          "traceback": [
            "\u001b[0;31m---------------------------------------------------------------------------\u001b[0m",
            "\u001b[0;31mAPIError\u001b[0m                                  Traceback (most recent call last)",
            "File \u001b[0;32m~/anaconda3/lib/python3.10/site-packages/gspread/client.py:168\u001b[0m, in \u001b[0;36mClient.open_by_key\u001b[0;34m(self, key)\u001b[0m\n\u001b[1;32m    167\u001b[0m \u001b[38;5;28;01mtry\u001b[39;00m:\n\u001b[0;32m--> 168\u001b[0m     spreadsheet \u001b[38;5;241m=\u001b[39m \u001b[43mSpreadsheet\u001b[49m\u001b[43m(\u001b[49m\u001b[38;5;28;43mself\u001b[39;49m\u001b[38;5;241;43m.\u001b[39;49m\u001b[43mhttp_client\u001b[49m\u001b[43m,\u001b[49m\u001b[43m \u001b[49m\u001b[43m{\u001b[49m\u001b[38;5;124;43m\"\u001b[39;49m\u001b[38;5;124;43mid\u001b[39;49m\u001b[38;5;124;43m\"\u001b[39;49m\u001b[43m:\u001b[49m\u001b[43m \u001b[49m\u001b[43mkey\u001b[49m\u001b[43m}\u001b[49m\u001b[43m)\u001b[49m\n\u001b[1;32m    169\u001b[0m \u001b[38;5;28;01mexcept\u001b[39;00m APIError \u001b[38;5;28;01mas\u001b[39;00m ex:\n",
            "File \u001b[0;32m~/anaconda3/lib/python3.10/site-packages/gspread/spreadsheet.py:29\u001b[0m, in \u001b[0;36mSpreadsheet.__init__\u001b[0;34m(self, http_client, properties)\u001b[0m\n\u001b[1;32m     27\u001b[0m \u001b[38;5;28mself\u001b[39m\u001b[38;5;241m.\u001b[39m_properties \u001b[38;5;241m=\u001b[39m properties\n\u001b[0;32m---> 29\u001b[0m metadata \u001b[38;5;241m=\u001b[39m \u001b[38;5;28;43mself\u001b[39;49m\u001b[38;5;241;43m.\u001b[39;49m\u001b[43mfetch_sheet_metadata\u001b[49m\u001b[43m(\u001b[49m\u001b[43m)\u001b[49m\n\u001b[1;32m     30\u001b[0m \u001b[38;5;28mself\u001b[39m\u001b[38;5;241m.\u001b[39m_properties\u001b[38;5;241m.\u001b[39mupdate(metadata[\u001b[38;5;124m\"\u001b[39m\u001b[38;5;124mproperties\u001b[39m\u001b[38;5;124m\"\u001b[39m])\n",
            "File \u001b[0;32m~/anaconda3/lib/python3.10/site-packages/gspread/spreadsheet.py:230\u001b[0m, in \u001b[0;36mSpreadsheet.fetch_sheet_metadata\u001b[0;34m(self, params)\u001b[0m\n\u001b[1;32m    221\u001b[0m \u001b[38;5;124;03m\"\"\"Similar to :method spreadsheets_get:`gspread.http_client.spreadsheets_get`,\u001b[39;00m\n\u001b[1;32m    222\u001b[0m \u001b[38;5;124;03mget the spreadsheet form the API but by default **does not get the cells data**.\u001b[39;00m\n\u001b[1;32m    223\u001b[0m \u001b[38;5;124;03mIt only retrieve the the metadata from the spreadsheet.\u001b[39;00m\n\u001b[0;32m   (...)\u001b[0m\n\u001b[1;32m    228\u001b[0m \u001b[38;5;124;03m:rtype: dict\u001b[39;00m\n\u001b[1;32m    229\u001b[0m \u001b[38;5;124;03m\"\"\"\u001b[39;00m\n\u001b[0;32m--> 230\u001b[0m \u001b[38;5;28;01mreturn\u001b[39;00m \u001b[38;5;28;43mself\u001b[39;49m\u001b[38;5;241;43m.\u001b[39;49m\u001b[43mclient\u001b[49m\u001b[38;5;241;43m.\u001b[39;49m\u001b[43mfetch_sheet_metadata\u001b[49m\u001b[43m(\u001b[49m\u001b[38;5;28;43mself\u001b[39;49m\u001b[38;5;241;43m.\u001b[39;49m\u001b[43mid\u001b[49m\u001b[43m,\u001b[49m\u001b[43m \u001b[49m\u001b[43mparams\u001b[49m\u001b[38;5;241;43m=\u001b[39;49m\u001b[43mparams\u001b[49m\u001b[43m)\u001b[49m\n",
            "File \u001b[0;32m~/anaconda3/lib/python3.10/site-packages/gspread/http_client.py:305\u001b[0m, in \u001b[0;36mHTTPClient.fetch_sheet_metadata\u001b[0;34m(self, id, params)\u001b[0m\n\u001b[1;32m    303\u001b[0m url \u001b[38;5;241m=\u001b[39m SPREADSHEET_URL \u001b[38;5;241m%\u001b[39m \u001b[38;5;28mid\u001b[39m\n\u001b[0;32m--> 305\u001b[0m r \u001b[38;5;241m=\u001b[39m \u001b[38;5;28;43mself\u001b[39;49m\u001b[38;5;241;43m.\u001b[39;49m\u001b[43mrequest\u001b[49m\u001b[43m(\u001b[49m\u001b[38;5;124;43m\"\u001b[39;49m\u001b[38;5;124;43mget\u001b[39;49m\u001b[38;5;124;43m\"\u001b[39;49m\u001b[43m,\u001b[49m\u001b[43m \u001b[49m\u001b[43murl\u001b[49m\u001b[43m,\u001b[49m\u001b[43m \u001b[49m\u001b[43mparams\u001b[49m\u001b[38;5;241;43m=\u001b[39;49m\u001b[43mparams\u001b[49m\u001b[43m)\u001b[49m\n\u001b[1;32m    307\u001b[0m \u001b[38;5;28;01mreturn\u001b[39;00m r\u001b[38;5;241m.\u001b[39mjson()\n",
            "File \u001b[0;32m~/anaconda3/lib/python3.10/site-packages/gspread/http_client.py:128\u001b[0m, in \u001b[0;36mHTTPClient.request\u001b[0;34m(self, method, endpoint, params, data, json, files, headers)\u001b[0m\n\u001b[1;32m    127\u001b[0m \u001b[38;5;28;01melse\u001b[39;00m:\n\u001b[0;32m--> 128\u001b[0m     \u001b[38;5;28;01mraise\u001b[39;00m APIError(response)\n",
            "\u001b[0;31mAPIError\u001b[0m: APIError: [403]: Google Sheets API has not been used in project 1056097359851 before or it is disabled. Enable it by visiting https://console.developers.google.com/apis/api/sheets.googleapis.com/overview?project=1056097359851 then retry. If you enabled this API recently, wait a few minutes for the action to propagate to our systems and retry.",
            "\nThe above exception was the direct cause of the following exception:\n",
            "\u001b[0;31mPermissionError\u001b[0m                           Traceback (most recent call last)",
            "Cell \u001b[0;32mIn[43], line 2\u001b[0m\n\u001b[1;32m      1\u001b[0m ginzu_spreadsheet_link \u001b[38;5;241m=\u001b[39m \u001b[38;5;124m'\u001b[39m\u001b[38;5;124mhttps://docs.google.com/spreadsheets/d/1xclQf2xrgw0swp2CRwE25OBaEhQdDTOkm8VVkTcpVks/edit?usp=sharing\u001b[39m\u001b[38;5;124m'\u001b[39m\n\u001b[0;32m----> 2\u001b[0m pricer \u001b[38;5;241m=\u001b[39m \u001b[43mgc\u001b[49m\u001b[38;5;241;43m.\u001b[39;49m\u001b[43mopen_by_url\u001b[49m\u001b[43m(\u001b[49m\u001b[43mginzu_spreadsheet_link\u001b[49m\u001b[43m)\u001b[49m\n",
            "File \u001b[0;32m~/anaconda3/lib/python3.10/site-packages/gspread/client.py:189\u001b[0m, in \u001b[0;36mClient.open_by_url\u001b[0;34m(self, url)\u001b[0m\n\u001b[1;32m    177\u001b[0m \u001b[38;5;28;01mdef\u001b[39;00m \u001b[38;5;21mopen_by_url\u001b[39m(\u001b[38;5;28mself\u001b[39m, url: \u001b[38;5;28mstr\u001b[39m) \u001b[38;5;241m-\u001b[39m\u001b[38;5;241m>\u001b[39m Spreadsheet:\n\u001b[1;32m    178\u001b[0m     \u001b[38;5;124;03m\"\"\"Opens a spreadsheet specified by `url`.\u001b[39;00m\n\u001b[1;32m    179\u001b[0m \n\u001b[1;32m    180\u001b[0m \u001b[38;5;124;03m    :param str url: URL of a spreadsheet as it appears in a browser.\u001b[39;00m\n\u001b[0;32m   (...)\u001b[0m\n\u001b[1;32m    187\u001b[0m \u001b[38;5;124;03m    >>> gc.open_by_url('https://docs.google.com/spreadsheet/ccc?key=0Bm...FE&hl')\u001b[39;00m\n\u001b[1;32m    188\u001b[0m \u001b[38;5;124;03m    \"\"\"\u001b[39;00m\n\u001b[0;32m--> 189\u001b[0m     \u001b[38;5;28;01mreturn\u001b[39;00m \u001b[38;5;28;43mself\u001b[39;49m\u001b[38;5;241;43m.\u001b[39;49m\u001b[43mopen_by_key\u001b[49m\u001b[43m(\u001b[49m\u001b[43mextract_id_from_url\u001b[49m\u001b[43m(\u001b[49m\u001b[43murl\u001b[49m\u001b[43m)\u001b[49m\u001b[43m)\u001b[49m\n",
            "File \u001b[0;32m~/anaconda3/lib/python3.10/site-packages/gspread/client.py:173\u001b[0m, in \u001b[0;36mClient.open_by_key\u001b[0;34m(self, key)\u001b[0m\n\u001b[1;32m    171\u001b[0m         \u001b[38;5;28;01mraise\u001b[39;00m SpreadsheetNotFound(ex\u001b[38;5;241m.\u001b[39mresponse) \u001b[38;5;28;01mfrom\u001b[39;00m \u001b[38;5;21;01mex\u001b[39;00m\n\u001b[1;32m    172\u001b[0m     \u001b[38;5;28;01mif\u001b[39;00m ex\u001b[38;5;241m.\u001b[39mresponse\u001b[38;5;241m.\u001b[39mstatus_code \u001b[38;5;241m==\u001b[39m HTTPStatus\u001b[38;5;241m.\u001b[39mFORBIDDEN:\n\u001b[0;32m--> 173\u001b[0m         \u001b[38;5;28;01mraise\u001b[39;00m \u001b[38;5;167;01mPermissionError\u001b[39;00m \u001b[38;5;28;01mfrom\u001b[39;00m \u001b[38;5;21;01mex\u001b[39;00m\n\u001b[1;32m    174\u001b[0m     \u001b[38;5;28;01mraise\u001b[39;00m ex\n\u001b[1;32m    175\u001b[0m \u001b[38;5;28;01mreturn\u001b[39;00m spreadsheet\n",
            "\u001b[0;31mPermissionError\u001b[0m: "
          ]
        }
      ],
      "source": [
        "ginzu_spreadsheet_link = 'https://docs.google.com/spreadsheets/d/1xclQf2xrgw0swp2CRwE25OBaEhQdDTOkm8VVkTcpVks/edit?usp=sharing'\n",
        "pricer = gc.open_by_url(ginzu_spreadsheet_link)"
      ]
    },
    {
      "cell_type": "code",
      "execution_count": 26,
      "metadata": {},
      "outputs": [
        {
          "ename": "NameError",
          "evalue": "name 'pricer' is not defined",
          "output_type": "error",
          "traceback": [
            "\u001b[0;31m---------------------------------------------------------------------------\u001b[0m",
            "\u001b[0;31mNameError\u001b[0m                                 Traceback (most recent call last)",
            "Cell \u001b[0;32mIn[26], line 1\u001b[0m\n\u001b[0;32m----> 1\u001b[0m input_worksheet \u001b[38;5;241m=\u001b[39m \u001b[43mpricer\u001b[49m\u001b[38;5;241m.\u001b[39mget_worksheet(\u001b[38;5;241m0\u001b[39m)\n\u001b[1;32m      2\u001b[0m valuation_worksheet \u001b[38;5;241m=\u001b[39m pricer\u001b[38;5;241m.\u001b[39mget_worksheet(\u001b[38;5;241m1\u001b[39m)\n",
            "\u001b[0;31mNameError\u001b[0m: name 'pricer' is not defined"
          ]
        }
      ],
      "source": [
        "input_worksheet = pricer.get_worksheet(0)\n",
        "valuation_worksheet = pricer.get_worksheet(1)"
      ]
    },
    {
      "cell_type": "markdown",
      "metadata": {
        "id": "-apU1EN-CHHY"
      },
      "source": [
        "## Date of Valuation and Company Name"
      ]
    },
    {
      "cell_type": "code",
      "execution_count": null,
      "metadata": {
        "id": "xsSb7iyHCGoK"
      },
      "outputs": [],
      "source": [
        "date_of_valuation = input('What is the date of the valuation?')\n",
        "company_name = input('What is the company name?')\n",
        "input_worksheet.update('B3', date_of_valuation)\n",
        "input_worksheet.update('B4', company_name)"
      ]
    },
    {
      "cell_type": "markdown",
      "metadata": {
        "id": "yUpdCCbWCmpn"
      },
      "source": [
        "## Country of Incorporation, Industry (Global) and Industry (US)"
      ]
    },
    {
      "cell_type": "code",
      "execution_count": null,
      "metadata": {
        "id": "t6sKVDOlCl6F"
      },
      "outputs": [],
      "source": [
        "country_of_incorporation = input('What is the country of incorporation?')\n",
        "global_industry = input('What is the industry in the global market?')\n",
        "us_industry = input('What is the industry in the US market?')\n",
        "input_worksheet.update('B7', country_of_incorporation)\n",
        "input_worksheet.update('B8', us_industry)\n",
        "input_worksheet.update('B9', global_industry)"
      ]
    },
    {
      "cell_type": "markdown",
      "metadata": {
        "id": "4MLGXn0XC8jL"
      },
      "source": [
        "## Years Since Last 10K"
      ]
    },
    {
      "cell_type": "code",
      "execution_count": null,
      "metadata": {
        "id": "GXc2AAEjB_KI"
      },
      "outputs": [],
      "source": [
        "years_since_last_10k = input('How many years since the last 10K?')\n",
        "input_worksheet.update('D11', years_since_last_10k)"
      ]
    },
    {
      "cell_type": "markdown",
      "metadata": {
        "id": "HYGcUzcaDQ9t"
      },
      "source": [
        "## Revenues (Most Recent 12 Months, Last 10K)"
      ]
    },
    {
      "cell_type": "code",
      "execution_count": null,
      "metadata": {
        "id": "Pjcp2rY8DdHi"
      },
      "outputs": [],
      "source": [
        "current_revenues = input('What is the current revenues?')\n",
        "last_10k_revenues = input('What is the last 10K revenues?')\n",
        "input_worksheet.update('B11', current_revenues)\n",
        "input_worksheet.update('C11', last_10k_revenues)"
      ]
    },
    {
      "cell_type": "markdown",
      "metadata": {
        "id": "IePKIJxyDdlf"
      },
      "source": [
        "## Operating Income / EBIT (Most Recent 12 Months, Last 10K)"
      ]
    },
    {
      "cell_type": "code",
      "execution_count": null,
      "metadata": {
        "id": "DCG9xuFaDd-n"
      },
      "outputs": [],
      "source": [
        "current_operating_income = input('What is the current operating income?')\n",
        "last_10k_operating_income = input('What is the last 10K operating income?')\n",
        "input_worksheet.update('B12', current_operating_income)\n",
        "input_worksheet.update('C12', last_10k_operating_income)"
      ]
    },
    {
      "cell_type": "markdown",
      "metadata": {
        "id": "gfGr3G6OEuBq"
      },
      "source": [
        "## Interest Expense (Most Recent 12 Months, Last 10K)"
      ]
    },
    {
      "cell_type": "code",
      "execution_count": null,
      "metadata": {
        "id": "5CSIvjkdEuiB"
      },
      "outputs": [],
      "source": [
        "current_interest_expense = input('What is the current interest expense?')\n",
        "last_10k_interest_expense = input('What is the last 10K interest expense?')\n",
        "input_worksheet.update('B13', current_interest_expense)\n",
        "input_worksheet.update('C13', last_10k_interest_expense)"
      ]
    },
    {
      "cell_type": "markdown",
      "metadata": {
        "id": "6bIVV-nSP1G1"
      },
      "source": [
        "## Book Value of Equity (Most Recent 12 Months, Last 10K)"
      ]
    },
    {
      "cell_type": "code",
      "execution_count": null,
      "metadata": {
        "id": "Nz7nuX3mP1lc"
      },
      "outputs": [],
      "source": [
        "current_book_value_of_equity = input('What is the current book value of equity?')\n",
        "last_10k_book_value_of_equity = input('What is the last 10K book value of equity?')\n",
        "input_worksheet.update('B14', current_book_value_of_equity)\n",
        "input_worksheet.update('C14', last_10k_book_value_of_equity)"
      ]
    },
    {
      "cell_type": "markdown",
      "metadata": {
        "id": "XlWrc4rNQHOJ"
      },
      "source": [
        "## Book Value of Debt (Most Recent 12 Months, Last 10K)"
      ]
    },
    {
      "cell_type": "code",
      "execution_count": null,
      "metadata": {
        "id": "qWJu8aZGQG8L"
      },
      "outputs": [],
      "source": [
        "current_book_value_of_debt = input('What is the current book value of debt?')\n",
        "last_10k_book_value_of_debt = input('What is the last 10K book value of debt?')\n",
        "input_worksheet.update('B15', current_book_value_of_debt)\n",
        "input_worksheet.update('C15', last_10k_book_value_of_debt)"
      ]
    },
    {
      "cell_type": "markdown",
      "metadata": {
        "id": "zlsF27_hQSu2"
      },
      "source": [
        "## R&D Expenses to Capitalize + Operating Lease Commitments"
      ]
    },
    {
      "cell_type": "code",
      "execution_count": 1,
      "metadata": {
        "id": "FlPc7LguQRPu"
      },
      "outputs": [],
      "source": [
        "r_and_d = input('Do you have R&D expenses to capitalize?')\n",
        "operating_lease_commitments = input('Do you have operating lease commitments?')\n",
        "input_worksheet.update('B16', r_and_d)\n",
        "input_worksheet.update('B17', operating_lease_commitments)"
      ]
    },
    {
      "cell_type": "markdown",
      "metadata": {
        "id": "th01qislQm4n"
      },
      "source": [
        "## Cash and Marketable Securities (Most Recent 12 Months, Last 10K)"
      ]
    },
    {
      "cell_type": "code",
      "execution_count": null,
      "metadata": {
        "id": "ShX1inB6Ql8t"
      },
      "outputs": [],
      "source": [
        "current_cash_and_marketable_securities = input('What is the current cash and marketable securities?')\n",
        "last_10k_cash_and_marketable_securities = input('What is the last 10K cash and marketable securities?')\n",
        "input_worksheet.update('B18', current_cash_and_marketable_securities)\n",
        "input_worksheet.update('C18', last_10k_cash_and_marketable_securities)"
      ]
    },
    {
      "cell_type": "markdown",
      "metadata": {
        "id": "Q97KRTmNQwx7"
      },
      "source": [
        "## Cross Holdings and Other Non-Operating Assets (Most Recent 12 Months, Last 10K)"
      ]
    },
    {
      "cell_type": "code",
      "execution_count": null,
      "metadata": {
        "id": "Pj-EsGKoQxWg"
      },
      "outputs": [],
      "source": [
        "cross_holdings_and_other_non_operating_assets = input('What is the current cross holdings and other non-operating assets?')\n",
        "last_10k_cross_holdings_and_other_non_operating_assets = input('What is the last 10K cross holdings and other non-operating assets?')\n",
        "input_worksheet.update('B19', cross_holdings_and_other_non_operating_assets)\n",
        "input_worksheet.update('C19', last_10k_cross_holdings_and_other_non_operating_assets)"
      ]
    },
    {
      "cell_type": "markdown",
      "metadata": {
        "id": "FJlSX4yvQ_Ix"
      },
      "source": [
        "## Minority Interests (Most Recent 12 Months, Last 10K)"
      ]
    },
    {
      "cell_type": "code",
      "execution_count": null,
      "metadata": {
        "id": "yc13z0lDQ-Z8"
      },
      "outputs": [],
      "source": [
        "current_minority_interests = input('What is the current minority interests?')\n",
        "last_10k_minority_interests = input('What is the last 10K minority interests?')\n",
        "input_worksheet.update('B20', current_minority_interests)\n",
        "input_worksheet.update('C20', last_10k_minority_interests)"
      ]
    },
    {
      "cell_type": "markdown",
      "metadata": {
        "id": "xxaGAGFiRKmz"
      },
      "source": [
        "## Number of Shares Outstanding, Current Stock Price, Effect and Marginal Tax Rate"
      ]
    },
    {
      "cell_type": "code",
      "execution_count": null,
      "metadata": {
        "id": "X9G6rsqyRHW1"
      },
      "outputs": [],
      "source": [
        "number_of_shares_outstanding = input('What is the number of shares outstanding?')\n",
        "current_stock_price = input('What is the current stock price?')\n",
        "effective_tax_rate = input('What is the effective tax rate?')\n",
        "marginal_tax_rate = input('What is the marginal tax rate?')\n",
        "input_worksheet.update('B21', number_of_shares_outstanding)\n",
        "input_worksheet.update('B22', current_stock_price)\n",
        "input_worksheet.update('B23', effective_tax_rate)\n",
        "input_worksheet.update('B24', marginal_tax_rate)"
      ]
    },
    {
      "cell_type": "markdown",
      "metadata": {
        "id": "6tclk_bORW3z"
      },
      "source": [
        "## Value Drivers"
      ]
    },
    {
      "cell_type": "code",
      "execution_count": null,
      "metadata": {
        "id": "kOwfaOSlRV3A"
      },
      "outputs": [],
      "source": [
        "rev_growth_rate_for_next_year = input('What is the revenue growth rate for the next year?')\n",
        "operating_margin_for_next_year = input('What is the operating margin for the next year?')\n",
        "compounded_annual_growth_rate = input('What is the compounded annual growth rate?')\n",
        "target_pre_tax_operating_margin = input('What is the target pre-tax operating margin?')\n",
        "years_of_convergence_for_margin = input('How many years of convergence for the margin?')\n",
        "sales_to_capital_ratio_for_years_1_to_5 = input('What is the sales to capital ratio for the first 5 years?')\n",
        "sales_to_capital_ratio_for_years_6_to_10 = input('What is the sales to capital ratio for the last 5 years?')\n",
        "input_worksheet.update('B26', rev_growth_rate_for_next_year)\n",
        "input_worksheet.update('B27', operating_margin_for_next_year)\n",
        "input_worksheet.update('B28', compounded_annual_growth_rate)\n",
        "input_worksheet.update('B29', target_pre_tax_operating_margin)\n",
        "input_worksheet.update('B30', years_of_convergence_for_margin)\n",
        "input_worksheet.update('B31', sales_to_capital_ratio_for_years_1_to_5)\n",
        "input_worksheet.update('B32', sales_to_capital_ratio_for_years_6_to_10)"
      ]
    },
    {
      "cell_type": "markdown",
      "metadata": {
        "id": "Qdscex7HRt9q"
      },
      "source": [
        "## Market Numbers"
      ]
    },
    {
      "cell_type": "code",
      "execution_count": null,
      "metadata": {
        "id": "2ScuwpcbRuQY"
      },
      "outputs": [],
      "source": [
        "rf = input('What is the riskfree rate?')\n",
        "input_worksheet.update('B33', rf)"
      ]
    },
    {
      "cell_type": "markdown",
      "metadata": {
        "id": "wCta4Xe0R09j"
      },
      "source": [
        "## Other Inputs"
      ]
    },
    {
      "cell_type": "code",
      "execution_count": null,
      "metadata": {
        "id": "sBpegqaAR3TV"
      },
      "outputs": [],
      "source": [
        "employee_options_outstanding = input('Do you have employee options outstanding?')\n",
        "number_of_options_outstanding = input('What is the number of options outstanding?')\n",
        "average_strike_price = input('What is the average strike price?')\n",
        "average_maturity = input('What is the average maturity?')\n",
        "standard_deviation_on_stock_price = input('What is the standard deviation on the stock price?')\n",
        "input_worksheet.update('B37', employee_options_outstanding)\n",
        "input_worksheet.update('B38', number_of_options_outstanding)\n",
        "input_worksheet.update('B39', average_strike_price)\n",
        "input_worksheet.update('B40', average_maturity)\n",
        "input_worksheet.update('B41', standard_deviation_on_stock_price)"
      ]
    },
    {
      "cell_type": "code",
      "execution_count": null,
      "metadata": {
        "colab": {
          "base_uri": "https://localhost:8080/",
          "height": 35
        },
        "id": "5JI72ycT610M",
        "outputId": "07e5bca6-4a3a-44d7-bede-d2dffa3fda3f"
      },
      "outputs": [
        {
          "data": {
            "application/vnd.google.colaboratory.intrinsic+json": {
              "type": "string"
            },
            "text/plain": [
              "' $ 76.36 '"
            ]
          },
          "execution_count": 8,
          "metadata": {},
          "output_type": "execute_result"
        }
      ],
      "source": [
        "valuation_worksheet.acell('B33').value"
      ]
    }
  ],
  "metadata": {
    "colab": {
      "provenance": []
    },
    "kernelspec": {
      "display_name": "base",
      "language": "python",
      "name": "python3"
    },
    "language_info": {
      "codemirror_mode": {
        "name": "ipython",
        "version": 3
      },
      "file_extension": ".py",
      "mimetype": "text/x-python",
      "name": "python",
      "nbconvert_exporter": "python",
      "pygments_lexer": "ipython3",
      "version": "3.10.9"
    }
  },
  "nbformat": 4,
  "nbformat_minor": 0
}
