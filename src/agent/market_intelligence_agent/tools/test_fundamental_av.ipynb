{
 "cells": [
  {
   "cell_type": "markdown",
   "id": "7cb00027",
   "metadata": {},
   "source": [
    "# Alpha Vantage Fundamental‑Data Helper – Quick Test Notebook\n",
    "This notebook demonstrates **`fundamental_data_av.py`** – the helper module that wraps Alpha Vantage endpoints and the consolidated `get_fundamental_data_from_earning()` function."
   ]
  },
  {
   "cell_type": "markdown",
   "id": "9e75c229",
   "metadata": {},
   "source": [
    "## 1 · Environment setup\n",
    "1. Install required packages if you haven't already:\n",
    "```bash\n",
    "pip install pandas python-dotenv requests nbformat\n",
    "```\n",
    "2. Create a `.env` file (in the same directory as this notebook) with your Alpha Vantage key:\n",
    "```bash\n",
    "ALPHAVANTAGE_API_KEY=YOUR_REAL_KEY\n",
    "```\n",
    "3. Ensure **`fundamental_data_av.py`** is in the Python path (same folder works).\n"
   ]
  },
  {
   "cell_type": "code",
   "execution_count": 1,
   "id": "77cee976",
   "metadata": {},
   "outputs": [],
   "source": [
    "import os\n",
    "from dotenv import load_dotenv\n",
    "import json\n",
    "load_dotenv()\n",
    "assert os.getenv('ALPHAVANTAGE_API_KEY'), 'Missing API key – add it to .env!'\n",
    "\n",
    "from fundamental_data import (\n",
    "    get_fundamental_data_from_earning,\n",
    "    earnings_call_transcript,\n",
    "    company_overview,\n",
    "    advanced_analytics,\n",
    "    earnings_calendar,\n",
    "    calculate_dcf\n",
    ")\n",
    "\n",
    "symbol = 'NVDA'  # change to any ticker supported by AV\n"
   ]
  },
  {
   "cell_type": "code",
   "execution_count": null,
   "id": "f9601474",
   "metadata": {},
   "outputs": [],
   "source": [
    "data = get_fundamental_data_from_earning(\n",
    "    symbol=symbol,\n",
    "    start_year=2024,\n",
    "    end_year=2025,\n",
    "    filings=1,\n",
    ")\n",
    "data.keys()"
   ]
  },
  {
   "cell_type": "code",
   "execution_count": 3,
   "id": "82c24f2b",
   "metadata": {},
   "outputs": [],
   "source": [
    "dcf = calculate_dcf(\n",
    "    symbol=symbol,\n",
    "    start_year=2022,\n",
    "    end_year=2024,\n",
    "    forecast_years=1,\n",
    "    rf=0.04,\n",
    ")"
   ]
  },
  {
   "cell_type": "code",
   "execution_count": 4,
   "id": "3a0a0402",
   "metadata": {},
   "outputs": [
    {
     "data": {
      "text/plain": [
       "{'symbol': 'NVDA',\n",
       " 'intrinsicValuePerShare': 18.466725856340933,\n",
       " 'enterpriseValue': 463217142857.1429,\n",
       " 'assumptions': {'baseYearFCF': 27021000000.0,\n",
       "  'growthRate': 0.2,\n",
       "  'forecastYears': 1,\n",
       "  'discountRate': 0.09,\n",
       "  'perpetualGrowth': 0.02,\n",
       "  'terminalFCF': 33073704000.0,\n",
       "  'netDebt': 2657000000.0,\n",
       "  'sharesOutstanding': 24940000000.0},\n",
       " 'pvCashFlows': [29747889908.256878],\n",
       " 'pvTerminal': 433469252948.886}"
      ]
     },
     "execution_count": 4,
     "metadata": {},
     "output_type": "execute_result"
    }
   ],
   "source": [
    "dcf"
   ]
  },
  {
   "cell_type": "code",
   "execution_count": null,
   "id": "1dfc48a8",
   "metadata": {},
   "outputs": [],
   "source": [
    "data"
   ]
  },
  {
   "cell_type": "code",
   "execution_count": null,
   "id": "b4a37e4b",
   "metadata": {},
   "outputs": [],
   "source": [
    "data['annual']"
   ]
  },
  {
   "cell_type": "code",
   "execution_count": null,
   "id": "8d9cee74",
   "metadata": {},
   "outputs": [],
   "source": [
    "data['quarterly']"
   ]
  },
  {
   "cell_type": "code",
   "execution_count": 6,
   "id": "737e8877",
   "metadata": {},
   "outputs": [],
   "source": [
    "transcript = earnings_call_transcript(symbol, 2025, 1)"
   ]
  },
  {
   "cell_type": "code",
   "execution_count": null,
   "id": "dd8165a7",
   "metadata": {},
   "outputs": [],
   "source": [
    "transcript"
   ]
  },
  {
   "cell_type": "code",
   "execution_count": 8,
   "id": "3913d72d",
   "metadata": {},
   "outputs": [],
   "source": [
    "overview = company_overview(symbol)"
   ]
  },
  {
   "cell_type": "code",
   "execution_count": null,
   "id": "04313d03",
   "metadata": {},
   "outputs": [],
   "source": [
    "overview"
   ]
  },
  {
   "cell_type": "code",
   "execution_count": 10,
   "id": "8074e46a",
   "metadata": {},
   "outputs": [],
   "source": [
    "ad = advanced_analytics(\n",
    "    symbols=['AAPL','MSFT','IBM'],\n",
    "    interval='DAILY',\n",
    "    ohlc='close',          # optional\n",
    "    range='6month',           # full history\n",
    "    calculations=[\"AUTOCORRELATION\",\n",
    "        \"COVARIANCE\", \"CORRELATION\"]      # all metrics\n",
    ")"
   ]
  },
  {
   "cell_type": "code",
   "execution_count": null,
   "id": "6cc103ce",
   "metadata": {},
   "outputs": [],
   "source": [
    "ad"
   ]
  },
  {
   "cell_type": "code",
   "execution_count": 2,
   "id": "9242f35e",
   "metadata": {},
   "outputs": [],
   "source": [
    "ec = earnings_calendar(symbol, '3month')"
   ]
  },
  {
   "cell_type": "code",
   "execution_count": 3,
   "id": "3247196c",
   "metadata": {},
   "outputs": [
    {
     "data": {
      "text/plain": [
       "[{'symbol': 'NVDA',\n",
       "  'name': 'NVIDIA Corp',\n",
       "  'reportDate': '2025-05-20',\n",
       "  'fiscalDateEnding': '2025-04-30',\n",
       "  'estimate': None,\n",
       "  'currency': 'USD'}]"
      ]
     },
     "execution_count": 3,
     "metadata": {},
     "output_type": "execute_result"
    }
   ],
   "source": [
    "ec"
   ]
  },
  {
   "cell_type": "code",
   "execution_count": null,
   "id": "31a40e21",
   "metadata": {},
   "outputs": [],
   "source": [
    "data = list(ec)\n",
    "data"
   ]
  },
  {
   "cell_type": "code",
   "execution_count": null,
   "id": "4cd01b49",
   "metadata": {},
   "outputs": [],
   "source": []
  },
  {
   "cell_type": "code",
   "execution_count": null,
   "id": "491a6bc6",
   "metadata": {},
   "outputs": [],
   "source": [
    "print(ec)"
   ]
  },
  {
   "cell_type": "code",
   "execution_count": null,
   "id": "1de641e0",
   "metadata": {},
   "outputs": [],
   "source": [
    "print(type(ec))"
   ]
  }
 ],
 "metadata": {
  "kernelspec": {
   "display_name": "langalpha",
   "language": "python",
   "name": "python3"
  },
  "language_info": {
   "codemirror_mode": {
    "name": "ipython",
    "version": 3
   },
   "file_extension": ".py",
   "mimetype": "text/x-python",
   "name": "python",
   "nbconvert_exporter": "python",
   "pygments_lexer": "ipython3",
   "version": "3.11.11"
  }
 },
 "nbformat": 4,
 "nbformat_minor": 5
}
