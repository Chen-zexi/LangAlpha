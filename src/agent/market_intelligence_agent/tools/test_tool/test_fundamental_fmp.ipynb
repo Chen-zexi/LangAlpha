{
 "cells": [
  {
   "cell_type": "markdown",
   "id": "7cb00027",
   "metadata": {},
   "source": [
    "# Alpha Vantage Fundamental‑Data Helper – Quick Test Notebook\n",
    "This notebook demonstrates **`fundamental_data_av.py`** – the helper module that wraps Alpha Vantage endpoints and the consolidated `get_fundamental_data_from_earning()` function."
   ]
  },
  {
   "cell_type": "code",
   "execution_count": 1,
   "id": "77cee976",
   "metadata": {},
   "outputs": [],
   "source": [
    "import os\n",
    "from dotenv import load_dotenv\n",
    "import json\n",
    "load_dotenv()\n",
    "\n",
    "from fundamental_data_fmp import (\n",
    "    get_revenue_by_product,\n",
    "    get_revenue_by_geographic_region,\n",
    "    get_price_target_consensus,\n",
    "    get_grades_consensus,\n",
    "    get_grades_historical\n",
    ")\n",
    "\n",
    "symbol = 'NVDA'  # change to any ticker supported by AV\n"
   ]
  },
  {
   "cell_type": "code",
   "execution_count": 2,
   "id": "dc7312ab",
   "metadata": {},
   "outputs": [
    {
     "data": {
      "text/plain": [
       "[{'symbol': 'NVDA',\n",
       "  'date': '2025-05-01',\n",
       "  'analystRatingsStrongBuy': 12,\n",
       "  'analystRatingsBuy': 43,\n",
       "  'analystRatingsHold': 7,\n",
       "  'analystRatingsSell': 1,\n",
       "  'analystRatingsStrongSell': 0},\n",
       " {'symbol': 'NVDA',\n",
       "  'date': '2025-04-01',\n",
       "  'analystRatingsStrongBuy': 12,\n",
       "  'analystRatingsBuy': 46,\n",
       "  'analystRatingsHold': 7,\n",
       "  'analystRatingsSell': 1,\n",
       "  'analystRatingsStrongSell': 0},\n",
       " {'symbol': 'NVDA',\n",
       "  'date': '2025-03-01',\n",
       "  'analystRatingsStrongBuy': 11,\n",
       "  'analystRatingsBuy': 47,\n",
       "  'analystRatingsHold': 5,\n",
       "  'analystRatingsSell': 0,\n",
       "  'analystRatingsStrongSell': 0}]"
      ]
     },
     "execution_count": 2,
     "metadata": {},
     "output_type": "execute_result"
    }
   ],
   "source": [
    "grades_historical = get_grades_historical(symbol, num_months=3)\n",
    "grades_historical\n"
   ]
  },
  {
   "cell_type": "code",
   "execution_count": 3,
   "id": "0b04642e",
   "metadata": {},
   "outputs": [
    {
     "data": {
      "text/plain": [
       "[{'symbol': 'AAPL',\n",
       "  'fiscalYear': 2024,\n",
       "  'period': 'FY',\n",
       "  'reportedCurrency': None,\n",
       "  'date': '2024-09-28',\n",
       "  'data': {'iPhone': 201183.0,\n",
       "   'Service': 96169.0,\n",
       "   'Wearables, Home and Accessories': 37005.0,\n",
       "   'Mac': 29984.0,\n",
       "   'iPad': 26694.0}}]"
      ]
     },
     "execution_count": 3,
     "metadata": {},
     "output_type": "execute_result"
    }
   ],
   "source": [
    "rev_prd = get_revenue_by_product('AAPL', num_years=1)\n",
    "rev_prd"
   ]
  },
  {
   "cell_type": "code",
   "execution_count": 4,
   "id": "2acb8c18",
   "metadata": {},
   "outputs": [
    {
     "data": {
      "text/plain": [
       "[{'symbol': 'NVDA',\n",
       "  'fiscalYear': 2025,\n",
       "  'period': 'FY',\n",
       "  'reportedCurrency': None,\n",
       "  'date': '2025-01-26',\n",
       "  'data': {'UNITED STATES': 61257.0,\n",
       "   'SINGAPORE': 23684.0,\n",
       "   'TAIWAN, PROVINCE OF CHINA': 20573.0,\n",
       "   'CHINA': 17108.0}}]"
      ]
     },
     "execution_count": 4,
     "metadata": {},
     "output_type": "execute_result"
    }
   ],
   "source": [
    "rev_geo = get_revenue_by_geographic_region(symbol, num_years=1)\n",
    "rev_geo"
   ]
  }
 ],
 "metadata": {
  "kernelspec": {
   "display_name": "langalpha",
   "language": "python",
   "name": "python3"
  },
  "language_info": {
   "codemirror_mode": {
    "name": "ipython",
    "version": 3
   },
   "file_extension": ".py",
   "mimetype": "text/x-python",
   "name": "python",
   "nbconvert_exporter": "python",
   "pygments_lexer": "ipython3",
   "version": "3.11.11"
  }
 },
 "nbformat": 4,
 "nbformat_minor": 5
}
