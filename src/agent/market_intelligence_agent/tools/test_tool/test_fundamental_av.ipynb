{
 "cells": [
  {
   "cell_type": "markdown",
   "id": "7cb00027",
   "metadata": {},
   "source": [
    "# Alpha Vantage Fundamental‑Data Helper – Quick Test Notebook\n",
    "This notebook demonstrates **`fundamental_data_av.py`** – the helper module that wraps Alpha Vantage endpoints and the consolidated `get_fundamental_data_from_earning()` function."
   ]
  },
  {
   "cell_type": "code",
   "execution_count": 1,
   "id": "77cee976",
   "metadata": {},
   "outputs": [],
   "source": [
    "import os\n",
    "from dotenv import load_dotenv\n",
    "import json\n",
    "load_dotenv()\n",
    "assert os.getenv('ALPHAVANTAGE_API_KEY'), 'Missing API key – add it to .env!'\n",
    "\n",
    "from fundamental_data import (\n",
    "    earnings_call_transcript,\n",
    "    company_overview,\n",
    "    fundamental_data_from_reports,\n",
    "    advanced_analytics,\n",
    "    earnings_calendar,\n",
    "    dcf_valuation\n",
    ")\n",
    "\n",
    "symbol = 'NVDA'  # change to any ticker supported by AV\n"
   ]
  },
  {
   "cell_type": "code",
   "execution_count": 4,
   "id": "f9601474",
   "metadata": {},
   "outputs": [
    {
     "data": {
      "text/plain": [
       "dict_keys(['symbol', 'annual', 'quarterly'])"
      ]
     },
     "execution_count": 4,
     "metadata": {},
     "output_type": "execute_result"
    }
   ],
   "source": [
    "data = fundamental_data_from_reports(\n",
    "    symbol=symbol,\n",
    "    start_year=2021,\n",
    "    end_year=2025,\n",
    "    filings=1,\n",
    ")\n",
    "data.keys()"
   ]
  },
  {
   "cell_type": "code",
   "execution_count": 5,
   "id": "7111064d",
   "metadata": {},
   "outputs": [
    {
     "data": {
      "text/plain": [
       "{'symbol': 'NVDA',\n",
       " 'annual': [{'totalRevenue': 130497000000.0,\n",
       "   'operatingIncome': 81453000000.0,\n",
       "   'ebit': 84273000000.0,\n",
       "   'ebitda': 86137000000.0,\n",
       "   'netIncome': 72880000000.0,\n",
       "   'depreciationAndAmortization': 1864000000.0,\n",
       "   'interestExpense': 247000000.0,\n",
       "   'incomeTaxExpense': 11146000000.0,\n",
       "   'incomeBeforeTax': 84026000000.0,\n",
       "   'totalAssets': 111601000000.0,\n",
       "   'totalLiabilities': 32274000000.0,\n",
       "   'totalShareholderEquity': 79327000000.0,\n",
       "   'cashAndShortTermInvestments': 8589000000.0,\n",
       "   'cashAndCashEquivalentsAtCarryingValue': 8589000000.0,\n",
       "   'longTermDebt': 8463000000.0,\n",
       "   'shortTermDebt': 288000000.0,\n",
       "   'commonStockSharesOutstanding': 24804000000.0,\n",
       "   'operatingCashflow': 64089000000.0,\n",
       "   'capitalExpenditures': 3236000000.0,\n",
       "   'reportedEPS': 2.992,\n",
       "   'fiscalDateEnding': '2025-01-31',\n",
       "   'freeCashFlow': 60853000000.0,\n",
       "   'netDebt': 162000000.0},\n",
       "  {'totalRevenue': 60922000000.0,\n",
       "   'operatingIncome': 32972000000.0,\n",
       "   'ebit': 34075000000.0,\n",
       "   'ebitda': 35583000000.0,\n",
       "   'netIncome': 29760000000.0,\n",
       "   'depreciationAndAmortization': 1508000000.0,\n",
       "   'interestExpense': 257000000.0,\n",
       "   'incomeTaxExpense': 4058000000.0,\n",
       "   'incomeBeforeTax': 33818000000.0,\n",
       "   'totalAssets': 65728000000.0,\n",
       "   'totalLiabilities': 22750000000.0,\n",
       "   'totalShareholderEquity': 42978000000.0,\n",
       "   'cashAndShortTermInvestments': 7280000000.0,\n",
       "   'cashAndCashEquivalentsAtCarryingValue': 7280000000.0,\n",
       "   'longTermDebt': 8459000000.0,\n",
       "   'shortTermDebt': 1478000000.0,\n",
       "   'commonStockSharesOutstanding': 24940000000.0,\n",
       "   'operatingCashflow': 28090000000.0,\n",
       "   'capitalExpenditures': 1069000000.0,\n",
       "   'reportedEPS': 1.297,\n",
       "   'fiscalDateEnding': '2024-01-31',\n",
       "   'freeCashFlow': 27021000000.0,\n",
       "   'netDebt': 2657000000.0},\n",
       "  {'totalRevenue': 26974000000.0,\n",
       "   'operatingIncome': 4224000000.0,\n",
       "   'ebit': 4443000000.0,\n",
       "   'ebitda': 5987000000.0,\n",
       "   'netIncome': 4368000000.0,\n",
       "   'depreciationAndAmortization': 1544000000.0,\n",
       "   'interestExpense': 262000000.0,\n",
       "   'incomeTaxExpense': -187000000.0,\n",
       "   'incomeBeforeTax': 4181000000.0,\n",
       "   'totalAssets': 41182000000.0,\n",
       "   'totalLiabilities': 19081000000.0,\n",
       "   'totalShareholderEquity': 22101000000.0,\n",
       "   'cashAndShortTermInvestments': 3389000000.0,\n",
       "   'cashAndCashEquivalentsAtCarryingValue': 3389000000.0,\n",
       "   'longTermDebt': 9703000000.0,\n",
       "   'shortTermDebt': 1250000000.0,\n",
       "   'commonStockSharesOutstanding': 25070000000.0,\n",
       "   'operatingCashflow': 5641000000.0,\n",
       "   'capitalExpenditures': 1833000000.0,\n",
       "   'reportedEPS': 0.333,\n",
       "   'fiscalDateEnding': '2023-01-31',\n",
       "   'freeCashFlow': 3808000000.0,\n",
       "   'netDebt': 7564000000.0},\n",
       "  {'totalRevenue': 26914000000.0,\n",
       "   'operatingIncome': 10041000000.0,\n",
       "   'ebit': 10177000000.0,\n",
       "   'ebitda': 11351000000.0,\n",
       "   'netIncome': 9752000000.0,\n",
       "   'depreciationAndAmortization': 1174000000.0,\n",
       "   'interestExpense': 236000000.0,\n",
       "   'incomeTaxExpense': 189000000.0,\n",
       "   'incomeBeforeTax': 9941000000.0,\n",
       "   'totalAssets': 44187000000.0,\n",
       "   'totalLiabilities': 17575000000.0,\n",
       "   'totalShareholderEquity': 26612000000.0,\n",
       "   'cashAndShortTermInvestments': 1990000000.0,\n",
       "   'cashAndCashEquivalentsAtCarryingValue': 1990000000.0,\n",
       "   'longTermDebt': 10946000000.0,\n",
       "   'shortTermDebt': 144000000.0,\n",
       "   'commonStockSharesOutstanding': 25350000000.0,\n",
       "   'operatingCashflow': 9108000000.0,\n",
       "   'capitalExpenditures': 976000000.0,\n",
       "   'reportedEPS': 0.4445,\n",
       "   'fiscalDateEnding': '2022-01-31',\n",
       "   'freeCashFlow': 8132000000.0,\n",
       "   'netDebt': 9100000000.0},\n",
       "  {'totalRevenue': 16675000000.0,\n",
       "   'operatingIncome': 4532000000.0,\n",
       "   'ebit': 4593000000.0,\n",
       "   'ebitda': 5691000000.0,\n",
       "   'netIncome': 4332000000.0,\n",
       "   'depreciationAndAmortization': 1098000000.0,\n",
       "   'interestExpense': 184000000.0,\n",
       "   'incomeTaxExpense': 77000000.0,\n",
       "   'incomeBeforeTax': 4409000000.0,\n",
       "   'totalAssets': 28791000000.0,\n",
       "   'totalLiabilities': 11898000000.0,\n",
       "   'totalShareholderEquity': 16893000000.0,\n",
       "   'cashAndShortTermInvestments': 847000000.0,\n",
       "   'cashAndCashEquivalentsAtCarryingValue': 847000000.0,\n",
       "   'longTermDebt': 5964000000.0,\n",
       "   'shortTermDebt': 999000000.0,\n",
       "   'commonStockSharesOutstanding': 25120000000.0,\n",
       "   'operatingCashflow': 5822000000.0,\n",
       "   'capitalExpenditures': 1128000000.0,\n",
       "   'reportedEPS': 0.2505,\n",
       "   'fiscalDateEnding': '2021-01-31',\n",
       "   'freeCashFlow': 4694000000.0,\n",
       "   'netDebt': 6116000000.0}],\n",
       " 'quarterly': [{'totalRevenue': 39331000000.0,\n",
       "   'operatingIncome': 24034000000.0,\n",
       "   'ebit': 25278000000.0,\n",
       "   'ebitda': 25821000000.0,\n",
       "   'netIncome': 22091000000.0,\n",
       "   'depreciationAndAmortization': 543000000.0,\n",
       "   'interestExpense': 61000000.0,\n",
       "   'incomeTaxExpense': 3126000000.0,\n",
       "   'incomeBeforeTax': 25217000000.0,\n",
       "   'totalAssets': 111601000000.0,\n",
       "   'totalLiabilities': 32274000000.0,\n",
       "   'totalShareholderEquity': 79327000000.0,\n",
       "   'cashAndShortTermInvestments': 8589000000.0,\n",
       "   'cashAndCashEquivalentsAtCarryingValue': 8589000000.0,\n",
       "   'longTermDebt': 8463000000.0,\n",
       "   'shortTermDebt': 288000000.0,\n",
       "   'commonStockSharesOutstanding': 24706000000.0,\n",
       "   'operatingCashflow': 16629000000.0,\n",
       "   'capitalExpenditures': 1077000000.0,\n",
       "   'reportedEPS': 0.89,\n",
       "   'estimatedEPS': 0.8459,\n",
       "   'surprise': 0.0441,\n",
       "   'surprisePercentage': 5.2134,\n",
       "   'fiscalDateEnding': '2025-01-31',\n",
       "   'freeCashFlow': 15552000000.0,\n",
       "   'netDebt': 162000000.0}]}"
      ]
     },
     "execution_count": 5,
     "metadata": {},
     "output_type": "execute_result"
    }
   ],
   "source": [
    "data"
   ]
  },
  {
   "cell_type": "code",
   "execution_count": 6,
   "id": "764656f2",
   "metadata": {},
   "outputs": [],
   "source": [
    "iv_nvda = dcf_valuation(\n",
    "    \"META\",\n",
    "    growth_years   = 5,\n",
    "    discount_rate  = 0.09,\n",
    "    terminal_growth= 0.04,\n",
    ")"
   ]
  },
  {
   "cell_type": "code",
   "execution_count": 7,
   "id": "54fbe4e6",
   "metadata": {},
   "outputs": [
    {
     "data": {
      "text/plain": [
       "{'symbol': 'META',\n",
       " 'asOfDate': '2025-05-07',\n",
       " 'assumptions': {'growthYears': 5,\n",
       "  'growthRateUsed': -0.0118,\n",
       "  'growthSource': 'forwardPE',\n",
       "  'discountRate': 0.09,\n",
       "  'terminalGrowth': 0.04},\n",
       " 'inputs': {'trailingFCF': 54072000000.0,\n",
       "  'netCash': 13121000000.0,\n",
       "  'sharesOutstanding': 2614000000.0,\n",
       "  'currentPrice': 596.81},\n",
       " 'intermediate': {'pvOfFCF': 203402315972.33844,\n",
       "  'terminalValue': 1059853400501.932,\n",
       "  'pvOfTerminalValue': 688831989861.2361,\n",
       "  'equityValue': 905355305833.5745},\n",
       " 'valuation': {'intrinsicValuePerShare': 346.3486250319719,\n",
       "  'upsidePercent': -41.966685371898606}}"
      ]
     },
     "execution_count": 7,
     "metadata": {},
     "output_type": "execute_result"
    }
   ],
   "source": [
    "iv_nvda"
   ]
  },
  {
   "cell_type": "code",
   "execution_count": 8,
   "id": "fd745605",
   "metadata": {},
   "outputs": [],
   "source": [
    "overview = company_overview(\"META\")"
   ]
  },
  {
   "cell_type": "code",
   "execution_count": 9,
   "id": "04313d03",
   "metadata": {},
   "outputs": [
    {
     "data": {
      "text/plain": [
       "{'Symbol': 'META',\n",
       " 'AssetType': 'Common Stock',\n",
       " 'Name': 'Meta Platforms Inc.',\n",
       " 'Description': 'Meta Platforms, Inc. develops products that enable people to connect and share with friends and family through mobile devices, PCs, virtual reality headsets, wearables and home devices around the world. The company is headquartered in Menlo Park, California.',\n",
       " 'CIK': '1326801',\n",
       " 'Exchange': 'NASDAQ',\n",
       " 'Currency': 'USD',\n",
       " 'Country': 'USA',\n",
       " 'Sector': 'TECHNOLOGY',\n",
       " 'Industry': 'SERVICES-COMPUTER PROGRAMMING, DATA PROCESSING, ETC.',\n",
       " 'Address': '1601 WILLOW ROAD, MENLO PARK, CA, US',\n",
       " 'OfficialSite': 'https://investor.atmeta.com',\n",
       " 'FiscalYearEnd': 'December',\n",
       " 'LatestQuarter': '2025-03-31',\n",
       " 'MarketCapitalization': '1507147252000',\n",
       " 'EBITDA': '87979999000',\n",
       " 'PERatio': '23.37',\n",
       " 'PEGRatio': '1.992',\n",
       " 'BookValue': '73.34',\n",
       " 'DividendPerShare': '2.025',\n",
       " 'DividendYield': '0.0035',\n",
       " 'EPS': '25.55',\n",
       " 'RevenuePerShareTTM': '67.35',\n",
       " 'ProfitMargin': '0.391',\n",
       " 'OperatingMarginTTM': '0.415',\n",
       " 'ReturnOnAssetsTTM': '0.179',\n",
       " 'ReturnOnEquityTTM': '0.398',\n",
       " 'RevenueTTM': '170359996000',\n",
       " 'GrossProfitTTM': '139297997000',\n",
       " 'DilutedEPSTTM': '25.55',\n",
       " 'QuarterlyEarningsGrowthYOY': '0.365',\n",
       " 'QuarterlyRevenueGrowthYOY': '0.161',\n",
       " 'AnalystTargetPrice': '704.86',\n",
       " 'AnalystRatingStrongBuy': '-',\n",
       " 'AnalystRatingBuy': '-',\n",
       " 'AnalystRatingHold': '-',\n",
       " 'AnalystRatingSell': '-',\n",
       " 'AnalystRatingStrongSell': '-',\n",
       " 'TrailingPE': '23.37',\n",
       " 'ForwardPE': '23.92',\n",
       " 'PriceToSalesRatioTTM': '8.84',\n",
       " 'PriceToBookRatio': '8.18',\n",
       " 'EVToRevenue': '8.76',\n",
       " 'EVToEBITDA': '16.27',\n",
       " 'Beta': '1.237',\n",
       " '52WeekHigh': '740.25',\n",
       " '52WeekLow': '441.48',\n",
       " '50DayMovingAverage': '583.5',\n",
       " '200DayMovingAverage': '579.63',\n",
       " 'SharesOutstanding': '2181270000',\n",
       " 'DividendDate': '2025-03-26',\n",
       " 'ExDividendDate': '2025-03-14'}"
      ]
     },
     "execution_count": 9,
     "metadata": {},
     "output_type": "execute_result"
    }
   ],
   "source": [
    "overview"
   ]
  },
  {
   "cell_type": "code",
   "execution_count": 10,
   "id": "8074e46a",
   "metadata": {},
   "outputs": [],
   "source": [
    "ad = advanced_analytics(\n",
    "    symbols=['AAPL','MSFT','IBM'],\n",
    "    interval='DAILY',\n",
    "    ohlc='close',          # optional\n",
    "    range='6month',           # full history\n",
    "    calculations=[\"AUTOCORRELATION\",\n",
    "        \"COVARIANCE\", \"CORRELATION\"]      # all metrics\n",
    ")"
   ]
  },
  {
   "cell_type": "code",
   "execution_count": null,
   "id": "6cc103ce",
   "metadata": {},
   "outputs": [],
   "source": [
    "ad"
   ]
  },
  {
   "cell_type": "code",
   "execution_count": 2,
   "id": "9242f35e",
   "metadata": {},
   "outputs": [],
   "source": [
    "ec = earnings_calendar(symbol, '3month')"
   ]
  },
  {
   "cell_type": "code",
   "execution_count": null,
   "id": "3247196c",
   "metadata": {},
   "outputs": [],
   "source": [
    "ec"
   ]
  },
  {
   "cell_type": "code",
   "execution_count": null,
   "id": "31a40e21",
   "metadata": {},
   "outputs": [],
   "source": [
    "data = list(ec)\n",
    "data"
   ]
  },
  {
   "cell_type": "code",
   "execution_count": null,
   "id": "4cd01b49",
   "metadata": {},
   "outputs": [],
   "source": []
  },
  {
   "cell_type": "code",
   "execution_count": null,
   "id": "491a6bc6",
   "metadata": {},
   "outputs": [],
   "source": [
    "print(ec)"
   ]
  },
  {
   "cell_type": "code",
   "execution_count": null,
   "id": "1de641e0",
   "metadata": {},
   "outputs": [],
   "source": [
    "print(type(ec))"
   ]
  }
 ],
 "metadata": {
  "kernelspec": {
   "display_name": "langalpha",
   "language": "python",
   "name": "python3"
  },
  "language_info": {
   "codemirror_mode": {
    "name": "ipython",
    "version": 3
   },
   "file_extension": ".py",
   "mimetype": "text/x-python",
   "name": "python",
   "nbconvert_exporter": "python",
   "pygments_lexer": "ipython3",
   "version": "3.11.11"
  }
 },
 "nbformat": 4,
 "nbformat_minor": 5
}
